{
  "nbformat": 4,
  "nbformat_minor": 0,
  "metadata": {
    "colab": {
      "provenance": [],
      "include_colab_link": true
    },
    "kernelspec": {
      "name": "python3",
      "display_name": "Python 3"
    },
    "language_info": {
      "name": "python"
    }
  },
  "cells": [
    {
      "cell_type": "markdown",
      "metadata": {
        "id": "view-in-github",
        "colab_type": "text"
      },
      "source": [
        "<a href=\"https://colab.research.google.com/github/genaiconference/Agentic_KAG/blob/main/01_crawl_av_pages.ipynb\" target=\"_parent\"><img src=\"https://colab.research.google.com/assets/colab-badge.svg\" alt=\"Open In Colab\"/></a>"
      ]
    },
    {
      "cell_type": "markdown",
      "source": [
        "# AV-crawl: Advanced Web Crawler with Filtering and Markdown Conversion\n",
        "\n",
        "#### Web crawling: Crawls, filters URLs, and converts HTML to Markdown.\n"
      ],
      "metadata": {
        "id": "GdlnV-TIyC5B"
      }
    },
    {
      "cell_type": "markdown",
      "metadata": {
        "id": "4c3c083d"
      },
      "source": [
        "# Table of Contents\n",
        "\n",
        "- [1. Introduction](#1-Introduction)\n",
        "- [2. Requirements & Setup](#2-Requirements--Setup)\n",
        "- [3. Crawler Configuration and Utility Functions](#3-Crawler-Configuration-and-Utility-Functions)\n",
        "- [4. Web Crawler With Filtering](#4-Web-Crawler-With-Filtering)\n",
        "- [5. Convert Crawled HTML to Markdown](#5-Convert-Crawled-HTML-to-Markdown)\n",
        "- [6. Add Agenda to the Cleaned data](#6-Add-Agenda-to-the-Cleaned-data)\n",
        "- [7. Save and Inspect Results](#7.-Save-and-Inspect-Results)"
      ]
    },
    {
      "cell_type": "code",
      "source": [
        "!git clone https://github.com/genaiconference/Agentic_KAG.git"
      ],
      "metadata": {
        "id": "5zJpdD4MDpH5",
        "colab": {
          "base_uri": "https://localhost:8080/"
        },
        "outputId": "61433d5a-00da-4f63-8eda-e0e34236d68d"
      },
      "execution_count": null,
      "outputs": [
        {
          "output_type": "stream",
          "name": "stdout",
          "text": [
            "Cloning into 'Agentic_KAG'...\n",
            "remote: Enumerating objects: 224, done.\u001b[K\n",
            "remote: Counting objects: 100% (116/116), done.\u001b[K\n",
            "remote: Compressing objects: 100% (84/84), done.\u001b[K\n",
            "remote: Total 224 (delta 73), reused 30 (delta 30), pack-reused 108 (from 1)\u001b[K\n",
            "Receiving objects: 100% (224/224), 4.17 MiB | 15.64 MiB/s, done.\n",
            "Resolving deltas: 100% (115/115), done.\n"
          ]
        }
      ]
    },
    {
      "cell_type": "markdown",
      "source": [
        "## 1. Introduction\n",
        "\n",
        "This notebook showcases a practical web-crawling workflow:\n",
        "\n",
        "- Crawl **internal** links from a starting URL (here: Analytics Vidhya’s DataHack Summit site)\n",
        "- Filter crawled URLs based on inclusion/exclusion patterns or domains\n",
        "- Convert raw HTML content into clean Markdown text for easier reading or exporting\n"
      ],
      "metadata": {
        "id": "w3Z7oEK9yMUL"
      }
    },
    {
      "cell_type": "markdown",
      "source": [
        "## 2. Requirements & Setup\n",
        "\n",
        "First, install dependencies:\n",
        "- `requests` and `beautifulsoup4` for crawling\n",
        "- `markdownify` (easy, tested) or `html-to-markdown` (modern alternative) for HTML-to-Markdown\n",
        "\n"
      ],
      "metadata": {
        "id": "e9wi09dyyQyA"
      }
    },
    {
      "cell_type": "code",
      "source": [
        "!pip install -r /content/Agentic_KAG/requirements.txt --quiet"
      ],
      "metadata": {
        "colab": {
          "base_uri": "https://localhost:8080/"
        },
        "id": "ZzAstnw5yaCT",
        "outputId": "c8b66f7a-2573-42a4-bf2c-52b8e3056805",
        "collapsed": true
      },
      "execution_count": null,
      "outputs": [
        {
          "output_type": "stream",
          "name": "stdout",
          "text": [
            "\u001b[?25l     \u001b[90m━━━━━━━━━━━━━━━━━━━━━━━━━━━━━━━━━━━━━━━━\u001b[0m \u001b[32m0.0/67.3 kB\u001b[0m \u001b[31m?\u001b[0m eta \u001b[36m-:--:--\u001b[0m\r\u001b[2K     \u001b[90m━━━━━━━━━━━━━━━━━━━━━━━━━━━━━━━━━━━━━━━━\u001b[0m \u001b[32m67.3/67.3 kB\u001b[0m \u001b[31m4.0 MB/s\u001b[0m eta \u001b[36m0:00:00\u001b[0m\n",
            "\u001b[?25h  Installing build dependencies ... \u001b[?25l\u001b[?25hdone\n",
            "  Getting requirements to build wheel ... \u001b[?25l\u001b[?25hdone\n",
            "  Preparing metadata (pyproject.toml) ... \u001b[?25l\u001b[?25hdone\n",
            "\u001b[2K   \u001b[90m━━━━━━━━━━━━━━━━━━━━━━━━━━━━━━━━━━━━━━━━\u001b[0m \u001b[32m764.4/764.4 kB\u001b[0m \u001b[31m24.3 MB/s\u001b[0m eta \u001b[36m0:00:00\u001b[0m\n",
            "\u001b[2K   \u001b[90m━━━━━━━━━━━━━━━━━━━━━━━━━━━━━━━━━━━━━━━━\u001b[0m \u001b[32m70.6/70.6 kB\u001b[0m \u001b[31m5.6 MB/s\u001b[0m eta \u001b[36m0:00:00\u001b[0m\n",
            "\u001b[2K   \u001b[90m━━━━━━━━━━━━━━━━━━━━━━━━━━━━━━━━━━━━━━━━\u001b[0m \u001b[32m2.5/2.5 MB\u001b[0m \u001b[31m56.3 MB/s\u001b[0m eta \u001b[36m0:00:00\u001b[0m\n",
            "\u001b[2K   \u001b[90m━━━━━━━━━━━━━━━━━━━━━━━━━━━━━━━━━━━━━━━━\u001b[0m \u001b[32m442.8/442.8 kB\u001b[0m \u001b[31m30.1 MB/s\u001b[0m eta \u001b[36m0:00:00\u001b[0m\n",
            "\u001b[2K   \u001b[90m━━━━━━━━━━━━━━━━━━━━━━━━━━━━━━━━━━━━━━━━\u001b[0m \u001b[32m19.5/19.5 MB\u001b[0m \u001b[31m82.7 MB/s\u001b[0m eta \u001b[36m0:00:00\u001b[0m\n",
            "\u001b[2K   \u001b[90m━━━━━━━━━━━━━━━━━━━━━━━━━━━━━━━━━━━━━━━━\u001b[0m \u001b[32m313.2/313.2 kB\u001b[0m \u001b[31m22.4 MB/s\u001b[0m eta \u001b[36m0:00:00\u001b[0m\n",
            "\u001b[2K   \u001b[90m━━━━━━━━━━━━━━━━━━━━━━━━━━━━━━━━━━━━━━━━\u001b[0m \u001b[32m189.7/189.7 kB\u001b[0m \u001b[31m14.3 MB/s\u001b[0m eta \u001b[36m0:00:00\u001b[0m\n",
            "\u001b[2K   \u001b[90m━━━━━━━━━━━━━━━━━━━━━━━━━━━━━━━━━━━━━━━━\u001b[0m \u001b[32m300.0/300.0 kB\u001b[0m \u001b[31m20.7 MB/s\u001b[0m eta \u001b[36m0:00:00\u001b[0m\n",
            "\u001b[2K   \u001b[90m━━━━━━━━━━━━━━━━━━━━━━━━━━━━━━━━━━━━━━━━\u001b[0m \u001b[32m284.2/284.2 kB\u001b[0m \u001b[31m19.9 MB/s\u001b[0m eta \u001b[36m0:00:00\u001b[0m\n",
            "\u001b[2K   \u001b[90m━━━━━━━━━━━━━━━━━━━━━━━━━━━━━━━━━━━━━━━━\u001b[0m \u001b[32m183.9/183.9 kB\u001b[0m \u001b[31m14.4 MB/s\u001b[0m eta \u001b[36m0:00:00\u001b[0m\n",
            "\u001b[2K   \u001b[90m━━━━━━━━━━━━━━━━━━━━━━━━━━━━━━━━━━━━━━━━\u001b[0m \u001b[32m1.9/1.9 MB\u001b[0m \u001b[31m65.7 MB/s\u001b[0m eta \u001b[36m0:00:00\u001b[0m\n",
            "\u001b[2K   \u001b[90m━━━━━━━━━━━━━━━━━━━━━━━━━━━━━━━━━━━━━━━━\u001b[0m \u001b[32m103.1/103.1 kB\u001b[0m \u001b[31m8.5 MB/s\u001b[0m eta \u001b[36m0:00:00\u001b[0m\n",
            "\u001b[2K   \u001b[90m━━━━━━━━━━━━━━━━━━━━━━━━━━━━━━━━━━━━━━━━\u001b[0m \u001b[32m16.5/16.5 MB\u001b[0m \u001b[31m74.8 MB/s\u001b[0m eta \u001b[36m0:00:00\u001b[0m\n",
            "\u001b[2K   \u001b[90m━━━━━━━━━━━━━━━━━━━━━━━━━━━━━━━━━━━━━━━━\u001b[0m \u001b[32m65.6/65.6 kB\u001b[0m \u001b[31m4.7 MB/s\u001b[0m eta \u001b[36m0:00:00\u001b[0m\n",
            "\u001b[2K   \u001b[90m━━━━━━━━━━━━━━━━━━━━━━━━━━━━━━━━━━━━━━━━\u001b[0m \u001b[32m72.5/72.5 kB\u001b[0m \u001b[31m5.6 MB/s\u001b[0m eta \u001b[36m0:00:00\u001b[0m\n",
            "\u001b[2K   \u001b[90m━━━━━━━━━━━━━━━━━━━━━━━━━━━━━━━━━━━━━━━━\u001b[0m \u001b[32m120.0/120.0 kB\u001b[0m \u001b[31m9.7 MB/s\u001b[0m eta \u001b[36m0:00:00\u001b[0m\n",
            "\u001b[2K   \u001b[90m━━━━━━━━━━━━━━━━━━━━━━━━━━━━━━━━━━━━━━━━\u001b[0m \u001b[32m201.6/201.6 kB\u001b[0m \u001b[31m14.4 MB/s\u001b[0m eta \u001b[36m0:00:00\u001b[0m\n",
            "\u001b[2K   \u001b[90m━━━━━━━━━━━━━━━━━━━━━━━━━━━━━━━━━━━━━━━━\u001b[0m \u001b[32m105.4/105.4 kB\u001b[0m \u001b[31m8.4 MB/s\u001b[0m eta \u001b[36m0:00:00\u001b[0m\n",
            "\u001b[2K   \u001b[90m━━━━━━━━━━━━━━━━━━━━━━━━━━━━━━━━━━━━━━━━\u001b[0m \u001b[32m71.4/71.4 kB\u001b[0m \u001b[31m5.6 MB/s\u001b[0m eta \u001b[36m0:00:00\u001b[0m\n",
            "\u001b[2K   \u001b[90m━━━━━━━━━━━━━━━━━━━━━━━━━━━━━━━━━━━━━━━━\u001b[0m \u001b[32m45.2/45.2 kB\u001b[0m \u001b[31m3.1 MB/s\u001b[0m eta \u001b[36m0:00:00\u001b[0m\n",
            "\u001b[2K   \u001b[90m━━━━━━━━━━━━━━━━━━━━━━━━━━━━━━━━━━━━━━━━\u001b[0m \u001b[32m313.2/313.2 kB\u001b[0m \u001b[31m23.3 MB/s\u001b[0m eta \u001b[36m0:00:00\u001b[0m\n",
            "\u001b[2K   \u001b[90m━━━━━━━━━━━━━━━━━━━━━━━━━━━━━━━━━━━━━━━━\u001b[0m \u001b[32m3.1/3.1 MB\u001b[0m \u001b[31m85.0 MB/s\u001b[0m eta \u001b[36m0:00:00\u001b[0m\n",
            "\u001b[2K   \u001b[90m━━━━━━━━━━━━━━━━━━━━━━━━━━━━━━━━━━━━━━━━\u001b[0m \u001b[32m459.8/459.8 kB\u001b[0m \u001b[31m29.7 MB/s\u001b[0m eta \u001b[36m0:00:00\u001b[0m\n",
            "\u001b[2K   \u001b[90m━━━━━━━━━━━━━━━━━━━━━━━━━━━━━━━━━━━━━━━━\u001b[0m \u001b[32m50.9/50.9 kB\u001b[0m \u001b[31m3.6 MB/s\u001b[0m eta \u001b[36m0:00:00\u001b[0m\n",
            "\u001b[2K   \u001b[90m━━━━━━━━━━━━━━━━━━━━━━━━━━━━━━━━━━━━━━━━\u001b[0m \u001b[32m4.0/4.0 MB\u001b[0m \u001b[31m88.3 MB/s\u001b[0m eta \u001b[36m0:00:00\u001b[0m\n",
            "\u001b[2K   \u001b[90m━━━━━━━━━━━━━━━━━━━━━━━━━━━━━━━━━━━━━━━━\u001b[0m \u001b[32m453.1/453.1 kB\u001b[0m \u001b[31m28.2 MB/s\u001b[0m eta \u001b[36m0:00:00\u001b[0m\n",
            "\u001b[2K   \u001b[90m━━━━━━━━━━━━━━━━━━━━━━━━━━━━━━━━━━━━━━━━\u001b[0m \u001b[32m46.0/46.0 kB\u001b[0m \u001b[31m3.3 MB/s\u001b[0m eta \u001b[36m0:00:00\u001b[0m\n",
            "\u001b[2K   \u001b[90m━━━━━━━━━━━━━━━━━━━━━━━━━━━━━━━━━━━━━━━━\u001b[0m \u001b[32m86.8/86.8 kB\u001b[0m \u001b[31m6.6 MB/s\u001b[0m eta \u001b[36m0:00:00\u001b[0m\n",
            "\u001b[?25h  Building wheel for pypika (pyproject.toml) ... \u001b[?25l\u001b[?25hdone\n",
            "\u001b[31mERROR: pip's dependency resolver does not currently take into account all the packages that are installed. This behaviour is the source of the following dependency conflicts.\n",
            "gcsfs 2025.3.0 requires fsspec==2025.3.0, but you have fsspec 2024.12.0 which is incompatible.\n",
            "torch 2.6.0+cu124 requires nvidia-cublas-cu12==12.4.5.8; platform_system == \"Linux\" and platform_machine == \"x86_64\", but you have nvidia-cublas-cu12 12.5.3.2 which is incompatible.\n",
            "torch 2.6.0+cu124 requires nvidia-cuda-cupti-cu12==12.4.127; platform_system == \"Linux\" and platform_machine == \"x86_64\", but you have nvidia-cuda-cupti-cu12 12.5.82 which is incompatible.\n",
            "torch 2.6.0+cu124 requires nvidia-cuda-nvrtc-cu12==12.4.127; platform_system == \"Linux\" and platform_machine == \"x86_64\", but you have nvidia-cuda-nvrtc-cu12 12.5.82 which is incompatible.\n",
            "torch 2.6.0+cu124 requires nvidia-cuda-runtime-cu12==12.4.127; platform_system == \"Linux\" and platform_machine == \"x86_64\", but you have nvidia-cuda-runtime-cu12 12.5.82 which is incompatible.\n",
            "torch 2.6.0+cu124 requires nvidia-cudnn-cu12==9.1.0.70; platform_system == \"Linux\" and platform_machine == \"x86_64\", but you have nvidia-cudnn-cu12 9.3.0.75 which is incompatible.\n",
            "torch 2.6.0+cu124 requires nvidia-cufft-cu12==11.2.1.3; platform_system == \"Linux\" and platform_machine == \"x86_64\", but you have nvidia-cufft-cu12 11.2.3.61 which is incompatible.\n",
            "torch 2.6.0+cu124 requires nvidia-curand-cu12==10.3.5.147; platform_system == \"Linux\" and platform_machine == \"x86_64\", but you have nvidia-curand-cu12 10.3.6.82 which is incompatible.\n",
            "torch 2.6.0+cu124 requires nvidia-cusolver-cu12==11.6.1.9; platform_system == \"Linux\" and platform_machine == \"x86_64\", but you have nvidia-cusolver-cu12 11.6.3.83 which is incompatible.\n",
            "torch 2.6.0+cu124 requires nvidia-cusparse-cu12==12.3.1.170; platform_system == \"Linux\" and platform_machine == \"x86_64\", but you have nvidia-cusparse-cu12 12.5.1.3 which is incompatible.\n",
            "torch 2.6.0+cu124 requires nvidia-nccl-cu12==2.21.5; platform_system == \"Linux\" and platform_machine == \"x86_64\", but you have nvidia-nccl-cu12 2.23.4 which is incompatible.\n",
            "torch 2.6.0+cu124 requires nvidia-nvjitlink-cu12==12.4.127; platform_system == \"Linux\" and platform_machine == \"x86_64\", but you have nvidia-nvjitlink-cu12 12.5.82 which is incompatible.\u001b[0m\u001b[31m\n",
            "\u001b[0m"
          ]
        }
      ]
    },
    {
      "cell_type": "code",
      "source": [
        "import requests\n",
        "from bs4 import BeautifulSoup\n",
        "from urllib.parse import urljoin, urlparse\n",
        "from collections import deque\n",
        "import time\n",
        "import warnings\n",
        "import urllib3\n",
        "\n",
        "# Optional: Try html-to-markdown if preferred (pip install html-to-markdown)\n",
        "try:\n",
        "    from markdownify import markdownify as md_convert\n",
        "except ImportError:\n",
        "    # fallback to html-to-markdown if installed\n",
        "    try:\n",
        "        from html_to_markdown import convert_to_markdown as md_convert\n",
        "    except ImportError:\n",
        "        md_convert = None\n",
        "\n",
        "# Suppress warnings for notebook clarity\n",
        "urllib3.disable_warnings(urllib3.exceptions.InsecureRequestWarning)\n",
        "warnings.filterwarnings(\"ignore\")\n"
      ],
      "metadata": {
        "id": "IUKNI4nkyi4D"
      },
      "execution_count": null,
      "outputs": []
    },
    {
      "cell_type": "markdown",
      "source": [
        "![image.png](data:image/png;base64,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)"
      ],
      "metadata": {
        "id": "xe_nIfXp3wPO"
      }
    },
    {
      "cell_type": "markdown",
      "source": [
        "## 3. Crawler Configuration and Utility Functions"
      ],
      "metadata": {
        "id": "LLXMh5x_yn3b"
      }
    },
    {
      "cell_type": "code",
      "source": [
        "START_URL = [\"https://www.analyticsvidhya.com/datahacksummit/\", \"https://www.analyticsvidhya.com/datahacksummit-2025/speakers\", \"https://www.analyticsvidhya.com/datahacksummit-2025/sessions\"]\n",
        "BASE_DOMAIN = \"www.analyticsvidhya.com\"\n",
        "MAX_PAGES = 10000\n",
        "\n",
        "visited = set()\n",
        "queue = deque(START_URL) # Initialize queue with individual URLs from the list\n",
        "output_urls = []\n",
        "page_data = []  # List of dicts: {'url', 'content'}"
      ],
      "metadata": {
        "id": "V1LHLh7GyrA9"
      },
      "execution_count": null,
      "outputs": []
    },
    {
      "cell_type": "markdown",
      "source": [
        "* is_valid_url(url): This function checks if a given string is a valid URL by parsing it and ensuring it has both a network location (domain) and a scheme (like http or https).\n",
        "* is_internal_url(url, base_domain=BASE_DOMAIN): This function determines if a URL is internal to the specified base domain. It checks if the network location of the given URL matches the BASE_DOMAIN.\n",
        "* url_passes_filters(url, include_patterns=None, exclude_patterns=None, domain_blocklist=None): This function checks if a URL passes the defined filtering rules. It can filter based on a blocklist of domains, a list of patterns to exclude, and/or a list of patterns to include. If include_patterns is specified, the URL must match at least one of those patterns to pass the filter."
      ],
      "metadata": {
        "id": "PAoYsoOGW9oQ"
      }
    },
    {
      "cell_type": "code",
      "source": [
        "def is_valid_url(url):\n",
        "    parsed = urlparse(url)\n",
        "    return bool(parsed.netloc) and bool(parsed.scheme)\n",
        "\n",
        "def is_internal_url(url, base_domain=BASE_DOMAIN):\n",
        "    return urlparse(url).netloc == base_domain\n",
        "\n",
        "def url_passes_filters(url, include_patterns=None, exclude_patterns=None, domain_blocklist=None):\n",
        "    \"\"\"\n",
        "    Returns True if the URL passes filtering rules (inclusion, exclusion, blocklist).\n",
        "    Patterns: lists of strings (keywords, domain names, substrings, etc.)\n",
        "    \"\"\"\n",
        "    parsed = urlparse(url)\n",
        "    # Block specific domains\n",
        "    if domain_blocklist:\n",
        "        for dom in domain_blocklist:\n",
        "            if dom in parsed.netloc:\n",
        "                return False\n",
        "    # Block by substring pattern\n",
        "    if exclude_patterns:\n",
        "        for p in exclude_patterns:\n",
        "            if p in url:\n",
        "                return False\n",
        "    # Allow only certain substrings if include_patterns specified\n",
        "    if include_patterns:\n",
        "        for p in include_patterns:\n",
        "            if p in url:\n",
        "                return True\n",
        "        return False\n",
        "    return True  # if nothing triggered above\n"
      ],
      "metadata": {
        "id": "nDBRPHh9ytrJ"
      },
      "execution_count": null,
      "outputs": []
    },
    {
      "cell_type": "markdown",
      "source": [
        "## 4. Web Crawler With Filtering\n",
        "\n",
        "* Filtering: unnecessary URLs, blocklist of unwanted domains & substrings, and/or allowlist (include patterns).\n",
        "* Removing Duplicate URLs\n",
        "* crawl the web page content using beautiful soup"
      ],
      "metadata": {
        "id": "7LMqw7Q2ywZ6"
      }
    },
    {
      "cell_type": "code",
      "source": [
        "# Example: Block social or checkout domains, and allow only pages with 'datahack' in the path\n",
        "DOMAIN_BLOCKLIST = ['facebook.com', 'linkedin.com', 'twitter.com', 'instagram.com', 'explara.com']\n",
        "EXCLUDE_PATTERNS = ['privacy', 'policy', 'checkout', 'login']  # Exclusion substrings\n",
        "INCLUDE_PATTERNS = None  # Example: ['datahack']\n",
        "\n",
        "remove_urls = ['https://www.analyticsvidhya.com/datahacksummit-2025/sessions/llmops-productionalizing-real-world-applications-with-llms-2',\n",
        "'https://www.analyticsvidhya.com/datahacksummit-2025/sessions/mastering-real-world-agentic-ai-applications-with-ag2-autogen',\n",
        "'https://www.analyticsvidhya.com/datahacksummit-2025/sessions/build-a-production-ready-multi-agent-application-with-crewai',\n",
        "'https://www.analyticsvidhya.com/datahacksummit-2025/sessions/from-theory-to-practice-training-llms-reinforcement-learning-and-ai',\n",
        "'https://www.analyticsvidhya.com/datahacksummit-2025/sessions/building-a-multimodal-telegram-agent-that-sees-talks-and-thinks',\n",
        "'https://www.analyticsvidhya.com/datahacksummit-2025/sessions/generative-ai-for-business-leaders',\n",
        "'https://www.analyticsvidhya.com/datahacksummit-2025/sessions/agentops-building-and-deploying-ai-agents',\n",
        "'https://www.analyticsvidhya.com/datahacksummit-2025/sessions/agentic-rag-workshop-from-fundamentals-to-real-world-implemenno-title',\n",
        "'https://www.analyticsvidhya.com/datahacksummit-2025/sessions/mastering-intelligent-agents-a-deep-dive-into-agentic-ai-building-ai',\n",
        "'https://www.analyticsvidhya.com/datahacksummit-2025/sessions/mastering-llms-training-fine-tuning-and-best-practices-2',\n",
        "\"https://www.analyticsvidhya.com/datahacksummit-2025/awards\",\n",
        "\"https://www.analyticsvidhya.com/datahacksummit/.\"]\n",
        "\n",
        "def crawl():\n",
        "    pages_crawled = 0\n",
        "    while queue and pages_crawled < MAX_PAGES:\n",
        "        current_url = queue.popleft()\n",
        "\n",
        "        # Filter out the specific URL at the beginning\n",
        "        if current_url in remove_urls:\n",
        "            print(f\"Skipping: {current_url}\")\n",
        "            continue\n",
        "\n",
        "        # Check for desired URL prefixes at the beginning\n",
        "        if not (current_url.startswith(\"https://www.analyticsvidhya.com/datahacksummit/\") or current_url.startswith(\"https://www.analyticsvidhya.com/datahacksummit-2025/\")):\n",
        "            continue\n",
        "\n",
        "        if current_url in visited or not url_passes_filters(\n",
        "            current_url, INCLUDE_PATTERNS, EXCLUDE_PATTERNS, DOMAIN_BLOCKLIST):\n",
        "            continue\n",
        "        visited.add(current_url)\n",
        "        pages_crawled += 1\n",
        "        print(f\"[{pages_crawled}] Crawling: {current_url}\")\n",
        "        try:\n",
        "            response = requests.get(current_url, timeout=8, verify=False)\n",
        "            response.raise_for_status()\n",
        "        except Exception as e:\n",
        "            print(f\"Failed: {e}\")\n",
        "            continue\n",
        "\n",
        "        output_urls.append(current_url)\n",
        "        page_data.append({'url': current_url, 'content': response.text})\n",
        "\n",
        "        soup = BeautifulSoup(response.text, \"html.parser\")\n",
        "        for a_tag in soup.find_all(\"a\", href=True):\n",
        "            href = a_tag[\"href\"]\n",
        "            full_url = urljoin(current_url, href)\n",
        "            normalized_url = full_url.split(\"#\")[0].rstrip(\"/\")\n",
        "            # This inner check is still needed for newly discovered links\n",
        "            if (\n",
        "                is_valid_url(normalized_url)\n",
        "                and is_internal_url(normalized_url)\n",
        "                and normalized_url not in visited # Ensure no duplicates are added\n",
        "            ):\n",
        "                if url_passes_filters(normalized_url, INCLUDE_PATTERNS, EXCLUDE_PATTERNS, DOMAIN_BLOCKLIST):\n",
        "                    queue.append(normalized_url)\n",
        "    print(f\"\\n✅ {len(output_urls)} pages crawled after filtering.\")"
      ],
      "metadata": {
        "id": "vjOZcB7dyzp5"
      },
      "execution_count": null,
      "outputs": []
    },
    {
      "cell_type": "code",
      "source": [],
      "metadata": {
        "id": "Izcz58AZ2DPG"
      },
      "execution_count": null,
      "outputs": []
    },
    {
      "cell_type": "markdown",
      "source": [],
      "metadata": {
        "id": "OypvppKk2Aso"
      }
    },
    {
      "cell_type": "code",
      "source": [
        "# Run the crawler\n",
        "crawl()"
      ],
      "metadata": {
        "colab": {
          "base_uri": "https://localhost:8080/"
        },
        "id": "JF9OjYEhy2iP",
        "outputId": "e90a5b40-2792-40a0-b0b4-bb8d382b7ef1"
      },
      "execution_count": null,
      "outputs": [
        {
          "output_type": "stream",
          "name": "stdout",
          "text": [
            "[1] Crawling: https://www.analyticsvidhya.com/datahacksummit/\n",
            "[2] Crawling: https://www.analyticsvidhya.com/datahacksummit-2025/speakers\n",
            "[3] Crawling: https://www.analyticsvidhya.com/datahacksummit-2025/sessions\n",
            "Skipping: https://www.analyticsvidhya.com/datahacksummit-2025/awards\n",
            "[4] Crawling: https://www.analyticsvidhya.com/datahacksummit-2025/workshops/mastering-intelligent-agents-a-deep-dive-into-agentic-ai-building-ai\n",
            "[5] Crawling: https://www.analyticsvidhya.com/datahacksummit-2025/workshops/build-a-production-ready-multi-agent-application-with-crewai\n",
            "[6] Crawling: https://www.analyticsvidhya.com/datahacksummit-2025/workshops/mastering-real-world-agentic-ai-applications-with-ag2-autogen\n",
            "[7] Crawling: https://www.analyticsvidhya.com/datahacksummit-2025/workshops/llmops-productionalizing-real-world-applications-with-llms-2\n",
            "[8] Crawling: https://www.analyticsvidhya.com/datahacksummit-2025/workshops/mastering-llms-training-fine-tuning-and-best-practices-2\n",
            "[9] Crawling: https://www.analyticsvidhya.com/datahacksummit-2025/workshops/agentops-building-and-deploying-ai-agents\n",
            "[10] Crawling: https://www.analyticsvidhya.com/datahacksummit-2025/workshops/from-theory-to-practice-training-llms-reinforcement-learning-and-ai\n",
            "[11] Crawling: https://www.analyticsvidhya.com/datahacksummit-2025/workshops/building-a-multimodal-telegram-agent-that-sees-talks-and-thinks\n",
            "[12] Crawling: https://www.analyticsvidhya.com/datahacksummit-2025/workshops/generative-ai-for-business-leaders\n",
            "[13] Crawling: https://www.analyticsvidhya.com/datahacksummit-2025/workshops/agentic-rag-workshop-from-fundamentals-to-real-world-implemenno-title\n",
            "[14] Crawling: https://www.analyticsvidhya.com/datahacksummit-2025/speakers/pratyush-kumar\n",
            "[15] Crawling: https://www.analyticsvidhya.com/datahacksummit-2025/speakers/manish-gupta-2\n",
            "[16] Crawling: https://www.analyticsvidhya.com/datahacksummit-2025/speakers/geetha-manjunath\n",
            "[17] Crawling: https://www.analyticsvidhya.com/datahacksummit-2025/speakers/srikanth-velamakanni-2\n",
            "[18] Crawling: https://www.analyticsvidhya.com/datahacksummit-2025/speakers/joshua-starmer-2\n",
            "[19] Crawling: https://www.analyticsvidhya.com/datahacksummit-2025/speakers/luis-serrano\n",
            "[20] Crawling: https://www.analyticsvidhya.com/datahacksummit-2025/speakers/chi-wang\n",
            "[21] Crawling: https://www.analyticsvidhya.com/datahacksummit-2025/speakers/miguel-otero-pedrido\n",
            "[22] Crawling: https://www.analyticsvidhya.com/datahacksummit-2025/sponsors/dentsu-global-service\n",
            "[23] Crawling: https://www.analyticsvidhya.com/datahacksummit-2025/sponsors/fractal\n",
            "[24] Crawling: https://www.analyticsvidhya.com/datahacksummit-2025/sponsors/american-express\n",
            "[25] Crawling: https://www.analyticsvidhya.com/datahacksummit-2025/sponsors/quanhack\n",
            "[26] Crawling: https://www.analyticsvidhya.com/datahacksummit-2025/sponsors/tiger-analytics\n",
            "[27] Crawling: https://www.analyticsvidhya.com/datahacksummit-2025/sponsors\n",
            "[28] Crawling: https://www.analyticsvidhya.com/datahacksummit-2025/sessions/responsible-ai-in-medical-imaging-a-case-study\n",
            "[29] Crawling: https://www.analyticsvidhya.com/datahacksummit-2025/sessions/agents-at-scale-engineering-reliable-genai-systems-for-production\n",
            "[30] Crawling: https://www.analyticsvidhya.com/datahacksummit-2025/sessions/agentic-knowledge-augmented-generation-the-next-leap-after-rag\n",
            "[31] Crawling: https://www.analyticsvidhya.com/datahacksummit-2025/sessions/onboarding-ai-agents-with-human-values\n",
            "[32] Crawling: https://www.analyticsvidhya.com/datahacksummit-2025/sessions/quantifying-our-confidence-in-neural-networks-and-ai\n",
            "[33] Crawling: https://www.analyticsvidhya.com/datahacksummit-2025/sessions/evaluating-genai-models-case-studies-in-enterprise-and-healthcare\n",
            "[34] Crawling: https://www.analyticsvidhya.com/datahacksummit-2025/sessions/from-language-to-robotics-practical-lessons-bridging-llms-rl-and-ai\n",
            "[35] Crawling: https://www.analyticsvidhya.com/datahacksummit-2025/sessions/model-context-protocol-in-media-choosing-the-right-metrics-strategy\n",
            "[36] Crawling: https://www.analyticsvidhya.com/datahacksummit-2025/sessions/keynote-session\n",
            "[37] Crawling: https://www.analyticsvidhya.com/datahacksummit-2025/sessions/a-visual-guide-to-attention-mechanism-in-llms\n",
            "[38] Crawling: https://www.analyticsvidhya.com/datahacksummit-2025/sessions/why-genai-and-llms-fail-and-how-fine-tuning-helps-them\n",
            "[39] Crawling: https://www.analyticsvidhya.com/datahacksummit-2025/sessions/scaling-test-time-inference-compute-advent-of-reasoning-models\n",
            "[40] Crawling: https://www.analyticsvidhya.com/datahacksummit-2025/sessions/detecting-and-mitigating-risks-in-agentic-aino-title\n",
            "[41] Crawling: https://www.analyticsvidhya.com/datahacksummit-2025/sessions/empowering-data-insights-with-large-language-models\n",
            "[42] Crawling: https://www.analyticsvidhya.com/datahacksummit-2025/sessions/building-indias-ai-ecosystem-from-vision-to-sovereignty\n",
            "Skipping: https://www.analyticsvidhya.com/datahacksummit-2025/sessions/agentic-rag-workshop-from-fundamentals-to-real-world-implemenno-title\n",
            "Skipping: https://www.analyticsvidhya.com/datahacksummit-2025/sessions/generative-ai-for-business-leaders\n",
            "Skipping: https://www.analyticsvidhya.com/datahacksummit-2025/sessions/building-a-multimodal-telegram-agent-that-sees-talks-and-thinks\n",
            "Skipping: https://www.analyticsvidhya.com/datahacksummit-2025/sessions/mastering-llms-training-fine-tuning-and-best-practices-2\n",
            "Skipping: https://www.analyticsvidhya.com/datahacksummit-2025/sessions/mastering-real-world-agentic-ai-applications-with-ag2-autogen\n",
            "Skipping: https://www.analyticsvidhya.com/datahacksummit-2025/sessions/build-a-production-ready-multi-agent-application-with-crewai\n",
            "Skipping: https://www.analyticsvidhya.com/datahacksummit-2025/sessions/llmops-productionalizing-real-world-applications-with-llms-2\n",
            "Skipping: https://www.analyticsvidhya.com/datahacksummit-2025/sessions/from-theory-to-practice-training-llms-reinforcement-learning-and-ai\n",
            "Skipping: https://www.analyticsvidhya.com/datahacksummit-2025/sessions/agentops-building-and-deploying-ai-agents\n",
            "Skipping: https://www.analyticsvidhya.com/datahacksummit-2025/sessions/mastering-intelligent-agents-a-deep-dive-into-agentic-ai-building-ai\n",
            "[43] Crawling: https://www.analyticsvidhya.com/datahacksummit-2025/sessions/keynote-session-2\n",
            "Skipping: https://www.analyticsvidhya.com/datahacksummit-2025/awards\n",
            "Skipping: https://www.analyticsvidhya.com/datahacksummit/.\n",
            "Skipping: https://www.analyticsvidhya.com/datahacksummit-2025/awards\n",
            "[44] Crawling: https://www.analyticsvidhya.com/datahacksummit-2025/speakers/qingyun-wu\n",
            "[45] Crawling: https://www.analyticsvidhya.com/datahacksummit-2025/speakers/alessandro-romano\n",
            "[46] Crawling: https://www.analyticsvidhya.com/datahacksummit-2025/speakers/krishna-kumar-tiwari\n",
            "[47] Crawling: https://www.analyticsvidhya.com/datahacksummit-2025/speakers/david-zakkam\n",
            "[48] Crawling: https://www.analyticsvidhya.com/datahacksummit-2025/speakers/ranjani-mani\n",
            "[49] Crawling: https://www.analyticsvidhya.com/datahacksummit-2025/speakers/rohan-rao-2\n",
            "[50] Crawling: https://www.analyticsvidhya.com/datahacksummit-2025/speakers/anand-s-2\n",
            "[51] Crawling: https://www.analyticsvidhya.com/datahacksummit-2025/speakers/kunal-jain-2\n",
            "[52] Crawling: https://www.analyticsvidhya.com/datahacksummit-2025/speakers/tanika-gupta-2\n",
            "[53] Crawling: https://www.analyticsvidhya.com/datahacksummit-2025/speakers/dr-kiran-r-2\n",
            "[54] Crawling: https://www.analyticsvidhya.com/datahacksummit-2025/speakers/syed-quiser-ahmed\n",
            "[55] Crawling: https://www.analyticsvidhya.com/datahacksummit-2025/speakers/gauri-kholkar\n",
            "[56] Crawling: https://www.analyticsvidhya.com/datahacksummit-2025/speakers/krishnakumar-menon\n",
            "[57] Crawling: https://www.analyticsvidhya.com/datahacksummit-2025/speakers/kuldeep-jiwani-2\n",
            "[58] Crawling: https://www.analyticsvidhya.com/datahacksummit-2025/speakers/vijay-gabale-2\n",
            "[59] Crawling: https://www.analyticsvidhya.com/datahacksummit-2025/speakers/praveen-kumar-gs\n",
            "[60] Crawling: https://www.analyticsvidhya.com/datahacksummit-2025/speakers/dipanjan-sarkar\n",
            "[61] Crawling: https://www.analyticsvidhya.com/datahacksummit-2025/speakers/ruchi-awasthi\n",
            "[62] Crawling: https://www.analyticsvidhya.com/datahacksummit-2025/speakers/harshad-khadilkar-2\n",
            "[63] Crawling: https://www.analyticsvidhya.com/datahacksummit-2025/speakers/arun-prakash-asokan-2\n",
            "[64] Crawling: https://www.analyticsvidhya.com/datahacksummit-2025/speakers/pavak-biswal\n",
            "[65] Crawling: https://www.analyticsvidhya.com/datahacksummit-2025/speakers/arijit-mallick\n",
            "[66] Crawling: https://www.analyticsvidhya.com/datahacksummit-2025/speakers/jayita-bhattacharyya-2\n",
            "[67] Crawling: https://www.analyticsvidhya.com/datahacksummit-2025/speakers/bhaskarjit-sarmah-2\n",
            "[68] Crawling: https://www.analyticsvidhya.com/datahacksummit-2025/speakers/priyanka-choudhary\n",
            "[69] Crawling: https://www.analyticsvidhya.com/datahacksummit-2025/speakers/shubhradeep-nandi\n",
            "[70] Crawling: https://www.analyticsvidhya.com/datahacksummit-2025/speakers/satnam-singh-2\n",
            "[71] Crawling: https://www.analyticsvidhya.com/datahacksummit-2025/speakers/raghav-bali-2\n",
            "[72] Crawling: https://www.analyticsvidhya.com/datahacksummit-2025/speakers/purva-porwal\n",
            "[73] Crawling: https://www.analyticsvidhya.com/datahacksummit-2025/speakers/manoranjan-rajguru-2\n",
            "[74] Crawling: https://www.analyticsvidhya.com/datahacksummit-2025/speakers/nitin-agarwal\n",
            "[75] Crawling: https://www.analyticsvidhya.com/datahacksummit-2025/speakers/rutvik-acharya\n",
            "[76] Crawling: https://www.analyticsvidhya.com/datahacksummit-2025/speakers/kartik-nighania-2\n",
            "[77] Crawling: https://www.analyticsvidhya.com/datahacksummit-2025/speakers/sanathraj-narayan-2\n",
            "[78] Crawling: https://www.analyticsvidhya.com/datahacksummit-2025/speakers/vignesh-kumar\n",
            "[79] Crawling: https://www.analyticsvidhya.com/datahacksummit-2025/speakers/anshu-kumar-2\n",
            "[80] Crawling: https://www.analyticsvidhya.com/datahacksummit-2025/speakers/logesh-kumar-umapathi\n",
            "[81] Crawling: https://www.analyticsvidhya.com/datahacksummit-2025/speakers/ayush-thakur-2\n",
            "[82] Crawling: https://www.analyticsvidhya.com/datahacksummit-2025/speakers/aditya-iyengar\n",
            "[83] Crawling: https://www.analyticsvidhya.com/datahacksummit-2025/speakers/anuj-saini-2\n",
            "[84] Crawling: https://www.analyticsvidhya.com/datahacksummit-2025/speakers/nikhil-rana-2\n",
            "[85] Crawling: https://www.analyticsvidhya.com/datahacksummit-2025/speakers/daksh-varshneya\n",
            "[86] Crawling: https://www.analyticsvidhya.com/datahacksummit-2025/speakers/abhilash-kulkarni\n",
            "[87] Crawling: https://www.analyticsvidhya.com/datahacksummit-2025/speakers/hitesh-nayak\n",
            "[88] Crawling: https://www.analyticsvidhya.com/datahacksummit-2025/speakers/saurav-agarwal\n",
            "[89] Crawling: https://www.analyticsvidhya.com/datahacksummit-2025/speakers/pradeep-kumar\n",
            "[90] Crawling: https://www.analyticsvidhya.com/datahacksummit-2025/speakers/avinash-pathak-2\n",
            "[91] Crawling: https://www.analyticsvidhya.com/datahacksummit-2025/speakers/manpreet-singh\n",
            "[92] Crawling: https://www.analyticsvidhya.com/datahacksummit-2025/speakers/shivaraj-mulimani\n",
            "[93] Crawling: https://www.analyticsvidhya.com/datahacksummit-2025/speakers/dhruv-nair\n",
            "[94] Crawling: https://www.analyticsvidhya.com/datahacksummit-2025/speakers/abhishek-divekar\n",
            "[95] Crawling: https://www.analyticsvidhya.com/datahacksummit-2025/speakers/gyan-prakash-tripathi\n",
            "[96] Crawling: https://www.analyticsvidhya.com/datahacksummit-2025/speakers/pranjal-singh\n",
            "[97] Crawling: https://www.analyticsvidhya.com/datahacksummit-2025/speakers/prakalp-somawanshi\n",
            "[98] Crawling: https://www.analyticsvidhya.com/datahacksummit-2025/speakers/hrushikesh-dokala\n",
            "[99] Crawling: https://www.analyticsvidhya.com/datahacksummit-2025/speakers/aashay-sachdeva\n",
            "[100] Crawling: https://www.analyticsvidhya.com/datahacksummit-2025/speakers/deepak-sharma\n",
            "[101] Crawling: https://www.analyticsvidhya.com/datahacksummit-2025/speakers/ashish-tripathy\n",
            "[102] Crawling: https://www.analyticsvidhya.com/datahacksummit-2025/speakers/pankaj-agarwal\n",
            "[103] Crawling: https://www.analyticsvidhya.com/datahacksummit-2025/speakers/anuvrat-parashar\n",
            "[104] Crawling: https://www.analyticsvidhya.com/datahacksummit-2025/speakers/praneeth-paikray\n",
            "[105] Crawling: https://www.analyticsvidhya.com/datahacksummit-2025/speakers/mohammad-sanad-zaki-rizvi\n",
            "[106] Crawling: https://www.analyticsvidhya.com/datahacksummit-2025/speakers/anand-mishra-2\n",
            "[107] Crawling: https://www.analyticsvidhya.com/datahacksummit-2025/speakers/karan-sindwani\n",
            "[108] Crawling: https://www.analyticsvidhya.com/datahacksummit-2025/speakers/ravi-rs-nadimpalli\n",
            "[109] Crawling: https://www.analyticsvidhya.com/datahacksummit-2025/speakers/mayank-aggarwal\n",
            "[110] Crawling: https://www.analyticsvidhya.com/datahacksummit-2025/speakers/atul-ramesh-deshpande\n",
            "[111] Crawling: https://www.analyticsvidhya.com/datahacksummit-2025/speakers/ganesh-subramanian\n",
            "Skipping: https://www.analyticsvidhya.com/datahacksummit-2025/awards\n",
            "[112] Crawling: https://www.analyticsvidhya.com/datahacksummit-2025/sessions/zero-to-million-how-genai-agents-are-changing-performance-marketing\n",
            "[113] Crawling: https://www.analyticsvidhya.com/datahacksummit-2025/sessions/building-effective-agentic-ai-systems-lessons-from-the-field\n",
            "[114] Crawling: https://www.analyticsvidhya.com/datahacksummit-2025/sessions/search-query-optimization-using-retrieval-augmented-generation-rag\n",
            "[115] Crawling: https://www.analyticsvidhya.com/datahacksummit-2025/sessions/rip-data-scientists\n",
            "[116] Crawling: https://www.analyticsvidhya.com/datahacksummit-2025/sessions/massgen-scaling-ai-through-multi-agent-collaboration\n",
            "[117] Crawling: https://www.analyticsvidhya.com/datahacksummit-2025/sessions/productionizing-agents-an-agent-factory-approach\n",
            "[118] Crawling: https://www.analyticsvidhya.com/datahacksummit-2025/sessions/building-responsible-ai-agents-with-guardrails-and-safety-in-action\n",
            "[119] Crawling: https://www.analyticsvidhya.com/datahacksummit-2025/sessions/red-teaming-genai-securing-systems-from-the-inside-out\n",
            "[120] Crawling: https://www.analyticsvidhya.com/datahacksummit-2025/sessions/vibe-coding-showdown-building-applications-with-ai-assistants\n",
            "[121] Crawling: https://www.analyticsvidhya.com/datahacksummit-2025/sessions/how-genai-is-being-leveraged-in-the-web3-ecosystems\n",
            "[122] Crawling: https://www.analyticsvidhya.com/datahacksummit-2025/sessions/building-blocks-of-successful-ai\n",
            "[123] Crawling: https://www.analyticsvidhya.com/datahacksummit-2025/sessions/agentic-ai-meets-responsible-ai-designing-safe-autonomous-systems\n",
            "[124] Crawling: https://www.analyticsvidhya.com/datahacksummit-2025/sessions/adaptive-email-agents-with-dspy-from-static-prompts-to-smart-learning\n",
            "[125] Crawling: https://www.analyticsvidhya.com/datahacksummit-2025/sessions/autogen-vs-crewai-vs-langgraph-battle-of-the-agent-frameworks\n",
            "[126] Crawling: https://www.analyticsvidhya.com/datahacksummit-2025/sessions/automate-everything-building-agentic-ai-workflows-with-no-code-tools\n",
            "[127] Crawling: https://www.analyticsvidhya.com/datahacksummit-2025/sessions/saving-ananya-a-brands-genai-playbook-for-enhanced-cx\n",
            "[128] Crawling: https://www.analyticsvidhya.com/datahacksummit-2025/sessions/agentic-ai-for-business-no-code-solutions-with-cogentiq\n",
            "[129] Crawling: https://www.analyticsvidhya.com/datahacksummit-2025/sessions/from-llms-to-agentic-ai-solving-new-problems-with-multi-agent-systems\n",
            "[130] Crawling: https://www.analyticsvidhya.com/datahacksummit-2025/sessions/llms-are-boring-how-can-we-make-them-more-interesting\n",
            "[131] Crawling: https://www.analyticsvidhya.com/datahacksummit-2025/sessions/understanding-ai-agents-with-mcp\n",
            "[132] Crawling: https://www.analyticsvidhya.com/datahacksummit-2025/sessions/ai-voice-agentfuture-of-human-computer-interaction\n",
            "[133] Crawling: https://www.analyticsvidhya.com/datahacksummit-2025/sessions/automating-vehicle-inspections-with-multimodal-ai-and-gemini-on-gcp\n",
            "[134] Crawling: https://www.analyticsvidhya.com/datahacksummit-2025/sessions/deploying-genai-safely-strategies-for-trustworthy-llms\n",
            "[135] Crawling: https://www.analyticsvidhya.com/datahacksummit-2025/sessions/beyond-pocs-building-real-world-agentic-systems\n",
            "[136] Crawling: https://www.analyticsvidhya.com/datahacksummit-2025/sessions/building-intelligent-workflows-with-langgraph-from-agent-fundamentals\n",
            "[137] Crawling: https://www.analyticsvidhya.com/datahacksummit-2025/sessions/towards-sustainable-ai-effective-llm-compression-techniques\n",
            "[138] Crawling: https://www.analyticsvidhya.com/datahacksummit-2025/sessions/collaborative-multi-agent-framework-for-robust-seo-content-generation\n",
            "[139] Crawling: https://www.analyticsvidhya.com/datahacksummit-2025/sessions/building-fast-and-accurate-llm-agents-with-the-calm-framework\n",
            "[140] Crawling: https://www.analyticsvidhya.com/datahacksummit-2025/sessions/vibe-coding-in-action-building-real-applications-with-ai-assistance\n",
            "[141] Crawling: https://www.analyticsvidhya.com/datahacksummit-2025/sessions/full-stack-agentic-ai-build-evaluate-and-scale-with-nvidia-tools\n",
            "[142] Crawling: https://www.analyticsvidhya.com/datahacksummit-2025/sessions/measuring-uncertainty-in-llms-and-optimal-use-of-slms\n",
            "[143] Crawling: https://www.analyticsvidhya.com/datahacksummit-2025/sessions/agent-to-agent-protocol-benefits-and-workflows\n",
            "[144] Crawling: https://www.analyticsvidhya.com/datahacksummit-2025/sessions/bridging-the-ai-agent-gap-interoperability-with-a2a-and-mcp-protocols\n",
            "[145] Crawling: https://www.analyticsvidhya.com/datahacksummit-2025/sessions/building-real-time-multi-agent-ai-for-public-travel-systems\n",
            "[146] Crawling: https://www.analyticsvidhya.com/datahacksummit-2025/sessions/the-promise-and-pitfalls-of-synthetic-data-generationno-title\n",
            "[147] Crawling: https://www.analyticsvidhya.com/datahacksummit-2025/sessions/creative-ai-agents-open-tools-for-collaborative-media-creation\n",
            "[148] Crawling: https://www.analyticsvidhya.com/datahacksummit-2025/sessions/architecting-ai-practical-patterns-for-multi-agentic-workflows\n",
            "[149] Crawling: https://www.analyticsvidhya.com/datahacksummit-2025/sessions/multi-modal-genai-for-energy-infrastructure-inspection-reports\n",
            "[150] Crawling: https://www.analyticsvidhya.com/datahacksummit-2025/sessions/from-vision-to-action-multi-modal-agentic-ai-in-real-world-use\n",
            "[151] Crawling: https://www.analyticsvidhya.com/datahacksummit-2025/sessions/aligning-responsible-ai-with-probabilistic-world-of-llms-agents\n",
            "[152] Crawling: https://www.analyticsvidhya.com/datahacksummit-2025/sessions/posttraining-is-back-from-prompts-to-policies\n",
            "[153] Crawling: https://www.analyticsvidhya.com/datahacksummit-2025/sessions/human-in-the-loop-agentic-systems\n",
            "[154] Crawling: https://www.analyticsvidhya.com/datahacksummit-2025/sessions/building-a-scalable-healthcare-voice-ai-contact-center-with-pipecat\n",
            "[155] Crawling: https://www.analyticsvidhya.com/datahacksummit-2025/sessions/no-title-3\n",
            "[156] Crawling: https://www.analyticsvidhya.com/datahacksummit-2025/sessions/vllm-llm-d-scalable-efficient-llm-inference-in-kubernetes\n",
            "[157] Crawling: https://www.analyticsvidhya.com/datahacksummit-2025/sessions/from-idea-to-production-with-genai-realizing-the-art-of-the-possible\n",
            "Skipping: https://www.analyticsvidhya.com/datahacksummit-2025/awards\n",
            "Skipping: https://www.analyticsvidhya.com/datahacksummit-2025/awards\n",
            "Skipping: https://www.analyticsvidhya.com/datahacksummit-2025/awards\n",
            "Skipping: https://www.analyticsvidhya.com/datahacksummit-2025/awards\n",
            "Skipping: https://www.analyticsvidhya.com/datahacksummit-2025/awards\n",
            "Skipping: https://www.analyticsvidhya.com/datahacksummit-2025/awards\n",
            "Skipping: https://www.analyticsvidhya.com/datahacksummit-2025/awards\n",
            "Skipping: https://www.analyticsvidhya.com/datahacksummit-2025/awards\n",
            "Skipping: https://www.analyticsvidhya.com/datahacksummit-2025/awards\n",
            "Skipping: https://www.analyticsvidhya.com/datahacksummit-2025/awards\n",
            "Skipping: https://www.analyticsvidhya.com/datahacksummit-2025/awards\n",
            "Skipping: https://www.analyticsvidhya.com/datahacksummit-2025/awards\n",
            "Skipping: https://www.analyticsvidhya.com/datahacksummit-2025/awards\n",
            "Skipping: https://www.analyticsvidhya.com/datahacksummit-2025/awards\n",
            "Skipping: https://www.analyticsvidhya.com/datahacksummit-2025/awards\n",
            "Skipping: https://www.analyticsvidhya.com/datahacksummit-2025/awards\n",
            "Skipping: https://www.analyticsvidhya.com/datahacksummit-2025/awards\n",
            "Skipping: https://www.analyticsvidhya.com/datahacksummit-2025/awards\n",
            "Skipping: https://www.analyticsvidhya.com/datahacksummit-2025/awards\n",
            "Skipping: https://www.analyticsvidhya.com/datahacksummit-2025/awards\n",
            "Skipping: https://www.analyticsvidhya.com/datahacksummit-2025/awards\n",
            "Skipping: https://www.analyticsvidhya.com/datahacksummit-2025/awards\n",
            "Skipping: https://www.analyticsvidhya.com/datahacksummit-2025/awards\n",
            "Skipping: https://www.analyticsvidhya.com/datahacksummit-2025/awards\n",
            "Skipping: https://www.analyticsvidhya.com/datahacksummit-2025/awards\n",
            "Skipping: https://www.analyticsvidhya.com/datahacksummit-2025/awards\n",
            "Skipping: https://www.analyticsvidhya.com/datahacksummit-2025/awards\n",
            "Skipping: https://www.analyticsvidhya.com/datahacksummit-2025/awards\n",
            "Skipping: https://www.analyticsvidhya.com/datahacksummit-2025/awards\n",
            "Skipping: https://www.analyticsvidhya.com/datahacksummit-2025/awards\n",
            "Skipping: https://www.analyticsvidhya.com/datahacksummit-2025/awards\n",
            "Skipping: https://www.analyticsvidhya.com/datahacksummit-2025/awards\n",
            "Skipping: https://www.analyticsvidhya.com/datahacksummit-2025/awards\n",
            "Skipping: https://www.analyticsvidhya.com/datahacksummit-2025/awards\n",
            "Skipping: https://www.analyticsvidhya.com/datahacksummit-2025/awards\n",
            "Skipping: https://www.analyticsvidhya.com/datahacksummit-2025/awards\n",
            "Skipping: https://www.analyticsvidhya.com/datahacksummit-2025/awards\n",
            "Skipping: https://www.analyticsvidhya.com/datahacksummit-2025/awards\n",
            "Skipping: https://www.analyticsvidhya.com/datahacksummit-2025/awards\n",
            "Skipping: https://www.analyticsvidhya.com/datahacksummit-2025/awards\n",
            "Skipping: https://www.analyticsvidhya.com/datahacksummit-2025/awards\n",
            "Skipping: https://www.analyticsvidhya.com/datahacksummit-2025/awards\n",
            "Skipping: https://www.analyticsvidhya.com/datahacksummit-2025/awards\n",
            "Skipping: https://www.analyticsvidhya.com/datahacksummit-2025/awards\n",
            "Skipping: https://www.analyticsvidhya.com/datahacksummit-2025/awards\n",
            "Skipping: https://www.analyticsvidhya.com/datahacksummit-2025/awards\n",
            "Skipping: https://www.analyticsvidhya.com/datahacksummit-2025/awards\n",
            "Skipping: https://www.analyticsvidhya.com/datahacksummit-2025/awards\n",
            "Skipping: https://www.analyticsvidhya.com/datahacksummit-2025/awards\n",
            "Skipping: https://www.analyticsvidhya.com/datahacksummit-2025/awards\n",
            "Skipping: https://www.analyticsvidhya.com/datahacksummit-2025/awards\n",
            "Skipping: https://www.analyticsvidhya.com/datahacksummit-2025/awards\n",
            "Skipping: https://www.analyticsvidhya.com/datahacksummit-2025/awards\n",
            "Skipping: https://www.analyticsvidhya.com/datahacksummit-2025/awards\n",
            "Skipping: https://www.analyticsvidhya.com/datahacksummit-2025/awards\n",
            "Skipping: https://www.analyticsvidhya.com/datahacksummit-2025/awards\n",
            "Skipping: https://www.analyticsvidhya.com/datahacksummit-2025/awards\n",
            "Skipping: https://www.analyticsvidhya.com/datahacksummit-2025/awards\n",
            "Skipping: https://www.analyticsvidhya.com/datahacksummit-2025/awards\n",
            "Skipping: https://www.analyticsvidhya.com/datahacksummit-2025/awards\n",
            "Skipping: https://www.analyticsvidhya.com/datahacksummit-2025/awards\n",
            "Skipping: https://www.analyticsvidhya.com/datahacksummit-2025/awards\n",
            "Skipping: https://www.analyticsvidhya.com/datahacksummit-2025/awards\n",
            "Skipping: https://www.analyticsvidhya.com/datahacksummit-2025/awards\n",
            "Skipping: https://www.analyticsvidhya.com/datahacksummit-2025/awards\n",
            "Skipping: https://www.analyticsvidhya.com/datahacksummit-2025/awards\n",
            "Skipping: https://www.analyticsvidhya.com/datahacksummit-2025/awards\n",
            "Skipping: https://www.analyticsvidhya.com/datahacksummit-2025/awards\n",
            "Skipping: https://www.analyticsvidhya.com/datahacksummit-2025/awards\n",
            "Skipping: https://www.analyticsvidhya.com/datahacksummit-2025/awards\n",
            "Skipping: https://www.analyticsvidhya.com/datahacksummit-2025/awards\n",
            "Skipping: https://www.analyticsvidhya.com/datahacksummit-2025/awards\n",
            "Skipping: https://www.analyticsvidhya.com/datahacksummit-2025/awards\n",
            "Skipping: https://www.analyticsvidhya.com/datahacksummit-2025/awards\n",
            "Skipping: https://www.analyticsvidhya.com/datahacksummit-2025/awards\n",
            "Skipping: https://www.analyticsvidhya.com/datahacksummit-2025/awards\n",
            "Skipping: https://www.analyticsvidhya.com/datahacksummit-2025/awards\n",
            "Skipping: https://www.analyticsvidhya.com/datahacksummit-2025/awards\n",
            "Skipping: https://www.analyticsvidhya.com/datahacksummit-2025/awards\n",
            "Skipping: https://www.analyticsvidhya.com/datahacksummit-2025/awards\n",
            "Skipping: https://www.analyticsvidhya.com/datahacksummit-2025/awards\n",
            "Skipping: https://www.analyticsvidhya.com/datahacksummit-2025/awards\n",
            "Skipping: https://www.analyticsvidhya.com/datahacksummit-2025/awards\n",
            "Skipping: https://www.analyticsvidhya.com/datahacksummit-2025/awards\n",
            "Skipping: https://www.analyticsvidhya.com/datahacksummit-2025/awards\n",
            "Skipping: https://www.analyticsvidhya.com/datahacksummit-2025/awards\n",
            "Skipping: https://www.analyticsvidhya.com/datahacksummit-2025/awards\n",
            "Skipping: https://www.analyticsvidhya.com/datahacksummit-2025/awards\n",
            "Skipping: https://www.analyticsvidhya.com/datahacksummit-2025/awards\n",
            "Skipping: https://www.analyticsvidhya.com/datahacksummit-2025/awards\n",
            "Skipping: https://www.analyticsvidhya.com/datahacksummit-2025/awards\n",
            "Skipping: https://www.analyticsvidhya.com/datahacksummit-2025/awards\n",
            "Skipping: https://www.analyticsvidhya.com/datahacksummit-2025/awards\n",
            "Skipping: https://www.analyticsvidhya.com/datahacksummit-2025/awards\n",
            "Skipping: https://www.analyticsvidhya.com/datahacksummit-2025/awards\n",
            "Skipping: https://www.analyticsvidhya.com/datahacksummit-2025/awards\n",
            "Skipping: https://www.analyticsvidhya.com/datahacksummit-2025/awards\n",
            "Skipping: https://www.analyticsvidhya.com/datahacksummit-2025/awards\n",
            "Skipping: https://www.analyticsvidhya.com/datahacksummit-2025/awards\n",
            "Skipping: https://www.analyticsvidhya.com/datahacksummit-2025/awards\n",
            "Skipping: https://www.analyticsvidhya.com/datahacksummit-2025/awards\n",
            "Skipping: https://www.analyticsvidhya.com/datahacksummit-2025/awards\n",
            "Skipping: https://www.analyticsvidhya.com/datahacksummit-2025/awards\n",
            "Skipping: https://www.analyticsvidhya.com/datahacksummit-2025/awards\n",
            "Skipping: https://www.analyticsvidhya.com/datahacksummit-2025/awards\n",
            "Skipping: https://www.analyticsvidhya.com/datahacksummit-2025/awards\n",
            "Skipping: https://www.analyticsvidhya.com/datahacksummit-2025/awards\n",
            "Skipping: https://www.analyticsvidhya.com/datahacksummit-2025/awards\n",
            "Skipping: https://www.analyticsvidhya.com/datahacksummit-2025/awards\n",
            "Skipping: https://www.analyticsvidhya.com/datahacksummit-2025/awards\n",
            "Skipping: https://www.analyticsvidhya.com/datahacksummit-2025/awards\n",
            "Skipping: https://www.analyticsvidhya.com/datahacksummit-2025/awards\n",
            "Skipping: https://www.analyticsvidhya.com/datahacksummit-2025/awards\n",
            "Skipping: https://www.analyticsvidhya.com/datahacksummit-2025/awards\n",
            "Skipping: https://www.analyticsvidhya.com/datahacksummit-2025/awards\n",
            "Skipping: https://www.analyticsvidhya.com/datahacksummit-2025/awards\n",
            "Skipping: https://www.analyticsvidhya.com/datahacksummit-2025/awards\n",
            "Skipping: https://www.analyticsvidhya.com/datahacksummit-2025/awards\n",
            "Skipping: https://www.analyticsvidhya.com/datahacksummit-2025/awards\n",
            "Skipping: https://www.analyticsvidhya.com/datahacksummit-2025/awards\n",
            "Skipping: https://www.analyticsvidhya.com/datahacksummit-2025/awards\n",
            "Skipping: https://www.analyticsvidhya.com/datahacksummit-2025/awards\n",
            "Skipping: https://www.analyticsvidhya.com/datahacksummit-2025/awards\n",
            "Skipping: https://www.analyticsvidhya.com/datahacksummit-2025/awards\n",
            "Skipping: https://www.analyticsvidhya.com/datahacksummit-2025/awards\n",
            "Skipping: https://www.analyticsvidhya.com/datahacksummit-2025/awards\n",
            "Skipping: https://www.analyticsvidhya.com/datahacksummit-2025/awards\n",
            "Skipping: https://www.analyticsvidhya.com/datahacksummit-2025/awards\n",
            "Skipping: https://www.analyticsvidhya.com/datahacksummit-2025/awards\n",
            "Skipping: https://www.analyticsvidhya.com/datahacksummit-2025/awards\n",
            "Skipping: https://www.analyticsvidhya.com/datahacksummit-2025/awards\n",
            "Skipping: https://www.analyticsvidhya.com/datahacksummit-2025/awards\n",
            "Skipping: https://www.analyticsvidhya.com/datahacksummit-2025/awards\n",
            "Skipping: https://www.analyticsvidhya.com/datahacksummit-2025/awards\n",
            "Skipping: https://www.analyticsvidhya.com/datahacksummit-2025/awards\n",
            "Skipping: https://www.analyticsvidhya.com/datahacksummit-2025/awards\n",
            "Skipping: https://www.analyticsvidhya.com/datahacksummit-2025/awards\n",
            "Skipping: https://www.analyticsvidhya.com/datahacksummit-2025/awards\n",
            "Skipping: https://www.analyticsvidhya.com/datahacksummit-2025/awards\n",
            "Skipping: https://www.analyticsvidhya.com/datahacksummit-2025/awards\n",
            "Skipping: https://www.analyticsvidhya.com/datahacksummit-2025/awards\n",
            "Skipping: https://www.analyticsvidhya.com/datahacksummit-2025/awards\n",
            "Skipping: https://www.analyticsvidhya.com/datahacksummit-2025/awards\n",
            "Skipping: https://www.analyticsvidhya.com/datahacksummit-2025/awards\n",
            "Skipping: https://www.analyticsvidhya.com/datahacksummit-2025/awards\n",
            "Skipping: https://www.analyticsvidhya.com/datahacksummit-2025/awards\n",
            "Skipping: https://www.analyticsvidhya.com/datahacksummit-2025/awards\n",
            "Skipping: https://www.analyticsvidhya.com/datahacksummit-2025/awards\n",
            "Skipping: https://www.analyticsvidhya.com/datahacksummit-2025/awards\n",
            "Skipping: https://www.analyticsvidhya.com/datahacksummit-2025/awards\n",
            "Skipping: https://www.analyticsvidhya.com/datahacksummit-2025/awards\n",
            "Skipping: https://www.analyticsvidhya.com/datahacksummit-2025/awards\n",
            "Skipping: https://www.analyticsvidhya.com/datahacksummit-2025/awards\n",
            "Skipping: https://www.analyticsvidhya.com/datahacksummit-2025/awards\n",
            "\n",
            "✅ 157 pages crawled after filtering.\n"
          ]
        }
      ]
    },
    {
      "cell_type": "code",
      "source": [
        "filter_target_urls = [\n",
        "    \"https://www.analyticsvidhya.com/datahacksummit-2025/sessions\",\n",
        "    \"https://www.analyticsvidhya.com/datahacksummit-2025/sessions/\",\n",
        "    \"https://www.analyticsvidhya.com/datahacksummit-2025/speakers\",\n",
        "    \"https://www.analyticsvidhya.com/datahacksummit-2025/speakers/\",\n",
        "\n",
        "]"
      ],
      "metadata": {
        "id": "QyCRRL-1KnSX"
      },
      "execution_count": null,
      "outputs": []
    },
    {
      "cell_type": "code",
      "source": [
        "filter_target_urls = [\n",
        "    \"https://www.analyticsvidhya.com/datahacksummit-2025/sessions\",\n",
        "    \"https://www.analyticsvidhya.com/datahacksummit-2025/sessions/\",\n",
        "    \"https://www.analyticsvidhya.com/datahacksummit-2025/speakers\",\n",
        "    \"https://www.analyticsvidhya.com/datahacksummit-2025/speakers/\",\n",
        "]\n",
        "# Remove entries from page_data if the URL is in filter_target_urls\n",
        "cleaned_page_data = [item for item in page_data if item['url'] not in filter_target_urls]\n",
        "\n",
        "# Now, page_data contains only the filtered URLs\n",
        "page_data = cleaned_page_data"
      ],
      "metadata": {
        "id": "v3qiFym-Ku20"
      },
      "execution_count": null,
      "outputs": []
    },
    {
      "cell_type": "code",
      "source": [
        "len(page_data)"
      ],
      "metadata": {
        "colab": {
          "base_uri": "https://localhost:8080/"
        },
        "id": "kO4oAyowMIPG",
        "outputId": "746bc346-0290-427b-9dc0-ab5e77cf57e3"
      },
      "execution_count": null,
      "outputs": [
        {
          "output_type": "execute_result",
          "data": {
            "text/plain": [
              "155"
            ]
          },
          "metadata": {},
          "execution_count": 9
        }
      ]
    },
    {
      "cell_type": "markdown",
      "source": [
        "## 5. Convert Crawled HTML to Markdown\n",
        "\n",
        "Use **html2text** to transform page HTML to markdown for easier interpretation\n"
      ],
      "metadata": {
        "id": "MpdV3aney3ir"
      }
    },
    {
      "cell_type": "code",
      "source": [
        "# Convert all HTML contents to markdown (if converter is available)\n",
        "import html2text\n",
        "from IPython.display import Markdown\n",
        "\n",
        "def convert_html_to_markdown():\n",
        "    \"\"\"Creates and configures an html2text converter.\"\"\"\n",
        "    converter = html2text.HTML2Text()\n",
        "    converter.ignore_links = False       # Set True if you want to remove links\n",
        "    converter.ignore_images = True       # Set False if you want to include image URLs\n",
        "    converter.body_width = 0             # Prevents line wrapping\n",
        "    return converter\n",
        "\n",
        "def extract_section(text, start_keyword=None, end_keywords=None):\n",
        "    \"\"\"\n",
        "    Extracts text between a start keyword and one of several end keywords.\n",
        "\n",
        "    Args:\n",
        "        text: The input string.\n",
        "        start_keyword: The keyword to start extraction after.\n",
        "        end_keywords: A list of keywords to end extraction before.\n",
        "\n",
        "    Returns:\n",
        "        The extracted text, or the original text if keywords are not found.\n",
        "    \"\"\"\n",
        "    if start_keyword:\n",
        "        parts = text.split(start_keyword, maxsplit=1)\n",
        "        text = parts[1].strip() if len(parts) > 1 else \"\"\n",
        "\n",
        "    if end_keywords:\n",
        "        for keyword in end_keywords:\n",
        "            parts = text.split(keyword, maxsplit=1)\n",
        "            text = parts[0].strip() if len(parts) > 1 else text.strip()\n",
        "    return text\n",
        "\n",
        "cleaned_page_content = []\n",
        "converter = convert_html_to_markdown()\n",
        "\n",
        "end_keywords = [\"Participate\", \"Keynote\", \"Workshop Details\", \"Past Edition\", \"Download Brochure\"]\n",
        "\n",
        "for entry in page_data:\n",
        "    markdown = converter.handle(entry[\"content\"])\n",
        "    cleaned_text = extract_section(markdown, start_keyword=\"Download Brochure\", end_keywords=end_keywords)\n",
        "\n",
        "    cleaned_page_content.append({\n",
        "        \"url\": entry[\"url\"],\n",
        "        \"content\": cleaned_text\n",
        "    })"
      ],
      "metadata": {
        "id": "xB5emo4Ey5gD"
      },
      "execution_count": null,
      "outputs": []
    },
    {
      "cell_type": "markdown",
      "source": [
        "##6. Add Agenda to the Cleaned data\n"
      ],
      "metadata": {
        "id": "Pl5Hvma-ielv"
      }
    },
    {
      "cell_type": "code",
      "source": [
        "import pandas as pd\n",
        "from IPython.display import Markdown\n",
        "\n",
        "# Load your Excel file\n",
        "df = pd.read_excel(\"/content/Agentic_KAG/data/DHS2025_Agenda.xlsx\")\n",
        "df.fillna(\"\", inplace=True)  # Replace NaN with empty string\n",
        "# Convert the 'Date' column to datetime objects and then format them as dates\n",
        "df['Date'] = pd.to_datetime(df['Date']).dt.strftime('%Y-%m-%d')\n",
        "# Convert time columns to datetime objects and then format them as times\n",
        "df['Start Time'] = pd.to_datetime(df['Start Time'].astype(str)).dt.strftime('%H:%M')\n",
        "df['End Time'] = pd.to_datetime(df['End Time'].astype(str)).dt.strftime('%H:%M')\n",
        "\n"
      ],
      "metadata": {
        "id": "dBS-c-oaifwD"
      },
      "execution_count": null,
      "outputs": []
    },
    {
      "cell_type": "code",
      "source": [
        "# Convert the DataFrame to a markdown table\n",
        "markdown_table = df.to_markdown(index=False)\n",
        "\n",
        "# Display the markdown table\n",
        "display(Markdown(markdown_table))\n"
      ],
      "metadata": {
        "colab": {
          "base_uri": "https://localhost:8080/",
          "height": 1000
        },
        "id": "bxsDbNlJkfct",
        "outputId": "5185daa6-2c3a-4c4a-dd4a-1e77e4d5ca64"
      },
      "execution_count": null,
      "outputs": [
        {
          "output_type": "display_data",
          "data": {
            "text/plain": [
              "<IPython.core.display.Markdown object>"
            ],
            "text/markdown": "| Day   | Date       | Venue   | Session Type   | Start Time   | End Time   | Topic                                                                       | Speaker                                              |\n|:------|:-----------|:--------|:---------------|:-------------|:-----------|:----------------------------------------------------------------------------|:-----------------------------------------------------|\n| Day 1 | 2025-08-20 | ChatGPT | Opening Remark | 10:00        | 10:20      | Opening Remarks                                                             | Kunal Jain                                           |\n| Day 1 | 2025-08-20 | ChatGPT | Keynote        | 10:20        | 11:20      | Responsible AI in Medical Imaging – A Case Study                            | Dr. Geetha Manjunath                                 |\n| Day 1 | 2025-08-20 | ChatGPT | Awards         | 11:20        | 11:40      | AV Luminary Awards - Top 7 GenAI Leaders                                    |                                                      |\n| Day 1 | 2025-08-20 | ChatGPT | Break          | 11:40        | 12:00      | TEA (Networking Break)                                                      |                                                      |\n| Day 1 | 2025-08-20 | ChatGPT | PowerTalk      | 12:00        | 12:40      | Building Blocks of Successful AI                                            | Arijit Mallick                                       |\n| Day 1 | 2025-08-20 | ChatGPT | Hack Session   | 12:45        | 13:35      | Building Effective Agentic AI Systems: Lessons from the Field               | Dipanjan Sarkar                                      |\n| Day 1 | 2025-08-20 | ChatGPT | Break          | 13:35        | 14:25      | LUNCH (Networking Break)                                                    |                                                      |\n| Day 1 | 2025-08-20 | ChatGPT | PowerTalk      | 14:25        | 15:05      | vLLM + llm-d: Scalable, Efficient LLM Inference in Kubernetes               | Atul Ramesh Deshpande                                |\n| Day 1 | 2025-08-20 | ChatGPT | Keynote        | 15:30        | 16:20      | TBA                                                                         | Srikanth Velamakanni                                 |\n| Day 1 | 2025-08-20 | ChatGPT | Break          | 16:20        | 16:40      | TEA (Networking Break)                                                      |                                                      |\n| Day 1 | 2025-08-20 | ChatGPT | Hack Session   | 16:40        | 17:30      | Deploying GenAI Safely: Strategies for Trustworthy LLMs                     | Gauri Kholkar                                        |\n| Day 1 | 2025-08-20 | Claude  | Hack Session   | 12:00        | 12:50      | Agents at Scale: Engineering Reliable GenAI Systems for Production          | Kartik Nighania                                      |\n| Day 1 | 2025-08-20 | Claude  | Hack Session   | 12:55        | 13:45      | Building a Scalable Healthcare Voice AI Contact Center with Pipecat         | Ashish Tripathy                                      |\n| Day 1 | 2025-08-20 | Claude  | Break          | 13:45        | 14:35      | LUNCH (Networking Break)                                                    |                                                      |\n| Day 1 | 2025-08-20 | Claude  | Hack Session   | 14:35        | 15:25      | Human-In-The-Loop Agentic Systems                                           | Deepak Sharma                                        |\n| Day 1 | 2025-08-20 | Claude  | Hack Session   | 15:30        | 16:20      | Bridging the AI Agent Gap: Interoperability with A2A and MCP Protocols      | Nikhil Rana                                          |\n| Day 1 | 2025-08-20 | Claude  | Break          | 16:20        | 16:40      | TEA (Networking Break)                                                      |                                                      |\n| Day 1 | 2025-08-20 | Claude  | Hack Session   | 16:40        | 17:30      | Collaborative Multi-Agent Framework for Robust SEO Content Generation       | Anshu Kumar                                          |\n| Day 1 | 2025-08-20 | Gemini  | Hack Session   | 12:00        | 12:50      | Agentic Knowledge Augmented Generation: The Next Leap After RAG             | Arun Prakash Asokan                                  |\n| Day 1 | 2025-08-20 | Gemini  | Hack Session   | 12:55        | 13:45      | Measuring Uncertainty in LLMs and Optimal use of SLMs                       | Kuldeep Jiwani                                       |\n| Day 1 | 2025-08-20 | Gemini  | Break          | 13:45        | 14:45      | LUNCH (Networking Break)                                                    |                                                      |\n| Day 1 | 2025-08-20 | Gemini  | PowerTalk      | 14:45        | 15:25      | Agentic AI Meets Responsible AI: Designing Safe Autonomous Systems          | Praveen Kumar GS                                     |\n| Day 1 | 2025-08-20 | Gemini  | PowerTalk      | 15:30        | 16:10      | Productionizing Agents : An Agent Factory Approach                          | Krishnakumar Menon                                   |\n| Day 1 | 2025-08-20 | Gemini  | Break          | 16:10        | 16:25      | TEA (Networking Break)                                                      |                                                      |\n| Day 1 | 2025-08-20 | Gemini  | Hack Session   | 16:25        | 17:15      | Automating Vehicle Inspections with Multimodal AI and Gemini on GCP         | Vignesh Kumar                                        |\n| Day 1 | 2025-08-20 | Grok    | PowerTalk      | 12:00        | 12:40      | Onboarding AI Agents with Human Values                                      | Syed Quiser Ahmed                                    |\n| Day 1 | 2025-08-20 | Grok    | PowerTalk      | 12:45        | 13:25      | TBA                                                                         | TBA                                                  |\n| Day 1 | 2025-08-20 | Grok    | Break          | 13:25        | 14:15      | LUNCH (Networking Break)                                                    |                                                      |\n| Day 1 | 2025-08-20 | Grok    | Hack Session   | 14:15        | 15:05      | Aligning Responsible AI with Probabilistic World of LLMs & Agents           | Shubhradeep Nandi                                    |\n| Day 1 | 2025-08-20 | Grok    | Hack Session   | 16:40        | 17:30      | Vibe Coding in Action: Building Real Applications with AI Assistance        | Tanika Gupta                                         |\n| Day 2 | 2025-08-21 | ChatGPT | Hack Session   | 09:30        | 10:20      | Quantifying Our Confidence in Neural Networks and AI                        | Joshua Starmer                                       |\n| Day 2 | 2025-08-21 | ChatGPT | Break          | 10:20        | 10:40      | TEA (Networking Break)                                                      |                                                      |\n| Day 2 | 2025-08-21 | ChatGPT | Keynote        | 10:40        | 11:40      | Inclusive AI and Open Challenges                                            | Manish Gupta                                         |\n| Day 2 | 2025-08-21 | ChatGPT | Awards         | 11:40        | 11:55      | AV Luminary Awards - Top 7 GenAI Scientists                                 |                                                      |\n| Day 2 | 2025-08-21 | ChatGPT | Hack Session   | 12:20        | 13:10      | The Promise and Pitfalls of Synthetic Data Generation                       | Abhishek Divekar                                     |\n| Day 2 | 2025-08-21 | ChatGPT | Break          | 13:10        | 14:00      | LUNCH (Networking Break)                                                    |                                                      |\n| Day 2 | 2025-08-21 | ChatGPT | Hack Session   | 14:00        | 14:50      | From LLMs to Agentic AI: Solving New Problems with Multi-Agent Systems      | Alessandro Romano                                    |\n| Day 2 | 2025-08-21 | ChatGPT | Hack Panel     | 14:55        | 15:55      | Vibe Coding Showdown: Building Applications with AI Assistants              | Anuvrat Parashar; Anand S; Ravi RS Nadimpalli        |\n| Day 2 | 2025-08-21 | ChatGPT | Break          | 15:55        | 16:10      | TEA (Networking Break)                                                      |                                                      |\n| Day 2 | 2025-08-21 | ChatGPT | Hack Session   | 16:10        | 17:00      | Search Query Optimization Using Retrieval-Augmented Generation (RAG)        | Pankaj Agarwal                                       |\n| Day 2 | 2025-08-21 | Claude  | Hack Session   | 09:30        | 10:20      | From Language to Robotics: Practical Lessons Bridging LLMs, RL, and AI      | Logesh Kumar Umapathi                                |\n| Day 2 | 2025-08-21 | Claude  | Hack Session   | 12:05        | 12:55      | Fast and Accurate Conversational Agents: Beyond Function Calling            | Daksh Varshneya                                      |\n| Day 2 | 2025-08-21 | Claude  | Break          | 13:00        | 13:50      | LUNCH (Networking Break)                                                    |                                                      |\n| Day 2 | 2025-08-21 | Claude  | Hack Session   | 13:50        | 14:50      | Full-Stack Agentic AI: Build, Evaluate, and Scale with NVIDIA Tools         | Saurav Agarwal                                       |\n| Day 2 | 2025-08-21 | Claude  | Hack Session   | 14:55        | 15:45      | Beyond PoCs: Building Real-World Agentic Systems                            | Miguel Otero Pedrido                                 |\n| Day 2 | 2025-08-21 | Claude  | Break          | 15:45        | 16:00      | TEA (Networking Break)                                                      |                                                      |\n| Day 2 | 2025-08-21 | Claude  | Hack Session   | 16:00        | 17:00      | The Missing Piece of AI Apps: Evaluation                                    | Ayush Thakur                                         |\n| Day 2 | 2025-08-21 | Gemini  | PowerTalk      | 09:30        | 10:10      | Evaluating GenAI Models: Case Studies in Enterprise and Healthcare          | Dr. Kiran R                                          |\n| Day 2 | 2025-08-21 | Gemini  | Hack Session   | 12:05        | 13:00      | Understanding AI Agents with MCP                                            | Nitin Agarwal; Rutvik Acharya                        |\n| Day 2 | 2025-08-21 | Gemini  | Break          | 13:00        | 13:50      | LUNCH (Networking Break)                                                    |                                                      |\n| Day 2 | 2025-08-21 | Gemini  | Hack Session   | 13:50        | 14:40      | RIP, Data Scientists                                                        | Anand S                                              |\n| Day 2 | 2025-08-21 | Gemini  | PowerTalk      | 14:45        | 15:25      | Zero to Million: How GenAI Agents are Revolutionizing Performance Marketing | Krishna Kumar Tiwari                                 |\n| Day 2 | 2025-08-21 | Gemini  | PowerTalk      | 15:30        | 16:10      | How GenAI is Being Leveraged in the Web3 Ecosystems                         | Rohan Rao                                            |\n| Day 2 | 2025-08-21 | Gemini  | Break          | 16:10        | 16:25      | TEA (Networking Break)                                                      |                                                      |\n| Day 2 | 2025-08-21 | Gemini  | Hack Session   | 16:25        | 17:15      | Towards Sustainable AI: Effective LLM Compression Techniques                | Ruchi Awasthi                                        |\n| Day 2 | 2025-08-21 | Grok    | Hack Session   | 09:30        | 10:20      | Model Context Protocol in Media: Choosing the Right Metrics & Strategy      | Hitesh Nayak                                         |\n| Day 2 | 2025-08-21 | Grok    | Hack Session   | 12:20        | 13:10      | LLMs Are Boring. How Can We Make Them More Interesting?                     | Harshad Khadilkar                                    |\n| Day 2 | 2025-08-21 | Grok    | Break          | 13:20        | 14:20      | LUNCH (Networking Break)                                                    |                                                      |\n| Day 2 | 2025-08-21 | Grok    | Hack Session   | 14:20        | 15:10      | From Risk to Retention: The Anatomy of a Customer Saved                     | Pavak Biswal; Abhilash Kulkarni                      |\n| Day 2 | 2025-08-21 | Grok    | Hack Session   | 15:15        | 16:05      | From Idea to Production with GenAI : Realizing the Art of the Possible      | Karan Sindwani                                       |\n| Day 2 | 2025-08-21 | Grok    | Break          | 16:05        | 16:20      | TEA (Networking Break)                                                      |                                                      |\n| Day 2 | 2025-08-21 | Grok    | Hack Session   | 16:20        | 17:10      | Post‑Training Is Back: From Prompts to Policies                             | Aashay Sachdeva                                      |\n| Day 3 | 2025-08-22 | ChatGPT | Hack Session   | 09:30        | 10:20      | Why GenAI and LLMs Fail and How Fine-Tuning Helps Them                      | Vijay Gabale                                         |\n| Day 3 | 2025-08-22 | ChatGPT | Hack Session   | 10:25        | 11:15      | MassGen: Scaling AI Through Multi-Agent Collaboration                       | Chi Wang                                             |\n| Day 3 | 2025-08-22 | ChatGPT | Break          | 11:15        | 11:35      | TEA (Networking Break)                                                      |                                                      |\n| Day 3 | 2025-08-22 | ChatGPT | Keynote        | 11:35        | 12:35      | Building India’s AI Ecosystem: From Vision to Sovereignty                   | Pratyush Kumar                                       |\n| Day 3 | 2025-08-22 | ChatGPT | Awards         | 12:35        | 12:50      | AV Luminary Awards - Top 7 AI Community Contributors                        |                                                      |\n| Day 3 | 2025-08-22 | ChatGPT | Hack Session   | 13:10        | 14:00      | Architecting AI: Practical Patterns for Multi-Agentic Workflows             | Pranjal Singh                                        |\n| Day 3 | 2025-08-22 | ChatGPT | Break          | 14:00        | 14:50      | LUNCH (Networking Break)                                                    |                                                      |\n| Day 3 | 2025-08-22 | ChatGPT | Hack Panel     | 14:50        | 15:50      | AutoGen vs CrewAI vs LangGraph: Battle of the Agent Frameworks              | Mayank Aggarwal; Praneeth Paikray; Sanathraj Narayan |\n| Day 3 | 2025-08-22 | ChatGPT | Hack Session   | 15:55        | 16:45      | Building Responsible AI Agents with Guardrails and Safety in Action         | Anuj Saini                                           |\n| Day 3 | 2025-08-22 | ChatGPT | Break          | 16:45        | 17:00      | TEA (Networking Break)                                                      |                                                      |\n| Day 3 | 2025-08-22 | ChatGPT | Closing Remark | 17:00        | 17:15      | Closing Remarks                                                             | Kunal Jain                                           |\n| Day 3 | 2025-08-22 | Claude  | Hack Session   | 09:30        | 10:20      | A Visual Guide to Attention Mechanism in LLMs                               | Luis Serrano                                         |\n| Day 3 | 2025-08-22 | Claude  | Hack Session   | 10:25        | 11:15      | Creative AI Agents: Open Tools for Collaborative Media Creation             | Dhruv Nair                                           |\n| Day 3 | 2025-08-22 | Claude  | Hack Session   | 12:55        | 13:45      | Adaptive Email Agents with DSPy: From Static Prompts to Smart Learning      | Praneeth Paikray                                     |\n| Day 3 | 2025-08-22 | Claude  | Break          | 13:45        | 14:45      | LUNCH (Networking Break)                                                    |                                                      |\n| Day 3 | 2025-08-22 | Claude  | Hack Session   | 14:45        | 15:45      | Red Teaming GenAI: Securing Systems from the Inside Out                     | Satnam Singh; Shivaraj Mulimani                      |\n| Day 3 | 2025-08-22 | Claude  | Hack Session   | 15:50        | 16:50      | From Vision to Action: Multi-Modal Agentic AI in Real-World Use             | Pradeep Kumar                                        |\n| Day 3 | 2025-08-22 | Claude  | Break          | 16:50        | 17:00      | TEA (Networking Break)                                                      |                                                      |\n| Day 3 | 2025-08-22 | Gemini  | Hack Session   | 09:30        | 10:20      | TBA                                                                         | TBA                                                  |\n| Day 3 | 2025-08-22 | Gemini  | Hack Session   | 10:25        | 11:15      | Empowering Data Insights with Large Language Models                         | Aditya Iyengar                                       |\n| Day 3 | 2025-08-22 | Gemini  | Hack Session   | 12:55        | 13:45      | Automate Everything: Building Agentic AI Workflows with No-Code Tools       | Mayank Aggarwal                                      |\n| Day 3 | 2025-08-22 | Gemini  | Break          | 13:45        | 14:45      | LUNCH (Networking Break)                                                    |                                                      |\n| Day 3 | 2025-08-22 | Gemini  | Hack Session   | 14:45        | 15:45      | Detecting and Mitigating Risks in Agentic AI                                | Bhaskarjit Sarmah                                    |\n| Day 3 | 2025-08-22 | Gemini  | Hack Session   | 15:50        | 16:40      | Multi-Modal GenAI for Energy Infrastructure Inspection Reports              | Prakalp Somawanshi                                   |\n| Day 3 | 2025-08-22 | Gemini  | Break          | 16:40        | 17:00      | TEA (Networking Break)                                                      |                                                      |\n| Day 3 | 2025-08-22 | Grok    | Hack Session   | 09:30        | 10:20      | Scaling Test-time Inference Compute & Advent of Reasoning Models            | Jayita Bhattacharyya                                 |\n| Day 3 | 2025-08-22 | Grok    | Hack Session   | 10:25        | 11:15      | Mastering Agentic Workflows with LangGraph                                  | Sanathraj Narayan                                    |\n| Day 3 | 2025-08-22 | Grok    | Hack Session   | 13:10        | 14:00      | AI Voice Agent: The Future of Human-Computer Interaction                    | Ranjani Mani; Manoranjan Rajguru                     |\n| Day 3 | 2025-08-22 | Grok    | Break          | 14:00        | 15:00      | LUNCH (Networking Break)                                                    |                                                      |\n| Day 3 | 2025-08-22 | Grok    | Hack Session   | 15:00        | 16:00      | Building Real-Time Multi-Agent AI for Public Travel Systems                 | Manpreet Singh                                       |\n| Day 3 | 2025-08-22 | Grok    | Hack Session   | 16:00        | 16:50      | Agent to Agent Protocol: Benefits and Workflows                             | Avinash Pathak                                       |\n| Day 3 | 2025-08-22 | Grok    | Break          | 16:50        | 17:00      | TEA (Networking Break)                                                      |                                                      |"
          },
          "metadata": {}
        }
      ]
    },
    {
      "cell_type": "markdown",
      "source": [
        "Including the Schedule webpage as the URL (metadata) to the Agenda included"
      ],
      "metadata": {
        "id": "Q5YUbfK99T26"
      }
    },
    {
      "cell_type": "code",
      "source": [
        "cleaned_page_content.append({\n",
        "        \"url\": 'https://www.analyticsvidhya.com/datahacksummit/#schedule',\n",
        "        \"content\": markdown_table\n",
        "    })"
      ],
      "metadata": {
        "id": "Y9irxNqEkry-"
      },
      "execution_count": null,
      "outputs": []
    },
    {
      "cell_type": "markdown",
      "source": [
        "## 7. Save and Inspect Results\n"
      ],
      "metadata": {
        "id": "NzLATLUxy82U"
      }
    },
    {
      "cell_type": "code",
      "source": [
        "import pickle\n",
        "# Save for reuse\n",
        "with open(\"/content/Agentic_KAG/data/page_data.pkl\", \"wb\") as f:\n",
        "    pickle.dump(cleaned_page_content, f)"
      ],
      "metadata": {
        "id": "Fk8mm0dJy9wy"
      },
      "execution_count": null,
      "outputs": []
    },
    {
      "cell_type": "code",
      "source": [
        "# Quick summary: crawled URLs and markdown preview\n",
        "print(f\"Total pages: {len(cleaned_page_content)}\")\n",
        "print(\"--- Example URLs ---\")\n",
        "for page in cleaned_page_content[:5]:\n",
        "    print(page['url'])\n",
        "\n",
        "print(\"\\n--- Markdown Snippet from First Page ---\")\n",
        "Markdown(cleaned_page_content[0]['content'])\n"
      ],
      "metadata": {
        "colab": {
          "base_uri": "https://localhost:8080/",
          "height": 1000
        },
        "id": "pm7HVgQHy_wd",
        "outputId": "7f80e27a-66a3-491e-f1f9-77f88913082c"
      },
      "execution_count": null,
      "outputs": [
        {
          "output_type": "stream",
          "name": "stdout",
          "text": [
            "Total pages: 156\n",
            "--- Example URLs ---\n",
            "https://www.analyticsvidhya.com/datahacksummit/\n",
            "https://www.analyticsvidhya.com/datahacksummit-2025/workshops/mastering-intelligent-agents-a-deep-dive-into-agentic-ai-building-ai\n",
            "https://www.analyticsvidhya.com/datahacksummit-2025/workshops/build-a-production-ready-multi-agent-application-with-crewai\n",
            "https://www.analyticsvidhya.com/datahacksummit-2025/workshops/mastering-real-world-agentic-ai-applications-with-ag2-autogen\n",
            "https://www.analyticsvidhya.com/datahacksummit-2025/workshops/llmops-productionalizing-real-world-applications-with-llms-2\n",
            "\n",
            "--- Markdown Snippet from First Page ---\n"
          ]
        },
        {
          "output_type": "execute_result",
          "data": {
            "text/plain": [
              "<IPython.core.display.Markdown object>"
            ],
            "text/markdown": "# The AI Trinity\n\n## Powering the Future\n\n### Generative | Agentic | Responsible\n\n## India's Most Futuristic AI Conference\n\n### August 20-23, 2025  • The Leela Bhartiya City Bengaluru \n\nSend WhatsApp Updates\n\nDownload Agenda\n\nYour browser does not support the video tag. \n\n## 1200+\n\n### Attendees\n\n## 80+\n\n### AI Talks\n\n## 50+\n\n### Hack Sessions\n\n## 10+\n\n### Workshops\n\n## Hands-on AI Workshops\n\n### [Mastering Intelligent Agents: A Deep Dive into Agentic AI Dipanjan Sarkar - Analytics Vidhya  ](/datahacksummit-2025/workshops/mastering-intelligent-agents-a-deep-dive-into-agentic-ai-building-ai)\n\n[ 🔥 Most Trending Mastering Real-World Multi-Agent Systems Alessandro Romano - Kuehne+Nagel  ](/datahacksummit-2025/workshops/build-a-production-ready-multi-agent-application-with-crewai)\n\n[ Almost Sold Out Mastering Real-World Agentic AI Applications with AG2 (AutoGen) Hrushikesh Dokala - Atlan, Qingyun Wu - AG2, Chi Wang - AG2  ](/datahacksummit-2025/workshops/mastering-real-world-agentic-ai-applications-with-ag2-autogen)\n\n[ ⚡️ Filling Fast LLMOps – Productionalizing Real-World Applications with LLMs and Agents Kartik Nighania - Typewise  ](/datahacksummit-2025/workshops/llmops-productionalizing-real-world-applications-with-llms-2)\n\n[ ⚡️ Filling Fast Mastering LLMs: Training, Fine-Tuning, and Best Practices Raghav Bali - Delivery Hero  ](/datahacksummit-2025/workshops/mastering-llms-training-fine-tuning-and-best-practices-2)\n\n### [AgentOps: Building and Deploying AI Agents Bhaskarjit Sarmah - Domyn  ](/datahacksummit-2025/workshops/agentops-building-and-deploying-ai-agents)\n\n### [From Beginner to Expert: Learning LLMs, Reinforcement Learning & AI Agents Joshua Starmer - StatQuest, Luis Serrano - Serrano Academy  ](/datahacksummit-2025/workshops/from-theory-to-practice-training-llms-reinforcement-learning-and-ai)\n\n[ 💎 Best Value Building Intelligent Multimodal Agents: Integrating Vision, Speech & Language Miguel Otero Pedrido - The Neural Maze  ](/datahacksummit-2025/workshops/building-a-multimodal-telegram-agent-that-sees-talks-and-thinks)\n\n### [Agentic AI & Generative AI for Business Leaders David Zakkam - Uber  ](/datahacksummit-2025/workshops/generative-ai-for-business-leaders)\n\n### [Agentic RAG Workshop: From Fundamentals to Real-World Implementations Arun Prakash Asokan - Novartis  ](/datahacksummit-2025/workshops/agentic-rag-workshop-from-fundamentals-to-real-world-implemenno-title)\n\nDownload"
          },
          "metadata": {},
          "execution_count": 15
        }
      ]
    }
  ]
}