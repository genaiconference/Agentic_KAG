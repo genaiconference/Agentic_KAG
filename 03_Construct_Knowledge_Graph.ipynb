{
  "nbformat": 4,
  "nbformat_minor": 0,
  "metadata": {
    "colab": {
      "provenance": [],
      "authorship_tag": "ABX9TyOwp+3thow4DWqLM8l+Ix7Y",
      "include_colab_link": true
    },
    "kernelspec": {
      "name": "python3",
      "display_name": "Python 3"
    },
    "language_info": {
      "name": "python"
    }
  },
  "cells": [
    {
      "cell_type": "markdown",
      "metadata": {
        "id": "view-in-github",
        "colab_type": "text"
      },
      "source": [
        "<a href=\"https://colab.research.google.com/github/genaiconference/Agentic_KAG/blob/main/03_Construct_Knowledge_Graph.ipynb\" target=\"_parent\"><img src=\"https://colab.research.google.com/assets/colab-badge.svg\" alt=\"Open In Colab\"/></a>"
      ]
    },
    {
      "cell_type": "markdown",
      "source": [
        "# Knowledge Graph Builder\n",
        "This notebook provides information about how to create a Knowledge Graph from unstructured data.\n",
        "\n"
      ],
      "metadata": {
        "id": "4XSNSsHvnGHG"
      }
    },
    {
      "cell_type": "code",
      "source": [
        "!git clone https://github.com/genaiconference/Agentic_KAG.git"
      ],
      "metadata": {
        "colab": {
          "base_uri": "https://localhost:8080/"
        },
        "id": "yebMexpzDc18",
        "outputId": "e0bdc6db-67c9-44aa-9a95-55f1a63a32f4"
      },
      "execution_count": 1,
      "outputs": [
        {
          "output_type": "stream",
          "name": "stdout",
          "text": [
            "Cloning into 'Agentic_KAG'...\n",
            "remote: Enumerating objects: 27, done.\u001b[K\n",
            "remote: Counting objects: 100% (27/27), done.\u001b[K\n",
            "remote: Compressing objects: 100% (26/26), done.\u001b[K\n",
            "remote: Total 27 (delta 8), reused 0 (delta 0), pack-reused 0 (from 0)\u001b[K\n",
            "Receiving objects: 100% (27/27), 310.65 KiB | 4.14 MiB/s, done.\n",
            "Resolving deltas: 100% (8/8), done.\n"
          ]
        }
      ]
    },
    {
      "cell_type": "markdown",
      "source": [
        "## Install Required Packages"
      ],
      "metadata": {
        "id": "r-7IZdzFNWkK"
      }
    },
    {
      "cell_type": "code",
      "source": [
        "!pip install -r /content/Agentic_KAG/requirements.txt"
      ],
      "metadata": {
        "colab": {
          "base_uri": "https://localhost:8080/"
        },
        "id": "36EWtVf7Nady",
        "outputId": "d9f9460e-e71f-42da-aabe-e61ea2b21abc",
        "collapsed": true
      },
      "execution_count": 10,
      "outputs": [
        {
          "output_type": "stream",
          "name": "stdout",
          "text": [
            "Requirement already satisfied: openai==1.97.1 in /usr/local/lib/python3.11/dist-packages (from -r /content/Agentic_KAG/requirements.txt (line 1)) (1.97.1)\n",
            "Collecting python-dotenv==1.1.1 (from -r /content/Agentic_KAG/requirements.txt (line 2))\n",
            "  Downloading python_dotenv-1.1.1-py3-none-any.whl.metadata (24 kB)\n",
            "Collecting langchain_openai==0.3.28 (from -r /content/Agentic_KAG/requirements.txt (line 3))\n",
            "  Downloading langchain_openai-0.3.28-py3-none-any.whl.metadata (2.3 kB)\n",
            "Collecting langchain_community==0.3.27 (from -r /content/Agentic_KAG/requirements.txt (line 4))\n",
            "  Downloading langchain_community-0.3.27-py3-none-any.whl.metadata (2.9 kB)\n",
            "Requirement already satisfied: langchain_core==0.3.72 in /usr/local/lib/python3.11/dist-packages (from -r /content/Agentic_KAG/requirements.txt (line 5)) (0.3.72)\n",
            "Collecting chromadb==1.0.15 (from -r /content/Agentic_KAG/requirements.txt (line 6))\n",
            "  Downloading chromadb-1.0.15-cp39-abi3-manylinux_2_17_x86_64.manylinux2014_x86_64.whl.metadata (7.0 kB)\n",
            "Collecting neo4j==5.28.2 (from -r /content/Agentic_KAG/requirements.txt (line 7))\n",
            "  Downloading neo4j-5.28.2-py3-none-any.whl.metadata (5.9 kB)\n",
            "Collecting neo4j-graphrag==1.8.0 (from -r /content/Agentic_KAG/requirements.txt (line 8))\n",
            "  Downloading neo4j_graphrag-1.8.0-py3-none-any.whl.metadata (18 kB)\n",
            "Requirement already satisfied: beautifulsoup4==4.13.4 in /usr/local/lib/python3.11/dist-packages (from -r /content/Agentic_KAG/requirements.txt (line 9)) (4.13.4)\n",
            "Collecting html2text==2025.4.15 (from -r /content/Agentic_KAG/requirements.txt (line 10))\n",
            "  Downloading html2text-2025.4.15-py3-none-any.whl.metadata (4.1 kB)\n",
            "Requirement already satisfied: requests==2.32.3 in /usr/local/lib/python3.11/dist-packages (from -r /content/Agentic_KAG/requirements.txt (line 11)) (2.32.3)\n",
            "Requirement already satisfied: anyio<5,>=3.5.0 in /usr/local/lib/python3.11/dist-packages (from openai==1.97.1->-r /content/Agentic_KAG/requirements.txt (line 1)) (4.9.0)\n",
            "Requirement already satisfied: distro<2,>=1.7.0 in /usr/local/lib/python3.11/dist-packages (from openai==1.97.1->-r /content/Agentic_KAG/requirements.txt (line 1)) (1.9.0)\n",
            "Requirement already satisfied: httpx<1,>=0.23.0 in /usr/local/lib/python3.11/dist-packages (from openai==1.97.1->-r /content/Agentic_KAG/requirements.txt (line 1)) (0.28.1)\n",
            "Requirement already satisfied: jiter<1,>=0.4.0 in /usr/local/lib/python3.11/dist-packages (from openai==1.97.1->-r /content/Agentic_KAG/requirements.txt (line 1)) (0.10.0)\n",
            "Requirement already satisfied: pydantic<3,>=1.9.0 in /usr/local/lib/python3.11/dist-packages (from openai==1.97.1->-r /content/Agentic_KAG/requirements.txt (line 1)) (2.11.7)\n",
            "Requirement already satisfied: sniffio in /usr/local/lib/python3.11/dist-packages (from openai==1.97.1->-r /content/Agentic_KAG/requirements.txt (line 1)) (1.3.1)\n",
            "Requirement already satisfied: tqdm>4 in /usr/local/lib/python3.11/dist-packages (from openai==1.97.1->-r /content/Agentic_KAG/requirements.txt (line 1)) (4.67.1)\n",
            "Requirement already satisfied: typing-extensions<5,>=4.11 in /usr/local/lib/python3.11/dist-packages (from openai==1.97.1->-r /content/Agentic_KAG/requirements.txt (line 1)) (4.14.1)\n",
            "Requirement already satisfied: tiktoken<1,>=0.7 in /usr/local/lib/python3.11/dist-packages (from langchain_openai==0.3.28->-r /content/Agentic_KAG/requirements.txt (line 3)) (0.9.0)\n",
            "Requirement already satisfied: langchain<1.0.0,>=0.3.26 in /usr/local/lib/python3.11/dist-packages (from langchain_community==0.3.27->-r /content/Agentic_KAG/requirements.txt (line 4)) (0.3.27)\n",
            "Requirement already satisfied: SQLAlchemy<3,>=1.4 in /usr/local/lib/python3.11/dist-packages (from langchain_community==0.3.27->-r /content/Agentic_KAG/requirements.txt (line 4)) (2.0.41)\n",
            "Requirement already satisfied: PyYAML>=5.3 in /usr/local/lib/python3.11/dist-packages (from langchain_community==0.3.27->-r /content/Agentic_KAG/requirements.txt (line 4)) (6.0.2)\n",
            "Requirement already satisfied: aiohttp<4.0.0,>=3.8.3 in /usr/local/lib/python3.11/dist-packages (from langchain_community==0.3.27->-r /content/Agentic_KAG/requirements.txt (line 4)) (3.12.14)\n",
            "Requirement already satisfied: tenacity!=8.4.0,<10,>=8.1.0 in /usr/local/lib/python3.11/dist-packages (from langchain_community==0.3.27->-r /content/Agentic_KAG/requirements.txt (line 4)) (8.5.0)\n",
            "Collecting dataclasses-json<0.7,>=0.5.7 (from langchain_community==0.3.27->-r /content/Agentic_KAG/requirements.txt (line 4))\n",
            "  Downloading dataclasses_json-0.6.7-py3-none-any.whl.metadata (25 kB)\n",
            "Collecting pydantic-settings<3.0.0,>=2.4.0 (from langchain_community==0.3.27->-r /content/Agentic_KAG/requirements.txt (line 4))\n",
            "  Downloading pydantic_settings-2.10.1-py3-none-any.whl.metadata (3.4 kB)\n",
            "Requirement already satisfied: langsmith>=0.1.125 in /usr/local/lib/python3.11/dist-packages (from langchain_community==0.3.27->-r /content/Agentic_KAG/requirements.txt (line 4)) (0.4.8)\n",
            "Collecting httpx-sse<1.0.0,>=0.4.0 (from langchain_community==0.3.27->-r /content/Agentic_KAG/requirements.txt (line 4))\n",
            "  Downloading httpx_sse-0.4.1-py3-none-any.whl.metadata (9.4 kB)\n",
            "Requirement already satisfied: numpy>=1.26.2 in /usr/local/lib/python3.11/dist-packages (from langchain_community==0.3.27->-r /content/Agentic_KAG/requirements.txt (line 4)) (2.0.2)\n",
            "Requirement already satisfied: jsonpatch<2.0,>=1.33 in /usr/local/lib/python3.11/dist-packages (from langchain_core==0.3.72->-r /content/Agentic_KAG/requirements.txt (line 5)) (1.33)\n",
            "Requirement already satisfied: packaging>=23.2 in /usr/local/lib/python3.11/dist-packages (from langchain_core==0.3.72->-r /content/Agentic_KAG/requirements.txt (line 5)) (25.0)\n",
            "Requirement already satisfied: build>=1.0.3 in /usr/local/lib/python3.11/dist-packages (from chromadb==1.0.15->-r /content/Agentic_KAG/requirements.txt (line 6)) (1.2.2.post1)\n",
            "Collecting pybase64>=1.4.1 (from chromadb==1.0.15->-r /content/Agentic_KAG/requirements.txt (line 6))\n",
            "  Downloading pybase64-1.4.2-cp311-cp311-manylinux1_x86_64.manylinux2014_x86_64.manylinux_2_17_x86_64.manylinux_2_5_x86_64.whl.metadata (8.7 kB)\n",
            "Requirement already satisfied: uvicorn>=0.18.3 in /usr/local/lib/python3.11/dist-packages (from uvicorn[standard]>=0.18.3->chromadb==1.0.15->-r /content/Agentic_KAG/requirements.txt (line 6)) (0.35.0)\n",
            "Collecting posthog<6.0.0,>=2.4.0 (from chromadb==1.0.15->-r /content/Agentic_KAG/requirements.txt (line 6))\n",
            "  Downloading posthog-5.4.0-py3-none-any.whl.metadata (5.7 kB)\n",
            "Collecting onnxruntime>=1.14.1 (from chromadb==1.0.15->-r /content/Agentic_KAG/requirements.txt (line 6))\n",
            "  Downloading onnxruntime-1.22.1-cp311-cp311-manylinux_2_27_x86_64.manylinux_2_28_x86_64.whl.metadata (4.6 kB)\n",
            "Collecting opentelemetry-api>=1.2.0 (from chromadb==1.0.15->-r /content/Agentic_KAG/requirements.txt (line 6))\n",
            "  Downloading opentelemetry_api-1.36.0-py3-none-any.whl.metadata (1.5 kB)\n",
            "Collecting opentelemetry-exporter-otlp-proto-grpc>=1.2.0 (from chromadb==1.0.15->-r /content/Agentic_KAG/requirements.txt (line 6))\n",
            "  Downloading opentelemetry_exporter_otlp_proto_grpc-1.36.0-py3-none-any.whl.metadata (2.4 kB)\n",
            "Collecting opentelemetry-sdk>=1.2.0 (from chromadb==1.0.15->-r /content/Agentic_KAG/requirements.txt (line 6))\n",
            "  Downloading opentelemetry_sdk-1.36.0-py3-none-any.whl.metadata (1.5 kB)\n",
            "Requirement already satisfied: tokenizers>=0.13.2 in /usr/local/lib/python3.11/dist-packages (from chromadb==1.0.15->-r /content/Agentic_KAG/requirements.txt (line 6)) (0.21.2)\n",
            "Collecting pypika>=0.48.9 (from chromadb==1.0.15->-r /content/Agentic_KAG/requirements.txt (line 6))\n",
            "  Downloading PyPika-0.48.9.tar.gz (67 kB)\n",
            "\u001b[2K     \u001b[90m━━━━━━━━━━━━━━━━━━━━━━━━━━━━━━━━━━━━━━━━\u001b[0m \u001b[32m67.3/67.3 kB\u001b[0m \u001b[31m3.6 MB/s\u001b[0m eta \u001b[36m0:00:00\u001b[0m\n",
            "\u001b[?25h  Installing build dependencies ... \u001b[?25l\u001b[?25hdone\n",
            "  Getting requirements to build wheel ... \u001b[?25l\u001b[?25hdone\n",
            "  Preparing metadata (pyproject.toml) ... \u001b[?25l\u001b[?25hdone\n",
            "Collecting overrides>=7.3.1 (from chromadb==1.0.15->-r /content/Agentic_KAG/requirements.txt (line 6))\n",
            "  Downloading overrides-7.7.0-py3-none-any.whl.metadata (5.8 kB)\n",
            "Requirement already satisfied: importlib-resources in /usr/local/lib/python3.11/dist-packages (from chromadb==1.0.15->-r /content/Agentic_KAG/requirements.txt (line 6)) (6.5.2)\n",
            "Requirement already satisfied: grpcio>=1.58.0 in /usr/local/lib/python3.11/dist-packages (from chromadb==1.0.15->-r /content/Agentic_KAG/requirements.txt (line 6)) (1.74.0)\n",
            "Collecting bcrypt>=4.0.1 (from chromadb==1.0.15->-r /content/Agentic_KAG/requirements.txt (line 6))\n",
            "  Downloading bcrypt-4.3.0-cp39-abi3-manylinux_2_34_x86_64.whl.metadata (10 kB)\n",
            "Requirement already satisfied: typer>=0.9.0 in /usr/local/lib/python3.11/dist-packages (from chromadb==1.0.15->-r /content/Agentic_KAG/requirements.txt (line 6)) (0.16.0)\n",
            "Collecting kubernetes>=28.1.0 (from chromadb==1.0.15->-r /content/Agentic_KAG/requirements.txt (line 6))\n",
            "  Downloading kubernetes-33.1.0-py2.py3-none-any.whl.metadata (1.7 kB)\n",
            "Collecting mmh3>=4.0.1 (from chromadb==1.0.15->-r /content/Agentic_KAG/requirements.txt (line 6))\n",
            "  Downloading mmh3-5.2.0-cp311-cp311-manylinux1_x86_64.manylinux_2_28_x86_64.manylinux_2_5_x86_64.whl.metadata (14 kB)\n",
            "Requirement already satisfied: orjson>=3.9.12 in /usr/local/lib/python3.11/dist-packages (from chromadb==1.0.15->-r /content/Agentic_KAG/requirements.txt (line 6)) (3.11.1)\n",
            "Requirement already satisfied: rich>=10.11.0 in /usr/local/lib/python3.11/dist-packages (from chromadb==1.0.15->-r /content/Agentic_KAG/requirements.txt (line 6)) (13.9.4)\n",
            "Requirement already satisfied: jsonschema>=4.19.0 in /usr/local/lib/python3.11/dist-packages (from chromadb==1.0.15->-r /content/Agentic_KAG/requirements.txt (line 6)) (4.25.0)\n",
            "Requirement already satisfied: pytz in /usr/local/lib/python3.11/dist-packages (from neo4j==5.28.2->-r /content/Agentic_KAG/requirements.txt (line 7)) (2025.2)\n",
            "Collecting fsspec<2025.0.0,>=2024.9.0 (from neo4j-graphrag==1.8.0->-r /content/Agentic_KAG/requirements.txt (line 8))\n",
            "  Downloading fsspec-2024.12.0-py3-none-any.whl.metadata (11 kB)\n",
            "Collecting json-repair<0.40.0,>=0.39.1 (from neo4j-graphrag==1.8.0->-r /content/Agentic_KAG/requirements.txt (line 8))\n",
            "  Downloading json_repair-0.39.1-py3-none-any.whl.metadata (11 kB)\n",
            "Collecting pypdf<6.0.0,>=5.1.0 (from neo4j-graphrag==1.8.0->-r /content/Agentic_KAG/requirements.txt (line 8))\n",
            "  Downloading pypdf-5.9.0-py3-none-any.whl.metadata (7.1 kB)\n",
            "Requirement already satisfied: scipy<2.0.0,>=1.13.0 in /usr/local/lib/python3.11/dist-packages (from neo4j-graphrag==1.8.0->-r /content/Agentic_KAG/requirements.txt (line 8)) (1.16.0)\n",
            "Collecting types-pyyaml<7.0.0.0,>=6.0.12.20240917 (from neo4j-graphrag==1.8.0->-r /content/Agentic_KAG/requirements.txt (line 8))\n",
            "  Downloading types_pyyaml-6.0.12.20250516-py3-none-any.whl.metadata (1.8 kB)\n",
            "Requirement already satisfied: soupsieve>1.2 in /usr/local/lib/python3.11/dist-packages (from beautifulsoup4==4.13.4->-r /content/Agentic_KAG/requirements.txt (line 9)) (2.7)\n",
            "Requirement already satisfied: charset-normalizer<4,>=2 in /usr/local/lib/python3.11/dist-packages (from requests==2.32.3->-r /content/Agentic_KAG/requirements.txt (line 11)) (3.4.2)\n",
            "Requirement already satisfied: idna<4,>=2.5 in /usr/local/lib/python3.11/dist-packages (from requests==2.32.3->-r /content/Agentic_KAG/requirements.txt (line 11)) (3.10)\n",
            "Requirement already satisfied: urllib3<3,>=1.21.1 in /usr/local/lib/python3.11/dist-packages (from requests==2.32.3->-r /content/Agentic_KAG/requirements.txt (line 11)) (2.5.0)\n",
            "Requirement already satisfied: certifi>=2017.4.17 in /usr/local/lib/python3.11/dist-packages (from requests==2.32.3->-r /content/Agentic_KAG/requirements.txt (line 11)) (2025.7.14)\n",
            "Collecting rapidfuzz<4.0.0,>=3.12.2 (from neo4j-graphrag[fuzzy-matching]->-r /content/Agentic_KAG/requirements.txt (line 12))\n",
            "  Downloading rapidfuzz-3.13.0-cp311-cp311-manylinux_2_17_x86_64.manylinux2014_x86_64.whl.metadata (12 kB)\n",
            "Requirement already satisfied: aiohappyeyeballs>=2.5.0 in /usr/local/lib/python3.11/dist-packages (from aiohttp<4.0.0,>=3.8.3->langchain_community==0.3.27->-r /content/Agentic_KAG/requirements.txt (line 4)) (2.6.1)\n",
            "Requirement already satisfied: aiosignal>=1.4.0 in /usr/local/lib/python3.11/dist-packages (from aiohttp<4.0.0,>=3.8.3->langchain_community==0.3.27->-r /content/Agentic_KAG/requirements.txt (line 4)) (1.4.0)\n",
            "Requirement already satisfied: attrs>=17.3.0 in /usr/local/lib/python3.11/dist-packages (from aiohttp<4.0.0,>=3.8.3->langchain_community==0.3.27->-r /content/Agentic_KAG/requirements.txt (line 4)) (25.3.0)\n",
            "Requirement already satisfied: frozenlist>=1.1.1 in /usr/local/lib/python3.11/dist-packages (from aiohttp<4.0.0,>=3.8.3->langchain_community==0.3.27->-r /content/Agentic_KAG/requirements.txt (line 4)) (1.7.0)\n",
            "Requirement already satisfied: multidict<7.0,>=4.5 in /usr/local/lib/python3.11/dist-packages (from aiohttp<4.0.0,>=3.8.3->langchain_community==0.3.27->-r /content/Agentic_KAG/requirements.txt (line 4)) (6.6.3)\n",
            "Requirement already satisfied: propcache>=0.2.0 in /usr/local/lib/python3.11/dist-packages (from aiohttp<4.0.0,>=3.8.3->langchain_community==0.3.27->-r /content/Agentic_KAG/requirements.txt (line 4)) (0.3.2)\n",
            "Requirement already satisfied: yarl<2.0,>=1.17.0 in /usr/local/lib/python3.11/dist-packages (from aiohttp<4.0.0,>=3.8.3->langchain_community==0.3.27->-r /content/Agentic_KAG/requirements.txt (line 4)) (1.20.1)\n",
            "Requirement already satisfied: pyproject_hooks in /usr/local/lib/python3.11/dist-packages (from build>=1.0.3->chromadb==1.0.15->-r /content/Agentic_KAG/requirements.txt (line 6)) (1.2.0)\n",
            "Collecting marshmallow<4.0.0,>=3.18.0 (from dataclasses-json<0.7,>=0.5.7->langchain_community==0.3.27->-r /content/Agentic_KAG/requirements.txt (line 4))\n",
            "  Downloading marshmallow-3.26.1-py3-none-any.whl.metadata (7.3 kB)\n",
            "Collecting typing-inspect<1,>=0.4.0 (from dataclasses-json<0.7,>=0.5.7->langchain_community==0.3.27->-r /content/Agentic_KAG/requirements.txt (line 4))\n",
            "  Downloading typing_inspect-0.9.0-py3-none-any.whl.metadata (1.5 kB)\n",
            "Requirement already satisfied: httpcore==1.* in /usr/local/lib/python3.11/dist-packages (from httpx<1,>=0.23.0->openai==1.97.1->-r /content/Agentic_KAG/requirements.txt (line 1)) (1.0.9)\n",
            "Requirement already satisfied: h11>=0.16 in /usr/local/lib/python3.11/dist-packages (from httpcore==1.*->httpx<1,>=0.23.0->openai==1.97.1->-r /content/Agentic_KAG/requirements.txt (line 1)) (0.16.0)\n",
            "Requirement already satisfied: jsonpointer>=1.9 in /usr/local/lib/python3.11/dist-packages (from jsonpatch<2.0,>=1.33->langchain_core==0.3.72->-r /content/Agentic_KAG/requirements.txt (line 5)) (3.0.0)\n",
            "Requirement already satisfied: jsonschema-specifications>=2023.03.6 in /usr/local/lib/python3.11/dist-packages (from jsonschema>=4.19.0->chromadb==1.0.15->-r /content/Agentic_KAG/requirements.txt (line 6)) (2025.4.1)\n",
            "Requirement already satisfied: referencing>=0.28.4 in /usr/local/lib/python3.11/dist-packages (from jsonschema>=4.19.0->chromadb==1.0.15->-r /content/Agentic_KAG/requirements.txt (line 6)) (0.36.2)\n",
            "Requirement already satisfied: rpds-py>=0.7.1 in /usr/local/lib/python3.11/dist-packages (from jsonschema>=4.19.0->chromadb==1.0.15->-r /content/Agentic_KAG/requirements.txt (line 6)) (0.26.0)\n",
            "Requirement already satisfied: six>=1.9.0 in /usr/local/lib/python3.11/dist-packages (from kubernetes>=28.1.0->chromadb==1.0.15->-r /content/Agentic_KAG/requirements.txt (line 6)) (1.17.0)\n",
            "Requirement already satisfied: python-dateutil>=2.5.3 in /usr/local/lib/python3.11/dist-packages (from kubernetes>=28.1.0->chromadb==1.0.15->-r /content/Agentic_KAG/requirements.txt (line 6)) (2.9.0.post0)\n",
            "Requirement already satisfied: google-auth>=1.0.1 in /usr/local/lib/python3.11/dist-packages (from kubernetes>=28.1.0->chromadb==1.0.15->-r /content/Agentic_KAG/requirements.txt (line 6)) (2.38.0)\n",
            "Requirement already satisfied: websocket-client!=0.40.0,!=0.41.*,!=0.42.*,>=0.32.0 in /usr/local/lib/python3.11/dist-packages (from kubernetes>=28.1.0->chromadb==1.0.15->-r /content/Agentic_KAG/requirements.txt (line 6)) (1.8.0)\n",
            "Requirement already satisfied: requests-oauthlib in /usr/local/lib/python3.11/dist-packages (from kubernetes>=28.1.0->chromadb==1.0.15->-r /content/Agentic_KAG/requirements.txt (line 6)) (2.0.0)\n",
            "Requirement already satisfied: oauthlib>=3.2.2 in /usr/local/lib/python3.11/dist-packages (from kubernetes>=28.1.0->chromadb==1.0.15->-r /content/Agentic_KAG/requirements.txt (line 6)) (3.3.1)\n",
            "Collecting durationpy>=0.7 (from kubernetes>=28.1.0->chromadb==1.0.15->-r /content/Agentic_KAG/requirements.txt (line 6))\n",
            "  Downloading durationpy-0.10-py3-none-any.whl.metadata (340 bytes)\n",
            "Requirement already satisfied: langchain-text-splitters<1.0.0,>=0.3.9 in /usr/local/lib/python3.11/dist-packages (from langchain<1.0.0,>=0.3.26->langchain_community==0.3.27->-r /content/Agentic_KAG/requirements.txt (line 4)) (0.3.9)\n",
            "Requirement already satisfied: requests-toolbelt<2.0.0,>=1.0.0 in /usr/local/lib/python3.11/dist-packages (from langsmith>=0.1.125->langchain_community==0.3.27->-r /content/Agentic_KAG/requirements.txt (line 4)) (1.0.0)\n",
            "Requirement already satisfied: zstandard<0.24.0,>=0.23.0 in /usr/local/lib/python3.11/dist-packages (from langsmith>=0.1.125->langchain_community==0.3.27->-r /content/Agentic_KAG/requirements.txt (line 4)) (0.23.0)\n",
            "Collecting coloredlogs (from onnxruntime>=1.14.1->chromadb==1.0.15->-r /content/Agentic_KAG/requirements.txt (line 6))\n",
            "  Downloading coloredlogs-15.0.1-py2.py3-none-any.whl.metadata (12 kB)\n",
            "Requirement already satisfied: flatbuffers in /usr/local/lib/python3.11/dist-packages (from onnxruntime>=1.14.1->chromadb==1.0.15->-r /content/Agentic_KAG/requirements.txt (line 6)) (25.2.10)\n",
            "Requirement already satisfied: protobuf in /usr/local/lib/python3.11/dist-packages (from onnxruntime>=1.14.1->chromadb==1.0.15->-r /content/Agentic_KAG/requirements.txt (line 6)) (5.29.5)\n",
            "Requirement already satisfied: sympy in /usr/local/lib/python3.11/dist-packages (from onnxruntime>=1.14.1->chromadb==1.0.15->-r /content/Agentic_KAG/requirements.txt (line 6)) (1.13.1)\n",
            "Requirement already satisfied: importlib-metadata<8.8.0,>=6.0 in /usr/local/lib/python3.11/dist-packages (from opentelemetry-api>=1.2.0->chromadb==1.0.15->-r /content/Agentic_KAG/requirements.txt (line 6)) (8.7.0)\n",
            "Requirement already satisfied: googleapis-common-protos~=1.57 in /usr/local/lib/python3.11/dist-packages (from opentelemetry-exporter-otlp-proto-grpc>=1.2.0->chromadb==1.0.15->-r /content/Agentic_KAG/requirements.txt (line 6)) (1.70.0)\n",
            "Collecting opentelemetry-exporter-otlp-proto-common==1.36.0 (from opentelemetry-exporter-otlp-proto-grpc>=1.2.0->chromadb==1.0.15->-r /content/Agentic_KAG/requirements.txt (line 6))\n",
            "  Downloading opentelemetry_exporter_otlp_proto_common-1.36.0-py3-none-any.whl.metadata (1.8 kB)\n",
            "Collecting opentelemetry-proto==1.36.0 (from opentelemetry-exporter-otlp-proto-grpc>=1.2.0->chromadb==1.0.15->-r /content/Agentic_KAG/requirements.txt (line 6))\n",
            "  Downloading opentelemetry_proto-1.36.0-py3-none-any.whl.metadata (2.3 kB)\n",
            "Collecting opentelemetry-semantic-conventions==0.57b0 (from opentelemetry-sdk>=1.2.0->chromadb==1.0.15->-r /content/Agentic_KAG/requirements.txt (line 6))\n",
            "  Downloading opentelemetry_semantic_conventions-0.57b0-py3-none-any.whl.metadata (2.4 kB)\n",
            "Collecting backoff>=1.10.0 (from posthog<6.0.0,>=2.4.0->chromadb==1.0.15->-r /content/Agentic_KAG/requirements.txt (line 6))\n",
            "  Downloading backoff-2.2.1-py3-none-any.whl.metadata (14 kB)\n",
            "Requirement already satisfied: annotated-types>=0.6.0 in /usr/local/lib/python3.11/dist-packages (from pydantic<3,>=1.9.0->openai==1.97.1->-r /content/Agentic_KAG/requirements.txt (line 1)) (0.7.0)\n",
            "Requirement already satisfied: pydantic-core==2.33.2 in /usr/local/lib/python3.11/dist-packages (from pydantic<3,>=1.9.0->openai==1.97.1->-r /content/Agentic_KAG/requirements.txt (line 1)) (2.33.2)\n",
            "Requirement already satisfied: typing-inspection>=0.4.0 in /usr/local/lib/python3.11/dist-packages (from pydantic<3,>=1.9.0->openai==1.97.1->-r /content/Agentic_KAG/requirements.txt (line 1)) (0.4.1)\n",
            "Requirement already satisfied: markdown-it-py>=2.2.0 in /usr/local/lib/python3.11/dist-packages (from rich>=10.11.0->chromadb==1.0.15->-r /content/Agentic_KAG/requirements.txt (line 6)) (3.0.0)\n",
            "Requirement already satisfied: pygments<3.0.0,>=2.13.0 in /usr/local/lib/python3.11/dist-packages (from rich>=10.11.0->chromadb==1.0.15->-r /content/Agentic_KAG/requirements.txt (line 6)) (2.19.2)\n",
            "Requirement already satisfied: greenlet>=1 in /usr/local/lib/python3.11/dist-packages (from SQLAlchemy<3,>=1.4->langchain_community==0.3.27->-r /content/Agentic_KAG/requirements.txt (line 4)) (3.2.3)\n",
            "Requirement already satisfied: regex>=2022.1.18 in /usr/local/lib/python3.11/dist-packages (from tiktoken<1,>=0.7->langchain_openai==0.3.28->-r /content/Agentic_KAG/requirements.txt (line 3)) (2024.11.6)\n",
            "Requirement already satisfied: huggingface-hub<1.0,>=0.16.4 in /usr/local/lib/python3.11/dist-packages (from tokenizers>=0.13.2->chromadb==1.0.15->-r /content/Agentic_KAG/requirements.txt (line 6)) (0.34.1)\n",
            "Requirement already satisfied: click>=8.0.0 in /usr/local/lib/python3.11/dist-packages (from typer>=0.9.0->chromadb==1.0.15->-r /content/Agentic_KAG/requirements.txt (line 6)) (8.2.1)\n",
            "Requirement already satisfied: shellingham>=1.3.0 in /usr/local/lib/python3.11/dist-packages (from typer>=0.9.0->chromadb==1.0.15->-r /content/Agentic_KAG/requirements.txt (line 6)) (1.5.4)\n",
            "Collecting httptools>=0.6.3 (from uvicorn[standard]>=0.18.3->chromadb==1.0.15->-r /content/Agentic_KAG/requirements.txt (line 6))\n",
            "  Downloading httptools-0.6.4-cp311-cp311-manylinux_2_5_x86_64.manylinux1_x86_64.manylinux_2_17_x86_64.manylinux2014_x86_64.whl.metadata (3.6 kB)\n",
            "Collecting uvloop>=0.15.1 (from uvicorn[standard]>=0.18.3->chromadb==1.0.15->-r /content/Agentic_KAG/requirements.txt (line 6))\n",
            "  Downloading uvloop-0.21.0-cp311-cp311-manylinux_2_17_x86_64.manylinux2014_x86_64.whl.metadata (4.9 kB)\n",
            "Collecting watchfiles>=0.13 (from uvicorn[standard]>=0.18.3->chromadb==1.0.15->-r /content/Agentic_KAG/requirements.txt (line 6))\n",
            "  Downloading watchfiles-1.1.0-cp311-cp311-manylinux_2_17_x86_64.manylinux2014_x86_64.whl.metadata (4.9 kB)\n",
            "Requirement already satisfied: websockets>=10.4 in /usr/local/lib/python3.11/dist-packages (from uvicorn[standard]>=0.18.3->chromadb==1.0.15->-r /content/Agentic_KAG/requirements.txt (line 6)) (15.0.1)\n",
            "Requirement already satisfied: cachetools<6.0,>=2.0.0 in /usr/local/lib/python3.11/dist-packages (from google-auth>=1.0.1->kubernetes>=28.1.0->chromadb==1.0.15->-r /content/Agentic_KAG/requirements.txt (line 6)) (5.5.2)\n",
            "Requirement already satisfied: pyasn1-modules>=0.2.1 in /usr/local/lib/python3.11/dist-packages (from google-auth>=1.0.1->kubernetes>=28.1.0->chromadb==1.0.15->-r /content/Agentic_KAG/requirements.txt (line 6)) (0.4.2)\n",
            "Requirement already satisfied: rsa<5,>=3.1.4 in /usr/local/lib/python3.11/dist-packages (from google-auth>=1.0.1->kubernetes>=28.1.0->chromadb==1.0.15->-r /content/Agentic_KAG/requirements.txt (line 6)) (4.9.1)\n",
            "Requirement already satisfied: filelock in /usr/local/lib/python3.11/dist-packages (from huggingface-hub<1.0,>=0.16.4->tokenizers>=0.13.2->chromadb==1.0.15->-r /content/Agentic_KAG/requirements.txt (line 6)) (3.18.0)\n",
            "Requirement already satisfied: hf-xet<2.0.0,>=1.1.3 in /usr/local/lib/python3.11/dist-packages (from huggingface-hub<1.0,>=0.16.4->tokenizers>=0.13.2->chromadb==1.0.15->-r /content/Agentic_KAG/requirements.txt (line 6)) (1.1.5)\n",
            "Requirement already satisfied: zipp>=3.20 in /usr/local/lib/python3.11/dist-packages (from importlib-metadata<8.8.0,>=6.0->opentelemetry-api>=1.2.0->chromadb==1.0.15->-r /content/Agentic_KAG/requirements.txt (line 6)) (3.23.0)\n",
            "Requirement already satisfied: mdurl~=0.1 in /usr/local/lib/python3.11/dist-packages (from markdown-it-py>=2.2.0->rich>=10.11.0->chromadb==1.0.15->-r /content/Agentic_KAG/requirements.txt (line 6)) (0.1.2)\n",
            "Collecting mypy-extensions>=0.3.0 (from typing-inspect<1,>=0.4.0->dataclasses-json<0.7,>=0.5.7->langchain_community==0.3.27->-r /content/Agentic_KAG/requirements.txt (line 4))\n",
            "  Downloading mypy_extensions-1.1.0-py3-none-any.whl.metadata (1.1 kB)\n",
            "Collecting humanfriendly>=9.1 (from coloredlogs->onnxruntime>=1.14.1->chromadb==1.0.15->-r /content/Agentic_KAG/requirements.txt (line 6))\n",
            "  Downloading humanfriendly-10.0-py2.py3-none-any.whl.metadata (9.2 kB)\n",
            "Requirement already satisfied: mpmath<1.4,>=1.1.0 in /usr/local/lib/python3.11/dist-packages (from sympy->onnxruntime>=1.14.1->chromadb==1.0.15->-r /content/Agentic_KAG/requirements.txt (line 6)) (1.3.0)\n",
            "Requirement already satisfied: pyasn1<0.7.0,>=0.6.1 in /usr/local/lib/python3.11/dist-packages (from pyasn1-modules>=0.2.1->google-auth>=1.0.1->kubernetes>=28.1.0->chromadb==1.0.15->-r /content/Agentic_KAG/requirements.txt (line 6)) (0.6.1)\n",
            "Downloading python_dotenv-1.1.1-py3-none-any.whl (20 kB)\n",
            "Downloading langchain_openai-0.3.28-py3-none-any.whl (70 kB)\n",
            "\u001b[2K   \u001b[90m━━━━━━━━━━━━━━━━━━━━━━━━━━━━━━━━━━━━━━━━\u001b[0m \u001b[32m70.6/70.6 kB\u001b[0m \u001b[31m4.7 MB/s\u001b[0m eta \u001b[36m0:00:00\u001b[0m\n",
            "\u001b[?25hDownloading langchain_community-0.3.27-py3-none-any.whl (2.5 MB)\n",
            "\u001b[2K   \u001b[90m━━━━━━━━━━━━━━━━━━━━━━━━━━━━━━━━━━━━━━━━\u001b[0m \u001b[32m2.5/2.5 MB\u001b[0m \u001b[31m33.9 MB/s\u001b[0m eta \u001b[36m0:00:00\u001b[0m\n",
            "\u001b[?25hDownloading chromadb-1.0.15-cp39-abi3-manylinux_2_17_x86_64.manylinux2014_x86_64.whl (19.5 MB)\n",
            "\u001b[2K   \u001b[90m━━━━━━━━━━━━━━━━━━━━━━━━━━━━━━━━━━━━━━━━\u001b[0m \u001b[32m19.5/19.5 MB\u001b[0m \u001b[31m85.8 MB/s\u001b[0m eta \u001b[36m0:00:00\u001b[0m\n",
            "\u001b[?25hDownloading neo4j-5.28.2-py3-none-any.whl (313 kB)\n",
            "\u001b[2K   \u001b[90m━━━━━━━━━━━━━━━━━━━━━━━━━━━━━━━━━━━━━━━━\u001b[0m \u001b[32m313.2/313.2 kB\u001b[0m \u001b[31m18.0 MB/s\u001b[0m eta \u001b[36m0:00:00\u001b[0m\n",
            "\u001b[?25hDownloading neo4j_graphrag-1.8.0-py3-none-any.whl (189 kB)\n",
            "\u001b[2K   \u001b[90m━━━━━━━━━━━━━━━━━━━━━━━━━━━━━━━━━━━━━━━━\u001b[0m \u001b[32m189.7/189.7 kB\u001b[0m \u001b[31m11.5 MB/s\u001b[0m eta \u001b[36m0:00:00\u001b[0m\n",
            "\u001b[?25hDownloading html2text-2025.4.15-py3-none-any.whl (34 kB)\n",
            "Downloading bcrypt-4.3.0-cp39-abi3-manylinux_2_34_x86_64.whl (284 kB)\n",
            "\u001b[2K   \u001b[90m━━━━━━━━━━━━━━━━━━━━━━━━━━━━━━━━━━━━━━━━\u001b[0m \u001b[32m284.2/284.2 kB\u001b[0m \u001b[31m18.1 MB/s\u001b[0m eta \u001b[36m0:00:00\u001b[0m\n",
            "\u001b[?25hDownloading dataclasses_json-0.6.7-py3-none-any.whl (28 kB)\n",
            "Downloading fsspec-2024.12.0-py3-none-any.whl (183 kB)\n",
            "\u001b[2K   \u001b[90m━━━━━━━━━━━━━━━━━━━━━━━━━━━━━━━━━━━━━━━━\u001b[0m \u001b[32m183.9/183.9 kB\u001b[0m \u001b[31m13.0 MB/s\u001b[0m eta \u001b[36m0:00:00\u001b[0m\n",
            "\u001b[?25hDownloading httpx_sse-0.4.1-py3-none-any.whl (8.1 kB)\n",
            "Downloading json_repair-0.39.1-py3-none-any.whl (20 kB)\n",
            "Downloading kubernetes-33.1.0-py2.py3-none-any.whl (1.9 MB)\n",
            "\u001b[2K   \u001b[90m━━━━━━━━━━━━━━━━━━━━━━━━━━━━━━━━━━━━━━━━\u001b[0m \u001b[32m1.9/1.9 MB\u001b[0m \u001b[31m66.5 MB/s\u001b[0m eta \u001b[36m0:00:00\u001b[0m\n",
            "\u001b[?25hDownloading mmh3-5.2.0-cp311-cp311-manylinux1_x86_64.manylinux_2_28_x86_64.manylinux_2_5_x86_64.whl (103 kB)\n",
            "\u001b[2K   \u001b[90m━━━━━━━━━━━━━━━━━━━━━━━━━━━━━━━━━━━━━━━━\u001b[0m \u001b[32m103.1/103.1 kB\u001b[0m \u001b[31m6.9 MB/s\u001b[0m eta \u001b[36m0:00:00\u001b[0m\n",
            "\u001b[?25hDownloading onnxruntime-1.22.1-cp311-cp311-manylinux_2_27_x86_64.manylinux_2_28_x86_64.whl (16.5 MB)\n",
            "\u001b[2K   \u001b[90m━━━━━━━━━━━━━━━━━━━━━━━━━━━━━━━━━━━━━━━━\u001b[0m \u001b[32m16.5/16.5 MB\u001b[0m \u001b[31m77.4 MB/s\u001b[0m eta \u001b[36m0:00:00\u001b[0m\n",
            "\u001b[?25hDownloading opentelemetry_api-1.36.0-py3-none-any.whl (65 kB)\n",
            "\u001b[2K   \u001b[90m━━━━━━━━━━━━━━━━━━━━━━━━━━━━━━━━━━━━━━━━\u001b[0m \u001b[32m65.6/65.6 kB\u001b[0m \u001b[31m4.5 MB/s\u001b[0m eta \u001b[36m0:00:00\u001b[0m\n",
            "\u001b[?25hDownloading opentelemetry_exporter_otlp_proto_grpc-1.36.0-py3-none-any.whl (18 kB)\n",
            "Downloading opentelemetry_exporter_otlp_proto_common-1.36.0-py3-none-any.whl (18 kB)\n",
            "Downloading opentelemetry_proto-1.36.0-py3-none-any.whl (72 kB)\n",
            "\u001b[2K   \u001b[90m━━━━━━━━━━━━━━━━━━━━━━━━━━━━━━━━━━━━━━━━\u001b[0m \u001b[32m72.5/72.5 kB\u001b[0m \u001b[31m5.0 MB/s\u001b[0m eta \u001b[36m0:00:00\u001b[0m\n",
            "\u001b[?25hDownloading opentelemetry_sdk-1.36.0-py3-none-any.whl (119 kB)\n",
            "\u001b[2K   \u001b[90m━━━━━━━━━━━━━━━━━━━━━━━━━━━━━━━━━━━━━━━━\u001b[0m \u001b[32m120.0/120.0 kB\u001b[0m \u001b[31m8.0 MB/s\u001b[0m eta \u001b[36m0:00:00\u001b[0m\n",
            "\u001b[?25hDownloading opentelemetry_semantic_conventions-0.57b0-py3-none-any.whl (201 kB)\n",
            "\u001b[2K   \u001b[90m━━━━━━━━━━━━━━━━━━━━━━━━━━━━━━━━━━━━━━━━\u001b[0m \u001b[32m201.6/201.6 kB\u001b[0m \u001b[31m12.3 MB/s\u001b[0m eta \u001b[36m0:00:00\u001b[0m\n",
            "\u001b[?25hDownloading overrides-7.7.0-py3-none-any.whl (17 kB)\n",
            "Downloading posthog-5.4.0-py3-none-any.whl (105 kB)\n",
            "\u001b[2K   \u001b[90m━━━━━━━━━━━━━━━━━━━━━━━━━━━━━━━━━━━━━━━━\u001b[0m \u001b[32m105.4/105.4 kB\u001b[0m \u001b[31m6.5 MB/s\u001b[0m eta \u001b[36m0:00:00\u001b[0m\n",
            "\u001b[?25hDownloading pybase64-1.4.2-cp311-cp311-manylinux1_x86_64.manylinux2014_x86_64.manylinux_2_17_x86_64.manylinux_2_5_x86_64.whl (71 kB)\n",
            "\u001b[2K   \u001b[90m━━━━━━━━━━━━━━━━━━━━━━━━━━━━━━━━━━━━━━━━\u001b[0m \u001b[32m71.4/71.4 kB\u001b[0m \u001b[31m4.5 MB/s\u001b[0m eta \u001b[36m0:00:00\u001b[0m\n",
            "\u001b[?25hDownloading pydantic_settings-2.10.1-py3-none-any.whl (45 kB)\n",
            "\u001b[2K   \u001b[90m━━━━━━━━━━━━━━━━━━━━━━━━━━━━━━━━━━━━━━━━\u001b[0m \u001b[32m45.2/45.2 kB\u001b[0m \u001b[31m2.4 MB/s\u001b[0m eta \u001b[36m0:00:00\u001b[0m\n",
            "\u001b[?25hDownloading pypdf-5.9.0-py3-none-any.whl (313 kB)\n",
            "\u001b[2K   \u001b[90m━━━━━━━━━━━━━━━━━━━━━━━━━━━━━━━━━━━━━━━━\u001b[0m \u001b[32m313.2/313.2 kB\u001b[0m \u001b[31m17.5 MB/s\u001b[0m eta \u001b[36m0:00:00\u001b[0m\n",
            "\u001b[?25hDownloading rapidfuzz-3.13.0-cp311-cp311-manylinux_2_17_x86_64.manylinux2014_x86_64.whl (3.1 MB)\n",
            "\u001b[2K   \u001b[90m━━━━━━━━━━━━━━━━━━━━━━━━━━━━━━━━━━━━━━━━\u001b[0m \u001b[32m3.1/3.1 MB\u001b[0m \u001b[31m78.3 MB/s\u001b[0m eta \u001b[36m0:00:00\u001b[0m\n",
            "\u001b[?25hDownloading types_pyyaml-6.0.12.20250516-py3-none-any.whl (20 kB)\n",
            "Downloading backoff-2.2.1-py3-none-any.whl (15 kB)\n",
            "Downloading durationpy-0.10-py3-none-any.whl (3.9 kB)\n",
            "Downloading httptools-0.6.4-cp311-cp311-manylinux_2_5_x86_64.manylinux1_x86_64.manylinux_2_17_x86_64.manylinux2014_x86_64.whl (459 kB)\n",
            "\u001b[2K   \u001b[90m━━━━━━━━━━━━━━━━━━━━━━━━━━━━━━━━━━━━━━━━\u001b[0m \u001b[32m459.8/459.8 kB\u001b[0m \u001b[31m24.3 MB/s\u001b[0m eta \u001b[36m0:00:00\u001b[0m\n",
            "\u001b[?25hDownloading marshmallow-3.26.1-py3-none-any.whl (50 kB)\n",
            "\u001b[2K   \u001b[90m━━━━━━━━━━━━━━━━━━━━━━━━━━━━━━━━━━━━━━━━\u001b[0m \u001b[32m50.9/50.9 kB\u001b[0m \u001b[31m3.1 MB/s\u001b[0m eta \u001b[36m0:00:00\u001b[0m\n",
            "\u001b[?25hDownloading typing_inspect-0.9.0-py3-none-any.whl (8.8 kB)\n",
            "Downloading uvloop-0.21.0-cp311-cp311-manylinux_2_17_x86_64.manylinux2014_x86_64.whl (4.0 MB)\n",
            "\u001b[2K   \u001b[90m━━━━━━━━━━━━━━━━━━━━━━━━━━━━━━━━━━━━━━━━\u001b[0m \u001b[32m4.0/4.0 MB\u001b[0m \u001b[31m66.4 MB/s\u001b[0m eta \u001b[36m0:00:00\u001b[0m\n",
            "\u001b[?25hDownloading watchfiles-1.1.0-cp311-cp311-manylinux_2_17_x86_64.manylinux2014_x86_64.whl (453 kB)\n",
            "\u001b[2K   \u001b[90m━━━━━━━━━━━━━━━━━━━━━━━━━━━━━━━━━━━━━━━━\u001b[0m \u001b[32m453.1/453.1 kB\u001b[0m \u001b[31m19.4 MB/s\u001b[0m eta \u001b[36m0:00:00\u001b[0m\n",
            "\u001b[?25hDownloading coloredlogs-15.0.1-py2.py3-none-any.whl (46 kB)\n",
            "\u001b[2K   \u001b[90m━━━━━━━━━━━━━━━━━━━━━━━━━━━━━━━━━━━━━━━━\u001b[0m \u001b[32m46.0/46.0 kB\u001b[0m \u001b[31m2.7 MB/s\u001b[0m eta \u001b[36m0:00:00\u001b[0m\n",
            "\u001b[?25hDownloading humanfriendly-10.0-py2.py3-none-any.whl (86 kB)\n",
            "\u001b[2K   \u001b[90m━━━━━━━━━━━━━━━━━━━━━━━━━━━━━━━━━━━━━━━━\u001b[0m \u001b[32m86.8/86.8 kB\u001b[0m \u001b[31m5.1 MB/s\u001b[0m eta \u001b[36m0:00:00\u001b[0m\n",
            "\u001b[?25hDownloading mypy_extensions-1.1.0-py3-none-any.whl (5.0 kB)\n",
            "Building wheels for collected packages: pypika\n",
            "  Building wheel for pypika (pyproject.toml) ... \u001b[?25l\u001b[?25hdone\n",
            "  Created wheel for pypika: filename=pypika-0.48.9-py2.py3-none-any.whl size=53803 sha256=849bd7a4514d04272d693cf8c5e5bc75ccd84e202fa5637b0732e8d06aa4f514\n",
            "  Stored in directory: /root/.cache/pip/wheels/a3/01/bd/4c40ceb9d5354160cb186dcc153360f4ab7eb23e2b24daf96d\n",
            "Successfully built pypika\n",
            "Installing collected packages: pypika, durationpy, uvloop, types-pyyaml, rapidfuzz, python-dotenv, pypdf, pybase64, overrides, opentelemetry-proto, neo4j, mypy-extensions, mmh3, marshmallow, json-repair, humanfriendly, httpx-sse, httptools, html2text, fsspec, bcrypt, backoff, watchfiles, typing-inspect, posthog, opentelemetry-exporter-otlp-proto-common, opentelemetry-api, coloredlogs, pydantic-settings, opentelemetry-semantic-conventions, onnxruntime, neo4j-graphrag, kubernetes, dataclasses-json, opentelemetry-sdk, opentelemetry-exporter-otlp-proto-grpc, langchain_openai, chromadb, langchain_community\n",
            "  Attempting uninstall: fsspec\n",
            "    Found existing installation: fsspec 2025.3.0\n",
            "    Uninstalling fsspec-2025.3.0:\n",
            "      Successfully uninstalled fsspec-2025.3.0\n",
            "\u001b[31mERROR: pip's dependency resolver does not currently take into account all the packages that are installed. This behaviour is the source of the following dependency conflicts.\n",
            "gcsfs 2025.3.0 requires fsspec==2025.3.0, but you have fsspec 2024.12.0 which is incompatible.\n",
            "torch 2.6.0+cu124 requires nvidia-cublas-cu12==12.4.5.8; platform_system == \"Linux\" and platform_machine == \"x86_64\", but you have nvidia-cublas-cu12 12.5.3.2 which is incompatible.\n",
            "torch 2.6.0+cu124 requires nvidia-cuda-cupti-cu12==12.4.127; platform_system == \"Linux\" and platform_machine == \"x86_64\", but you have nvidia-cuda-cupti-cu12 12.5.82 which is incompatible.\n",
            "torch 2.6.0+cu124 requires nvidia-cuda-nvrtc-cu12==12.4.127; platform_system == \"Linux\" and platform_machine == \"x86_64\", but you have nvidia-cuda-nvrtc-cu12 12.5.82 which is incompatible.\n",
            "torch 2.6.0+cu124 requires nvidia-cuda-runtime-cu12==12.4.127; platform_system == \"Linux\" and platform_machine == \"x86_64\", but you have nvidia-cuda-runtime-cu12 12.5.82 which is incompatible.\n",
            "torch 2.6.0+cu124 requires nvidia-cudnn-cu12==9.1.0.70; platform_system == \"Linux\" and platform_machine == \"x86_64\", but you have nvidia-cudnn-cu12 9.3.0.75 which is incompatible.\n",
            "torch 2.6.0+cu124 requires nvidia-cufft-cu12==11.2.1.3; platform_system == \"Linux\" and platform_machine == \"x86_64\", but you have nvidia-cufft-cu12 11.2.3.61 which is incompatible.\n",
            "torch 2.6.0+cu124 requires nvidia-curand-cu12==10.3.5.147; platform_system == \"Linux\" and platform_machine == \"x86_64\", but you have nvidia-curand-cu12 10.3.6.82 which is incompatible.\n",
            "torch 2.6.0+cu124 requires nvidia-cusolver-cu12==11.6.1.9; platform_system == \"Linux\" and platform_machine == \"x86_64\", but you have nvidia-cusolver-cu12 11.6.3.83 which is incompatible.\n",
            "torch 2.6.0+cu124 requires nvidia-cusparse-cu12==12.3.1.170; platform_system == \"Linux\" and platform_machine == \"x86_64\", but you have nvidia-cusparse-cu12 12.5.1.3 which is incompatible.\n",
            "torch 2.6.0+cu124 requires nvidia-nvjitlink-cu12==12.4.127; platform_system == \"Linux\" and platform_machine == \"x86_64\", but you have nvidia-nvjitlink-cu12 12.5.82 which is incompatible.\u001b[0m\u001b[31m\n",
            "\u001b[0mSuccessfully installed backoff-2.2.1 bcrypt-4.3.0 chromadb-1.0.15 coloredlogs-15.0.1 dataclasses-json-0.6.7 durationpy-0.10 fsspec-2024.12.0 html2text-2025.4.15 httptools-0.6.4 httpx-sse-0.4.1 humanfriendly-10.0 json-repair-0.39.1 kubernetes-33.1.0 langchain_community-0.3.27 langchain_openai-0.3.28 marshmallow-3.26.1 mmh3-5.2.0 mypy-extensions-1.1.0 neo4j-5.28.2 neo4j-graphrag-1.8.0 onnxruntime-1.22.1 opentelemetry-api-1.36.0 opentelemetry-exporter-otlp-proto-common-1.36.0 opentelemetry-exporter-otlp-proto-grpc-1.36.0 opentelemetry-proto-1.36.0 opentelemetry-sdk-1.36.0 opentelemetry-semantic-conventions-0.57b0 overrides-7.7.0 posthog-5.4.0 pybase64-1.4.2 pydantic-settings-2.10.1 pypdf-5.9.0 pypika-0.48.9 python-dotenv-1.1.1 rapidfuzz-3.13.0 types-pyyaml-6.0.12.20250516 typing-inspect-0.9.0 uvloop-0.21.0 watchfiles-1.1.0\n"
          ]
        }
      ]
    },
    {
      "cell_type": "markdown",
      "source": [
        "## Load credentials from .env"
      ],
      "metadata": {
        "id": "yVHjyNXsNevP"
      }
    },
    {
      "cell_type": "code",
      "source": [
        "os.chdir('/content/Agentic_KAG/')\n",
        "\n",
        "from dotenv import load_dotenv\n",
        "import prompts\n",
        "import os\n",
        "\n",
        "load_dotenv()  # This loads .env at project root\n",
        "\n",
        "NEO4J_URI = os.getenv('NEO4J_URI')\n",
        "NEO4J_USERNAME = os.getenv('NEO4J_USERNAME')\n",
        "NEO4J_PASSWORD = os.getenv('NEO4J_PASSWORD')\n",
        "OPENAI_API_KEY = os.getenv('OPENAI_API_KEY')\n",
        "\n",
        "# Set OPENAI_API_KEY as env variable for openai/neo4j-graphrag compatibility\n",
        "os.environ[\"OPENAI_API_KEY\"] = OPENAI_API_KEY"
      ],
      "metadata": {
        "id": "oU_Bak6ZNhKe"
      },
      "execution_count": 12,
      "outputs": []
    },
    {
      "cell_type": "markdown",
      "source": [
        "## Initialize the Neo4j Driver\n",
        "The Neo4j driver allows you to connect and perform read and write transactions with the database."
      ],
      "metadata": {
        "id": "By3HKzenNuBI"
      }
    },
    {
      "cell_type": "code",
      "source": [
        "from neo4j import GraphDatabase\n",
        "\n",
        "driver = GraphDatabase.driver(\n",
        "    NEO4J_URI,\n",
        "    auth=(NEO4J_USERNAME, NEO4J_PASSWORD)\n",
        ")\n",
        "\n",
        "# (Optional) Test the connection\n",
        "driver.verify_connectivity()"
      ],
      "metadata": {
        "id": "QfQtxfS0NudH"
      },
      "execution_count": 13,
      "outputs": []
    },
    {
      "cell_type": "markdown",
      "source": [
        "## Initialize OpenAI LLM and Embeddings via neo4j-graphrag\n",
        "We will use OpenAI **GPT-4.1**. The GraphRAG Python package supports any LLM model, including models from OpenAI, Google VertexAI, Anthropic, Cohere, Azure OpenAI, local Ollama models, and any chat model that works with LangChain. You can also implement a custom interface for any other LLM.\n",
        "\n",
        "Likewise, we will use OpenAI’s **text-embedding-3-small** for the embedding model, but you can use other embedders from different providers."
      ],
      "metadata": {
        "id": "71ErZz2mNyiu"
      }
    },
    {
      "cell_type": "code",
      "source": [
        "from neo4j_graphrag.llm import OpenAILLM\n",
        "from neo4j_graphrag.embeddings import OpenAIEmbeddings\n",
        "\n",
        "llm = OpenAILLM(\n",
        "    model_name=\"gpt-4.1\",\n",
        "    model_params={\"temperature\": 0}\n",
        ")\n",
        "\n",
        "json_llm = OpenAILLM(\n",
        "    model_name=\"gpt-4.1\",\n",
        "    model_params={\"temperature\": 0,\n",
        "                  \"response_format\": {\"type\": \"json_object\"}\n",
        "                  }\n",
        ")\n",
        "\n",
        "embedder = OpenAIEmbeddings(\n",
        "    model=\"text-embedding-3-small\"\n",
        ")"
      ],
      "metadata": {
        "id": "b3eaWt8PN2D-"
      },
      "execution_count": 14,
      "outputs": []
    },
    {
      "cell_type": "markdown",
      "source": [
        "We will also initialize langchain llm to use for community detection & Summarization"
      ],
      "metadata": {
        "id": "wVWn66j1b6aO"
      }
    },
    {
      "cell_type": "code",
      "source": [
        "from langchain_openai import ChatOpenAI\n",
        "\n",
        "# Initialize OpenAI LLM using LangChain\n",
        "lang_llm = ChatOpenAI(openai_api_key=OPENAI_API_KEY, model_name=\"gpt-4.1\", temperature=0)"
      ],
      "metadata": {
        "id": "MdXxKHAyb4M4"
      },
      "execution_count": 15,
      "outputs": []
    },
    {
      "cell_type": "markdown",
      "source": [
        "## Pipeline Structure\n",
        "A Knowledge Graph (KG) construction pipeline requires a few components (some of the below components are optional):\n",
        "\n",
        "**Data loader:** extract text from files (PDFs, …).\n",
        "\n",
        "**Text splitter:** split the text into smaller pieces of text (chunks), manageable by the LLM context window (token limit).\n",
        "\n",
        "**Chunk embedder (optional):** compute the chunk embeddings.\n",
        "\n",
        "**Schema builder:** provide a schema to ground the LLM extracted node and relationship types and obtain an easily navigable KG. Schema can be provided manually or extracted automatically using LLMs.\n",
        "\n",
        "**Lexical graph builder:** build the lexical graph (Document, Chunk and their relationships) (optional).\n",
        "\n",
        "**Entity and relation extractor:** extract relevant entities and relations from the text.\n",
        "\n",
        "**Graph pruner:** clean the graph based on schema, if provided.\n",
        "\n",
        "**Knowledge Graph writer:** save the identified entities and relations.\n",
        "\n",
        "**Entity resolver:** merge similar entities into a single node.\n",
        "\n",
        "![image.png](data:image/png;base64,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)"
      ],
      "metadata": {
        "id": "pZN8EsTZ4cli"
      }
    },
    {
      "cell_type": "markdown",
      "source": [
        "# Creating Components\n",
        "Components are asynchronous units of work that perform simple tasks, such as chunking documents or saving results to Neo4j. This package includes a few default components, but developers can create their own custom components as well."
      ],
      "metadata": {
        "id": "tpeGXKl34pMl"
      }
    },
    {
      "cell_type": "markdown",
      "source": [
        "## 1. Data Loader\n",
        "Data loaders start from a file path and return the text extracted from the input file.\n",
        "This package currently supports text extraction from PDFs:"
      ],
      "metadata": {
        "id": "wjEsOyG48lvZ"
      }
    },
    {
      "cell_type": "code",
      "source": [
        "# from pathlib import Path\n",
        "# from neo4j_graphrag.experimental.components.pdf_loader import PdfLoader\n",
        "\n",
        "# loader = PdfLoader()\n",
        "# await loader.run(path=Path(\"my_file.pdf\"))"
      ],
      "metadata": {
        "id": "PM5azXDSAfW_"
      },
      "execution_count": 16,
      "outputs": []
    },
    {
      "cell_type": "markdown",
      "source": [
        "We are implementing our own loader, using the DataLoader interface\n",
        "\n",
        "Here, we are extracting the crawled text from a saved pickle file."
      ],
      "metadata": {
        "id": "6zV6HxkmAgOS"
      }
    },
    {
      "cell_type": "code",
      "source": [
        "from neo4j_graphrag.experimental.components.pdf_loader import DataLoader, PdfDocument\n",
        "from pathlib import Path\n",
        "import pickle\n",
        "\n",
        "class PickleDataLoader(DataLoader):\n",
        "    async def run(self, path: Path) -> PdfDocument:\n",
        "        with open(path, \"rb\") as f:\n",
        "            page_data = pickle.load(f)    # list of dicts\n",
        "        return PdfDocument(\n",
        "            text=str(page_data),\n",
        "            document_info={\"path\": \"page_data.pkl\"} # Include the path here\n",
        "        )\n",
        "\n",
        "loader = PickleDataLoader()\n",
        "# page_data = await loader.run(Path(\"page_data.pkl\"))"
      ],
      "metadata": {
        "id": "PWEcXL488p3v"
      },
      "execution_count": 17,
      "outputs": []
    },
    {
      "cell_type": "markdown",
      "source": [
        "## 2. Custom Text Splitter\n",
        "Document splitters, as the name indicate, split documents into smaller chunks that can be processed within the LLM token limits."
      ],
      "metadata": {
        "id": "IGWp2kGf86l_"
      }
    },
    {
      "cell_type": "code",
      "source": [
        "import ast\n",
        "from urllib.parse import urlparse\n",
        "from neo4j_graphrag.experimental.components.text_splitters.base import TextSplitter\n",
        "from neo4j_graphrag.experimental.components.types import TextChunks, TextChunk, PdfDocument # Import PdfDocument\n",
        "\n",
        "def extract_section_from_url(url: str) -> str:\n",
        "    path = urlparse(url).path\n",
        "    parts = [p for p in path.strip(\"/\").split(\"/\") if p]\n",
        "\n",
        "    if \"datahacksummit-2025\" in parts:\n",
        "        parts.remove(\"datahacksummit-2025\")\n",
        "\n",
        "    if parts:\n",
        "        return parts[0].replace(\"-\", \" \").title()\n",
        "    else:\n",
        "        return \"Overview\"\n",
        "\n",
        "\n",
        "class MyCustomTextSplitter(TextSplitter):\n",
        "    def __init__(self, dataset_name: str = \"AV Data Hack Summit\"):\n",
        "        self.dataset_name = dataset_name\n",
        "\n",
        "    async def run(self, page_data: PdfDocument) -> TextChunks: # Type hint for clarity\n",
        "        # Access the text attribute of the PdfDocument and apply ast.literal_eval\n",
        "        #list_data = ast.literal_eval(page_data.text)\n",
        "        list_data = ast.literal_eval(page_data[\"text\"] if isinstance(page_data, dict) else page_data.text)\n",
        "        chunks = []\n",
        "        for i, entry in enumerate(list_data): # Iterate over the list_data\n",
        "            section = extract_section_from_url(entry[\"url\"])\n",
        "            chunk = TextChunk(\n",
        "                index=i,\n",
        "                text=entry[\"content\"],\n",
        "                metadata={\n",
        "                    \"url\": entry[\"url\"],\n",
        "                    \"section\": section,\n",
        "                    \"dataset\": self.dataset_name\n",
        "                }\n",
        "            )\n",
        "            chunks.append(chunk)\n",
        "        return TextChunks(chunks=chunks)\n",
        "\n",
        "\n",
        "splitter = MyCustomTextSplitter()\n",
        "# The example usage below is now commented out or needs adjustment\n",
        "# text_chunks = await splitter.run(ast.literal_eval(page_data.text))"
      ],
      "metadata": {
        "id": "-YpCXgqw89j2"
      },
      "execution_count": 18,
      "outputs": []
    },
    {
      "cell_type": "markdown",
      "source": [
        "## 3. Chunk Embedder\n",
        "In order to embed the chunks’ texts (to be used in vector search RAG), one can use the TextChunkEmbedder component, which rely on the Embedder interface."
      ],
      "metadata": {
        "id": "K6TCLDwe_YHk"
      }
    },
    {
      "cell_type": "code",
      "source": [
        "from neo4j_graphrag.experimental.components.embedder import TextChunkEmbedder\n",
        "\n",
        "text_chunk_embedder = TextChunkEmbedder(embedder=embedder)\n",
        "\n",
        "# embeddings = await text_chunk_embedder.run(text_chunks=splits)"
      ],
      "metadata": {
        "id": "Ad2KdPbd_aWx"
      },
      "execution_count": 19,
      "outputs": []
    },
    {
      "cell_type": "markdown",
      "source": [
        "## 4. Schema Builder\n",
        "The schema is used to try and ground the LLM to a list of possible node and relationship types of interest. So far, schema must be manually created by specifying:\n",
        "\n",
        "\n",
        "*   Node types the LLM should look for in the text, including their properties (name and type).\n",
        "*   Relationship types of interest between these node types, including the relationship properties (name and type)\n",
        "*   Patterns (triplets) to define the start (source) and end (target) entity types for each relationship.\n",
        "\n",
        "\n",
        "Here is a code block illustrating these concepts:"
      ],
      "metadata": {
        "id": "zJ5cuLeW_f8H"
      }
    },
    {
      "cell_type": "code",
      "source": [
        "from neo4j_graphrag.experimental.components.schema import (\n",
        "    SchemaBuilder,\n",
        "    NodeType,\n",
        "    PropertyType,\n",
        "    RelationshipType,\n",
        ")\n",
        "\n",
        "schema_builder = SchemaBuilder()\n",
        "\n",
        "node_types = [\n",
        "    NodeType(\n",
        "        label=\"Person\",\n",
        "        description=\"An individual participating in the conference — attendee, speaker, presenter, or facilitator.\",\n",
        "        properties=[\n",
        "            {\"name\": \"name\", \"type\": \"STRING\"},\n",
        "            {\"name\": \"organization\", \"type\": \"STRING\"},\n",
        "            {\"name\": \"designation\", \"type\": \"STRING\"},\n",
        "            {\"name\": \"bio\", \"type\": \"STRING\"},\n",
        "            {\"name\": \"linkedin_url\", \"type\": \"STRING\"},\n",
        "            {\"name\": \"role\", \"type\": \"STRING\"},\n",
        "            {\"name\": \"awards\", \"type\": \"LIST\"},\n",
        "            {\"name\": \"is_speaker\", \"type\": \"BOOLEAN\"},\n",
        "        ],\n",
        "    ),\n",
        "    NodeType(\n",
        "        label=\"Workshop\",\n",
        "        description=\"A hands-on technical session conducted during the summit.\",\n",
        "        properties=[\n",
        "            {\"name\": \"title\", \"type\": \"STRING\"},\n",
        "            {\"name\": \"description\", \"type\": \"STRING\"},\n",
        "            {\"name\": \"instructor\", \"type\": \"STRING\"},\n",
        "            {\"name\": \"start_time\", \"type\": \"STRING\"},\n",
        "            {\"name\": \"duration\", \"type\": \"STRING\"},\n",
        "            {\"name\": \"level\", \"type\": \"STRING\"},\n",
        "            {\"name\": \"prerequisites\", \"type\": \"LIST\"},\n",
        "            {\"name\": \"tools_used\", \"type\": \"LIST\"},\n",
        "        ],\n",
        "    ),\n",
        "    NodeType(\n",
        "        label=\"Session\",\n",
        "        description=\"A presentation or talk delivered during the conference.\",\n",
        "        properties=[\n",
        "            {\"name\": \"title\", \"type\": \"STRING\", \"description\": \"The title of the session.\"},\n",
        "            {\"name\": \"description\", \"type\": \"STRING\", \"description\": \"A summary or abstract of the session.\"},\n",
        "            {\"name\": \"type\", \"type\": \"STRING\",\"description\": \"The format of the session, e.g., Keynote, Hack Session, PowerTalk.\"},\n",
        "            {\"name\": \"theme\", \"type\": \"STRING\", \"description\": \"The main topic or track the session belongs to.\"},\n",
        "            {\"name\": \"tools_discussed\", \"type\": \"LIST\", \"description\": \"A list of tools or technologies discussed during the session.\"},\n",
        "            {\"name\": \"level\", \"type\": \"STRING\", \"description\": \"Intended experience level of the audience, e.g., beginner, intermediate, advanced.\"},\n",
        "        ],\n",
        "    ),\n",
        "    NodeType(\n",
        "        label=\"Award\",\n",
        "        description=\"Awards given to recognize outstanding contributions or achievements.\",\n",
        "        properties=[\n",
        "            {\"name\": \"title\", \"type\": \"STRING\"},\n",
        "            {\"name\": \"year\", \"type\": \"INTEGER\"},\n",
        "        ],\n",
        "    ),\n",
        "    NodeType(\n",
        "        label=\"Sponsor\",\n",
        "        description=\"An organization providing financial or logistical support for the conference.\",\n",
        "        properties=[\n",
        "            {\"name\": \"name\", \"type\": \"STRING\"},\n",
        "            {\"name\": \"level\", \"type\": \"STRING\"},\n",
        "        ],\n",
        "    ),\n",
        "    NodeType(\n",
        "        label=\"Company\",\n",
        "        description=\"A business or organization affiliated with a person or sponsoring the summit.\",\n",
        "        properties=[\n",
        "            {\"name\": \"name\", \"type\": \"STRING\"},\n",
        "            {\"name\": \"industry\", \"type\": \"STRING\"},\n",
        "            {\"name\": \"website\", \"type\": \"STRING\"},\n",
        "        ],\n",
        "    ),\n",
        "    NodeType(\n",
        "        label=\"University\",\n",
        "        description=\"A higher education institution.\",\n",
        "        properties=[\n",
        "           {\"name\": \"name\", \"type\": \"STRING\"},\n",
        "        ],\n",
        "        ),\n",
        "    NodeType(\n",
        "        label=\"Conference\",\n",
        "        description=\"The DataHack Summit event as a whole.\",\n",
        "        properties=[\n",
        "            {\"name\": \"name\", \"type\": \"STRING\"},\n",
        "            {\"name\": \"year\", \"type\": \"INTEGER\"},\n",
        "            {\"name\": \"location\", \"type\": \"STRING\"},\n",
        "            {\"name\": \"theme\", \"type\": \"STRING\"},\n",
        "        ],\n",
        "    ),\n",
        "    NodeType(\n",
        "        label=\"Tool\",\n",
        "        description=\"AI/ML software, framework, or platform used during sessions or workshops.\",\n",
        "        properties=[\n",
        "            {\"name\": \"name\", \"type\": \"STRING\"},\n",
        "            {\"name\": \"type\", \"type\": \"STRING\"},\n",
        "        ],\n",
        "    ),\n",
        "    NodeType(\n",
        "        label=\"Topic\",\n",
        "        description=\"A subject area covered in a session or workshop (e.g., Agentic RAG, LLMs).\",\n",
        "        properties=[\n",
        "            {\"name\": \"name\", \"type\": \"STRING\"},\n",
        "        ],\n",
        "    ),\n",
        "]\n",
        "\n",
        "relationship_types = [\n",
        "    RelationshipType(\n",
        "        label=\"SPONSORS\",\n",
        "        description=\"Sponsor supports the Conference or Award.\",\n",
        "        properties=[\n",
        "            {\"name\": \"description\", \"type\": \"STRING\", \"description\": \"Describes the relationship between the Sponsor (source) and the Conference or Award (target).\"}\n",
        "        ]\n",
        "    ),\n",
        "    RelationshipType(\n",
        "        label=\"PRESENTS\",\n",
        "        description=\"Person presents a Session.\",\n",
        "        properties=[\n",
        "            {\"name\": \"description\", \"type\": \"STRING\", \"description\": \"Describes the relationship between the Person (source) and Session (target).\"}\n",
        "        ]\n",
        "    ),\n",
        "    RelationshipType(\n",
        "        label=\"CONDUCTS\",\n",
        "        description=\"Person conducts a Workshop.\",\n",
        "        properties=[\n",
        "            {\"name\": \"description\", \"type\": \"STRING\", \"description\": \"Describes the relationship between the Person (source) and Workshop (target).\"}\n",
        "        ]\n",
        "    ),\n",
        "    RelationshipType(\n",
        "        label=\"ATTENDS\",\n",
        "        description=\"Person attends a Session or Workshop.\",\n",
        "        properties=[\n",
        "            {\"name\": \"description\", \"type\": \"STRING\", \"description\": \"Describes the relationship between the Person (source) and Session/Workshop (target).\"}\n",
        "        ]\n",
        "    ),\n",
        "    RelationshipType(\n",
        "        label=\"HOSTS\",\n",
        "        description=\"Conference hosts a Session or Workshop.\",\n",
        "        properties=[\n",
        "            {\"name\": \"description\", \"type\": \"STRING\", \"description\": \"Describes the relationship between the Conference (source) and Session/Workshop (target).\"}\n",
        "        ]\n",
        "    ),\n",
        "    RelationshipType(\n",
        "        label=\"WINS\",\n",
        "        description=\"Person wins an Award.\",\n",
        "        properties=[\n",
        "            {\"name\": \"description\", \"type\": \"STRING\", \"description\": \"Describes the relationship between the Person (source) and Award (target).\"}\n",
        "        ]\n",
        "    ),\n",
        "    RelationshipType(\n",
        "        label=\"NOMINATES\",\n",
        "        description=\"Person nominates someone for an Award.\",\n",
        "        properties=[\n",
        "            {\"name\": \"description\", \"type\": \"STRING\", \"description\": \"Describes the relationship between the Person (source) and Award/nominee (target).\"}\n",
        "        ]\n",
        "    ),\n",
        "    RelationshipType(\n",
        "        label=\"FEATURES\",\n",
        "        description=\"Conference features an Award.\",\n",
        "        properties=[\n",
        "            {\"name\": \"description\", \"type\": \"STRING\", \"description\": \"Describes the relationship between the Conference (source) and Award (target).\"}\n",
        "        ]\n",
        "    ),\n",
        "    RelationshipType(\n",
        "        label=\"WORKS_FOR\",\n",
        "        description=\"Person is employed by a Company.\",\n",
        "        properties=[\n",
        "            {\"name\": \"description\", \"type\": \"STRING\", \"description\": \"Describes the relationship between the Person (source) and Company (target).\"}\n",
        "        ]\n",
        "    ),\n",
        "    RelationshipType(\n",
        "        label=\"PARTICIPATES_IN\",\n",
        "        description=\"Person is a participant in the Conference.\",\n",
        "        properties=[\n",
        "            {\"name\": \"description\", \"type\": \"STRING\", \"description\": \"Describes the relationship between the Person (source) and Conference (target).\"}\n",
        "        ]\n",
        "    ),\n",
        "    RelationshipType(\n",
        "        label=\"USES\",\n",
        "        description=\"Workshop or Session uses a Tool.\",\n",
        "        properties=[\n",
        "            {\"name\": \"description\", \"type\": \"STRING\", \"description\": \"Describes the relationship between the Workshop/Session (source) and Tool (target).\"}\n",
        "        ]\n",
        "    ),\n",
        "    RelationshipType(\n",
        "        label=\"COVERS\",\n",
        "        description=\"Session or Workshop covers a Topic.\",\n",
        "        properties=[\n",
        "            {\"name\": \"description\", \"type\": \"STRING\", \"description\": \"Describes the relationship between the Session/Workshop (source) and Topic (target).\"}\n",
        "        ]\n",
        "    ),\n",
        "    RelationshipType(\n",
        "        label=\"AFFILIATED_WITH\",\n",
        "        description=\"Person is affiliated with a University mentioned in their bio or context.\",\n",
        "        properties=[\n",
        "            {\"name\": \"description\", \"type\": \"STRING\", \"description\": \"Describes the nature of the affiliation.\"}\n",
        "        ]\n",
        "    ),\n",
        "\n",
        "]\n",
        "\n",
        "\n",
        "patterns = [\n",
        "    (\"Sponsor\", \"SPONSORS\", \"Conference\"),\n",
        "    (\"Sponsor\", \"SPONSORS\", \"Award\"),\n",
        "    (\"Person\", \"WORKS_FOR\", \"Company\"),\n",
        "    (\"Person\", \"PRESENTS\", \"Session\"),\n",
        "    (\"Person\", \"CONDUCTS\", \"Workshop\"),\n",
        "    (\"Person\", \"ATTENDS\", \"Workshop\"),\n",
        "    (\"Person\", \"ATTENDS\", \"Session\"),\n",
        "    (\"Person\", \"WINS\", \"Award\"),\n",
        "    (\"Person\", \"NOMINATES\", \"Award\"),\n",
        "    (\"Person\", \"PARTICIPATES_IN\", \"Conference\"),\n",
        "    (\"Conference\", \"HOSTS\", \"Workshop\"),\n",
        "    (\"Conference\", \"HOSTS\", \"Session\"),\n",
        "    (\"Conference\", \"FEATURES\", \"Award\"),\n",
        "    (\"Session\", \"USES\", \"Tool\"),\n",
        "    (\"Session\", \"COVERS\", \"Topic\"),\n",
        "    (\"Workshop\", \"USES\", \"Tool\"),\n",
        "    (\"Workshop\", \"COVERS\", \"Topic\"),\n",
        "    (\"Person\", \"AFFILIATED_WITH\", \"University\"),\n",
        "\n",
        "]"
      ],
      "metadata": {
        "id": "xzev9C8HB7In"
      },
      "execution_count": 20,
      "outputs": []
    },
    {
      "cell_type": "markdown",
      "source": [
        "**Automatic Schema Extraction**\n",
        "\n",
        "Instead of manually defining the schema, you can use the SchemaFromTextExtractor component to automatically extract a schema from your text using an LLM:"
      ],
      "metadata": {
        "id": "th4_VtwsCzZO"
      }
    },
    {
      "cell_type": "code",
      "source": [
        "# # Automatic Schema extraction\n",
        "# from neo4j_graphrag.experimental.components.schema import SchemaFromTextExtractor\n",
        "# from neo4j_graphrag.generation.prompts import PromptTemplate\n",
        "\n",
        "# # Define a stricter prompt template that forces clean JSON output\n",
        "# custom_prompt = \"\"\"\n",
        "# You are an expert in knowledge graph schema design.\n",
        "\n",
        "# Given the following unstructured text, extract a schema in the following strict JSON format:\n",
        "\n",
        "# {{\n",
        "#   \"node_types\": [\n",
        "#     {{\"name\": \"EntityLabel\", \"properties\": [\"prop1\", \"prop2\"]}}\n",
        "#   ],\n",
        "#   \"relationship_types\": [\n",
        "#     {{\"type\": \"RELATES_TO\", \"from\": \"EntityLabel\", \"to\": \"OtherEntity\"}}\n",
        "#   ]\n",
        "# }}\n",
        "# #\n",
        "# # Rules:\n",
        "# # - Respond ONLY with the JSON object above, populated with real values.\n",
        "# # - Do NOT include Markdown formatting (like ```), comments, or explanation.\n",
        "# #\n",
        "# # Text:\n",
        "# # {text}\n",
        "# # \"\"\"\n",
        "\n",
        "# # Instantiate the automatic schema extractor component\n",
        "# schema_extractor = SchemaFromTextExtractor(\n",
        "#     llm=llm,\n",
        "#     #prompt_template = PromptTemplate(template=custom_prompt)\n",
        "# )\n",
        "\n",
        "# # Convert TextChunks → single string\n",
        "# full_text = \"\\n\\n\".join(chunk.text for chunk in text_chunks.chunks)\n",
        "\n",
        "# # Extract the schema from the text\n",
        "# extracted_schema = await schema_extractor.run(text=full_text)\n",
        "\n",
        "# # View result\n",
        "# from pprint import pprint\n",
        "# pprint(extracted_schema.dict(), depth=4)"
      ],
      "metadata": {
        "id": "3TJLSkLf_mIZ"
      },
      "execution_count": 21,
      "outputs": []
    },
    {
      "cell_type": "markdown",
      "source": [
        "## 5. Lexical graph builder\n",
        "\n",
        "Once the chunks are extracted and embedded (if required), a graph can be created.\n",
        "\n",
        "The lexical graph contains:\n",
        "\n",
        "*   Document node: represent the processed document and have a path property.\n",
        "*   Chunk nodes: represent the text chunks. They have a text property and, if computed, an embedding property.\n",
        "*   NEXT_CHUNK relationships between one chunk node and the next one in the document. It can be used to enhance the context in a RAG application.\n",
        "*   FROM_DOCUMENT relationship between each chunk and the document it was built from.\n",
        "\n"
      ],
      "metadata": {
        "id": "kQX3ZFKHD8Fk"
      }
    },
    {
      "cell_type": "code",
      "source": [
        "# from neo4j_graphrag.experimental.pipeline.components.lexical_graph_builder import LexicalGraphBuilder\n",
        "# from neo4j_graphrag.experimental.pipeline.components.types import LexicalGraphConfig\n",
        "\n",
        "# lexical_graph_builder = LexicalGraphBuilder(config=LexicalGraphConfig())\n",
        "# graph = await lexical_graph_builder.run(\n",
        "#     text_chunks=TextChunks(chunks=[\n",
        "#         TextChunk(text=\"some text\", index=0),\n",
        "#         TextChunk(text=\"some text\", index=1),\n",
        "#     ]),\n",
        "#     document_info=DocumentInfo(path=\"my_document.pdf\"),\n",
        "# )"
      ],
      "metadata": {
        "id": "lptIxZljD_H8"
      },
      "execution_count": null,
      "outputs": []
    },
    {
      "cell_type": "markdown",
      "source": [
        "## 6. Entity and Relation Extractor\n",
        "This component is responsible for extracting the relevant entities and relationships from each text chunk, using the schema as guideline.\n",
        "\n",
        "This package contains an LLM-based entity and relationships extractor: LLMEntityRelationExtractor. It can be used in this way:"
      ],
      "metadata": {
        "id": "cBx_t-_nEhyl"
      }
    },
    {
      "cell_type": "code",
      "source": [
        "from neo4j_graphrag.experimental.components.entity_relation_extractor import (\n",
        "    LLMEntityRelationExtractor,\n",
        "    OnError,\n",
        ")\n",
        "\n",
        "\n",
        "entity_extractor = LLMEntityRelationExtractor(\n",
        "    llm=llm,\n",
        "    on_error=OnError.RAISE,\n",
        "    create_lexical_graph=False,\n",
        "    prompt_template=prompts.ENTITY_RELATION_EXTRACTOR_PROMPT,\n",
        ")\n",
        "\n",
        "#await entity_extractor.run(chunks=text_chunks, schema=extracted_schema)"
      ],
      "metadata": {
        "id": "0Axbj-mmEtmB"
      },
      "execution_count": 22,
      "outputs": []
    },
    {
      "cell_type": "markdown",
      "source": [
        "## 7. Entity Resolver\n",
        "\n",
        "The KG Writer component creates new nodes for each identified entity without making assumptions about entity similarity. The Entity Resolver is responsible for refining the created knowledge graph by merging entity nodes that represent the same real-world object.\n",
        "\n",
        "In practice, this package implements three resolvers:\n",
        "\n",
        "- a simple resolver that merges nodes with the same label and identical “name” property;\n",
        "\n",
        "- two similarity-based resolvers that merge nodes with the same label and similar set of textual properties (by default they use the “name” property):\n",
        "\n",
        "    -a semantic match resolver, which is based on spaCy embeddings and cosine similarities of embedding vectors. This resolver is ideal for higher quality KG resolution using static embeddings.\n",
        "\n",
        "    -a fuzzy match resolver, which is based on RapidFuzz for Rapid fuzzy string matching using the Levenshtein Distance. This resolver offers faster ingestion speeds by using string similarity measures, at the potential cost of resolution precision."
      ],
      "metadata": {
        "id": "xiwt5y3xE2cA"
      }
    },
    {
      "cell_type": "code",
      "source": [
        "from neo4j_graphrag.experimental.components.resolver import FuzzyMatchResolver\n",
        "\n",
        "resolver = FuzzyMatchResolver(driver)  # fuzzy match with RapidFuzz\n",
        "\n",
        "#res = await resolver.run()"
      ],
      "metadata": {
        "id": "3EvDH8GMFJyG"
      },
      "execution_count": 23,
      "outputs": []
    },
    {
      "cell_type": "markdown",
      "source": [
        "## 8. Graph Pruner\n",
        " Standard Usage: Pruner Is Automatic via Schema\n",
        "The graph pruner is usually invoked automatically based on your schema enforcement settings. When building your pipeline with either SimpleKGPipeline or a custom Pipeline, you do not need to add a separate graph pruner component. Instead:\n",
        "\n",
        "Specify your schema (node types, relationship types, patterns, required properties, etc.), either as a dictionary or GraphSchema object.\n",
        "\n",
        "The pipeline uses this schema for extraction and pruning at the correct stage.\n",
        "\n",
        "— The graph pruner will run automatically after extraction, pruning any nodes or relationships that do not match your schema (including missing required properties)."
      ],
      "metadata": {
        "id": "-npRw5jcWvw4"
      }
    },
    {
      "cell_type": "markdown",
      "source": [
        "## 9. KG Writer\n",
        "KG writer are used to save the results of the EntityRelationExtractor. The main implementation is the Neo4jWriter that will write nodes and relationships to a Neo4j database:"
      ],
      "metadata": {
        "id": "9avbwbUdXvnC"
      }
    },
    {
      "cell_type": "code",
      "source": [
        "from neo4j_graphrag.experimental.components.kg_writer import Neo4jWriter\n",
        "\n",
        "eg_writer = Neo4jWriter(\n",
        "        driver,\n",
        "        # optionally, configure the neo4j database\n",
        "        # neo4j_database=\"neo4j\",\n",
        "        # you can tune batch_size to\n",
        "        # improve speed\n",
        "        # batch_size=1000,\n",
        "    )\n",
        "#result = await writer.run(graph=graph)"
      ],
      "metadata": {
        "id": "ygdn6SNuXi3E"
      },
      "execution_count": 24,
      "outputs": []
    },
    {
      "cell_type": "markdown",
      "source": [
        "# Custom Components"
      ],
      "metadata": {
        "id": "q8dvAQhPYar4"
      }
    },
    {
      "cell_type": "markdown",
      "source": [
        "## 10. Custom Deduplication Component"
      ],
      "metadata": {
        "id": "qzorppq330bp"
      }
    },
    {
      "cell_type": "code",
      "source": [
        "from neo4j_graphrag.experimental.pipeline import Component, DataModel\n",
        "\n",
        "class Neo4jWorkshopDedupResult(DataModel):\n",
        "    merged_count: int\n",
        "    updated_count: int\n",
        "\n",
        "class Neo4jWorkshopMergeAndDeduplicate(Component):\n",
        "    \"\"\"\n",
        "    Merges duplicate Workshop nodes (by title) and deduplicates all array properties.\n",
        "    \"\"\"\n",
        "\n",
        "    def __init__(self, driver):\n",
        "        self.driver = driver\n",
        "\n",
        "    def merge_duplicates(self) -> int:\n",
        "        \"\"\"\n",
        "        Merges Workshop nodes with the same title, combining properties and relationships.\n",
        "        Returns the number of merge operations done.\n",
        "        \"\"\"\n",
        "        merge_query = \"\"\"\n",
        "        MATCH (n:Workshop)\n",
        "        WITH n.title AS title, collect(n) AS nodes\n",
        "        WHERE size(nodes) > 1\n",
        "        CALL apoc.refactor.mergeNodes(nodes, {properties: 'combine', mergeRels: true}) YIELD node\n",
        "        RETURN count(node) AS merged_count\n",
        "        \"\"\"\n",
        "        with self.driver.session() as session:\n",
        "            result = session.run(merge_query)\n",
        "            merged = result.single()[\"merged_count\"]\n",
        "        return merged\n",
        "\n",
        "    def get_array_properties(self):\n",
        "        \"\"\"\n",
        "        Finds all properties of Workshop nodes that are arrays/lists.\n",
        "        Returns a list of property names.\n",
        "        \"\"\"\n",
        "        query = \"\"\"\n",
        "        CALL db.schema.nodeTypeProperties()\n",
        "        YIELD nodeType, propertyName, propertyTypes\n",
        "        WHERE nodeType = \":Workshop\" AND ANY(type IN propertyTypes WHERE type = \"LIST\" OR type = \"ARRAY\")\n",
        "        RETURN propertyName\n",
        "        \"\"\"\n",
        "        with self.driver.session() as session:\n",
        "            result = session.run(query)\n",
        "            return [record[\"propertyName\"] for record in result]\n",
        "\n",
        "    def deduplicate_arrays(self, properties=None) -> int:\n",
        "        \"\"\"\n",
        "        Deduplicates all listed array properties for all Workshop nodes.\n",
        "        Returns the total count of property updates made.\n",
        "        \"\"\"\n",
        "        if properties is None:\n",
        "            properties = self.get_array_properties()\n",
        "        cypher_template = \"\"\"\n",
        "        MATCH (w:Workshop)\n",
        "        WHERE w.{prop} IS NOT NULL\n",
        "        SET w.{prop} = [x IN w.{prop} WHERE x IS NOT NULL]\n",
        "        WITH w\n",
        "        SET w.{prop} = REDUCE(s = [], v IN w.{prop} | CASE WHEN v IN s THEN s ELSE s + [v] END)\n",
        "        \"\"\"\n",
        "        updated_total = 0\n",
        "        with self.driver.session() as session:\n",
        "            for prop in properties:\n",
        "                result = session.run(cypher_template.format(prop=prop))\n",
        "                updated_total += result.consume().counters.properties_set\n",
        "        return updated_total\n",
        "\n",
        "    async def run(self) -> Neo4jWorkshopDedupResult:\n",
        "        # Step 1: Merge duplicate nodes\n",
        "        merged = self.merge_duplicates()\n",
        "        print(f\"Merged {merged} duplicate Workshop nodes.\")\n",
        "        # Step 2: Deduplicate all array properties\n",
        "        array_props = self.get_array_properties()\n",
        "        if not array_props:\n",
        "            print(\"No array properties detected on Workshop nodes.\")\n",
        "            updated = 0\n",
        "        else:\n",
        "            print(\"Deduplicating properties:\", array_props)\n",
        "            updated = self.deduplicate_arrays(array_props)\n",
        "            print(f\"Deduplication complete. Updated count: {updated}\")\n",
        "        return Neo4jWorkshopDedupResult(merged_count=merged, updated_count=updated)\n",
        "\n",
        "# Example usage in a pipeline:\n",
        "dedup_processor = Neo4jWorkshopMergeAndDeduplicate(driver)\n",
        "#result = dedup_processor.run()"
      ],
      "metadata": {
        "id": "HJJHx1X030rs"
      },
      "execution_count": 25,
      "outputs": []
    },
    {
      "cell_type": "markdown",
      "source": [
        "## 11. Entity Embedder"
      ],
      "metadata": {
        "id": "2q0aRqWcYkOJ"
      }
    },
    {
      "cell_type": "code",
      "source": [
        "class EmbedEntityResult(DataModel):\n",
        "    updated_count: int\n",
        "\n",
        "class EntityTextEmbedder(Component):\n",
        "    def __init__(self, driver, label=\"__Entity__\", embedder=None):\n",
        "        self.driver = driver\n",
        "        self.label = label\n",
        "        self.embedder = embedder\n",
        "\n",
        "    async def run(self) -> EmbedEntityResult:\n",
        "        updated = 0\n",
        "        with self.driver.session() as session:\n",
        "            result = session.run(\n",
        "                f\"MATCH (e:`{self.label}`) RETURN elementId(e) AS id, properties(e) AS props\"\n",
        "            )\n",
        "            for record in result:\n",
        "                node_id = record[\"id\"]\n",
        "                props = record[\"props\"]\n",
        "                str_props = {k: v for k, v in props.items() if isinstance(v, str)}\n",
        "                if not str_props:\n",
        "                    continue\n",
        "                prop_name, text = max(str_props.items(), key=lambda item: len(item[1]))\n",
        "                embedding = self.embedder.embed_query(text)\n",
        "                session.run(\n",
        "                    \"\"\"\n",
        "                    MATCH (e)\n",
        "                    WHERE elementId(e) = $id\n",
        "                    SET e.embedding = $embedding\n",
        "                    \"\"\", id=node_id, embedding=embedding\n",
        "                )\n",
        "                updated += 1\n",
        "        return EmbedEntityResult(updated_count=updated)\n",
        "\n",
        "entity_embedder = EntityTextEmbedder(driver=driver, embedder=embedder)"
      ],
      "metadata": {
        "id": "xIxv6hPIYd47"
      },
      "execution_count": 26,
      "outputs": []
    },
    {
      "cell_type": "markdown",
      "source": [
        "## 12. Community Detection & Summarization\n",
        "\n",
        "A custom pipeline component that performs both community detection and summarization"
      ],
      "metadata": {
        "id": "Rm2vfLyCzE6K"
      }
    },
    {
      "cell_type": "code",
      "source": [
        "from tqdm import tqdm\n",
        "from typing import Dict, Any\n",
        "import cypher\n",
        "from pydantic import Field\n",
        "\n",
        "class CommunityDetectionResultModel(DataModel):\n",
        "    # You can extend this model depending on what outputs you want\n",
        "    node_communities: list = Field(default_factory=list)\n",
        "\n",
        "\n",
        "class CommunityDetectionAndSummarization(Component):\n",
        "    \"\"\"\n",
        "    A custom pipeline component that performs both community detection and summarization.\n",
        "    \"\"\"\n",
        "    def __init__(self, llm, neo4j_driver):\n",
        "      super().__init__()\n",
        "      self.llm = llm\n",
        "      self.neo4j_driver = neo4j_driver\n",
        "\n",
        "    def add_entity_id_if_missing(self):\n",
        "\n",
        "      with self.neo4j_driver.session() as session:\n",
        "          result = session.run(cypher.cypher_add_entity_id)\n",
        "          updated_count = result.single()[\"updated_count\"]\n",
        "          print(f\"Assigned entity_id to {updated_count} nodes.\")\n",
        "          self.neo4j_driver.execute_query(cypher.constraint_query)\n",
        "\n",
        "    def calculate_communities(self):\n",
        "        # Drop existing projection if it exists\n",
        "        try:\n",
        "            self.neo4j_driver.execute_query(\"CALL gds.graph.drop('communityGraph', false)\")\n",
        "        except Exception:\n",
        "            pass\n",
        "\n",
        "\n",
        "        self.neo4j_driver.execute_query(cypher.projection_query)\n",
        "\n",
        "        records, _, _ = self.neo4j_driver.execute_query(cypher.louvain_query)\n",
        "        return records[0].data()\n",
        "\n",
        "    def community_info(self):\n",
        "\n",
        "        result, _, _ = self.neo4j_driver.execute_query(cypher.community_info_query)\n",
        "        return result\n",
        "\n",
        "    def get_summarize_community_prompt(self, nodes, relationships):\n",
        "        input_text = f\"\"\"Entities\\n\\n{nodes}\\n\\nRelationships\\n\\n{relationships}\\n\"\"\"\n",
        "        return prompts.COMMUNITY_REPORT_PROMPT.format(\n",
        "            input_text=input_text,\n",
        "        )\n",
        "\n",
        "    def summarize_communities(self, community_info):\n",
        "        from langchain_core.output_parsers import JsonOutputParser\n",
        "        from langchain_core.runnables import RunnableLambda\n",
        "        json_parser = JsonOutputParser()\n",
        "        generate_prompt = RunnableLambda(\n",
        "            lambda inputs: self.get_summarize_community_prompt(inputs[\"nodes\"], inputs[\"rels\"])\n",
        "        )\n",
        "        community_chain = generate_prompt | self.llm | json_parser\n",
        "\n",
        "        communities = []\n",
        "        for community in tqdm(community_info, desc=\"Summarizing communities\"):\n",
        "            result = community_chain.invoke({\n",
        "                \"nodes\": community[\"nodes\"],\n",
        "                \"rels\": community[\"rels\"]\n",
        "            })\n",
        "            communities.append({\n",
        "                \"community\": result,\n",
        "                \"communityId\": community[\"communityId\"],\n",
        "                \"nodes\": [el[\"id\"] for el in community[\"nodes\"]],\n",
        "            })\n",
        "        return communities\n",
        "\n",
        "    def prepare_communities_for_neo4j(self, communities):\n",
        "        fixed_communities = []\n",
        "        for row in tqdm(communities, desc=\"Fixing community node format\"):\n",
        "            fixed_nodes = [\n",
        "                {\"entity_id\": nid.strip()}\n",
        "                for nid in row[\"nodes\"]\n",
        "                if nid and isinstance(nid, str) and nid.strip()\n",
        "            ]\n",
        "            fixed_communities.append({\n",
        "                \"communityId\": row[\"communityId\"],\n",
        "                \"community\": row[\"community\"],  # structured dict\n",
        "                \"nodes\": fixed_nodes,\n",
        "                \"rels\": row.get(\"rels\", [])\n",
        "            })\n",
        "        return fixed_communities\n",
        "\n",
        "    async def run(self, **kwargs) -> CommunityDetectionResultModel:\n",
        "        # Step 1: Run Louvain community detection\n",
        "        self.calculate_communities()\n",
        "\n",
        "        # Step 2: Extract community info\n",
        "        community_info = self.community_info()\n",
        "\n",
        "        # Step 3: Summarize each community\n",
        "        communities = self.summarize_communities(community_info)\n",
        "        communities_fixed = self.prepare_communities_for_neo4j(communities)\n",
        "\n",
        "        # Step 4: Ingest into Neo4j\n",
        "        self.neo4j_driver.execute_query(cypher.import_community_query, data=communities_fixed)\n",
        "\n",
        "        return CommunityDetectionResultModel(node_communities=communities_fixed)\n",
        "\n",
        "community_detector = CommunityDetectionAndSummarization(llm=lang_llm, neo4j_driver=driver)"
      ],
      "metadata": {
        "id": "hXbbnThXzINS"
      },
      "execution_count": 27,
      "outputs": []
    },
    {
      "cell_type": "markdown",
      "source": [
        "# Connecting Components within a Pipeline\n",
        "The ultimate aim of creating components is to assemble them into a complex pipeline for a specific purpose, such as building a Knowledge Graph from text data.\n",
        "\n",
        "Here’s how to create a simple pipeline and propagate results from one component to another (detailed explanations follow):"
      ],
      "metadata": {
        "id": "h6lezvR03lEX"
      }
    },
    {
      "cell_type": "code",
      "source": [
        "import asyncio\n",
        "from neo4j_graphrag.experimental.pipeline import Pipeline\n",
        "from neo4j_graphrag.experimental.components.schema import SchemaBuilder # Ensure SchemaBuilder is imported\n",
        "\n",
        "pipe = Pipeline()\n",
        "\n",
        "# ✅ Add your custom loader and splitter\n",
        "pipe.add_component(loader, \"data_loader\")\n",
        "pipe.add_component(splitter, \"text_splitter\")\n",
        "\n",
        "# ✅ Add other components\n",
        "pipe.add_component(text_chunk_embedder, \"chunk_embedder\")\n",
        "pipe.add_component(schema_builder, \"schema\") # Instantiate SchemaBuilder\n",
        "pipe.add_component(entity_extractor, \"entity_extractor\")\n",
        "pipe.add_component(resolver, \"resolver\")\n",
        "pipe.add_component(eg_writer, \"eg_writer\")\n",
        "pipe.add_component(dedup_processor, \"dedup_processor\")\n",
        "pipe.add_component(entity_embedder, \"entity_embedder\")\n",
        "pipe.add_component(community_detector, \"community_detector\")\n",
        "\n",
        "\n",
        "\n",
        "# ✅ Connect components\n",
        "# Connect the output of the data_loader (pdf_doc) to the text_splitter\n",
        "pipe.connect(\"data_loader\", \"text_splitter\", input_config={\"page_data\": \"data_loader\"})\n",
        "\n",
        "# Connect text_splitter output to chunk_embedder\n",
        "pipe.connect(\"text_splitter\", \"chunk_embedder\", input_config={\"text_chunks\": \"text_splitter\"})\n",
        "\n",
        "# Connect chunk_embedder output (chunks) to entity_extractor\n",
        "pipe.connect(\"chunk_embedder\", \"entity_extractor\", input_config={\"chunks\": \"chunk_embedder\"})\n",
        "\n",
        "# Connect schema component output to entity_extractor\n",
        "pipe.connect(\"schema\", \"entity_extractor\", input_config={\"schema\": \"schema\"})\n",
        "\n",
        "# Connect entity_extractor output (graph) to eg_writer\n",
        "pipe.connect(\"entity_extractor\", \"eg_writer\", input_config={\"graph\": \"entity_extractor\"})\n",
        "\n",
        "# Connect eg_writer output to resolver, entity_embedder, and community_detector\n",
        "pipe.connect(\"eg_writer\", \"resolver\", {}) # Resolver likely operates on the database written to by eg_writer, so no direct data passing needed here usually.\n",
        "\n",
        "pipe.connect(\"eg_writer\", \"dedup_processor\", {}) # Deduplication processor also likely operates on the database.\n",
        "\n",
        "pipe.connect(\"eg_writer\", \"entity_embedder\", {}) # Entity embedder also likely operates on the database.\n",
        "\n",
        "pipe.connect(\"eg_writer\", \"community_detector\", {}) # Community detector likely operates on the database.\n",
        "\n",
        "# ✅ Define inputs for the pipeline (will be passed to the first component, data_loader)\n",
        "pipe_inputs = {\n",
        "    \"data_loader\": {\n",
        "        \"path\": Path(\"page_data.pkl\") # Input for the data_loader\n",
        "    },\n",
        "    # Inputs for other components that don't rely on previous component outputs\n",
        "    \"schema\": {\n",
        "            \"node_types\": node_types,\n",
        "            \"relationship_types\": relationship_types,\n",
        "            \"patterns\": patterns,\n",
        "        },\n",
        "}\n",
        "\n",
        "# ✅ Run the pipeline\n",
        "await pipe.run(pipe_inputs)"
      ],
      "metadata": {
        "colab": {
          "base_uri": "https://localhost:8080/"
        },
        "id": "ZJ9hIQbf30IJ",
        "outputId": "aeb58939-d493-41fe-aad9-cbe4267a9b5f"
      },
      "execution_count": null,
      "outputs": [
        {
          "output_type": "stream",
          "name": "stdout",
          "text": [
            "Merged 10 duplicate Workshop nodes.\n"
          ]
        },
        {
          "output_type": "stream",
          "name": "stderr",
          "text": [
            "WARNING:neo4j.notifications:Received notification from DBMS server: {severity: WARNING} {code: Neo.ClientNotification.Procedure.ProcedureWarning} {category: GENERIC} {title: The query used a procedure that generated a warning.} {description: The query used a procedure that generated a warning. (The field `propertyTypes` will change output format in the next major version.)} {position: line: 2, column: 9, offset: 9} for query: '\\n        CALL db.schema.nodeTypeProperties()\\n        YIELD nodeType, propertyName, propertyTypes\\n        WHERE nodeType = \":Workshop\" AND ANY(type IN propertyTypes WHERE type = \"LIST\" OR type = \"ARRAY\")\\n        RETURN propertyName\\n        '\n"
          ]
        },
        {
          "output_type": "stream",
          "name": "stdout",
          "text": [
            "No array properties detected on Workshop nodes.\n"
          ]
        }
      ]
    }
  ]
}