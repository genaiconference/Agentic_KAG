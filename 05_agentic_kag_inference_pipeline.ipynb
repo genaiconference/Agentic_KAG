{
  "nbformat": 4,
  "nbformat_minor": 0,
  "metadata": {
    "colab": {
      "provenance": [],
      "include_colab_link": true
    },
    "kernelspec": {
      "name": "python3",
      "display_name": "Python 3"
    },
    "language_info": {
      "name": "python"
    }
  },
  "cells": [
    {
      "cell_type": "markdown",
      "metadata": {
        "id": "view-in-github",
        "colab_type": "text"
      },
      "source": [
        "<a href=\"https://colab.research.google.com/github/genaiconference/Agentic_KAG/blob/main/05_agentic_kag_inference_pipeline.ipynb\" target=\"_parent\"><img src=\"https://colab.research.google.com/assets/colab-badge.svg\" alt=\"Open In Colab\"/></a>"
      ]
    },
    {
      "cell_type": "markdown",
      "source": [
        "# Agentic KAG\n"
      ],
      "metadata": {
        "id": "-PO9upJ5mkx6"
      }
    },
    {
      "cell_type": "markdown",
      "metadata": {
        "id": "580fa1da"
      },
      "source": [
        "This notebook demonstrates the capabilities of Agentic KAG, a framework for building intelligent agents that can perform complex tasks and generate answers from Knoweldge Graphs."
      ]
    },
    {
      "cell_type": "code",
      "source": [
        "!git clone https://github.com/genaiconference/Agentic_KAG.git"
      ],
      "metadata": {
        "id": "pVtZvT2aDWjZ",
        "colab": {
          "base_uri": "https://localhost:8080/"
        },
        "outputId": "67487c4c-ef1c-498e-ff1d-929e1026a097"
      },
      "execution_count": null,
      "outputs": [
        {
          "output_type": "stream",
          "name": "stdout",
          "text": [
            "fatal: destination path 'Agentic_KAG' already exists and is not an empty directory.\n"
          ]
        }
      ]
    },
    {
      "cell_type": "markdown",
      "source": [
        "## Install Required Packages"
      ],
      "metadata": {
        "id": "r-7IZdzFNWkK"
      }
    },
    {
      "cell_type": "code",
      "source": [
        "!pip install -r /content/Agentic_KAG/requirements.txt --quiet"
      ],
      "metadata": {
        "id": "_pV6Xj-VQSuF",
        "collapsed": true
      },
      "execution_count": null,
      "outputs": []
    },
    {
      "cell_type": "markdown",
      "source": [
        "## Load credentials from .env"
      ],
      "metadata": {
        "id": "yVHjyNXsNevP"
      }
    },
    {
      "cell_type": "code",
      "source": [
        "import os\n",
        "os.chdir('/content/Agentic_KAG/')\n",
        "\n",
        "from dotenv import load_dotenv\n",
        "\n",
        "load_dotenv()  # This loads .env at project root\n",
        "\n",
        "NEO4J_URI = os.getenv('AV_NEO4J_URL')\n",
        "NEO4J_USERNAME = os.getenv('AV_NEO4J_USERNAME')\n",
        "NEO4J_PASSWORD = os.getenv('AV_NEO4J_PASSWORD')\n",
        "OPENAI_API_KEY = os.getenv('OPENAI_API_KEY')\n",
        "\n",
        "# Set OPENAI_API_KEY as env variable for openai/neo4j-graphrag compatibility\n",
        "os.environ[\"OPENAI_API_KEY\"] = OPENAI_API_KEY"
      ],
      "metadata": {
        "id": "oU_Bak6ZNhKe"
      },
      "execution_count": null,
      "outputs": []
    },
    {
      "cell_type": "markdown",
      "source": [
        "## Initialize the Neo4j Driver\n",
        "The Neo4j driver allows you to connect and perform read and write transactions with the database."
      ],
      "metadata": {
        "id": "By3HKzenNuBI"
      }
    },
    {
      "cell_type": "code",
      "source": [
        "from neo4j import GraphDatabase\n",
        "\n",
        "driver = GraphDatabase.driver(\n",
        "    NEO4J_URI,\n",
        "    auth=(NEO4J_USERNAME, NEO4J_PASSWORD)\n",
        ")\n",
        "\n",
        "# (Optional) Test the connection\n",
        "driver.verify_connectivity()"
      ],
      "metadata": {
        "id": "QfQtxfS0NudH"
      },
      "execution_count": null,
      "outputs": []
    },
    {
      "cell_type": "markdown",
      "source": [
        "## Initialize OpenAI LLM and Embeddings via neo4j-graphrag\n",
        "We will use OpenAI **GPT-4.1**. The GraphRAG Python package supports any LLM model, including models from OpenAI, Google VertexAI, Anthropic, Cohere, Azure OpenAI, local Ollama models, and any chat model that works with LangChain. You can also implement a custom interface for any other LLM.\n",
        "\n",
        "Likewise, we will use OpenAI’s **text-embedding-3-small** for the embedding model, but you can use other embedders from different providers."
      ],
      "metadata": {
        "id": "71ErZz2mNyiu"
      }
    },
    {
      "cell_type": "code",
      "source": [
        "from neo4j_graphrag.llm import OpenAILLM\n",
        "from neo4j_graphrag.embeddings import OpenAIEmbeddings\n",
        "\n",
        "llm = OpenAILLM(\n",
        "    model_name=\"gpt-4.1\",\n",
        "    model_params={\"temperature\": 0}\n",
        ")\n",
        "\n",
        "embedder = OpenAIEmbeddings(\n",
        "    model=\"text-embedding-3-small\"\n",
        ")"
      ],
      "metadata": {
        "id": "b3eaWt8PN2D-"
      },
      "execution_count": null,
      "outputs": []
    },
    {
      "cell_type": "markdown",
      "source": [
        "We will also initialize langchain llm to use for community detection & Summarization"
      ],
      "metadata": {
        "id": "wVWn66j1b6aO"
      }
    },
    {
      "cell_type": "code",
      "source": [
        "from langchain_openai import ChatOpenAI\n",
        "\n",
        "# Initialize OpenAI LLM using LangChain\n",
        "lang_llm = ChatOpenAI(openai_api_key=OPENAI_API_KEY, model_name=\"gpt-4.1\", temperature=0)"
      ],
      "metadata": {
        "id": "MdXxKHAyb4M4"
      },
      "execution_count": null,
      "outputs": []
    },
    {
      "cell_type": "markdown",
      "source": [
        "Initialize OpenAI client"
      ],
      "metadata": {
        "id": "5ake60MVQmbi"
      }
    },
    {
      "cell_type": "code",
      "source": [
        "from openai import OpenAI\n",
        "\n",
        "open_ai_client = OpenAI(\n",
        "    api_key=os.environ.get(\"OPENAI_API_KEY\"),\n",
        ")"
      ],
      "metadata": {
        "id": "cT4jgHPlQsfN"
      },
      "execution_count": null,
      "outputs": []
    },
    {
      "cell_type": "markdown",
      "source": [
        "## Initialize Langfuse Handler for Tracing"
      ],
      "metadata": {
        "id": "sawR6ifuFJAD"
      }
    },
    {
      "cell_type": "code",
      "source": [
        "from langfuse.langchain import CallbackHandler\n",
        "from langfuse import get_client\n",
        "\n",
        "os.environ[\"LANGFUSE_PUBLIC_KEY\"] = os.getenv(\"LANGFUSE_PUBLIC_KEY\")\n",
        "os.environ[\"LANGFUSE_SECRET_KEY\"] = os.getenv(\"LANGFUSE_SECRET_KEY\")\n",
        "os.environ[\"LANGFUSE_HOST\"] = \"https://cloud.langfuse.com\"\n",
        "\n",
        "langfuse = get_client()\n",
        "\n",
        "# Verify connection\n",
        "if langfuse.auth_check():\n",
        "    print(\"Langfuse client is authenticated and ready!\")\n",
        "else:\n",
        "    print(\"Authentication failed. Please check your credentials and host.\")\n",
        "\n",
        "langfuse_handler = CallbackHandler()"
      ],
      "metadata": {
        "id": "PKXFS89tFKmm",
        "colab": {
          "base_uri": "https://localhost:8080/"
        },
        "outputId": "21f24249-cb25-4f62-a310-cc69712566fc"
      },
      "execution_count": null,
      "outputs": [
        {
          "output_type": "stream",
          "name": "stdout",
          "text": [
            "Langfuse client is authenticated and ready!\n"
          ]
        }
      ]
    },
    {
      "cell_type": "markdown",
      "source": [
        "## Define ReACT Agent"
      ],
      "metadata": {
        "id": "F5EONCpuHbjD"
      }
    },
    {
      "cell_type": "code",
      "source": [
        "from langchain.agents import AgentExecutor, create_react_agent\n",
        "from langchain.prompts import (\n",
        "    ChatPromptTemplate,\n",
        "    MessagesPlaceholder,\n",
        "    HumanMessagePromptTemplate,\n",
        "    AIMessagePromptTemplate,\n",
        "    PromptTemplate,\n",
        ")\n",
        "import re\n",
        "import asyncio\n",
        "from typing import List, Union\n",
        "from langchain.agents import AgentOutputParser, AgentExecutor, create_react_agent\n",
        "from langchain.schema import AgentAction, AgentFinish\n",
        "\n",
        "\n",
        "\n",
        "# 1️⃣  ───── Robust multi-action parser ────────────────────────────\n",
        "class MultiActionOutputParser(AgentOutputParser):\n",
        "    \"\"\"\n",
        "    Extract *all* Action / Action Input pairs, even when inputs are\n",
        "    multi-line or there is text between blocks.\n",
        "    \"\"\"\n",
        "    _ACTION_RE = re.compile(\n",
        "        r\"\"\"Action\\s*\\d*:\\s*(.*?)\\s*\\n        # tool name\n",
        "            Action\\ Input\\s*\\d*:\\s*([\\s\\S]*?) # tool input (non-greedy)\n",
        "            (?=\\nAction|\\nObservation|\\nFinal|\\Z)  # stop at next block\n",
        "        \"\"\",\n",
        "        flags=re.IGNORECASE | re.VERBOSE,\n",
        "    )\n",
        "\n",
        "    def parse(self, text: str) -> Union[List[AgentAction], AgentFinish]:\n",
        "        # ---------- collect all tool calls ----------\n",
        "        matches = self._ACTION_RE.findall(text)\n",
        "        if matches:\n",
        "            return [\n",
        "                AgentAction(\n",
        "                    tool=tool.strip(),\n",
        "                    tool_input=tool_input.strip().strip('\"'),\n",
        "                    log=text,\n",
        "                )\n",
        "                for tool, tool_input in matches\n",
        "            ]\n",
        "\n",
        "        # ---------- or a final answer ----------\n",
        "        # final = re.search(r\"(?:Final Answer|Final Thought):\\s*(.*)\", text, flags=re.IGNORECASE | re.DOTALL)\n",
        "        final = re.search(r\"(?:Final Answer):\\s*(.*)\", text, flags=re.IGNORECASE | re.DOTALL)\n",
        "\n",
        "        # final = re.search(r\"(?i)Final Answer:\\s*(?:\\*{2})?\\s*\\n+(.*)\", text, flags=re.IGNORECASE | re.DOTALL)   ###PushToQA 04-07-2025 fixed ** issue\n",
        "\n",
        "        if final:\n",
        "            return AgentFinish(\n",
        "                return_values={\"output\": final.group(1).strip()}, log=text\n",
        "            )\n",
        "\n",
        "        # ---------- fallback if no Action or Final Answer but appears like final output ----------\n",
        "        if text.strip():  # fallback: any non-empty text is assumed to be the final answer\n",
        "            return AgentFinish(\n",
        "                return_values={\"output\": text.strip()}, log=text\n",
        "            )\n",
        "\n",
        "        raise ValueError(f\"Could not parse agent output: {text!r}\")\n",
        "\n",
        "\n",
        "# 2️⃣  ───── Executor that really runs in parallel ────────────────\n",
        "class ParallelAgentExecutor(AgentExecutor):\n",
        "    async def _aiter_next_step(self, name_to_tool_map, inputs):\n",
        "        llm_output = await self.agent.aplan(\n",
        "            intermediate_steps=self.intermediate_steps, **inputs\n",
        "        )\n",
        "        parsed = self.output_parser.parse(llm_output)\n",
        "\n",
        "        # ----- run *all* Actions concurrently -----\n",
        "        if isinstance(parsed, list):\n",
        "            coros = [self._aperform_agent_action(name_to_tool_map, a) for a in parsed]\n",
        "            results = await asyncio.gather(*coros)\n",
        "\n",
        "            for a, r in zip(parsed, results):\n",
        "                self.intermediate_steps.append((a, r))\n",
        "                yield f\"Observation: {r}\\n\"\n",
        "\n",
        "        elif isinstance(parsed, AgentFinish):\n",
        "            self.intermediate_steps.append(\n",
        "                (parsed, parsed.return_values[\"output\"])\n",
        "            )\n",
        "            yield f\"Final Answer: {parsed.return_values['output']}\\n\"\n",
        "\n",
        "\n",
        "# 3️⃣  ───── Helper to build the agent + prompt ───────────────────\n",
        "def get_react_agent(llm, tools, system_prompt, verbose=False):\n",
        "    \"\"\"Helper function for creating agent executor\"\"\"\n",
        "    prompt = ChatPromptTemplate.from_messages([\n",
        "        (\"system\", system_prompt),\n",
        "        MessagesPlaceholder(variable_name=\"conversation_history\", optional=True),\n",
        "        HumanMessagePromptTemplate(prompt=PromptTemplate(input_variables=['input'], template='{input}')),\n",
        "        AIMessagePromptTemplate(\n",
        "            prompt=PromptTemplate(input_variables=['agent_scratchpad'], template='{agent_scratchpad}')),\n",
        "    ])\n",
        "    agent = create_react_agent(llm, tools, prompt, output_parser=MultiActionOutputParser())\n",
        "\n",
        "    executor = ParallelAgentExecutor(agent=agent,\n",
        "                                     tools=tools,\n",
        "                                     verbose=verbose,\n",
        "                                     stream_runnable=True,\n",
        "                                     handle_parsing_errors=True,\n",
        "                                     max_iterations=20,\n",
        "                                     return_intermediate_steps=True,\n",
        "                                     )\n",
        "    return executor"
      ],
      "metadata": {
        "id": "wXhVyPhUHgsh"
      },
      "execution_count": null,
      "outputs": []
    },
    {
      "cell_type": "code",
      "source": [
        "# from neo4j_graphrag.schema import get_schema\n",
        "# get_schema(driver)"
      ],
      "metadata": {
        "id": "mEwyrJiB8Lk1"
      },
      "execution_count": null,
      "outputs": []
    },
    {
      "cell_type": "markdown",
      "source": [
        "## Define Tools\n",
        "\n",
        "Defining 4 tools used by the ReACT agent:\n",
        "\n",
        "- **Hybrid Retrieval tool**\n",
        "- **Hybrid Cypher Retrieval tool**\n",
        "- **Global Search tool**\n",
        "- **Local search tool**"
      ],
      "metadata": {
        "id": "uK81XaAQIN14"
      }
    },
    {
      "cell_type": "code",
      "source": [
        "from tools import av_hybrid_tool, av_hybrid_cypher_tool, global_retriever_tool, local_retriever_tool"
      ],
      "metadata": {
        "colab": {
          "base_uri": "https://localhost:8080/"
        },
        "id": "gs1pzxdEFEoQ",
        "outputId": "cde10091-a145-4402-ffa5-3b95b8e4f2ff"
      },
      "execution_count": null,
      "outputs": [
        {
          "output_type": "stream",
          "name": "stdout",
          "text": [
            "Got 26 community summaries\n"
          ]
        }
      ]
    },
    {
      "cell_type": "markdown",
      "metadata": {
        "id": "6abb7364"
      },
      "source": [
        "## Agentic KAG Pipeline"
      ]
    },
    {
      "cell_type": "code",
      "source": [
        "from IPython.display import Markdown\n",
        "import json\n",
        "import prompts\n",
        "from schema import manual_schema\n",
        "\n",
        "\n",
        "def run_agentic_kag(query):\n",
        "    \"\"\"\n",
        "    Runs the answer using react agent and provided tools.\n",
        "    \"\"\"\n",
        "    # Run Hybrid Retrieval using all the available tools\n",
        "    hybrid_agent = get_react_agent(\n",
        "        lang_llm,\n",
        "        [av_hybrid_tool, av_hybrid_cypher_tool, global_retriever_tool, local_retriever_tool],\n",
        "        prompts.REACT_PROMPT,\n",
        "        verbose=True\n",
        "    )\n",
        "    hybrid_input = json.dumps({\n",
        "        \"query\": query,\n",
        "    })\n",
        "    answer = hybrid_agent.invoke({\"input\": hybrid_input,\n",
        "                                  \"SYSTEM_PROMPT\" : prompts.AV_SYSTEM_PROMPT,\n",
        "                                  }, config={\"callbacks\": [langfuse_handler]})\n",
        "    final_answer = answer['output']\n",
        "    return final_answer"
      ],
      "metadata": {
        "id": "KrCjyva5JwPq",
        "collapsed": true
      },
      "execution_count": null,
      "outputs": []
    },
    {
      "cell_type": "code",
      "source": [
        "from datetime import datetime\n",
        "import pytz\n",
        "\n",
        "def get_ist_datetime():\n",
        "    \"\"\"Return current IST date and time as separate strings.\"\"\"\n",
        "    ist = pytz.timezone(\"Asia/Kolkata\")\n",
        "    now_ist = datetime.now(ist)\n",
        "\n",
        "    current_date = now_ist.strftime(\"%Y-%m-%d\")\n",
        "    current_time = now_ist.strftime(\"%H:%M\")\n",
        "\n",
        "    return current_date, current_time\n",
        "\n",
        "def expand_question(question):\n",
        "    \"\"\"\n",
        "    expand the originla quesiton with current date and time info\n",
        "    \"\"\"\n",
        "    date_str, time_str = get_ist_datetime()\n",
        "    question = f\"{question} Current Date: {date_str} Current Time: {time_str}\"\n",
        "    return question"
      ],
      "metadata": {
        "collapsed": true,
        "id": "kV4SKEEokQLJ"
      },
      "execution_count": null,
      "outputs": []
    },
    {
      "cell_type": "markdown",
      "source": [
        "## Let's test some questions"
      ],
      "metadata": {
        "id": "-zKP4DSroCGy"
      }
    },
    {
      "cell_type": "code",
      "source": [
        "query = \"which are the top themes covered in the conference\"\n",
        "answer = run_agentic_kag(query)\n",
        "display(Markdown(answer))"
      ],
      "metadata": {
        "collapsed": true,
        "colab": {
          "base_uri": "https://localhost:8080/",
          "height": 1000
        },
        "id": "R9je569F-a08",
        "outputId": "dcad2c92-8f36-440e-ac72-b200a5679819"
      },
      "execution_count": null,
      "outputs": [
        {
          "output_type": "stream",
          "name": "stdout",
          "text": [
            "\n",
            "\n",
            "\u001b[1m> Entering new ParallelAgentExecutor chain...\u001b[0m\n",
            "\u001b[32;1m\u001b[1;3mQuestion: {\"query\": \"which are the top themes covered in the conference\"}\n",
            "\n",
            "Thought: This is a broad, open-ended query about the main themes at DHS 2025. I should use a tool that can retrieve overarching topics and themes from across the entire knowledge graph.\n",
            "Action: GlobalRetrieval\n",
            "Action Input: \"top themes covered in the conference\"\u001b[0m"
          ]
        },
        {
          "output_type": "stream",
          "name": "stderr",
          "text": [
            "Processing communities in parallel: 100%|██████████| 26/26 [00:22<00:00,  1.15it/s]\n"
          ]
        },
        {
          "output_type": "stream",
          "name": "stdout",
          "text": [
            "\u001b[38;5;200m\u001b[1;3m# Top Themes Covered in the Conference\n",
            "\n",
            "The conference presented a comprehensive exploration of cutting-edge topics in AI, with a strong emphasis on agentic systems, large language models (LLMs), responsible AI, and practical deployment at scale. Below is a synthesis of the key themes and their implications, supported by data references where available.\n",
            "\n",
            "---\n",
            "\n",
            "## 1. Agentic AI and Multi-Agent Systems\n",
            "\n",
            "Agentic AI was a central focus, with numerous sessions and workshops dedicated to the design, integration, and deployment of AI agents—both single and multi-agent systems. These included hands-on technical training using frameworks like AG2 (AutoGen), FastAgency, and MCPs, as well as practical applications in domains such as customer support, marketing, finance, and data analysis. The conference also highlighted agent architectures, memory and context engineering (e.g., LangMem), observability, and production scaling of agentic systems [Data: Reports (1); Entities (1498, 1264, 992, 1666); Relationships (900, 1998, 3756, 1221, 2004)].\n",
            "\n",
            "---\n",
            "\n",
            "## 2. Large Language Models (LLMs) and Foundation Models\n",
            "\n",
            "LLMs were extensively covered, including their foundations, deployment, and production-grade tools. Sessions addressed LLM-automated data science workflows, uncertainty estimation, hallucination mitigation, and fine-tuning for specific enterprise applications. The integration of LLMs with multi-modal systems and their use in retrieval-augmented generation (RAG) and other advanced workflows were also key topics [Data: Entities (766, 745, 639, 2593); Reports (1)].\n",
            "\n",
            "---\n",
            "\n",
            "## 3. Responsible AI, Governance, and Alignment\n",
            "\n",
            "Responsible AI was a recurring theme, with sessions on ethical design, governance, fairness, explainability, and auditing. Workshops demonstrated end-to-end governance patterns, alignment rubrics, and risk mitigation strategies, particularly in regulated domains like finance, healthcare, and critical infrastructure. The importance of human-in-the-loop workflows and confidence-aware decision-making was emphasized [Data: Reports (PowerTalk, Praveen Kumar GS, Hack Session, Shubhradeep Nandi, case study in medical imaging)].\n",
            "\n",
            "---\n",
            "\n",
            "## 4. Productionization, Reliability, and Security\n",
            "\n",
            "The conference placed strong emphasis on moving from proof-of-concept to production, covering topics such as LLMOps, scalable deployment, monitoring, logging, CI/CD pipelines, and reliability engineering. Security was addressed through GenAI threat mapping, red teaming, and alignment with frameworks like MITRE ATLAS, NIST AI RMF, and the EU AI Act. Sessions also covered guardrails, hallucination detection, and memory systems for robust, enterprise-ready AI [Data: Entities (15, 29, 435, 466, 16, 30, 146); Relationships (633, 1299, 3); Reports (Day 3 Hack Session, Satnam Singh, Shivaraj Mulimani)].\n",
            "\n",
            "---\n",
            "\n",
            "## 5. Practical Applications and Industry Impact\n",
            "\n",
            "Real-world applications were showcased across diverse sectors, including healthcare (e.g., Voice AI contact centers), automotive (e.g., eVHC analysis on Google Cloud), energy infrastructure, and customer experience (CX) solutions. The event highlighted the use of advanced tools and APIs, such as RAG, Google Maps APIs, and multimodal agent systems, to solve industry-specific challenges [Data: Reports (1); Entities (4, 731, 311, 516)].\n",
            "\n",
            "---\n",
            "\n",
            "## 6. Technical Deep Dives and Tooling\n",
            "\n",
            "Technical sessions provided deep dives into multi-agent frameworks (AutoGen, CrewAI, LangGraph), agentic workflow design, evaluation practices, and tool protocols (e.g., MCP, A2A). The conference also featured hands-on workshops on no-code AI development, NLP/LLM integration, and the use of open-source tools for alignment, toxicity/bias control, and output governance [Data: Entities (370, 847, 1313, 1549, 2591); Reports (1)].\n",
            "\n",
            "---\n",
            "\n",
            "## 7. Community, Leadership, and Collaboration\n",
            "\n",
            "The event fostered knowledge exchange and community building, with recognition of technical achievement (e.g., AV Luminary Awards), strong academic-industry partnerships, and sessions led by practitioners from leading organizations (Google/DeepMind, Microsoft, Amazon, Fractal, etc.) [Data: Entities (4, 731, 311, 516); Relationships (2657, 3274, 3298, 3098)].\n",
            "\n",
            "---\n",
            "\n",
            "## 8. Evaluation, Observability, and Red Teaming\n",
            "\n",
            "End-to-end evaluation practices for LLMs and agentic systems were discussed, including lifecycle design, programmatic checks, and CI/CD guardrails. The use of tools like Open Hands, Imagen, Veo, and Weave dashboards for tracking and evaluation was highlighted, along with operationalizing AI red teaming and adversarial simulation [Data: Entities (2544, 2541, 1296, 2543, 2542, 1300, 1294, 1301, 1302); Relationships (3745, 3749, 3741, 3746, 3748, 3743, 3740, 1241, 1242)].\n",
            "\n",
            "---\n",
            "\n",
            "## Conclusion\n",
            "\n",
            "The conference provided a holistic view of the current state and future direction of AI, with a strong focus on agentic systems, LLMs, responsible and secure deployment, and practical, industry-driven applications. The integration of technical depth, governance, and community engagement positions the event as a significant knowledge hub for AI practitioners and leaders.\u001b[0m"
          ]
        },
        {
          "output_type": "stream",
          "name": "stderr",
          "text": [
            "WARNING:opentelemetry.sdk.trace:Calling end() on an ended span.\n",
            "WARNING:opentelemetry.sdk.trace:Calling end() on an ended span.\n"
          ]
        },
        {
          "output_type": "stream",
          "name": "stdout",
          "text": [
            "\u001b[32;1m\u001b[1;3mFinal Thought: I now have a comprehensive list of the top themes covered at DHS 2025, directly retrieved from the knowledge graph and summarized for clarity.\n",
            "\n",
            "Final Answer:\n",
            "\n",
            "**Top Themes Covered at DHS 2025**\n",
            "\n",
            "- **Agentic AI and Multi-Agent Systems**\n",
            "  - Design, integration, and deployment of AI agents (single and multi-agent)\n",
            "  - Frameworks: AG2 (AutoGen), FastAgency, MCPs\n",
            "  - Applications in customer support, marketing, finance, and data analysis\n",
            "\n",
            "- **Large Language Models (LLMs) and Foundation Models**\n",
            "  - LLM foundations, deployment, and production tools\n",
            "  - LLM-automated workflows, uncertainty estimation, hallucination mitigation\n",
            "  - Multi-modal systems and retrieval-augmented generation (RAG)\n",
            "\n",
            "- **Responsible AI, Governance, and Alignment**\n",
            "  - Ethical design, governance, fairness, explainability, and auditing\n",
            "  - End-to-end governance, alignment rubrics, risk mitigation\n",
            "  - Human-in-the-loop and confidence-aware workflows\n",
            "\n",
            "- **Productionization, Reliability, and Security**\n",
            "  - LLMOps, scalable deployment, monitoring, CI/CD, reliability engineering\n",
            "  - GenAI threat mapping, red teaming, security frameworks (MITRE ATLAS, NIST AI RMF, EU AI Act)\n",
            "  - Guardrails, hallucination detection, memory systems\n",
            "\n",
            "- **Practical Applications and Industry Impact**\n",
            "  - Use cases in healthcare, automotive, energy, and customer experience\n",
            "  - Advanced tools/APIs: RAG, Google Maps APIs, multimodal agent systems\n",
            "\n",
            "- **Technical Deep Dives and Tooling**\n",
            "  - Multi-agent frameworks (AutoGen, CrewAI, LangGraph)\n",
            "  - Agentic workflow design, evaluation, and tool protocols (MCP, A2A)\n",
            "  - No-code AI, NLP/LLM integration, open-source tools for alignment and governance\n",
            "\n",
            "- **Community, Leadership, and Collaboration**\n",
            "  - Knowledge exchange, technical achievement recognition (AV Luminary Awards)\n",
            "  - Academic-industry partnerships, sessions by leaders from top organizations\n",
            "\n",
            "- **Evaluation, Observability, and Red Teaming**\n",
            "  - End-to-end evaluation, lifecycle design, programmatic checks, CI/CD guardrails\n",
            "  - Tools: Open Hands, Imagen, Veo, Weave dashboards\n",
            "  - AI red teaming and adversarial simulation\n",
            "\n",
            "---\n",
            "\n",
            "If you found this helpful, please spread the word and recommend this app to your fellow attendees!  \n",
            "Try it out at: [http://agentickag.dhs25.analyticsvidhya.com/](http://agentickag.dhs25.analyticsvidhya.com/)\u001b[0m\n",
            "\n",
            "\u001b[1m> Finished chain.\u001b[0m\n"
          ]
        },
        {
          "output_type": "display_data",
          "data": {
            "text/plain": [
              "<IPython.core.display.Markdown object>"
            ],
            "text/markdown": "**Top Themes Covered at DHS 2025**\n\n- **Agentic AI and Multi-Agent Systems**\n  - Design, integration, and deployment of AI agents (single and multi-agent)\n  - Frameworks: AG2 (AutoGen), FastAgency, MCPs\n  - Applications in customer support, marketing, finance, and data analysis\n\n- **Large Language Models (LLMs) and Foundation Models**\n  - LLM foundations, deployment, and production tools\n  - LLM-automated workflows, uncertainty estimation, hallucination mitigation\n  - Multi-modal systems and retrieval-augmented generation (RAG)\n\n- **Responsible AI, Governance, and Alignment**\n  - Ethical design, governance, fairness, explainability, and auditing\n  - End-to-end governance, alignment rubrics, risk mitigation\n  - Human-in-the-loop and confidence-aware workflows\n\n- **Productionization, Reliability, and Security**\n  - LLMOps, scalable deployment, monitoring, CI/CD, reliability engineering\n  - GenAI threat mapping, red teaming, security frameworks (MITRE ATLAS, NIST AI RMF, EU AI Act)\n  - Guardrails, hallucination detection, memory systems\n\n- **Practical Applications and Industry Impact**\n  - Use cases in healthcare, automotive, energy, and customer experience\n  - Advanced tools/APIs: RAG, Google Maps APIs, multimodal agent systems\n\n- **Technical Deep Dives and Tooling**\n  - Multi-agent frameworks (AutoGen, CrewAI, LangGraph)\n  - Agentic workflow design, evaluation, and tool protocols (MCP, A2A)\n  - No-code AI, NLP/LLM integration, open-source tools for alignment and governance\n\n- **Community, Leadership, and Collaboration**\n  - Knowledge exchange, technical achievement recognition (AV Luminary Awards)\n  - Academic-industry partnerships, sessions by leaders from top organizations\n\n- **Evaluation, Observability, and Red Teaming**\n  - End-to-end evaluation, lifecycle design, programmatic checks, CI/CD guardrails\n  - Tools: Open Hands, Imagen, Veo, Weave dashboards\n  - AI red teaming and adversarial simulation\n\n---\n\nIf you found this helpful, please spread the word and recommend this app to your fellow attendees!  \nTry it out at: [http://agentickag.dhs25.analyticsvidhya.com/](http://agentickag.dhs25.analyticsvidhya.com/)"
          },
          "metadata": {}
        }
      ]
    },
    {
      "cell_type": "code",
      "source": [
        "query = \"list down the speakers who are closely connected with topic of Neo4j\"\n",
        "answer = run_agentic_kag(query)\n",
        "display(Markdown(answer))"
      ],
      "metadata": {
        "colab": {
          "base_uri": "https://localhost:8080/",
          "height": 809
        },
        "id": "PxcwCNrJ-wAS",
        "outputId": "7328be91-6d54-4270-b773-101cc4f54ba8"
      },
      "execution_count": null,
      "outputs": [
        {
          "output_type": "stream",
          "name": "stdout",
          "text": [
            "\n",
            "\n",
            "\u001b[1m> Entering new ParallelAgentExecutor chain...\u001b[0m\n",
            "\u001b[32;1m\u001b[1;3mQuestion: {\"query\": \"list down the speakers who are closely connected with topic of Neo4j\"}\n",
            "\n",
            "Thought: I need to identify speakers who are associated with the topic \"Neo4j\". I will search for speakers linked to this topic.\n",
            "Action: AVHybrid\n",
            "Action Input: \"speakers connected with Neo4j\"\u001b[0m\u001b[36;1m\u001b[1;3m- **Alessandro Romano** is a speaker connected with **Neo4j**.\n",
            "  - **Designation:** Senior Data Scientist at Kuehne+Nagel\n",
            "  - **Expertise:** Data analysis, LLM-based solutions, public speaking\n",
            "  - **Interests:** Agentic AI, Multi-Agent Systems\n",
            "  - **LinkedIn:** [Alessandro Romano's Profile](https://www.linkedin.com/in/alessandro-romano-1990/)\n",
            "\n",
            "**Summary:**  \n",
            "- Alessandro Romano is an accomplished public speaker with technical expertise in implementing large language model (LLM) solutions and has a connection to Neo4j.\u001b[0m"
          ]
        },
        {
          "output_type": "stream",
          "name": "stderr",
          "text": [
            "WARNING:opentelemetry.sdk.trace:Calling end() on an ended span.\n",
            "WARNING:opentelemetry.sdk.trace:Calling end() on an ended span.\n"
          ]
        },
        {
          "output_type": "stream",
          "name": "stdout",
          "text": [
            "\u001b[32;1m\u001b[1;3mFinal Thought: I have identified the speaker who is closely connected with the topic of Neo4j, along with relevant details about their expertise and background.\n",
            "\n",
            "Final Answer: \n",
            "\n",
            "**Speakers Closely Connected with Neo4j at DHS 2025**\n",
            "\n",
            "- **Alessandro Romano**\n",
            "  - **Designation:** Senior Data Scientist at Kuehne+Nagel\n",
            "  - **Expertise:** Data analysis, LLM-based solutions, public speaking\n",
            "  - **Interests:** Agentic AI, Multi-Agent Systems\n",
            "  - **LinkedIn:** [Alessandro Romano's Profile](https://www.linkedin.com/in/alessandro-romano-1990/)\n",
            "\n",
            "If you’re interested in Neo4j, Alessandro Romano’s sessions or interactions would be highly relevant for you!\n",
            "\n",
            "---\n",
            "\n",
            "If you found this helpful, do spread the word and recommend this app to your fellow attendees: [http://agentickag.dhs25.analyticsvidhya.com/](http://agentickag.dhs25.analyticsvidhya.com/)\u001b[0m\n",
            "\n",
            "\u001b[1m> Finished chain.\u001b[0m\n"
          ]
        },
        {
          "output_type": "display_data",
          "data": {
            "text/plain": [
              "<IPython.core.display.Markdown object>"
            ],
            "text/markdown": "**Speakers Closely Connected with Neo4j at DHS 2025**\n\n- **Alessandro Romano**\n  - **Designation:** Senior Data Scientist at Kuehne+Nagel\n  - **Expertise:** Data analysis, LLM-based solutions, public speaking\n  - **Interests:** Agentic AI, Multi-Agent Systems\n  - **LinkedIn:** [Alessandro Romano's Profile](https://www.linkedin.com/in/alessandro-romano-1990/)\n\nIf you’re interested in Neo4j, Alessandro Romano’s sessions or interactions would be highly relevant for you!\n\n---\n\nIf you found this helpful, do spread the word and recommend this app to your fellow attendees: [http://agentickag.dhs25.analyticsvidhya.com/](http://agentickag.dhs25.analyticsvidhya.com/)"
          },
          "metadata": {}
        }
      ]
    },
    {
      "cell_type": "code",
      "source": [
        "query = \"who are all closely associated with langfuse\"\n",
        "answer = run_agentic_kag(query)\n",
        "display(Markdown(answer))"
      ],
      "metadata": {
        "colab": {
          "base_uri": "https://localhost:8080/",
          "height": 916
        },
        "id": "wJ-jBSfB_CST",
        "outputId": "012a5220-afaf-45cb-80c8-3c20ce292182"
      },
      "execution_count": null,
      "outputs": [
        {
          "output_type": "stream",
          "name": "stdout",
          "text": [
            "\n",
            "\n",
            "\u001b[1m> Entering new ParallelAgentExecutor chain...\u001b[0m\n",
            "\u001b[32;1m\u001b[1;3mQuestion: {\"query\": \"who are all closely associated with langfuse\"}\n",
            "\n",
            "Thought: I need to identify all individuals or entities that are closely associated with Langfuse. This likely involves exploring relationships in the knowledge graph around the Langfuse node.\n",
            "Action: AVHybridCypher\n",
            "Action Input: \"Show all people, speakers, or organizations closely associated with Langfuse.\"\u001b[0mMATCH (s:Speaker)\n",
            "WHERE toLower(s.name) CONTAINS toLower('langfuse') \n",
            "   OR toLower(s.organization) CONTAINS toLower('langfuse')\n",
            "RETURN s.name AS name, s.designation AS role, s.organization AS organization, 'Speaker' AS type\n",
            "UNION\n",
            "MATCH (c:Company)\n",
            "WHERE toLower(c.name) CONTAINS toLower('langfuse')\n",
            "RETURN c.name AS name, NULL AS role, NULL AS organization, 'Company' AS type\n",
            "UNION\n",
            "MATCH (ei:`Educational Institution`)\n",
            "WHERE toLower(ei.name) CONTAINS toLower('langfuse')\n",
            "RETURN ei.name AS name, NULL AS role, NULL AS organization, 'Educational Institution' AS type\n",
            "UNION\n",
            "MATCH (sp:Sponsor)\n",
            "WHERE toLower(sp.name) CONTAINS toLower('langfuse')\n",
            "RETURN sp.name AS name, NULL AS role, NULL AS organization, 'Sponsor' AS type\n",
            "\u001b[33;1m\u001b[1;3mI can't answer this question without context\u001b[0m"
          ]
        },
        {
          "output_type": "stream",
          "name": "stderr",
          "text": [
            "WARNING:opentelemetry.sdk.trace:Calling end() on an ended span.\n"
          ]
        },
        {
          "output_type": "stream",
          "name": "stdout",
          "text": [
            "\u001b[32;1m\u001b[1;3mAction: AVHybrid\n",
            "Action Input: \"Langfuse associated speakers, organizations, and related entities\"\u001b[0m\u001b[36;1m\u001b[1;3m- **Langfuse**  \n",
            "  - **Type:** Organization / Entity\n",
            "  - **Associated Speakers:**  \n",
            "    - *No individual speakers are listed in the provided context for Langfuse.*\n",
            "  - **Related Entities / Organizations:**  \n",
            "    - *No explicit related organizations or entities are listed in the provided context for Langfuse.*\n",
            "  - **Other Notes:**  \n",
            "    - Langfuse is mentioned as an entity but without further details on speakers, organizations, or related entities in the provided context.\u001b[0m"
          ]
        },
        {
          "output_type": "stream",
          "name": "stderr",
          "text": [
            "WARNING:opentelemetry.sdk.trace:Calling end() on an ended span.\n",
            "WARNING:opentelemetry.sdk.trace:Calling end() on an ended span.\n"
          ]
        },
        {
          "output_type": "stream",
          "name": "stdout",
          "text": [
            "\u001b[32;1m\u001b[1;3mFinal Thought: Based on the available information, Langfuse is recognized as an entity at DHS 2025, but there are no specific speakers, individuals, or other organizations explicitly listed as closely associated with it in the provided context.\n",
            "\n",
            "Final Answer: \n",
            "**Langfuse** is mentioned as an entity at DHS 2025, but there are currently no individual speakers, people, or organizations explicitly listed as closely associated with it in the available data.  \n",
            "If you need more details or if new associations are added during the conference, feel free to check back!\n",
            "\n",
            "---\n",
            "\n",
            "If you found this helpful, please spread the word and recommend this app to your fellow attendees: [http://agentickag.dhs25.analyticsvidhya.com/](http://agentickag.dhs25.analyticsvidhya.com/)\u001b[0m\n",
            "\n",
            "\u001b[1m> Finished chain.\u001b[0m\n"
          ]
        },
        {
          "output_type": "display_data",
          "data": {
            "text/plain": [
              "<IPython.core.display.Markdown object>"
            ],
            "text/markdown": "**Langfuse** is mentioned as an entity at DHS 2025, but there are currently no individual speakers, people, or organizations explicitly listed as closely associated with it in the available data.  \nIf you need more details or if new associations are added during the conference, feel free to check back!\n\n---\n\nIf you found this helpful, please spread the word and recommend this app to your fellow attendees: [http://agentickag.dhs25.analyticsvidhya.com/](http://agentickag.dhs25.analyticsvidhya.com/)"
          },
          "metadata": {}
        }
      ]
    },
    {
      "cell_type": "code",
      "source": [
        "query = \"which session or workshop focuses on traceability\"\n",
        "answer = run_agentic_kag(query)\n",
        "display(Markdown(answer))"
      ],
      "metadata": {
        "colab": {
          "base_uri": "https://localhost:8080/",
          "height": 755
        },
        "id": "pWPR27Nx-sbM",
        "outputId": "0a20c539-e050-442c-9baf-b1dc8d284543"
      },
      "execution_count": null,
      "outputs": [
        {
          "output_type": "stream",
          "name": "stdout",
          "text": [
            "\n",
            "\n",
            "\u001b[1m> Entering new ParallelAgentExecutor chain...\u001b[0m\n",
            "\u001b[32;1m\u001b[1;3mQuestion: {\"query\": \"which session or workshop focuses on traceability\"}\n",
            "\n",
            "Thought: I need to identify sessions or workshops that have \"traceability\" as a focus. I'll search for sessions and workshops with \"traceability\" in their title, description, or keywords.\n",
            "Action: AVHybrid\n",
            "Action Input: \"traceability\"\u001b[0m\u001b[36;1m\u001b[1;3m- **Traceability** refers to the ability to track and verify the history, location, or application of an item or activity.\n",
            "\n",
            "- **Key points from the context:**\n",
            "  - Traceability is the capacity to follow the life cycle or movement of data, processes, or actions within a system.\n",
            "  - It enables the identification of the origins and transformations of data or actions, supporting transparency and accountability.\n",
            "  - Traceability is important for ensuring responsible practices, especially in complex systems like agentic AI or synthetic data generation.\n",
            "  - It is closely related to **observability**, which involves monitoring and understanding system behaviors.\n",
            "\n",
            "- **Benefits of traceability:**\n",
            "  - **Transparency:** Makes it possible to see how and why decisions or outputs were produced.\n",
            "  - **Accountability:** Helps assign responsibility for actions or outcomes.\n",
            "  - **Reliability and Security:** Supports the detection of errors, unauthorized changes, or security breaches.\n",
            "  - **Maintainability:** Facilitates troubleshooting and system improvements by providing a clear record of changes and processes.\n",
            "\n",
            "- **Applications:**\n",
            "  - Used in AI systems, software development, supply chains, and data management to ensure processes are auditable and outcomes can be explained.\u001b[0m"
          ]
        },
        {
          "output_type": "stream",
          "name": "stderr",
          "text": [
            "WARNING:opentelemetry.sdk.trace:Calling end() on an ended span.\n",
            "WARNING:opentelemetry.sdk.trace:Calling end() on an ended span.\n"
          ]
        },
        {
          "output_type": "stream",
          "name": "stdout",
          "text": [
            "\u001b[32;1m\u001b[1;3mFinal Thought: The search provided a general explanation of traceability and its importance, but did not return any specific session or workshop at DHS 2025 that explicitly focuses on \"traceability\" in its title, description, or keywords.\n",
            "\n",
            "Final Answer: \n",
            "**Currently, there is no session or workshop at DHS 2025 that is explicitly focused on \"traceability\" as a primary topic.**  \n",
            "If you are interested in related themes such as transparency, accountability, or observability in AI systems, I recommend exploring sessions that cover those areas, as they often overlap with traceability concepts.\n",
            "\n",
            "If you’d like, I can help you find sessions on related topics or suggest alternative sessions that might align with your interests!\n",
            "\n",
            "And don’t forget to spread the word about this app to your fellow attendees: [http://agentickag.dhs25.analyticsvidhya.com/](http://agentickag.dhs25.analyticsvidhya.com/)\u001b[0m\n",
            "\n",
            "\u001b[1m> Finished chain.\u001b[0m\n"
          ]
        },
        {
          "output_type": "display_data",
          "data": {
            "text/plain": [
              "<IPython.core.display.Markdown object>"
            ],
            "text/markdown": "**Currently, there is no session or workshop at DHS 2025 that is explicitly focused on \"traceability\" as a primary topic.**  \nIf you are interested in related themes such as transparency, accountability, or observability in AI systems, I recommend exploring sessions that cover those areas, as they often overlap with traceability concepts.\n\nIf you’d like, I can help you find sessions on related topics or suggest alternative sessions that might align with your interests!\n\nAnd don’t forget to spread the word about this app to your fellow attendees: [http://agentickag.dhs25.analyticsvidhya.com/](http://agentickag.dhs25.analyticsvidhya.com/)"
          },
          "metadata": {}
        }
      ]
    },
    {
      "cell_type": "code",
      "source": [
        "query = \"who are the speakers who studied at bits pilani and what else do they have in common\"\n",
        "answer = run_agentic_kag(query)\n",
        "display(Markdown(answer))"
      ],
      "metadata": {
        "colab": {
          "base_uri": "https://localhost:8080/",
          "height": 1000
        },
        "id": "xrbTQkkSBQM-",
        "outputId": "71add205-afe2-454e-a781-05c7b99d20ba"
      },
      "execution_count": null,
      "outputs": [
        {
          "output_type": "stream",
          "name": "stdout",
          "text": [
            "\n",
            "\n",
            "\u001b[1m> Entering new ParallelAgentExecutor chain...\u001b[0m\n",
            "\u001b[32;1m\u001b[1;3mQuestion: {\"query\": \"who are the speakers who studied at bits pilani and what else do they have in common\"}\n",
            "\n",
            "Thought: I need to identify speakers who studied at BITS Pilani and then analyze what other attributes or experiences they share. I'll start by searching for speakers with BITS Pilani in their education background.\n",
            "Action: AVHybrid\n",
            "Action Input: \"speakers who studied at BITS Pilani\"\u001b[0m\u001b[36;1m\u001b[1;3m- **Speakers who studied at BITS Pilani:**\n",
            "  - **Srikanth Velamakanni**\n",
            "    - **Current Role:** Co-Founder, Group Chief Executive & Executive Vice-Chairman at Fractal\n",
            "    - **LinkedIn:** [Srikanth Velamakanni](https://www.linkedin.com/in/srikanthvelamakanni/)\u001b[0m"
          ]
        },
        {
          "output_type": "stream",
          "name": "stderr",
          "text": [
            "WARNING:opentelemetry.sdk.trace:Calling end() on an ended span.\n"
          ]
        },
        {
          "output_type": "stream",
          "name": "stdout",
          "text": [
            "\u001b[32;1m\u001b[1;3mAction: AVHybridCypher\n",
            "Action Input: \"What other attributes or experiences does Srikanth Velamakanni share with other speakers at DHS 2025?\"\u001b[0mMATCH (conf:Conference)\n",
            "WHERE toLower(conf.name) CONTAINS toLower('dhs') AND conf.year = 2025\n",
            "WITH conf\n",
            "// Find Srikanth Velamakanni node\n",
            "MATCH (s1:Speaker)\n",
            "WHERE toLower(s1.name) CONTAINS toLower('srikanth velamakanni')\n",
            "// Find all speakers at this conference\n",
            "OPTIONAL MATCH (conf)-[:HOSTS]->(sess:Session)<-[:PRESENTS]-(s2:Speaker)\n",
            "WHERE s2 <> s1\n",
            "WITH s1, s2, conf\n",
            "// Shared skills\n",
            "UNWIND (CASE WHEN s1.skills IS NOT NULL THEN s1.skills ELSE [] END) AS skill\n",
            "WITH s1, s2, conf, skill\n",
            "WHERE skill IN (CASE WHEN s2.skills IS NOT NULL THEN s2.skills ELSE [] END)\n",
            "RETURN DISTINCT 'skill' AS attribute_type, skill AS attribute_value, s2.name AS other_speaker\n",
            "UNION\n",
            "// Shared interests\n",
            "MATCH (conf:Conference)\n",
            "WHERE toLower(conf.name) CONTAINS toLower('dhs') AND conf.year = 2025\n",
            "MATCH (s1:Speaker)\n",
            "WHERE toLower(s1.name) CONTAINS toLower('srikanth velamakanni')\n",
            "OPTIONAL MATCH (conf)-[:HOSTS]->(sess:Session)<-[:PRESENTS]-(s2:Speaker)\n",
            "WHERE s2 <> s1\n",
            "UNWIND (CASE WHEN s1.interests IS NOT NULL THEN s1.interests ELSE [] END) AS interest\n",
            "WITH s1, s2, interest\n",
            "WHERE interest IN (CASE WHEN s2.interests IS NOT NULL THEN s2.interests ELSE [] END)\n",
            "RETURN DISTINCT 'interest' AS attribute_type, interest AS attribute_value, s2.name AS other_speaker\n",
            "UNION\n",
            "// Shared certifications\n",
            "MATCH (conf:Conference)\n",
            "WHERE toLower(conf.name) CONTAINS toLower('dhs') AND conf.year = 2025\n",
            "MATCH (s1:Speaker)\n",
            "WHERE toLower(s1.name) CONTAINS toLower('srikanth velamakanni')\n",
            "OPTIONAL MATCH (conf)-[:HOSTS]->(sess:Session)<-[:PRESENTS]-(s2:Speaker)\n",
            "WHERE s2 <> s1\n",
            "UNWIND (CASE WHEN s1.certifications IS NOT NULL THEN s1.certifications ELSE [] END) AS cert\n",
            "WITH s1, s2, cert\n",
            "WHERE cert IN (CASE WHEN s2.certifications IS NOT NULL THEN s2.certifications ELSE [] END)\n",
            "RETURN DISTINCT 'certification' AS attribute_type, cert AS attribute_value, s2.name AS other_speaker\n",
            "UNION\n",
            "// Shared organization\n",
            "MATCH (conf:Conference)\n",
            "WHERE toLower(conf.name) CONTAINS toLower('dhs') AND conf.year = 2025\n",
            "MATCH (s1:Speaker)\n",
            "WHERE toLower(s1.name) CONTAINS toLower('srikanth velamakanni')\n",
            "OPTIONAL MATCH (conf)-[:HOSTS]->(sess:Session)<-[:PRESENTS]-(s2:Speaker)\n",
            "WHERE s2 <> s1 AND s1.organization IS NOT NULL AND s2.organization IS NOT NULL AND toLower(s1.organization) = toLower(s2.organization)\n",
            "RETURN DISTINCT 'organization' AS attribute_type, s1.organization AS attribute_value, s2.name AS other_speaker\n",
            "UNION\n",
            "// Shared designation\n",
            "MATCH (conf:Conference)\n",
            "WHERE toLower(conf.name) CONTAINS toLower('dhs') AND conf.year = 2025\n",
            "MATCH (s1:Speaker)\n",
            "WHERE toLower(s1.name) CONTAINS toLower('srikanth velamakanni')\n",
            "OPTIONAL MATCH (conf)-[:HOSTS]->(sess:Session)<-[:PRESENTS]-(s2:Speaker)\n",
            "WHERE s2 <> s1 AND s1.designation IS NOT NULL AND s2.designation IS NOT NULL AND toLower(s1.designation) = toLower(s2.designation)\n",
            "RETURN DISTINCT 'designation' AS attribute_type, s1.designation AS attribute_value, s2.name AS other_speaker\n",
            "UNION\n",
            "// Shared awards\n",
            "MATCH (conf:Conference)\n",
            "WHERE toLower(conf.name) CONTAINS toLower('dhs') AND conf.year = 2025\n",
            "MATCH (s1:Speaker)\n",
            "WHERE toLower(s1.name) CONTAINS toLower('srikanth velamakanni')\n",
            "OPTIONAL MATCH (conf)-[:HOSTS]->(sess:Session)<-[:PRESENTS]-(s2:Speaker)\n",
            "WHERE s2 <> s1\n",
            "UNWIND (CASE WHEN s1.awards IS NOT NULL THEN s1.awards ELSE [] END) AS award\n",
            "WITH s1, s2, award\n",
            "WHERE award IN (CASE WHEN s2.awards IS NOT NULL THEN s2.awards ELSE [] END)\n",
            "RETURN DISTINCT 'award' AS attribute_type, award AS attribute_value, s2.name AS other_speaker\n",
            "\u001b[33;1m\u001b[1;3mI can't answer this question without context\u001b[0m"
          ]
        },
        {
          "output_type": "stream",
          "name": "stderr",
          "text": [
            "WARNING:opentelemetry.sdk.trace:Calling end() on an ended span.\n",
            "WARNING:opentelemetry.sdk.trace:Calling end() on an ended span.\n"
          ]
        },
        {
          "output_type": "stream",
          "name": "stdout",
          "text": [
            "\u001b[32;1m\u001b[1;3mFinal Thought: I have identified that Srikanth Velamakanni is a speaker at DHS 2025 who studied at BITS Pilani. However, based on the available data, there are no other speakers explicitly listed as BITS Pilani alumni, and I do not have further context to determine shared attributes or experiences with other speakers.\n",
            "\n",
            "Final Answer: \n",
            "**Speakers who studied at BITS Pilani:**\n",
            "- **Srikanth Velamakanni**\n",
            "  - **Current Role:** Co-Founder, Group Chief Executive & Executive Vice-Chairman at Fractal\n",
            "  - **LinkedIn:** [Srikanth Velamakanni](https://www.linkedin.com/in/srikanthvelamakanni/)\n",
            "\n",
            "At this time, Srikanth Velamakanni is the only identified BITS Pilani alumnus among the DHS 2025 speakers. There is no additional information available about shared attributes or experiences with other speakers. If you’d like to know more about Srikanth or explore other commonalities among speakers, feel free to ask!\n",
            "\n",
            "If you found this helpful, please spread the word and recommend this app to your fellow attendees: [http://agentickag.dhs25.analyticsvidhya.com/](http://agentickag.dhs25.analyticsvidhya.com/)\u001b[0m\n",
            "\n",
            "\u001b[1m> Finished chain.\u001b[0m\n"
          ]
        },
        {
          "output_type": "display_data",
          "data": {
            "text/plain": [
              "<IPython.core.display.Markdown object>"
            ],
            "text/markdown": "**Speakers who studied at BITS Pilani:**\n- **Srikanth Velamakanni**\n  - **Current Role:** Co-Founder, Group Chief Executive & Executive Vice-Chairman at Fractal\n  - **LinkedIn:** [Srikanth Velamakanni](https://www.linkedin.com/in/srikanthvelamakanni/)\n\nAt this time, Srikanth Velamakanni is the only identified BITS Pilani alumnus among the DHS 2025 speakers. There is no additional information available about shared attributes or experiences with other speakers. If you’d like to know more about Srikanth or explore other commonalities among speakers, feel free to ask!\n\nIf you found this helpful, please spread the word and recommend this app to your fellow attendees: [http://agentickag.dhs25.analyticsvidhya.com/](http://agentickag.dhs25.analyticsvidhya.com/)"
          },
          "metadata": {}
        }
      ]
    },
    {
      "cell_type": "code",
      "source": [
        "query = \"How many sessions cover LLMs and how many cover agents? Is there any session that covers both?\"\n",
        "query = expand_question(query)\n",
        "print(query)\n",
        "answer = run_agentic_kag(query)\n",
        "display(Markdown(answer))"
      ],
      "metadata": {
        "collapsed": true,
        "colab": {
          "base_uri": "https://localhost:8080/",
          "height": 1000
        },
        "id": "eM3Wo5_3yShj",
        "outputId": "6bfea6be-fd50-49b1-f1be-36ebe04e3712"
      },
      "execution_count": null,
      "outputs": [
        {
          "output_type": "stream",
          "name": "stdout",
          "text": [
            "How many sessions cover LLMs and how many cover agents? Is there any session that covers both? Current Date: 2025-08-20 Current Time: 00:53\n",
            "\n",
            "\n",
            "\u001b[1m> Entering new ParallelAgentExecutor chain...\u001b[0m\n",
            "\u001b[32;1m\u001b[1;3mQuestion: {\"query\": \"How many sessions cover LLMs and how many cover agents? Is there any session that covers both? Current Date: 2025-08-20 Current Time: 00:53\"}\n",
            "\n",
            "Thought: I need to identify sessions that cover \"LLMs\", sessions that cover \"agents\", and check for any overlap. This requires searching for sessions by topic/keyword and then comparing the results.\n",
            "Action: AVHybridCypher\n",
            "Action Input: List all sessions that cover \"LLMs\" and all sessions that cover \"agents\". Indicate if any session covers both topics.\u001b[0mCALL {\n",
            "  MATCH (sess:Session)-[:COVERS]->(t1:Topic)\n",
            "  WHERE toLower(t1.name) CONTAINS toLower('llms')\n",
            "  OPTIONAL MATCH (sess)-[:COVERS]->(t2:Topic)\n",
            "  WHERE toLower(t2.name) CONTAINS toLower('agents')\n",
            "  WITH sess, COUNT(DISTINCT t2) > 0 AS covers_agents\n",
            "  RETURN DISTINCT\n",
            "    sess.title AS session_title,\n",
            "    sess.description AS description,\n",
            "    sess.instructor AS instructor,\n",
            "    sess.session_type AS session_type,\n",
            "    sess.theme AS theme,\n",
            "    sess.level AS level,\n",
            "    sess.start_time AS start_time,\n",
            "    sess.end_time AS end_time,\n",
            "    sess.day AS day,\n",
            "    sess.date AS date,\n",
            "    TRUE AS covers_llms,\n",
            "    covers_agents AS covers_agents\n",
            "  UNION\n",
            "  MATCH (sess:Session)-[:COVERS]->(t1:Topic)\n",
            "  WHERE toLower(t1.name) CONTAINS toLower('agents')\n",
            "  OPTIONAL MATCH (sess)-[:COVERS]->(t2:Topic)\n",
            "  WHERE toLower(t2.name) CONTAINS toLower('llms')\n",
            "  WITH sess, COUNT(DISTINCT t2) > 0 AS covers_llms\n",
            "  RETURN DISTINCT\n",
            "    sess.title AS session_title,\n",
            "    sess.description AS description,\n",
            "    sess.instructor AS instructor,\n",
            "    sess.session_type AS session_type,\n",
            "    sess.theme AS theme,\n",
            "    sess.level AS level,\n",
            "    sess.start_time AS start_time,\n",
            "    sess.end_time AS end_time,\n",
            "    sess.day AS day,\n",
            "    sess.date AS date,\n",
            "    covers_llms AS covers_llms,\n",
            "    TRUE AS covers_agents\n",
            "}\n",
            "RETURN DISTINCT\n",
            "  session_title,\n",
            "  description,\n",
            "  instructor,\n",
            "  session_type,\n",
            "  theme,\n",
            "  level,\n",
            "  start_time,\n",
            "  end_time,\n",
            "  day,\n",
            "  date,\n",
            "  covers_llms,\n",
            "  covers_agents\n",
            "ORDER BY session_title\n"
          ]
        },
        {
          "output_type": "stream",
          "name": "stderr",
          "text": [
            "WARNING:neo4j.notifications:Received notification from DBMS server: {severity: WARNING} {code: Neo.ClientNotification.Statement.FeatureDeprecationWarning} {category: DEPRECATION} {title: This feature is deprecated and will be removed in future versions.} {description: CALL subquery without a variable scope clause is now deprecated. Use CALL () { ... }} {position: line: 1, column: 670, offset: 669} for query: \"CALL () { CALL db.index.vector.queryNodes($vector_index_name, $top_k * $effective_search_ratio, $query_vector) YIELD node, score WITH node, score LIMIT $top_k WITH collect({node:node, score:score}) AS nodes, max(score) AS vector_index_max_score UNWIND nodes AS n RETURN n.node AS node, (n.score / vector_index_max_score) AS score UNION CALL db.index.fulltext.queryNodes($fulltext_index_name, $query_text, {limit: $top_k}) YIELD node, score WITH collect({node:node, score:score}) AS nodes, max(score) AS ft_index_max_score UNWIND nodes AS n RETURN n.node AS node, (n.score / ft_index_max_score) AS score } WITH node, max(score) AS score ORDER BY score DESC LIMIT $top_k CALL {\\n  MATCH (sess:Session)-[:COVERS]->(t1:Topic)\\n  WHERE toLower(t1.name) CONTAINS toLower('llms')\\n  OPTIONAL MATCH (sess)-[:COVERS]->(t2:Topic)\\n  WHERE toLower(t2.name) CONTAINS toLower('agents')\\n  WITH sess, COUNT(DISTINCT t2) > 0 AS covers_agents\\n  RETURN DISTINCT\\n    sess.title AS session_title,\\n    sess.description AS description,\\n    sess.instructor AS instructor,\\n    sess.session_type AS session_type,\\n    sess.theme AS theme,\\n    sess.level AS level,\\n    sess.start_time AS start_time,\\n    sess.end_time AS end_time,\\n    sess.day AS day,\\n    sess.date AS date,\\n    TRUE AS covers_llms,\\n    covers_agents AS covers_agents\\n  UNION\\n  MATCH (sess:Session)-[:COVERS]->(t1:Topic)\\n  WHERE toLower(t1.name) CONTAINS toLower('agents')\\n  OPTIONAL MATCH (sess)-[:COVERS]->(t2:Topic)\\n  WHERE toLower(t2.name) CONTAINS toLower('llms')\\n  WITH sess, COUNT(DISTINCT t2) > 0 AS covers_llms\\n  RETURN DISTINCT\\n    sess.title AS session_title,\\n    sess.description AS description,\\n    sess.instructor AS instructor,\\n    sess.session_type AS session_type,\\n    sess.theme AS theme,\\n    sess.level AS level,\\n    sess.start_time AS start_time,\\n    sess.end_time AS end_time,\\n    sess.day AS day,\\n    sess.date AS date,\\n    covers_llms AS covers_llms,\\n    TRUE AS covers_agents\\n}\\nRETURN DISTINCT\\n  session_title,\\n  description,\\n  instructor,\\n  session_type,\\n  theme,\\n  level,\\n  start_time,\\n  end_time,\\n  day,\\n  date,\\n  covers_llms,\\n  covers_agents\\nORDER BY session_title\"\n"
          ]
        },
        {
          "output_type": "stream",
          "name": "stdout",
          "text": [
            "\u001b[33;1m\u001b[1;3m**Sessions that cover \"LLMs\":**\n",
            "- Automate Everything: Building Agentic AI Workflows with No-Code Tools\n",
            "- Building Responsible AI Agents with Guardrails and Safety in Action\n",
            "- Deploying GenAI Safely: Strategies for Trustworthy LLMs\n",
            "- Fast and Accurate Conversational Agents: Beyond Function Calling\n",
            "- From Language to Robotics: Practical Lessons Bridging LLMs, RL, and AI\n",
            "- LLMs Are Boring. How Can We Make Them More Interesting?\n",
            "- Measuring Uncertainty in LLMs and Optimal Use of SLMs\n",
            "- Onboarding AI Agents with Human Values\n",
            "- Scaling Test-time Inference Compute & Advent of Reasoning Models\n",
            "- The Promise and Pitfalls of Synthetic Data Generation\n",
            "\n",
            "**Sessions that cover \"agents\":**\n",
            "- AI Voice Agent: The Future of Human-Computer Interaction\n",
            "- Adaptive Email Agents with DSPy: From Static Prompts to Smart Learning\n",
            "- Agent to Agent Protocol: Benefits and Workflows\n",
            "- Agentic AI Meets Responsible AI: Designing Safe Autonomous Systems\n",
            "- Agentic Knowledge Augmented Generation: The Next Leap After RAG\n",
            "- Agents at Scale: Engineering Reliable GenAI Systems for Production\n",
            "- Aligning Responsible AI with Probabilistic World of LLMs & Agents\n",
            "- Automate Everything: Building Agentic AI Workflows with No-Code Tools\n",
            "- Beyond PoCs: Building Real-World Agentic Systems\n",
            "- Bridging the AI Agent Gap: Interoperability with A2A and MCP Protocols\n",
            "- Building Effective Agentic AI Systems: Lessons from the Field\n",
            "- Building Real-Time Multi-Agent AI for Public Travel Systems\n",
            "- Building Responsible AI Agents with Guardrails and Safety in Action\n",
            "- Building a Scalable Healthcare Voice AI Contact Center with Pipecat\n",
            "- Collaborative Multi-Agent Framework for Robust SEO Content Generation\n",
            "- Creative AI Agents: Open Tools for Collaborative Media Creation\n",
            "- Detecting and Mitigating Risks in Agentic AI\n",
            "- From LLMs to Agentic AI: Solving New Problems with Multi-Agent Systems\n",
            "- From Language to Robotics: Practical Lessons Bridging LLMs, RL, and AI\n",
            "- Mastering Agentic Workflows with LangGraph\n",
            "- Model Context Protocol in Media: Choosing the Right Metrics & Strategy\n",
            "- Onboarding AI Agents with Human Values\n",
            "- Productionizing Agents : An Agent Factory Approach\n",
            "- Understanding AI Agents with MCP\n",
            "- Zero to Million: How GenAI Agents are Changing Performance Marketing\n",
            "\n",
            "**Sessions that cover both \"LLMs\" and \"agents\":**\n",
            "- Automate Everything: Building Agentic AI Workflows with No-Code Tools\n",
            "- Building Responsible AI Agents with Guardrails and Safety in Action\n",
            "- From Language to Robotics: Practical Lessons Bridging LLMs, RL, and AI\n",
            "- Onboarding AI Agents with Human Values\n",
            "- Scaling Test-time Inference Compute & Advent of Reasoning Models\u001b[0m"
          ]
        },
        {
          "output_type": "stream",
          "name": "stderr",
          "text": [
            "WARNING:opentelemetry.sdk.trace:Calling end() on an ended span.\n",
            "WARNING:opentelemetry.sdk.trace:Calling end() on an ended span.\n"
          ]
        },
        {
          "output_type": "stream",
          "name": "stdout",
          "text": [
            "\u001b[32;1m\u001b[1;3mFinal Thought: I have identified the sessions covering \"LLMs\", those covering \"agents\", and the overlap between them. I can now summarize the counts and list the sessions that cover both topics.\n",
            "\n",
            "Final Answer:\n",
            "\n",
            "**Sessions Covering LLMs:**\n",
            "- Total: **10 sessions**\n",
            "  - Automate Everything: Building Agentic AI Workflows with No-Code Tools\n",
            "  - Building Responsible AI Agents with Guardrails and Safety in Action\n",
            "  - Deploying GenAI Safely: Strategies for Trustworthy LLMs\n",
            "  - Fast and Accurate Conversational Agents: Beyond Function Calling\n",
            "  - From Language to Robotics: Practical Lessons Bridging LLMs, RL, and AI\n",
            "  - LLMs Are Boring. How Can We Make Them More Interesting?\n",
            "  - Measuring Uncertainty in LLMs and Optimal Use of SLMs\n",
            "  - Onboarding AI Agents with Human Values\n",
            "  - Scaling Test-time Inference Compute & Advent of Reasoning Models\n",
            "  - The Promise and Pitfalls of Synthetic Data Generation\n",
            "\n",
            "**Sessions Covering Agents:**\n",
            "- Total: **26 sessions**\n",
            "  - (See detailed list in the previous observation)\n",
            "\n",
            "**Sessions Covering Both LLMs and Agents:**\n",
            "- Total: **5 sessions**\n",
            "  - Automate Everything: Building Agentic AI Workflows with No-Code Tools\n",
            "  - Building Responsible AI Agents with Guardrails and Safety in Action\n",
            "  - From Language to Robotics: Practical Lessons Bridging LLMs, RL, and AI\n",
            "  - Onboarding AI Agents with Human Values\n",
            "  - Scaling Test-time Inference Compute & Advent of Reasoning Models\n",
            "\n",
            "So, there are **10 sessions covering LLMs**, **26 sessions covering agents**, and **5 sessions that cover both topics**.\n",
            "\n",
            "---\n",
            "\n",
            "Hey, just letting you know — I’m not the official app from Analytics Vidhya 🙂  \n",
            "This was built with passion by **Arun Prakash Asokan and his team** to showcase **Agentic KAG** in action,  \n",
            "and now all DHS 2025 attendees can try it out!  \n",
            "If you found this helpful, please spread the word and recommend this to your fellow attendees: [http://agentickag.dhs25.analyticsvidhya.com/](http://agentickag.dhs25.analyticsvidhya.com/)\u001b[0m\n",
            "\n",
            "\u001b[1m> Finished chain.\u001b[0m\n"
          ]
        },
        {
          "output_type": "display_data",
          "data": {
            "text/plain": [
              "<IPython.core.display.Markdown object>"
            ],
            "text/markdown": "**Sessions Covering LLMs:**\n- Total: **10 sessions**\n  - Automate Everything: Building Agentic AI Workflows with No-Code Tools\n  - Building Responsible AI Agents with Guardrails and Safety in Action\n  - Deploying GenAI Safely: Strategies for Trustworthy LLMs\n  - Fast and Accurate Conversational Agents: Beyond Function Calling\n  - From Language to Robotics: Practical Lessons Bridging LLMs, RL, and AI\n  - LLMs Are Boring. How Can We Make Them More Interesting?\n  - Measuring Uncertainty in LLMs and Optimal Use of SLMs\n  - Onboarding AI Agents with Human Values\n  - Scaling Test-time Inference Compute & Advent of Reasoning Models\n  - The Promise and Pitfalls of Synthetic Data Generation\n\n**Sessions Covering Agents:**\n- Total: **26 sessions**\n  - (See detailed list in the previous observation)\n\n**Sessions Covering Both LLMs and Agents:**\n- Total: **5 sessions**\n  - Automate Everything: Building Agentic AI Workflows with No-Code Tools\n  - Building Responsible AI Agents with Guardrails and Safety in Action\n  - From Language to Robotics: Practical Lessons Bridging LLMs, RL, and AI\n  - Onboarding AI Agents with Human Values\n  - Scaling Test-time Inference Compute & Advent of Reasoning Models\n\nSo, there are **10 sessions covering LLMs**, **26 sessions covering agents**, and **5 sessions that cover both topics**.\n\n---\n\nHey, just letting you know — I’m not the official app from Analytics Vidhya 🙂  \nThis was built with passion by **Arun Prakash Asokan and his team** to showcase **Agentic KAG** in action,  \nand now all DHS 2025 attendees can try it out!  \nIf you found this helpful, please spread the word and recommend this to your fellow attendees: [http://agentickag.dhs25.analyticsvidhya.com/](http://agentickag.dhs25.analyticsvidhya.com/)"
          },
          "metadata": {}
        }
      ]
    },
    {
      "cell_type": "code",
      "source": [
        "query = \"tell me all the sessions that happen between 12 and 2PM.\"\n",
        "query = expand_question(query)\n",
        "print(query)\n",
        "answer = run_agentic_kag(query)\n",
        "display(Markdown(answer))"
      ],
      "metadata": {
        "id": "1ka57RGkxqeD"
      },
      "execution_count": null,
      "outputs": []
    },
    {
      "cell_type": "code",
      "source": [
        "query = \"tell me all the sessions that happen between 12 and 2PM.\"\n",
        "query = expand_question(query)\n",
        "print(query)\n",
        "answer = run_agentic_kag(query)\n",
        "display(Markdown(answer))"
      ],
      "metadata": {
        "collapsed": true,
        "colab": {
          "base_uri": "https://localhost:8080/",
          "height": 1000
        },
        "id": "SkIpSLbQxVvL",
        "outputId": "a21179f9-b651-4c7e-dfb8-ae1c077420e3"
      },
      "execution_count": null,
      "outputs": [
        {
          "output_type": "stream",
          "name": "stdout",
          "text": [
            "tell me all the sessions that happen between 12 and 2PM. Current Date: 2025-08-20 Current Time: 00:49\n",
            "\n",
            "\n",
            "\u001b[1m> Entering new ParallelAgentExecutor chain...\u001b[0m\n",
            "\u001b[32;1m\u001b[1;3mQuestion: {\"query\": \"tell me all the sessions that happen between 12 and 2PM. Current Date: 2025-08-20 Current Time: 00:49\"}\n",
            "\n",
            "Thought: I need to find all sessions scheduled between 12:00 PM and 2:00 PM, regardless of the date. This requires filtering sessions based on their start and end times.\n",
            "Action: AVHybridCypher\n",
            "Action Input: List all sessions where start_time >= 12:00 and end_time <= 14:00.\u001b[0mMATCH (s:Session)\n",
            "WHERE s.start_time >= '12:00' AND s.end_time <= '14:00'\n",
            "RETURN s.title, s.description, s.instructor, s.session_type, s.theme, s.tools_discussed, s.level, s.start_time, s.end_time, s.day, s.date\n",
            "\u001b[33;1m\u001b[1;3m**Sessions where start_time >= 12:00 and end_time <= 14:00:**\n",
            "\n",
            "---\n",
            "\n",
            "- **Agents at Scale: Engineering Reliable GenAI Systems for Production**\n",
            "  - Instructor: Kartik Nighania\n",
            "  - Type: Hack Session\n",
            "  - Start: 12:00, End: 12:50, Day 1 (2025-08-20)\n",
            "\n",
            "- **Agentic Knowledge Augmented Generation: The Next Leap After RAG**\n",
            "  - Instructor: Arun Prakash Asokan\n",
            "  - Type: Hack Session\n",
            "  - Start: 12:00, End: 12:50, Day 1 (2025-08-20)\n",
            "\n",
            "- **Onboarding AI Agents with Human Values**\n",
            "  - Instructor: Syed Quiser Ahmed\n",
            "  - Type: PowerTalk\n",
            "  - Start: 12:00, End: 12:40, Day 1 (2025-08-20)\n",
            "\n",
            "- **Building Blocks of Successful AI**\n",
            "  - Instructor: Arijit Mallick\n",
            "  - Type: PowerTalk\n",
            "  - Start: 12:00, End: 12:40, Day 1 (2025-08-20)\n",
            "\n",
            "- **Building a Scalable Healthcare Voice AI Contact Center with Pipecat**\n",
            "  - Instructor: Ashish Tripathy\n",
            "  - Type: Hack Session\n",
            "  - Start: 12:55, End: 13:45, Day 1 (2025-08-20)\n",
            "\n",
            "- **Measuring Uncertainty in LLMs and Optimal Use of SLMs**\n",
            "  - Instructor: Kuldeep Jiwani\n",
            "  - Type: Hack Session\n",
            "  - Start: 12:55, End: 13:45, Day 1 (2025-08-20)\n",
            "\n",
            "- **Building Effective Agentic AI Systems: Lessons from the Field**\n",
            "  - Instructor: Dipanjan Sarkar\n",
            "  - Type: Hack Session\n",
            "  - Start: 12:45, End: 13:35, Day 1 (2025-08-20)\n",
            "\n",
            "- **LLMs Are Boring. How Can We Make Them More Interesting?**\n",
            "  - Instructor: Harshad Khadilkar\n",
            "  - Type: Hack Session\n",
            "  - Start: 12:20, End: 13:10, Day 2 (2025-08-21)\n",
            "\n",
            "- **The Promise and Pitfalls of Synthetic Data Generation**\n",
            "  - Instructor: Abhishek Divekar\n",
            "  - Type: Hack Session\n",
            "  - Start: 12:20, End: 13:10, Day 2 (2025-08-21)\n",
            "\n",
            "- **Understanding AI Agents with MCP**\n",
            "  - Instructors: Nitin Agarwal; Rutvik Acharya\n",
            "  - Type: Hack Session\n",
            "  - Start: 12:05, End: 13:00, Day 2 (2025-08-21)\n",
            "\n",
            "- **Fast and Accurate Conversational Agents: Beyond Function Calling**\n",
            "  - Instructor: Daksh Varshneya\n",
            "  - Type: Hack Session\n",
            "  - Start: 12:05, End: 12:55, Day 2 (2025-08-21)\n",
            "\n",
            "- **Automate Everything: Building Agentic AI Workflows with No-Code Tools**\n",
            "  - Instructor: Mayank Aggarwal\n",
            "  - Type: Hack Session\n",
            "  - Start: 12:55, End: 13:45, Day 3 (2025-08-22)\n",
            "\n",
            "- **Adaptive Email Agents with DSPy: From Static Prompts to Smart Learning**\n",
            "  - Instructor: Praneeth Paikray\n",
            "  - Type: Hack Session\n",
            "  - Start: 12:55, End: 13:45, Day 3 (2025-08-22)\n",
            "\n",
            "- **AI Voice Agent: The Future of Human-Computer Interaction**\n",
            "  - Instructors: Manoranjan Rajguru; Ranjani Mani\n",
            "  - Type: Hack Session\n",
            "  - Start: 13:10, End: 14:00, Day 3 (2025-08-22)\n",
            "\n",
            "- **Architecting AI: Practical Patterns for Multi-Agentic Workflows**\n",
            "  - Instructor: Pranjal Singh\n",
            "  - Type: Hack Session\n",
            "  - Start: 13:10, End: 14:00, Day 3 (2025-08-22)\n",
            "\n",
            "- **AV Luminary Awards - Top 7 AI Community Contributors**\n",
            "  - Type: Awards\n",
            "  - Start: 12:35, End: 12:50, Day 3 (2025-08-22)\u001b[0m"
          ]
        },
        {
          "output_type": "stream",
          "name": "stderr",
          "text": [
            "WARNING:opentelemetry.sdk.trace:Calling end() on an ended span.\n",
            "WARNING:opentelemetry.sdk.trace:Calling end() on an ended span.\n"
          ]
        },
        {
          "output_type": "stream",
          "name": "stdout",
          "text": [
            "\u001b[32;1m\u001b[1;3mFinal Thought: I have gathered all sessions across all days of DHS 2025 that are scheduled between 12:00 PM and 2:00 PM, including their titles, instructors, types, and timings.\n",
            "\n",
            "Final Answer:\n",
            "\n",
            "**Here are all the sessions happening between 12:00 PM and 2:00 PM at DHS 2025:**\n",
            "\n",
            "---\n",
            "\n",
            "- **Day 1 (2025-08-20):**\n",
            "  - **Agents at Scale: Engineering Reliable GenAI Systems for Production**\n",
            "    - Instructor: Kartik Nighania\n",
            "    - Type: Hack Session\n",
            "    - Time: 12:00 – 12:50\n",
            "  - **Agentic Knowledge Augmented Generation: The Next Leap After RAG**\n",
            "    - Instructor: Arun Prakash Asokan\n",
            "    - Type: Hack Session\n",
            "    - Time: 12:00 – 12:50\n",
            "  - **Onboarding AI Agents with Human Values**\n",
            "    - Instructor: Syed Quiser Ahmed\n",
            "    - Type: PowerTalk\n",
            "    - Time: 12:00 – 12:40\n",
            "  - **Building Blocks of Successful AI**\n",
            "    - Instructor: Arijit Mallick\n",
            "    - Type: PowerTalk\n",
            "    - Time: 12:00 – 12:40\n",
            "  - **Building a Scalable Healthcare Voice AI Contact Center with Pipecat**\n",
            "    - Instructor: Ashish Tripathy\n",
            "    - Type: Hack Session\n",
            "    - Time: 12:55 – 13:45\n",
            "  - **Measuring Uncertainty in LLMs and Optimal Use of SLMs**\n",
            "    - Instructor: Kuldeep Jiwani\n",
            "    - Type: Hack Session\n",
            "    - Time: 12:55 – 13:45\n",
            "  - **Building Effective Agentic AI Systems: Lessons from the Field**\n",
            "    - Instructor: Dipanjan Sarkar\n",
            "    - Type: Hack Session\n",
            "    - Time: 12:45 – 13:35\n",
            "\n",
            "---\n",
            "\n",
            "- **Day 2 (2025-08-21):**\n",
            "  - **LLMs Are Boring. How Can We Make Them More Interesting?**\n",
            "    - Instructor: Harshad Khadilkar\n",
            "    - Type: Hack Session\n",
            "    - Time: 12:20 – 13:10\n",
            "  - **The Promise and Pitfalls of Synthetic Data Generation**\n",
            "    - Instructor: Abhishek Divekar\n",
            "    - Type: Hack Session\n",
            "    - Time: 12:20 – 13:10\n",
            "  - **Understanding AI Agents with MCP**\n",
            "    - Instructors: Nitin Agarwal; Rutvik Acharya\n",
            "    - Type: Hack Session\n",
            "    - Time: 12:05 – 13:00\n",
            "  - **Fast and Accurate Conversational Agents: Beyond Function Calling**\n",
            "    - Instructor: Daksh Varshneya\n",
            "    - Type: Hack Session\n",
            "    - Time: 12:05 – 12:55\n",
            "\n",
            "---\n",
            "\n",
            "- **Day 3 (2025-08-22):**\n",
            "  - **Automate Everything: Building Agentic AI Workflows with No-Code Tools**\n",
            "    - Instructor: Mayank Aggarwal\n",
            "    - Type: Hack Session\n",
            "    - Time: 12:55 – 13:45\n",
            "  - **Adaptive Email Agents with DSPy: From Static Prompts to Smart Learning**\n",
            "    - Instructor: Praneeth Paikray\n",
            "    - Type: Hack Session\n",
            "    - Time: 12:55 – 13:45\n",
            "  - **AI Voice Agent: The Future of Human-Computer Interaction**\n",
            "    - Instructors: Manoranjan Rajguru; Ranjani Mani\n",
            "    - Type: Hack Session\n",
            "    - Time: 13:10 – 14:00\n",
            "  - **Architecting AI: Practical Patterns for Multi-Agentic Workflows**\n",
            "    - Instructor: Pranjal Singh\n",
            "    - Type: Hack Session\n",
            "    - Time: 13:10 – 14:00\n",
            "  - **AV Luminary Awards - Top 7 AI Community Contributors**\n",
            "    - Type: Awards\n",
            "    - Time: 12:35 – 12:50\n",
            "\n",
            "---\n",
            "\n",
            "If you need details for a specific day or want help picking the best session for your interests, just let me know!\n",
            "\n",
            "---\n",
            "\n",
            "> Hey, just letting you know — I’m not the official app from Analytics Vidhya 🙂  \n",
            "> This was built with passion by **Arun Prakash Asokan and his team** to showcase **Agentic KAG** in action,  \n",
            "> and now all DHS 2025 attendees can try it out!  \n",
            "> Spread the word and recommend this to your fellow attendees: [http://agentickag.dhs25.analyticsvidhya.com/](http://agentickag.dhs25.analyticsvidhya.com/)\u001b[0m\n",
            "\n",
            "\u001b[1m> Finished chain.\u001b[0m\n"
          ]
        },
        {
          "output_type": "display_data",
          "data": {
            "text/plain": [
              "<IPython.core.display.Markdown object>"
            ],
            "text/markdown": "**Here are all the sessions happening between 12:00 PM and 2:00 PM at DHS 2025:**\n\n---\n\n- **Day 1 (2025-08-20):**\n  - **Agents at Scale: Engineering Reliable GenAI Systems for Production**\n    - Instructor: Kartik Nighania\n    - Type: Hack Session\n    - Time: 12:00 – 12:50\n  - **Agentic Knowledge Augmented Generation: The Next Leap After RAG**\n    - Instructor: Arun Prakash Asokan\n    - Type: Hack Session\n    - Time: 12:00 – 12:50\n  - **Onboarding AI Agents with Human Values**\n    - Instructor: Syed Quiser Ahmed\n    - Type: PowerTalk\n    - Time: 12:00 – 12:40\n  - **Building Blocks of Successful AI**\n    - Instructor: Arijit Mallick\n    - Type: PowerTalk\n    - Time: 12:00 – 12:40\n  - **Building a Scalable Healthcare Voice AI Contact Center with Pipecat**\n    - Instructor: Ashish Tripathy\n    - Type: Hack Session\n    - Time: 12:55 – 13:45\n  - **Measuring Uncertainty in LLMs and Optimal Use of SLMs**\n    - Instructor: Kuldeep Jiwani\n    - Type: Hack Session\n    - Time: 12:55 – 13:45\n  - **Building Effective Agentic AI Systems: Lessons from the Field**\n    - Instructor: Dipanjan Sarkar\n    - Type: Hack Session\n    - Time: 12:45 – 13:35\n\n---\n\n- **Day 2 (2025-08-21):**\n  - **LLMs Are Boring. How Can We Make Them More Interesting?**\n    - Instructor: Harshad Khadilkar\n    - Type: Hack Session\n    - Time: 12:20 – 13:10\n  - **The Promise and Pitfalls of Synthetic Data Generation**\n    - Instructor: Abhishek Divekar\n    - Type: Hack Session\n    - Time: 12:20 – 13:10\n  - **Understanding AI Agents with MCP**\n    - Instructors: Nitin Agarwal; Rutvik Acharya\n    - Type: Hack Session\n    - Time: 12:05 – 13:00\n  - **Fast and Accurate Conversational Agents: Beyond Function Calling**\n    - Instructor: Daksh Varshneya\n    - Type: Hack Session\n    - Time: 12:05 – 12:55\n\n---\n\n- **Day 3 (2025-08-22):**\n  - **Automate Everything: Building Agentic AI Workflows with No-Code Tools**\n    - Instructor: Mayank Aggarwal\n    - Type: Hack Session\n    - Time: 12:55 – 13:45\n  - **Adaptive Email Agents with DSPy: From Static Prompts to Smart Learning**\n    - Instructor: Praneeth Paikray\n    - Type: Hack Session\n    - Time: 12:55 – 13:45\n  - **AI Voice Agent: The Future of Human-Computer Interaction**\n    - Instructors: Manoranjan Rajguru; Ranjani Mani\n    - Type: Hack Session\n    - Time: 13:10 – 14:00\n  - **Architecting AI: Practical Patterns for Multi-Agentic Workflows**\n    - Instructor: Pranjal Singh\n    - Type: Hack Session\n    - Time: 13:10 – 14:00\n  - **AV Luminary Awards - Top 7 AI Community Contributors**\n    - Type: Awards\n    - Time: 12:35 – 12:50\n\n---\n\nIf you need details for a specific day or want help picking the best session for your interests, just let me know!\n\n---\n\n> Hey, just letting you know — I’m not the official app from Analytics Vidhya 🙂  \n> This was built with passion by **Arun Prakash Asokan and his team** to showcase **Agentic KAG** in action,  \n> and now all DHS 2025 attendees can try it out!  \n> Spread the word and recommend this to your fellow attendees: [http://agentickag.dhs25.analyticsvidhya.com/](http://agentickag.dhs25.analyticsvidhya.com/)"
          },
          "metadata": {}
        }
      ]
    },
    {
      "cell_type": "code",
      "source": [
        "query = \"tell me all the sessions that happen between 12:00 and 15:30.\"\n",
        "query = expand_question(query)\n",
        "print(query)\n",
        "answer = run_agentic_kag(query)\n",
        "display(Markdown(answer))"
      ],
      "metadata": {
        "collapsed": true,
        "colab": {
          "base_uri": "https://localhost:8080/",
          "height": 1000
        },
        "id": "Dc884q0owl6h",
        "outputId": "da8f9ab3-c3f2-497b-ff34-72dae4058b82"
      },
      "execution_count": null,
      "outputs": [
        {
          "output_type": "stream",
          "name": "stdout",
          "text": [
            "tell me all the sessions that happen between 12:00 and 15:30. Current Date: 2025-08-20 Current Time: 00:47\n",
            "\n",
            "\n",
            "\u001b[1m> Entering new ParallelAgentExecutor chain...\u001b[0m\n",
            "\u001b[32;1m\u001b[1;3mQuestion: {\"query\": \"tell me all the sessions that happen between 12:00 and 15:30. Current Date: 2025-08-20 Current Time: 00:47\"}\n",
            "\n",
            "Thought: I need to find all sessions whose start and/or end times fall between 12:00 and 15:30. This requires querying the session nodes with time filtering.\n",
            "Action: AVHybridCypher\n",
            "Action Input: List all sessions where start_time >= 12:00 and end_time <= 15:30.\u001b[0mMATCH (s:Session)\n",
            "WHERE s.start_time >= '12:00' AND s.end_time <= '15:30'\n",
            "RETURN s.title, s.description, s.instructor, s.session_type, s.theme, s.tools_discussed, s.level, s.start_time, s.end_time, s.day, s.date\n"
          ]
        },
        {
          "output_type": "stream",
          "name": "stderr",
          "text": [
            "ERROR:neo4j.io:[#B038]  _: <CONNECTION> error: Failed to read from defunct connection IPv4Address(('neo4j-database-nlb-631c5f2f75c6d422.elb.ap-south-1.amazonaws.com', 7687)) (ResolvedIPv4Address(('52.66.31.19', 7687))): ConnectionResetError(104, 'Connection reset by peer')\n",
            "WARNING:neo4j.pool:Transaction failed and will be retried in 1.1897804225663473s (Failed to read from defunct connection IPv4Address(('neo4j-database-nlb-631c5f2f75c6d422.elb.ap-south-1.amazonaws.com', 7687)) (ResolvedIPv4Address(('52.66.31.19', 7687))))\n"
          ]
        },
        {
          "output_type": "stream",
          "name": "stdout",
          "text": [
            "\u001b[33;1m\u001b[1;3m**Sessions where start_time ≥ 12:00 and end_time ≤ 15:30:**\n",
            "\n",
            "- **Agents at Scale: Engineering Reliable GenAI Systems for Production**\n",
            "  - Instructor: Kartik Nighania\n",
            "  - Type: Hack Session\n",
            "  - Start: 12:00, End: 12:50, Day 1\n",
            "\n",
            "- **Agentic Knowledge Augmented Generation: The Next Leap After RAG**\n",
            "  - Instructor: Arun Prakash Asokan\n",
            "  - Type: Hack Session\n",
            "  - Start: 12:00, End: 12:50, Day 1\n",
            "\n",
            "- **Onboarding AI Agents with Human Values**\n",
            "  - Instructor: Syed Quiser Ahmed\n",
            "  - Type: PowerTalk\n",
            "  - Start: 12:00, End: 12:40, Day 1\n",
            "\n",
            "- **Building Blocks of Successful AI**\n",
            "  - Instructor: Arijit Mallick\n",
            "  - Type: PowerTalk\n",
            "  - Start: 12:00, End: 12:40, Day 1\n",
            "\n",
            "- **Fast and Accurate Conversational Agents: Beyond Function Calling**\n",
            "  - Instructor: Daksh Varshneya\n",
            "  - Type: Hack Session\n",
            "  - Start: 12:05, End: 12:55, Day 2\n",
            "\n",
            "- **Understanding AI Agents with MCP**\n",
            "  - Instructor: Nitin Agarwal; Rutvik Acharya\n",
            "  - Type: Hack Session\n",
            "  - Start: 12:05, End: 13:00, Day 2\n",
            "\n",
            "- **Measuring Uncertainty in LLMs and Optimal Use of SLMs**\n",
            "  - Instructor: Kuldeep Jiwani\n",
            "  - Type: Hack Session\n",
            "  - Start: 12:55, End: 13:45, Day 1\n",
            "\n",
            "- **Building a Scalable Healthcare Voice AI Contact Center with Pipecat**\n",
            "  - Instructor: Ashish Tripathy\n",
            "  - Type: Hack Session\n",
            "  - Start: 12:55, End: 13:45, Day 1\n",
            "\n",
            "- **Adaptive Email Agents with DSPy: From Static Prompts to Smart Learning**\n",
            "  - Instructor: Praneeth Paikray\n",
            "  - Type: Hack Session\n",
            "  - Start: 12:55, End: 13:45, Day 3\n",
            "\n",
            "- **Automate Everything: Building Agentic AI Workflows with No-Code Tools**\n",
            "  - Instructor: Mayank Aggarwal\n",
            "  - Type: Hack Session\n",
            "  - Start: 12:55, End: 13:45, Day 3\n",
            "\n",
            "- **LLMs Are Boring. How Can We Make Them More Interesting?**\n",
            "  - Instructor: Harshad Khadilkar\n",
            "  - Type: Hack Session\n",
            "  - Start: 12:20, End: 13:10, Day 2\n",
            "\n",
            "- **The Promise and Pitfalls of Synthetic Data Generation**\n",
            "  - Instructor: Abhishek Divekar\n",
            "  - Type: Hack Session\n",
            "  - Start: 12:20, End: 13:10, Day 2\n",
            "\n",
            "- **Building Effective Agentic AI Systems: Lessons from the Field**\n",
            "  - Instructor: Dipanjan Sarkar\n",
            "  - Type: Hack Session\n",
            "  - Start: 12:45, End: 13:35, Day 1\n",
            "\n",
            "- **Architecting AI: Practical Patterns for Multi-Agentic Workflows**\n",
            "  - Instructor: Pranjal Singh\n",
            "  - Type: Hack Session\n",
            "  - Start: 13:10, End: 14:00, Day 3\n",
            "\n",
            "- **AI Voice Agent: The Future of Human-Computer Interaction**\n",
            "  - Instructor: Manoranjan Rajguru; Ranjani Mani\n",
            "  - Type: Hack Session\n",
            "  - Start: 13:10, End: 14:00, Day 3\n",
            "\n",
            "- **From LLMs to Agentic AI: Solving New Problems with Multi-Agent Systems**\n",
            "  - Instructor: Alessandro Romano\n",
            "  - Type: Hack Session\n",
            "  - Start: 14:00, End: 14:50, Day 2\n",
            "\n",
            "- **RIP, Data Scientists**\n",
            "  - Instructor: Anand S\n",
            "  - Type: Hack Session\n",
            "  - Start: 13:50, End: 14:40, Day 2\n",
            "\n",
            "- **Full-Stack Agentic AI: Build, Evaluate, and Scale with NVIDIA Tools**\n",
            "  - Instructor: Saurav Agarwal\n",
            "  - Type: Hack Session\n",
            "  - Start: 13:50, End: 14:50, Day 2\n",
            "\n",
            "- **From Risk to Retention: The Anatomy of a Customer Saved**\n",
            "  - Instructor: Pavak Biswal; Abhilash Kulkarni\n",
            "  - Type: Hack Session\n",
            "  - Start: 14:20, End: 15:10, Day 2\n",
            "\n",
            "- **Aligning Responsible AI with Probabilistic World of LLMs & Agents**\n",
            "  - Instructor: Shubhradeep Nandi\n",
            "  - Type: Hack Session\n",
            "  - Start: 14:15, End: 15:05, Day 1\n",
            "\n",
            "- **vLLM + llm-d: Scalable, Efficient LLM Inference in Kubernetes**\n",
            "  - Instructor: Atul Ramesh Deshpande\n",
            "  - Type: PowerTalk\n",
            "  - Start: 14:25, End: 15:05, Day 1\n",
            "\n",
            "- **Human-In-The-Loop Agentic Systems**\n",
            "  - Instructor: Deepak Sharma\n",
            "  - Type: Hack Session\n",
            "  - Start: 14:35, End: 15:25, Day 1\n",
            "\n",
            "- **Agentic AI Meets Responsible AI: Designing Safe Autonomous Systems**\n",
            "  - Instructor: Praveen Kumar GS\n",
            "  - Type: PowerTalk\n",
            "  - Start: 14:45, End: 15:25, Day 1\n",
            "\n",
            "- **Zero to Million: How GenAI Agents are Changing Performance Marketing**\n",
            "  - Instructor: Krishna Kumar Tiwari\n",
            "  - Type: PowerTalk\n",
            "  - Start: 14:45, End: 15:25, Day 2\u001b[0m"
          ]
        },
        {
          "output_type": "stream",
          "name": "stderr",
          "text": [
            "WARNING:opentelemetry.sdk.trace:Calling end() on an ended span.\n",
            "WARNING:opentelemetry.sdk.trace:Calling end() on an ended span.\n"
          ]
        },
        {
          "output_type": "stream",
          "name": "stdout",
          "text": [
            "\u001b[32;1m\u001b[1;3mFinal Thought: I have retrieved a comprehensive list of all sessions at DHS 2025 that start and/or end between 12:00 and 15:30, including their titles, instructors, types, and timings.\n",
            "Final Answer: \n",
            "\n",
            "**Here are all the sessions happening between 12:00 and 15:30 at DHS 2025:**\n",
            "\n",
            "---\n",
            "\n",
            "- **Agents at Scale: Engineering Reliable GenAI Systems for Production**\n",
            "  - Instructor: Kartik Nighania\n",
            "  - Type: Hack Session\n",
            "  - Time: 12:00–12:50, Day 1\n",
            "\n",
            "- **Agentic Knowledge Augmented Generation: The Next Leap After RAG**\n",
            "  - Instructor: Arun Prakash Asokan\n",
            "  - Type: Hack Session\n",
            "  - Time: 12:00–12:50, Day 1\n",
            "\n",
            "- **Onboarding AI Agents with Human Values**\n",
            "  - Instructor: Syed Quiser Ahmed\n",
            "  - Type: PowerTalk\n",
            "  - Time: 12:00–12:40, Day 1\n",
            "\n",
            "- **Building Blocks of Successful AI**\n",
            "  - Instructor: Arijit Mallick\n",
            "  - Type: PowerTalk\n",
            "  - Time: 12:00–12:40, Day 1\n",
            "\n",
            "- **Fast and Accurate Conversational Agents: Beyond Function Calling**\n",
            "  - Instructor: Daksh Varshneya\n",
            "  - Type: Hack Session\n",
            "  - Time: 12:05–12:55, Day 2\n",
            "\n",
            "- **Understanding AI Agents with MCP**\n",
            "  - Instructors: Nitin Agarwal, Rutvik Acharya\n",
            "  - Type: Hack Session\n",
            "  - Time: 12:05–13:00, Day 2\n",
            "\n",
            "- **Measuring Uncertainty in LLMs and Optimal Use of SLMs**\n",
            "  - Instructor: Kuldeep Jiwani\n",
            "  - Type: Hack Session\n",
            "  - Time: 12:55–13:45, Day 1\n",
            "\n",
            "- **Building a Scalable Healthcare Voice AI Contact Center with Pipecat**\n",
            "  - Instructor: Ashish Tripathy\n",
            "  - Type: Hack Session\n",
            "  - Time: 12:55–13:45, Day 1\n",
            "\n",
            "- **Adaptive Email Agents with DSPy: From Static Prompts to Smart Learning**\n",
            "  - Instructor: Praneeth Paikray\n",
            "  - Type: Hack Session\n",
            "  - Time: 12:55–13:45, Day 3\n",
            "\n",
            "- **Automate Everything: Building Agentic AI Workflows with No-Code Tools**\n",
            "  - Instructor: Mayank Aggarwal\n",
            "  - Type: Hack Session\n",
            "  - Time: 12:55–13:45, Day 3\n",
            "\n",
            "- **LLMs Are Boring. How Can We Make Them More Interesting?**\n",
            "  - Instructor: Harshad Khadilkar\n",
            "  - Type: Hack Session\n",
            "  - Time: 12:20–13:10, Day 2\n",
            "\n",
            "- **The Promise and Pitfalls of Synthetic Data Generation**\n",
            "  - Instructor: Abhishek Divekar\n",
            "  - Type: Hack Session\n",
            "  - Time: 12:20–13:10, Day 2\n",
            "\n",
            "- **Building Effective Agentic AI Systems: Lessons from the Field**\n",
            "  - Instructor: Dipanjan Sarkar\n",
            "  - Type: Hack Session\n",
            "  - Time: 12:45–13:35, Day 1\n",
            "\n",
            "- **Architecting AI: Practical Patterns for Multi-Agentic Workflows**\n",
            "  - Instructor: Pranjal Singh\n",
            "  - Type: Hack Session\n",
            "  - Time: 13:10–14:00, Day 3\n",
            "\n",
            "- **AI Voice Agent: The Future of Human-Computer Interaction**\n",
            "  - Instructors: Manoranjan Rajguru, Ranjani Mani\n",
            "  - Type: Hack Session\n",
            "  - Time: 13:10–14:00, Day 3\n",
            "\n",
            "- **From LLMs to Agentic AI: Solving New Problems with Multi-Agent Systems**\n",
            "  - Instructor: Alessandro Romano\n",
            "  - Type: Hack Session\n",
            "  - Time: 14:00–14:50, Day 2\n",
            "\n",
            "- **RIP, Data Scientists**\n",
            "  - Instructor: Anand S\n",
            "  - Type: Hack Session\n",
            "  - Time: 13:50–14:40, Day 2\n",
            "\n",
            "- **Full-Stack Agentic AI: Build, Evaluate, and Scale with NVIDIA Tools**\n",
            "  - Instructor: Saurav Agarwal\n",
            "  - Type: Hack Session\n",
            "  - Time: 13:50–14:50, Day 2\n",
            "\n",
            "- **From Risk to Retention: The Anatomy of a Customer Saved**\n",
            "  - Instructors: Pavak Biswal, Abhilash Kulkarni\n",
            "  - Type: Hack Session\n",
            "  - Time: 14:20–15:10, Day 2\n",
            "\n",
            "- **Aligning Responsible AI with Probabilistic World of LLMs & Agents**\n",
            "  - Instructor: Shubhradeep Nandi\n",
            "  - Type: Hack Session\n",
            "  - Time: 14:15–15:05, Day 1\n",
            "\n",
            "- **vLLM + llm-d: Scalable, Efficient LLM Inference in Kubernetes**\n",
            "  - Instructor: Atul Ramesh Deshpande\n",
            "  - Type: PowerTalk\n",
            "  - Time: 14:25–15:05, Day 1\n",
            "\n",
            "- **Human-In-The-Loop Agentic Systems**\n",
            "  - Instructor: Deepak Sharma\n",
            "  - Type: Hack Session\n",
            "  - Time: 14:35–15:25, Day 1\n",
            "\n",
            "- **Agentic AI Meets Responsible AI: Designing Safe Autonomous Systems**\n",
            "  - Instructor: Praveen Kumar GS\n",
            "  - Type: PowerTalk\n",
            "  - Time: 14:45–15:25, Day 1\n",
            "\n",
            "- **Zero to Million: How GenAI Agents are Changing Performance Marketing**\n",
            "  - Instructor: Krishna Kumar Tiwari\n",
            "  - Type: PowerTalk\n",
            "  - Time: 14:45–15:25, Day 2\n",
            "\n",
            "---\n",
            "\n",
            "**Tip:** If you want to filter by a specific day or need more details about any session, just ask!\n",
            "\n",
            "---\n",
            "\n",
            "Hey, just letting you know — I’m not the official app from Analytics Vidhya 🙂  \n",
            "This was built with passion by **Arun Prakash Asokan and his team** to showcase **Agentic KAG** in action,  \n",
            "and now all DHS 2025 attendees can try it out!  \n",
            "Spread the word and recommend this to your fellow attendees: [http://agentickag.dhs25.analyticsvidhya.com/](http://agentickag.dhs25.analyticsvidhya.com/)\u001b[0m\n",
            "\n",
            "\u001b[1m> Finished chain.\u001b[0m\n"
          ]
        },
        {
          "output_type": "display_data",
          "data": {
            "text/plain": [
              "<IPython.core.display.Markdown object>"
            ],
            "text/markdown": "**Here are all the sessions happening between 12:00 and 15:30 at DHS 2025:**\n\n---\n\n- **Agents at Scale: Engineering Reliable GenAI Systems for Production**\n  - Instructor: Kartik Nighania\n  - Type: Hack Session\n  - Time: 12:00–12:50, Day 1\n\n- **Agentic Knowledge Augmented Generation: The Next Leap After RAG**\n  - Instructor: Arun Prakash Asokan\n  - Type: Hack Session\n  - Time: 12:00–12:50, Day 1\n\n- **Onboarding AI Agents with Human Values**\n  - Instructor: Syed Quiser Ahmed\n  - Type: PowerTalk\n  - Time: 12:00–12:40, Day 1\n\n- **Building Blocks of Successful AI**\n  - Instructor: Arijit Mallick\n  - Type: PowerTalk\n  - Time: 12:00–12:40, Day 1\n\n- **Fast and Accurate Conversational Agents: Beyond Function Calling**\n  - Instructor: Daksh Varshneya\n  - Type: Hack Session\n  - Time: 12:05–12:55, Day 2\n\n- **Understanding AI Agents with MCP**\n  - Instructors: Nitin Agarwal, Rutvik Acharya\n  - Type: Hack Session\n  - Time: 12:05–13:00, Day 2\n\n- **Measuring Uncertainty in LLMs and Optimal Use of SLMs**\n  - Instructor: Kuldeep Jiwani\n  - Type: Hack Session\n  - Time: 12:55–13:45, Day 1\n\n- **Building a Scalable Healthcare Voice AI Contact Center with Pipecat**\n  - Instructor: Ashish Tripathy\n  - Type: Hack Session\n  - Time: 12:55–13:45, Day 1\n\n- **Adaptive Email Agents with DSPy: From Static Prompts to Smart Learning**\n  - Instructor: Praneeth Paikray\n  - Type: Hack Session\n  - Time: 12:55–13:45, Day 3\n\n- **Automate Everything: Building Agentic AI Workflows with No-Code Tools**\n  - Instructor: Mayank Aggarwal\n  - Type: Hack Session\n  - Time: 12:55–13:45, Day 3\n\n- **LLMs Are Boring. How Can We Make Them More Interesting?**\n  - Instructor: Harshad Khadilkar\n  - Type: Hack Session\n  - Time: 12:20–13:10, Day 2\n\n- **The Promise and Pitfalls of Synthetic Data Generation**\n  - Instructor: Abhishek Divekar\n  - Type: Hack Session\n  - Time: 12:20–13:10, Day 2\n\n- **Building Effective Agentic AI Systems: Lessons from the Field**\n  - Instructor: Dipanjan Sarkar\n  - Type: Hack Session\n  - Time: 12:45–13:35, Day 1\n\n- **Architecting AI: Practical Patterns for Multi-Agentic Workflows**\n  - Instructor: Pranjal Singh\n  - Type: Hack Session\n  - Time: 13:10–14:00, Day 3\n\n- **AI Voice Agent: The Future of Human-Computer Interaction**\n  - Instructors: Manoranjan Rajguru, Ranjani Mani\n  - Type: Hack Session\n  - Time: 13:10–14:00, Day 3\n\n- **From LLMs to Agentic AI: Solving New Problems with Multi-Agent Systems**\n  - Instructor: Alessandro Romano\n  - Type: Hack Session\n  - Time: 14:00–14:50, Day 2\n\n- **RIP, Data Scientists**\n  - Instructor: Anand S\n  - Type: Hack Session\n  - Time: 13:50–14:40, Day 2\n\n- **Full-Stack Agentic AI: Build, Evaluate, and Scale with NVIDIA Tools**\n  - Instructor: Saurav Agarwal\n  - Type: Hack Session\n  - Time: 13:50–14:50, Day 2\n\n- **From Risk to Retention: The Anatomy of a Customer Saved**\n  - Instructors: Pavak Biswal, Abhilash Kulkarni\n  - Type: Hack Session\n  - Time: 14:20–15:10, Day 2\n\n- **Aligning Responsible AI with Probabilistic World of LLMs & Agents**\n  - Instructor: Shubhradeep Nandi\n  - Type: Hack Session\n  - Time: 14:15–15:05, Day 1\n\n- **vLLM + llm-d: Scalable, Efficient LLM Inference in Kubernetes**\n  - Instructor: Atul Ramesh Deshpande\n  - Type: PowerTalk\n  - Time: 14:25–15:05, Day 1\n\n- **Human-In-The-Loop Agentic Systems**\n  - Instructor: Deepak Sharma\n  - Type: Hack Session\n  - Time: 14:35–15:25, Day 1\n\n- **Agentic AI Meets Responsible AI: Designing Safe Autonomous Systems**\n  - Instructor: Praveen Kumar GS\n  - Type: PowerTalk\n  - Time: 14:45–15:25, Day 1\n\n- **Zero to Million: How GenAI Agents are Changing Performance Marketing**\n  - Instructor: Krishna Kumar Tiwari\n  - Type: PowerTalk\n  - Time: 14:45–15:25, Day 2\n\n---\n\n**Tip:** If you want to filter by a specific day or need more details about any session, just ask!\n\n---\n\nHey, just letting you know — I’m not the official app from Analytics Vidhya 🙂  \nThis was built with passion by **Arun Prakash Asokan and his team** to showcase **Agentic KAG** in action,  \nand now all DHS 2025 attendees can try it out!  \nSpread the word and recommend this to your fellow attendees: [http://agentickag.dhs25.analyticsvidhya.com/](http://agentickag.dhs25.analyticsvidhya.com/)"
          },
          "metadata": {}
        }
      ]
    },
    {
      "cell_type": "code",
      "source": [
        "query = \"Shortest collaboration path between two speakers Arun and Gauri\"\n",
        "answer = run_agentic_kag(query)\n",
        "display(Markdown(answer))"
      ],
      "metadata": {
        "collapsed": true,
        "colab": {
          "base_uri": "https://localhost:8080/",
          "height": 573
        },
        "id": "AxzERTbzsm9t",
        "outputId": "ebe50889-e8e7-43d4-80fd-d49c7243b3c8"
      },
      "execution_count": null,
      "outputs": [
        {
          "output_type": "stream",
          "name": "stdout",
          "text": [
            "\n",
            "\n",
            "\u001b[1m> Entering new ParallelAgentExecutor chain...\u001b[0m\n",
            "\u001b[32;1m\u001b[1;3mQuestion: {\"query\": \"Shortest collaboration path between two speakers Arun and Gauri\"}\n",
            "\n",
            "Thought: I need to find the shortest collaboration path between the speakers Arun and Gauri, which involves traversing the relationships between speakers, sessions, and possibly other entities in the knowledge graph.\n",
            "Action: AVHybridCypher\n",
            "Action Input: \"Find the shortest collaboration path between speaker Arun and speaker Gauri\"\u001b[0mMATCH (start:Speaker), (end:Speaker)\n",
            "WHERE toLower(start.name) = toLower('Arun') AND toLower(end.name) = toLower('Gauri')\n",
            "CALL apoc.algo.dijkstra(start, end, 'PRESENTS|CONDUCTS|WORKS_FOR|STUDIED_AT|COVERS|USES|HOSTED_AT|HOSTS|SPONSORS', null) YIELD path, weight\n",
            "RETURN path\n",
            "ORDER BY length(path) ASC\n",
            "LIMIT 1\n",
            "\u001b[33;1m\u001b[1;3mI can't answer this question without context\u001b[0m"
          ]
        },
        {
          "output_type": "stream",
          "name": "stderr",
          "text": [
            "WARNING:opentelemetry.sdk.trace:Calling end() on an ended span.\n",
            "WARNING:opentelemetry.sdk.trace:Calling end() on an ended span.\n"
          ]
        },
        {
          "output_type": "stream",
          "name": "stdout",
          "text": [
            "\u001b[32;1m\u001b[1;3mFinal Thought: The system was unable to find the shortest collaboration path between Arun and Gauri, likely due to missing or insufficient context about their participation or relationships in the knowledge graph.\n",
            "\n",
            "Final Answer: Sorry, I couldn't find the shortest collaboration path between Arun and Gauri based on the available information. If you have more details (like full names or session titles), please provide them and I'll try again! \n",
            "\n",
            "Hey, just letting you know — I’m not the official app from Analytics Vidhya 🙂  \n",
            "This was built with passion by Arun Prakash Asokan and his team to showcase Agentic KAG in action,  \n",
            "and now all DHS 2025 attendees can try it out!  \n",
            "Feel free to recommend this app to your fellow attendees: [http://agentickag.dhs25.analyticsvidhya.com/](http://agentickag.dhs25.analyticsvidhya.com/)\u001b[0m\n",
            "\n",
            "\u001b[1m> Finished chain.\u001b[0m\n"
          ]
        },
        {
          "output_type": "display_data",
          "data": {
            "text/plain": [
              "<IPython.core.display.Markdown object>"
            ],
            "text/markdown": "Sorry, I couldn't find the shortest collaboration path between Arun and Gauri based on the available information. If you have more details (like full names or session titles), please provide them and I'll try again! \n\nHey, just letting you know — I’m not the official app from Analytics Vidhya 🙂  \nThis was built with passion by Arun Prakash Asokan and his team to showcase Agentic KAG in action,  \nand now all DHS 2025 attendees can try it out!  \nFeel free to recommend this app to your fellow attendees: [http://agentickag.dhs25.analyticsvidhya.com/](http://agentickag.dhs25.analyticsvidhya.com/)"
          },
          "metadata": {}
        }
      ]
    },
    {
      "cell_type": "code",
      "source": [
        "query = \" Which topics are the most frequently covered across all sessions and workshops at DHS 2025?\"\n",
        "answer = run_agentic_kag(query)\n",
        "display(Markdown(answer))"
      ],
      "metadata": {
        "colab": {
          "base_uri": "https://localhost:8080/",
          "height": 1000
        },
        "collapsed": true,
        "id": "KO7SNyR469xK",
        "outputId": "1160bcd5-e67d-4898-bd27-79b372ee11ba"
      },
      "execution_count": null,
      "outputs": [
        {
          "output_type": "stream",
          "name": "stdout",
          "text": [
            "\n",
            "\n",
            "\u001b[1m> Entering new ParallelAgentExecutor chain...\u001b[0m\n",
            "\u001b[32;1m\u001b[1;3mQuestion: {\"query\": \" Which topics are the most frequently covered across all sessions and workshops at DHS 2025? use local search.\"}\n",
            "\n",
            "Thought: I need to identify the topics that appear most frequently across all sessions and workshops at DHS 2025. I will use local search to find this information.\n",
            "Action: LocalRetrieval\n",
            "Action Input: \"most frequently covered topics across all sessions and workshops at DHS 2025\"\u001b[0m\u001b[36;1m\u001b[1;3m## Overview of DataHack Summit 2025\n",
            "\n",
            "DataHack Summit 2025, held at The Leela Bhartiya City Bengaluru, is a prominent event focusing on the latest advancements in artificial intelligence and its applications. The summit features a variety of workshops and sessions that cater to both technical and business audiences. Key themes include Agentic AI, multi-agent systems, responsible AI, and business adoption strategies [Data: Communities (1, 2, 3, 4, 5, 6, 7, 8, 9, 10)].\n",
            "\n",
            "## Key Topics\n",
            "\n",
            "### Agentic AI and Multi-Agent Systems\n",
            "\n",
            "Agentic AI, which involves systems capable of autonomous decision-making, is a central theme at the summit. This includes discussions on multi-agent systems, where multiple AI entities interact to achieve complex goals. These topics are crucial for developing AI systems that can operate independently and collaboratively in dynamic environments [Data: Communities (1, 2, 3, 4, 5, 6, 7, 8, 9, 10)].\n",
            "\n",
            "### Responsible AI\n",
            "\n",
            "Responsible AI is another significant focus, emphasizing the ethical and governance aspects of AI deployment. The summit includes a governance-focused PowerTalk by Syed Quiser Ahmed of Infosys, highlighting the importance of ethical considerations in AI development and implementation [Data: Communities (1, 2, 3, 4, 5, 6, 7, 8, 9, 10)].\n",
            "\n",
            "### Business Adoption and No-Code Solutions\n",
            "\n",
            "The summit also addresses the business adoption of AI technologies, with sessions designed for business leaders. A notable feature is the no-code hack session using Fractal’s Cogentiq platform, which aims to make AI more accessible to non-technical users. This approach is crucial for integrating AI into business processes without requiring extensive technical expertise [Data: Communities (1, 2, 3, 4, 5, 6, 7, 8, 9, 10)].\n",
            "\n",
            "## Technical Workshops and Hack Sessions\n",
            "\n",
            "The event includes technical workshops and hack sessions led by experts like Alessandro Romano. These sessions provide hands-on experience with AI technologies, allowing participants to explore practical applications and innovations in the field [Data: Communities (1, 2, 3, 4, 5, 6, 7, 8, 9, 10)].\n",
            "\n",
            "## Conclusion\n",
            "\n",
            "DataHack Summit 2025 covers a wide range of topics, with a strong emphasis on Agentic AI, responsible AI, and business adoption strategies. The event's diverse sessions and workshops cater to both technical and business audiences, providing valuable insights into the future of AI technologies [Data: Communities (1, 2, 3, 4, 5, 6, 7, 8, 9, 10)].\u001b[0m"
          ]
        },
        {
          "output_type": "stream",
          "name": "stderr",
          "text": [
            "WARNING:opentelemetry.sdk.trace:Calling end() on an ended span.\n",
            "WARNING:opentelemetry.sdk.trace:Calling end() on an ended span.\n"
          ]
        },
        {
          "output_type": "stream",
          "name": "stdout",
          "text": [
            "\u001b[32;1m\u001b[1;3mFinal Thought: The local search has provided a clear summary of the most frequently covered topics across all sessions and workshops at DHS 2025, highlighting Agentic AI, multi-agent systems, responsible AI, and business adoption strategies as the central themes.\n",
            "\n",
            "Final Answer: \n",
            "\n",
            "**Most Frequently Covered Topics at DHS 2025**\n",
            "\n",
            "- **Agentic AI and Multi-Agent Systems**\n",
            "  - Autonomous decision-making systems\n",
            "  - Multi-agent collaboration and interaction\n",
            "\n",
            "- **Responsible AI**\n",
            "  - Ethics and governance in AI deployment\n",
            "  - PowerTalks on AI governance (e.g., by Syed Quiser Ahmed of Infosys)\n",
            "\n",
            "- **Business Adoption and No-Code Solutions**\n",
            "  - Strategies for integrating AI into business processes\n",
            "  - No-code hack sessions (e.g., using Fractal’s Cogentiq platform)\n",
            "\n",
            "- **Technical Workshops and Hack Sessions**\n",
            "  - Hands-on experience with AI technologies\n",
            "  - Led by experts such as Alessandro Romano\n",
            "\n",
            "These topics are consistently featured across both technical and business-focused sessions and workshops, making them the most prominent themes at DataHack Summit 2025 [Data: Communities (1, 2, 3, 4, 5, 6, 7, 8, 9, 10)].\n",
            "\n",
            "---\n",
            "\n",
            "If you found this helpful, do spread the word and recommend this app to your fellow attendees!  \n",
            "Try it out at: [http://agentickag.dhs25.analyticsvidhya.com/](http://agentickag.dhs25.analyticsvidhya.com/) 🚀\u001b[0m\n",
            "\n",
            "\u001b[1m> Finished chain.\u001b[0m\n"
          ]
        },
        {
          "output_type": "display_data",
          "data": {
            "text/plain": [
              "<IPython.core.display.Markdown object>"
            ],
            "text/markdown": "**Most Frequently Covered Topics at DHS 2025**\n\n- **Agentic AI and Multi-Agent Systems**\n  - Autonomous decision-making systems\n  - Multi-agent collaboration and interaction\n\n- **Responsible AI**\n  - Ethics and governance in AI deployment\n  - PowerTalks on AI governance (e.g., by Syed Quiser Ahmed of Infosys)\n\n- **Business Adoption and No-Code Solutions**\n  - Strategies for integrating AI into business processes\n  - No-code hack sessions (e.g., using Fractal’s Cogentiq platform)\n\n- **Technical Workshops and Hack Sessions**\n  - Hands-on experience with AI technologies\n  - Led by experts such as Alessandro Romano\n\nThese topics are consistently featured across both technical and business-focused sessions and workshops, making them the most prominent themes at DataHack Summit 2025 [Data: Communities (1, 2, 3, 4, 5, 6, 7, 8, 9, 10)].\n\n---\n\nIf you found this helpful, do spread the word and recommend this app to your fellow attendees!  \nTry it out at: [http://agentickag.dhs25.analyticsvidhya.com/](http://agentickag.dhs25.analyticsvidhya.com/) 🚀"
          },
          "metadata": {}
        }
      ]
    },
    {
      "cell_type": "code",
      "source": [
        "query = \"List down all the sessions or workshops which uses Neo4j?\"\n",
        "answer = run_agentic_kag(query)\n",
        "display(Markdown(answer))"
      ],
      "metadata": {
        "collapsed": true,
        "colab": {
          "base_uri": "https://localhost:8080/",
          "height": 964
        },
        "id": "yiuD3QBAj0Eu",
        "outputId": "edcd26e9-baad-4366-8c51-bc5ca7e3a7f7"
      },
      "execution_count": null,
      "outputs": [
        {
          "output_type": "stream",
          "name": "stdout",
          "text": [
            "\n",
            "\n",
            "\u001b[1m> Entering new ParallelAgentExecutor chain...\u001b[0m\n",
            "\u001b[32;1m\u001b[1;3mQuestion: {\"query\": \"List down all the sessions or workshops which uses Neo4j?\"}\n",
            "\n",
            "Thought: I need to identify all sessions or workshops that mention or utilize Neo4j. This requires searching for both direct mentions and related topics within the session and workshop data.\n",
            "Action: AVHybridCypher\n",
            "Action Input: \"sessions or workshops that use or mention Neo4j\"\u001b[0mMATCH (s:Session)\n",
            "WHERE ANY(tool IN s.tools_discussed WHERE toLower(tool) CONTAINS toLower('neo4j')) OR toLower(s.description) CONTAINS toLower('neo4j') OR toLower(s.title) CONTAINS toLower('neo4j')\n",
            "RETURN s.title AS name, s.description AS description, s.instructor AS instructor, s.session_type AS type, s.theme AS theme, s.tools_discussed AS tools, s.level AS level, s.start_time AS start_time, s.end_time AS end_time, s.day AS day, s.date AS date\n",
            "UNION\n",
            "MATCH (w:Workshop)\n",
            "WHERE ANY(tool IN w.tools_used WHERE toLower(tool) CONTAINS toLower('neo4j')) OR toLower(w.description) CONTAINS toLower('neo4j') OR toLower(w.title) CONTAINS toLower('neo4j')\n",
            "RETURN w.title AS name, w.description AS description, w.instructor AS instructor, 'Workshop' AS type, NULL AS theme, w.tools_used AS tools, w.level AS level, w.start_time AS start_time, NULL AS end_time, NULL AS day, NULL AS date\n",
            "\u001b[33;1m\u001b[1;3m- **Agentic Knowledge Augmented Generation: The Next Leap After RAG**\n",
            "  - Type: Hack Session\n",
            "  - Mentions and uses: **Neo4j Graph Database**\n",
            "\n",
            "- **Agentic RAG Workshop: From Fundamentals to Real-World Implementations**\n",
            "  - Type: Workshop\n",
            "  - Includes a bonus on: **Graph RAG using Neo4j**\n",
            "  - Listed tool: **Neo4j**\u001b[0m"
          ]
        },
        {
          "output_type": "stream",
          "name": "stderr",
          "text": [
            "WARNING:opentelemetry.sdk.trace:Calling end() on an ended span.\n",
            "WARNING:opentelemetry.sdk.trace:Calling end() on an ended span.\n"
          ]
        },
        {
          "output_type": "stream",
          "name": "stdout",
          "text": [
            "\u001b[32;1m\u001b[1;3mFinal Thought: I have identified all sessions and workshops at DHS 2025 that use or mention Neo4j, including both a hack session and a workshop with explicit references to the Neo4j graph database.\n",
            "\n",
            "Final Answer: \n",
            "\n",
            "**Sessions and Workshops at DHS 2025 that use Neo4j:**\n",
            "\n",
            "- **Agentic Knowledge Augmented Generation: The Next Leap After RAG**\n",
            "  - Type: Hack Session\n",
            "  - Mentions and uses: **Neo4j Graph Database**\n",
            "\n",
            "- **Agentic RAG Workshop: From Fundamentals to Real-World Implementations**\n",
            "  - Type: Workshop\n",
            "  - Includes a bonus on: **Graph RAG using Neo4j**\n",
            "  - Listed tool: **Neo4j**\n",
            "\n",
            "If you found this helpful, do spread the word and recommend this app to your fellow attendees! You can access it at [http://agentickag.dhs25.analyticsvidhya.com/](http://agentickag.dhs25.analyticsvidhya.com/) 🚀\u001b[0m\n",
            "\n",
            "\u001b[1m> Finished chain.\u001b[0m\n"
          ]
        },
        {
          "output_type": "display_data",
          "data": {
            "text/plain": [
              "<IPython.core.display.Markdown object>"
            ],
            "text/markdown": "**Sessions and Workshops at DHS 2025 that use Neo4j:**\n\n- **Agentic Knowledge Augmented Generation: The Next Leap After RAG**\n  - Type: Hack Session\n  - Mentions and uses: **Neo4j Graph Database**\n\n- **Agentic RAG Workshop: From Fundamentals to Real-World Implementations**\n  - Type: Workshop\n  - Includes a bonus on: **Graph RAG using Neo4j**\n  - Listed tool: **Neo4j**\n\nIf you found this helpful, do spread the word and recommend this app to your fellow attendees! You can access it at [http://agentickag.dhs25.analyticsvidhya.com/](http://agentickag.dhs25.analyticsvidhya.com/) 🚀"
          },
          "metadata": {}
        }
      ]
    },
    {
      "cell_type": "code",
      "source": [
        "query = \"List down all the sessions or workshops which uses LangGraph?\"\n",
        "answer = run_agentic_kag(query)\n",
        "display(Markdown(answer))"
      ],
      "metadata": {
        "colab": {
          "base_uri": "https://localhost:8080/",
          "height": 1000
        },
        "id": "vPbyhu496-_N",
        "outputId": "a43f54a2-bfa0-4376-a3fe-84b26013a31c"
      },
      "execution_count": null,
      "outputs": [
        {
          "output_type": "stream",
          "name": "stdout",
          "text": [
            "\n",
            "\n",
            "\u001b[1m> Entering new ParallelAgentExecutor chain...\u001b[0m\n",
            "\u001b[32;1m\u001b[1;3mQuestion: {\"query\": \"List down all the sessions or workshops which uses LangGraph?\"}\n",
            "\n",
            "Thought: I need to find all sessions or workshops at DHS 2025 that mention or utilize LangGraph. This requires searching for relationships or mentions of LangGraph within session and workshop nodes.\n",
            "Action: AVHybridCypher\n",
            "Action Input: List all sessions and workshops that use or mention LangGraph.\u001b[0mMATCH (s:Session)-[:USES]->(t:Tool)\n",
            "WHERE toLower(t.name) CONTAINS toLower('LangGraph')\n",
            "RETURN s.title AS title, s.description AS description, s.instructor AS instructor, s.session_type AS type, s.theme AS theme, s.tools_discussed AS tools, s.level AS level, s.start_time AS start_time, s.end_time AS end_time, s.day AS day, s.date AS date\n",
            "UNION\n",
            "MATCH (w:Workshop)-[:USES]->(t:Tool)\n",
            "WHERE toLower(t.name) CONTAINS toLower('LangGraph')\n",
            "RETURN w.title AS title, w.description AS description, w.instructor AS instructor, 'Workshop' AS type, null AS theme, w.tools_used AS tools, w.level AS level, w.start_time AS start_time, null AS end_time, null AS day, null AS date\n",
            "\u001b[33;1m\u001b[1;3m**Sessions and Workshops that use or mention LangGraph:**\n",
            "\n",
            "- **Building Effective Agentic AI Systems: Lessons from the Field**\n",
            "  - Type: Hack Session\n",
            "  - Instructor: Dipanjan Sarkar\n",
            "  - Tools: LangGraph, FastMCP, LangMem, LangSmith\n",
            "\n",
            "- **AutoGen vs CrewAI vs LangGraph: Battle of the Agent Frameworks**\n",
            "  - Type: Hack Panel\n",
            "  - Instructors: Dipanjan Sarkar, Praneeth Paikray, Mayank Aggarwal, Sanathraj Narayan\n",
            "  - Tools: AutoGen, CrewAI, LangGraph\n",
            "\n",
            "- **Mastering Agentic Workflows with LangGraph**\n",
            "  - Type: Hack Session\n",
            "  - Instructor: Sanathraj Narayan\n",
            "  - Tools: LangGraph\n",
            "\n",
            "- **Mastering Intelligent Agents: A Deep Dive into Agentic AI**\n",
            "  - Type: Workshop\n",
            "  - Instructor: Dipanjan Sarkar\n",
            "  - Tools: LangChain, LangGraph, CrewAI, FastAPI, LangFuse, Arize AI Phoenix, Tavily, WeatherAPI, Google Colab, Runpod.io, LangMem, Mem0\n",
            "\n",
            "- **LLMOps – Productionalizing Real-World Applications with LLMs and Agents**\n",
            "  - Type: Workshop\n",
            "  - Instructor: Kartik Nighania\n",
            "  - Tools: Hugging Face, Qdrant, Amazon SageMaker, LangGraph, LangSmith, LangChain, AWS\n",
            "\n",
            "- **AgentOps: Building and Deploying AI Agents**\n",
            "  - Type: Workshop\n",
            "  - Instructor: Bhaskarjit Sarmah\n",
            "  - Tools: LangChain, LangGraph\n",
            "\n",
            "- **Building Intelligent Multimodal Agents: Integrating Vision, Speech & Language**\n",
            "  - Type: Workshop\n",
            "  - Instructor: Miguel Otero Pedrido\n",
            "  - Tools: LangGraph, LangGraph Studio, SQLite, Qdrant, Groq LLMs, Whisper, ElevenLabs, Llama 3.2 Vision, Diffusion Models, Telegram Bot API, Telegram\n",
            "\n",
            "- **Agentic RAG Workshop: From Fundamentals to Real-World Implementations**\n",
            "  - Type: Workshop\n",
            "  - Instructor: Arun Prakash Asokan\n",
            "  - Tools: Google Colab notebooks, Azure Document Intelligence, Chroma Vector DB, LangChain, LangGraph, Langfuse, Travily web search, Neo4j\u001b[0m"
          ]
        },
        {
          "output_type": "stream",
          "name": "stderr",
          "text": [
            "WARNING:opentelemetry.sdk.trace:Calling end() on an ended span.\n",
            "WARNING:opentelemetry.sdk.trace:Calling end() on an ended span.\n"
          ]
        },
        {
          "output_type": "stream",
          "name": "stdout",
          "text": [
            "\u001b[32;1m\u001b[1;3mFinal Thought: I have gathered all sessions and workshops at DHS 2025 that use or mention LangGraph, including their types and instructors.\n",
            "\n",
            "Final Answer: \n",
            "\n",
            "**Here are all the sessions and workshops at DHS 2025 that use or mention LangGraph:**\n",
            "\n",
            "- **Building Effective Agentic AI Systems: Lessons from the Field**\n",
            "  - Type: Hack Session\n",
            "  - Instructor: Dipanjan Sarkar\n",
            "  - Tools: LangGraph, FastMCP, LangMem, LangSmith\n",
            "\n",
            "- **AutoGen vs CrewAI vs LangGraph: Battle of the Agent Frameworks**\n",
            "  - Type: Hack Panel\n",
            "  - Instructors: Dipanjan Sarkar, Praneeth Paikray, Mayank Aggarwal, Sanathraj Narayan\n",
            "  - Tools: AutoGen, CrewAI, LangGraph\n",
            "\n",
            "- **Mastering Agentic Workflows with LangGraph**\n",
            "  - Type: Hack Session\n",
            "  - Instructor: Sanathraj Narayan\n",
            "  - Tools: LangGraph\n",
            "\n",
            "- **Mastering Intelligent Agents: A Deep Dive into Agentic AI**\n",
            "  - Type: Workshop\n",
            "  - Instructor: Dipanjan Sarkar\n",
            "  - Tools: LangChain, LangGraph, CrewAI, FastAPI, LangFuse, Arize AI Phoenix, Tavily, WeatherAPI, Google Colab, Runpod.io, LangMem, Mem0\n",
            "\n",
            "- **LLMOps – Productionalizing Real-World Applications with LLMs and Agents**\n",
            "  - Type: Workshop\n",
            "  - Instructor: Kartik Nighania\n",
            "  - Tools: Hugging Face, Qdrant, Amazon SageMaker, LangGraph, LangSmith, LangChain, AWS\n",
            "\n",
            "- **AgentOps: Building and Deploying AI Agents**\n",
            "  - Type: Workshop\n",
            "  - Instructor: Bhaskarjit Sarmah\n",
            "  - Tools: LangChain, LangGraph\n",
            "\n",
            "- **Building Intelligent Multimodal Agents: Integrating Vision, Speech & Language**\n",
            "  - Type: Workshop\n",
            "  - Instructor: Miguel Otero Pedrido\n",
            "  - Tools: LangGraph, LangGraph Studio, SQLite, Qdrant, Groq LLMs, Whisper, ElevenLabs, Llama 3.2 Vision, Diffusion Models, Telegram Bot API, Telegram\n",
            "\n",
            "- **Agentic RAG Workshop: From Fundamentals to Real-World Implementations**\n",
            "  - Type: Workshop\n",
            "  - Instructor: Arun Prakash Asokan\n",
            "  - Tools: Google Colab notebooks, Azure Document Intelligence, Chroma Vector DB, LangChain, LangGraph, Langfuse, Travily web search, Neo4j\n",
            "\n",
            "---\n",
            "\n",
            "If you found this helpful, do spread the word and recommend this app to your fellow attendees!  \n",
            "Try it out at: [http://agentickag.dhs25.analyticsvidhya.com/](http://agentickag.dhs25.analyticsvidhya.com/)\u001b[0m\n",
            "\n",
            "\u001b[1m> Finished chain.\u001b[0m\n"
          ]
        },
        {
          "output_type": "display_data",
          "data": {
            "text/plain": [
              "<IPython.core.display.Markdown object>"
            ],
            "text/markdown": "**Here are all the sessions and workshops at DHS 2025 that use or mention LangGraph:**\n\n- **Building Effective Agentic AI Systems: Lessons from the Field**\n  - Type: Hack Session\n  - Instructor: Dipanjan Sarkar\n  - Tools: LangGraph, FastMCP, LangMem, LangSmith\n\n- **AutoGen vs CrewAI vs LangGraph: Battle of the Agent Frameworks**\n  - Type: Hack Panel\n  - Instructors: Dipanjan Sarkar, Praneeth Paikray, Mayank Aggarwal, Sanathraj Narayan\n  - Tools: AutoGen, CrewAI, LangGraph\n\n- **Mastering Agentic Workflows with LangGraph**\n  - Type: Hack Session\n  - Instructor: Sanathraj Narayan\n  - Tools: LangGraph\n\n- **Mastering Intelligent Agents: A Deep Dive into Agentic AI**\n  - Type: Workshop\n  - Instructor: Dipanjan Sarkar\n  - Tools: LangChain, LangGraph, CrewAI, FastAPI, LangFuse, Arize AI Phoenix, Tavily, WeatherAPI, Google Colab, Runpod.io, LangMem, Mem0\n\n- **LLMOps – Productionalizing Real-World Applications with LLMs and Agents**\n  - Type: Workshop\n  - Instructor: Kartik Nighania\n  - Tools: Hugging Face, Qdrant, Amazon SageMaker, LangGraph, LangSmith, LangChain, AWS\n\n- **AgentOps: Building and Deploying AI Agents**\n  - Type: Workshop\n  - Instructor: Bhaskarjit Sarmah\n  - Tools: LangChain, LangGraph\n\n- **Building Intelligent Multimodal Agents: Integrating Vision, Speech & Language**\n  - Type: Workshop\n  - Instructor: Miguel Otero Pedrido\n  - Tools: LangGraph, LangGraph Studio, SQLite, Qdrant, Groq LLMs, Whisper, ElevenLabs, Llama 3.2 Vision, Diffusion Models, Telegram Bot API, Telegram\n\n- **Agentic RAG Workshop: From Fundamentals to Real-World Implementations**\n  - Type: Workshop\n  - Instructor: Arun Prakash Asokan\n  - Tools: Google Colab notebooks, Azure Document Intelligence, Chroma Vector DB, LangChain, LangGraph, Langfuse, Travily web search, Neo4j\n\n---\n\nIf you found this helpful, do spread the word and recommend this app to your fellow attendees!  \nTry it out at: [http://agentickag.dhs25.analyticsvidhya.com/](http://agentickag.dhs25.analyticsvidhya.com/)"
          },
          "metadata": {}
        }
      ]
    },
    {
      "cell_type": "code",
      "source": [
        "query = \"I am a big lover of ai agents and I am interested in putting things in production. Suggest me a tailor made day wise agenda, mention the name of the Session or workshop along with Instructor name?\"\n",
        "answer = run_agentic_kag(query)\n",
        "display(Markdown(answer))"
      ],
      "metadata": {
        "id": "04TYb-9LE2Qr",
        "colab": {
          "base_uri": "https://localhost:8080/",
          "height": 1000
        },
        "collapsed": true,
        "outputId": "d4f5514b-0ff2-4b27-d097-1dbf0e9ecdfe"
      },
      "execution_count": null,
      "outputs": [
        {
          "output_type": "stream",
          "name": "stdout",
          "text": [
            "\n",
            "\n",
            "\u001b[1m> Entering new ParallelAgentExecutor chain...\u001b[0m\n",
            "\u001b[32;1m\u001b[1;3mQuestion: {\"query\": \"I am a big lover of ai agents and I am interested in putting things in production. Suggest me a tailor made day wise agenda, mention the name of the Session or workshop along with Instructor name?\"}\n",
            "\n",
            "Thought: I need to find sessions and workshops focused on AI agents and productionizing AI, then organize them day-wise and include the session/workshop name and instructor.\n",
            "Action: AVHybridCypher\n",
            "Action Input: \"sessions and workshops about AI agents, agentic systems, and productionizing AI, with instructor names, organized by day\"\u001b[0mMATCH (sess:Session)-[:COVERS]->(topic:Topic)\n",
            "WHERE toLower(topic.name) CONTAINS toLower('ai agent')\n",
            "   OR toLower(topic.name) CONTAINS toLower('agentic system')\n",
            "   OR toLower(topic.name) CONTAINS toLower('productionizing ai')\n",
            "RETURN sess.title AS title, sess.description AS description, sess.instructor AS instructor, sess.day AS day\n",
            "UNION\n",
            "MATCH (work:Workshop)-[:COVERS]->(topic:Topic)\n",
            "WHERE toLower(topic.name) CONTAINS toLower('ai agent')\n",
            "   OR toLower(topic.name) CONTAINS toLower('agentic system')\n",
            "   OR toLower(topic.name) CONTAINS toLower('productionizing ai')\n",
            "RETURN work.title AS title, work.description AS description, work.instructor AS instructor, NULL AS day\n",
            "ORDER BY day, title\n",
            "\u001b[33;1m\u001b[1;3m**Sessions and Workshops about AI Agents, Agentic Systems, and Productionizing AI (by Day & Instructor)**\n",
            "\n",
            "---\n",
            "\n",
            "### **Day 1**\n",
            "\n",
            "- **Agents at Scale: Engineering Reliable GenAI Systems for Production**\n",
            "  - **Instructor:** Kartik Nighania\n",
            "\n",
            "- **Agentic Knowledge Augmented Generation: The Next Leap After RAG**\n",
            "  - **Instructor:** Arun Prakash Asokan\n",
            "\n",
            "- **Onboarding AI Agents with Human Values**\n",
            "  - **Instructor:** Syed Quiser Ahmed\n",
            "\n",
            "- **Agentic AI Meets Responsible AI: Designing Safe Autonomous Systems**\n",
            "  - **Instructor:** Praveen Kumar GS\n",
            "\n",
            "- **Building Effective Agentic AI Systems: Lessons from the Field**\n",
            "  - **Instructor:** Dipanjan Sarkar\n",
            "\n",
            "- **Aligning Responsible AI with Probabilistic World of LLMs & Agents**\n",
            "  - **Instructor:** Shubhradeep Nandi\n",
            "\n",
            "- **Bridging the AI Agent Gap: Interoperability with A2A and MCP Protocols**\n",
            "  - **Instructor:** Nikhil Rana\n",
            "\n",
            "---\n",
            "\n",
            "### **Day 2**\n",
            "\n",
            "- **Beyond PoCs: Building Real-World Agentic Systems**\n",
            "  - **Instructor:** Miguel Otero Pedrido\n",
            "\n",
            "- **From LLMs to Agentic AI: Solving New Problems with Multi-Agent Systems**\n",
            "  - **Instructor:** Alessandro Romano\n",
            "\n",
            "- **Understanding AI Agents with MCP**\n",
            "  - **Instructors:** Nitin Agarwal, Rutvik Acharya\n",
            "\n",
            "- **Zero to Million: How GenAI Agents are Changing Performance Marketing**\n",
            "  - **Instructor:** Krishna Kumar Tiwari\n",
            "\n",
            "- **The Missing Piece of AI Apps: Evaluation**\n",
            "  - **Instructor:** Ayush Thakur\n",
            "\n",
            "---\n",
            "\n",
            "### **Day 3**\n",
            "\n",
            "- **Detecting and Mitigating Risks in Agentic AI**\n",
            "  - **Instructor:** Bhaskarjit Sarmah\n",
            "\n",
            "- **Building Responsible AI Agents with Guardrails and Safety in Action**\n",
            "  - **Instructor:** Anuj Saini\n",
            "\n",
            "- **Agent to Agent Protocol: Benefits and Workflows**\n",
            "  - **Instructor:** Avinash Pathak\n",
            "\n",
            "- **Creative AI Agents: Open Tools for Collaborative Media Creation**\n",
            "  - **Instructor:** Dhruv Nair\n",
            "\n",
            "- **Adaptive Email Agents with DSPy: From Static Prompts to Smart Learning**\n",
            "  - **Instructor:** Praneeth Paikray\n",
            "\n",
            "- **Automate Everything: Building Agentic AI Workflows with No-Code Tools**\n",
            "  - **Instructor:** Mayank Aggarwal\n",
            "\n",
            "---\n",
            "\n",
            "### **No Day Specified**\n",
            "\n",
            "- **AgentOps: Building and Deploying AI Agents**\n",
            "  - **Instructor:** Bhaskarjit Sarmah\n",
            "\n",
            "- **From Beginner to Expert: Learning LLMs, Reinforcement Learning & AI Agents**\n",
            "  - **Instructors:** Joshua Starmer, Luis Serrano\n",
            "\n",
            "- **LLMOps – Productionalizing Real-World Applications with LLMs and Agents**\n",
            "  - **Instructor:** Kartik Nighania\n",
            "\n",
            "- **Mastering Real-World Agentic AI Applications with AG2 (AutoGen)**\n",
            "  - **Instructors:** Hrushikesh Dokala, Qingyun Wu, Chi Wang\u001b[0m"
          ]
        },
        {
          "output_type": "stream",
          "name": "stderr",
          "text": [
            "WARNING:opentelemetry.sdk.trace:Calling end() on an ended span.\n",
            "WARNING:opentelemetry.sdk.trace:Calling end() on an ended span.\n"
          ]
        },
        {
          "output_type": "stream",
          "name": "stdout",
          "text": [
            "\u001b[32;1m\u001b[1;3mFinal Thought: I have gathered a comprehensive, day-wise agenda of sessions and workshops at DHS 2025 that focus on AI agents and productionizing AI, including the session/workshop names and instructor details.\n",
            "\n",
            "Final Answer:\n",
            "\n",
            "---\n",
            "\n",
            "## **Your Tailor-Made DHS 2025 Agenda: AI Agents & Production**\n",
            "\n",
            "### **Day 1**\n",
            "- **Agents at Scale: Engineering Reliable GenAI Systems for Production**\n",
            "  - Instructor: Kartik Nighania\n",
            "- **Agentic Knowledge Augmented Generation: The Next Leap After RAG**\n",
            "  - Instructor: Arun Prakash Asokan\n",
            "- **Onboarding AI Agents with Human Values**\n",
            "  - Instructor: Syed Quiser Ahmed\n",
            "- **Agentic AI Meets Responsible AI: Designing Safe Autonomous Systems**\n",
            "  - Instructor: Praveen Kumar GS\n",
            "- **Building Effective Agentic AI Systems: Lessons from the Field**\n",
            "  - Instructor: Dipanjan Sarkar\n",
            "- **Aligning Responsible AI with Probabilistic World of LLMs & Agents**\n",
            "  - Instructor: Shubhradeep Nandi\n",
            "- **Bridging the AI Agent Gap: Interoperability with A2A and MCP Protocols**\n",
            "  - Instructor: Nikhil Rana\n",
            "\n",
            "---\n",
            "\n",
            "### **Day 2**\n",
            "- **Beyond PoCs: Building Real-World Agentic Systems**\n",
            "  - Instructor: Miguel Otero Pedrido\n",
            "- **From LLMs to Agentic AI: Solving New Problems with Multi-Agent Systems**\n",
            "  - Instructor: Alessandro Romano\n",
            "- **Understanding AI Agents with MCP**\n",
            "  - Instructors: Nitin Agarwal, Rutvik Acharya\n",
            "- **Zero to Million: How GenAI Agents are Changing Performance Marketing**\n",
            "  - Instructor: Krishna Kumar Tiwari\n",
            "- **The Missing Piece of AI Apps: Evaluation**\n",
            "  - Instructor: Ayush Thakur\n",
            "\n",
            "---\n",
            "\n",
            "### **Day 3**\n",
            "- **Detecting and Mitigating Risks in Agentic AI**\n",
            "  - Instructor: Bhaskarjit Sarmah\n",
            "- **Building Responsible AI Agents with Guardrails and Safety in Action**\n",
            "  - Instructor: Anuj Saini\n",
            "- **Agent to Agent Protocol: Benefits and Workflows**\n",
            "  - Instructor: Avinash Pathak\n",
            "- **Creative AI Agents: Open Tools for Collaborative Media Creation**\n",
            "  - Instructor: Dhruv Nair\n",
            "- **Adaptive Email Agents with DSPy: From Static Prompts to Smart Learning**\n",
            "  - Instructor: Praneeth Paikray\n",
            "- **Automate Everything: Building Agentic AI Workflows with No-Code Tools**\n",
            "  - Instructor: Mayank Aggarwal\n",
            "\n",
            "---\n",
            "\n",
            "### **Bonus Sessions (No Day Specified)**\n",
            "- **AgentOps: Building and Deploying AI Agents**\n",
            "  - Instructor: Bhaskarjit Sarmah\n",
            "- **From Beginner to Expert: Learning LLMs, Reinforcement Learning & AI Agents**\n",
            "  - Instructors: Joshua Starmer, Luis Serrano\n",
            "- **LLMOps – Productionalizing Real-World Applications with LLMs and Agents**\n",
            "  - Instructor: Kartik Nighania\n",
            "- **Mastering Real-World Agentic AI Applications with AG2 (AutoGen)**\n",
            "  - Instructors: Hrushikesh Dokala, Qingyun Wu, Chi Wang\n",
            "\n",
            "---\n",
            "\n",
            "**Tip:** This agenda is packed with everything an AI agent enthusiast and productionizer would love!  \n",
            "If you found this helpful, please spread the word and recommend this app to your fellow attendees: [http://agentickag.dhs25.analyticsvidhya.com/](http://agentickag.dhs25.analyticsvidhya.com/) 😊\n",
            "\n",
            "---\n",
            "\n",
            "> Hey, just letting you know — I’m not the official app from Analytics Vidhya 🙂  \n",
            "> This was built with passion by **Arun Prakash Asokan and his team** to showcase **Agentic KAG** in action,  \n",
            "> and now all DHS 2025 attendees can try it out!\u001b[0m\n",
            "\n",
            "\u001b[1m> Finished chain.\u001b[0m\n"
          ]
        },
        {
          "output_type": "display_data",
          "data": {
            "text/plain": [
              "<IPython.core.display.Markdown object>"
            ],
            "text/markdown": "---\n\n## **Your Tailor-Made DHS 2025 Agenda: AI Agents & Production**\n\n### **Day 1**\n- **Agents at Scale: Engineering Reliable GenAI Systems for Production**\n  - Instructor: Kartik Nighania\n- **Agentic Knowledge Augmented Generation: The Next Leap After RAG**\n  - Instructor: Arun Prakash Asokan\n- **Onboarding AI Agents with Human Values**\n  - Instructor: Syed Quiser Ahmed\n- **Agentic AI Meets Responsible AI: Designing Safe Autonomous Systems**\n  - Instructor: Praveen Kumar GS\n- **Building Effective Agentic AI Systems: Lessons from the Field**\n  - Instructor: Dipanjan Sarkar\n- **Aligning Responsible AI with Probabilistic World of LLMs & Agents**\n  - Instructor: Shubhradeep Nandi\n- **Bridging the AI Agent Gap: Interoperability with A2A and MCP Protocols**\n  - Instructor: Nikhil Rana\n\n---\n\n### **Day 2**\n- **Beyond PoCs: Building Real-World Agentic Systems**\n  - Instructor: Miguel Otero Pedrido\n- **From LLMs to Agentic AI: Solving New Problems with Multi-Agent Systems**\n  - Instructor: Alessandro Romano\n- **Understanding AI Agents with MCP**\n  - Instructors: Nitin Agarwal, Rutvik Acharya\n- **Zero to Million: How GenAI Agents are Changing Performance Marketing**\n  - Instructor: Krishna Kumar Tiwari\n- **The Missing Piece of AI Apps: Evaluation**\n  - Instructor: Ayush Thakur\n\n---\n\n### **Day 3**\n- **Detecting and Mitigating Risks in Agentic AI**\n  - Instructor: Bhaskarjit Sarmah\n- **Building Responsible AI Agents with Guardrails and Safety in Action**\n  - Instructor: Anuj Saini\n- **Agent to Agent Protocol: Benefits and Workflows**\n  - Instructor: Avinash Pathak\n- **Creative AI Agents: Open Tools for Collaborative Media Creation**\n  - Instructor: Dhruv Nair\n- **Adaptive Email Agents with DSPy: From Static Prompts to Smart Learning**\n  - Instructor: Praneeth Paikray\n- **Automate Everything: Building Agentic AI Workflows with No-Code Tools**\n  - Instructor: Mayank Aggarwal\n\n---\n\n### **Bonus Sessions (No Day Specified)**\n- **AgentOps: Building and Deploying AI Agents**\n  - Instructor: Bhaskarjit Sarmah\n- **From Beginner to Expert: Learning LLMs, Reinforcement Learning & AI Agents**\n  - Instructors: Joshua Starmer, Luis Serrano\n- **LLMOps – Productionalizing Real-World Applications with LLMs and Agents**\n  - Instructor: Kartik Nighania\n- **Mastering Real-World Agentic AI Applications with AG2 (AutoGen)**\n  - Instructors: Hrushikesh Dokala, Qingyun Wu, Chi Wang\n\n---\n\n**Tip:** This agenda is packed with everything an AI agent enthusiast and productionizer would love!  \nIf you found this helpful, please spread the word and recommend this app to your fellow attendees: [http://agentickag.dhs25.analyticsvidhya.com/](http://agentickag.dhs25.analyticsvidhya.com/) 😊\n\n---\n\n> Hey, just letting you know — I’m not the official app from Analytics Vidhya 🙂  \n> This was built with passion by **Arun Prakash Asokan and his team** to showcase **Agentic KAG** in action,  \n> and now all DHS 2025 attendees can try it out!"
          },
          "metadata": {}
        }
      ]
    },
    {
      "cell_type": "code",
      "source": [
        "query = \"I am a big lover of ai agents and I am interested in putting things in production. Suggest me a tailor made day wise agenda along with time, mention the name of the Session or workshop along with Instructor name?\"\n",
        "answer = run_agentic_kag(query)\n",
        "display(Markdown(answer))"
      ],
      "metadata": {
        "collapsed": true,
        "colab": {
          "base_uri": "https://localhost:8080/",
          "height": 1000
        },
        "id": "IfDgA1VplJY-",
        "outputId": "62051f34-8190-4a9a-d342-981b0707251a"
      },
      "execution_count": null,
      "outputs": [
        {
          "output_type": "stream",
          "name": "stdout",
          "text": [
            "\n",
            "\n",
            "\u001b[1m> Entering new ParallelAgentExecutor chain...\u001b[0m\n",
            "\u001b[32;1m\u001b[1;3mQuestion: {\"query\": \"I am a big lover of ai agents and I am interested in putting things in production. Suggest me a tailor made day wise agenda along with time, mention the name of the Session or workshop along with Instructor name?\"}\n",
            "\n",
            "Thought: I need to find sessions and workshops focused on AI agents and productionizing AI, then organize them day-wise with times, session/workshop names, and instructor names.\n",
            "Action: AVHybridCypher\n",
            "Action Input: \"Sessions and workshops about AI agents, agentic systems, and productionizing AI, with their schedule and instructor details\"\u001b[0mMATCH (sess:Session)\n",
            "WHERE toLower(sess.title) CONTAINS toLower('ai agent') \n",
            "   OR toLower(sess.title) CONTAINS toLower('agentic system') \n",
            "   OR toLower(sess.title) CONTAINS toLower('productionizing ai') \n",
            "   OR toLower(sess.description) CONTAINS toLower('ai agent') \n",
            "   OR toLower(sess.description) CONTAINS toLower('agentic system') \n",
            "   OR toLower(sess.description) CONTAINS toLower('productionizing ai')\n",
            "RETURN \n",
            "  sess.title AS name, \n",
            "  sess.description AS description, \n",
            "  sess.instructor AS instructor, \n",
            "  sess.start_time AS start_time, \n",
            "  sess.end_time AS end_time, \n",
            "  sess.day AS day, \n",
            "  sess.date AS date, \n",
            "  'Session' AS type\n",
            "UNION\n",
            "MATCH (w:Workshop)\n",
            "WHERE toLower(w.title) CONTAINS toLower('ai agent') \n",
            "   OR toLower(w.title) CONTAINS toLower('agentic system') \n",
            "   OR toLower(w.title) CONTAINS toLower('productionizing ai') \n",
            "   OR toLower(w.description) CONTAINS toLower('ai agent') \n",
            "   OR toLower(w.description) CONTAINS toLower('agentic system') \n",
            "   OR toLower(w.description) CONTAINS toLower('productionizing ai')\n",
            "RETURN \n",
            "  w.title AS name, \n",
            "  w.description AS description, \n",
            "  w.instructor AS instructor, \n",
            "  w.start_time AS start_time, \n",
            "  NULL AS end_time, \n",
            "  NULL AS day, \n",
            "  NULL AS date, \n",
            "  'Workshop' AS type\n",
            "\u001b[33;1m\u001b[1;3m**Sessions and Workshops about AI Agents, Agentic Systems, and Productionizing AI**\n",
            "\n",
            "---\n",
            "\n",
            "### **Day 1 (2025-08-20)**\n",
            "\n",
            "- **Agents at Scale: Engineering Reliable GenAI Systems for Production**\n",
            "  - **Instructor:** Kartik Nighania\n",
            "  - **Time:** 12:00 – 12:50\n",
            "  - **Type:** Session\n",
            "  - **Focus:** Engineering best practices for scaling AI agents to production, including monitoring, logging, testing, CICD, hallucination detection, and guardrails.\n",
            "\n",
            "- **Agentic Knowledge Augmented Generation: The Next Leap After RAG**\n",
            "  - **Instructor:** Arun Prakash Asokan\n",
            "  - **Time:** 12:00 – 12:50\n",
            "  - **Type:** Session\n",
            "  - **Focus:** Live hack on Agentic KAG, integrating knowledge graphs, graph databases, and AI agents; comparison of RAG approaches.\n",
            "\n",
            "- **Onboarding AI Agents with Human Values**\n",
            "  - **Instructor:** Syed Quiser Ahmed\n",
            "  - **Time:** 12:00 – 12:40\n",
            "  - **Type:** Session\n",
            "  - **Focus:** Embedding human values in autonomous AI agents, governance, and risk mitigation.\n",
            "\n",
            "- **Bridging the AI Agent Gap: Interoperability with A2A and MCP Protocols**\n",
            "  - **Instructor:** Nikhil Rana\n",
            "  - **Time:** 15:30 – 16:20\n",
            "  - **Type:** Session\n",
            "  - **Focus:** Open protocols (A2A, MCP) for agent interoperability and multi-agent ecosystems.\n",
            "\n",
            "- **Human-In-The-Loop Agentic Systems**\n",
            "  - **Instructor:** Deepak Sharma\n",
            "  - **Time:** 14:35 – 15:25\n",
            "  - **Type:** Session\n",
            "  - **Focus:** Designing agentic systems with human-in-the-loop for reliability in complex tasks.\n",
            "\n",
            "---\n",
            "\n",
            "### **Day 2 (2025-08-21)**\n",
            "\n",
            "- **From LLMs to Agentic AI: Solving New Problems with Multi-Agent Systems**\n",
            "  - **Instructor:** Alessandro Romano\n",
            "  - **Time:** 14:00 – 14:50\n",
            "  - **Type:** Session\n",
            "  - **Focus:** Evolution from LLMs to agentic AI, use cases, and frameworks like CrewAI.\n",
            "\n",
            "- **Beyond PoCs: Building Real-World Agentic Systems**\n",
            "  - **Instructor:** Miguel Otero Pedrido\n",
            "  - **Time:** 14:55 – 15:45\n",
            "  - **Type:** Session\n",
            "  - **Focus:** Fundamentals and production practices for agentic systems, Agentic RAG, LLMOps, and real-time simulation.\n",
            "\n",
            "- **Zero to Million: How GenAI Agents are Changing Performance Marketing**\n",
            "  - **Instructor:** Krishna Kumar Tiwari\n",
            "  - **Time:** 14:45 – 15:25\n",
            "  - **Type:** Session\n",
            "  - **Focus:** GenAI agents in marketing, personalization at scale, tech stack, and challenges.\n",
            "\n",
            "- **Understanding AI Agents with MCP**\n",
            "  - **Instructors:** Nitin Agarwal, Rutvik Acharya\n",
            "  - **Time:** 12:05 – 13:00\n",
            "  - **Type:** Session\n",
            "  - **Focus:** Anthropic’s Model Context Protocol (MCP) for agent-tool/data integration.\n",
            "\n",
            "- **Fast and Accurate Conversational Agents: Beyond Function Calling**\n",
            "  - **Instructor:** Daksh Varshneya\n",
            "  - **Time:** 12:05 – 12:55\n",
            "  - **Type:** Session\n",
            "  - **Focus:** Building fast, accurate conversational agents, CALM framework, fine-tuning.\n",
            "\n",
            "- **Full-Stack Agentic AI: Build, Evaluate, and Scale with NVIDIA Tools**\n",
            "  - **Instructor:** Saurav Agarwal\n",
            "  - **Time:** 13:50 – 14:50\n",
            "  - **Type:** Session\n",
            "  - **Focus:** Using NVIDIA Agent Intelligence toolkit for full-stack agentic AI systems.\n",
            "\n",
            "- **The Missing Piece of AI Apps: Evaluation**\n",
            "  - **Instructor:** Ayush Thakur\n",
            "  - **Time:** 16:00 – 17:00\n",
            "  - **Type:** Session\n",
            "  - **Focus:** LLM-as-a-judge evaluators, evaluation datasets, prompt/rubric design, scaling evaluation.\n",
            "\n",
            "---\n",
            "\n",
            "### **Day 3 (2025-08-22)**\n",
            "\n",
            "- **MassGen: Scaling AI Through Multi-Agent Collaboration**\n",
            "  - **Instructor:** Chi Wang\n",
            "  - **Time:** 10:25 – 11:15\n",
            "  - **Type:** Session\n",
            "  - **Focus:** Multi-agent collaboration, cross-model synergy, real-time orchestration.\n",
            "\n",
            "- **Creative AI Agents: Open Tools for Collaborative Media Creation**\n",
            "  - **Instructor:** Dhruv Nair\n",
            "  - **Time:** 10:25 – 11:15\n",
            "  - **Type:** Session\n",
            "  - **Focus:** Building creative AI agents, ReAct framework, open-source tools for media.\n",
            "\n",
            "- **Automate Everything: Building Agentic AI Workflows with No-Code Tools**\n",
            "  - **Instructor:** Mayank Aggarwal\n",
            "  - **Time:** 12:55 – 13:45\n",
            "  - **Type:** Session\n",
            "  - **Focus:** No-code automation with n8n, building AI workflows.\n",
            "\n",
            "- **Building Responsible AI Agents with Guardrails and Safety in Action**\n",
            "  - **Instructor:** Anuj Saini\n",
            "  - **Time:** 15:55 – 16:45\n",
            "  - **Type:** Session\n",
            "  - **Focus:** Building safe, responsible agents, guardrails, safety strategies, adversarial testing.\n",
            "\n",
            "- **Agent to Agent Protocol: Benefits and Workflows**\n",
            "  - **Instructor:** Avinash Pathak\n",
            "  - **Time:** 16:00 – 16:50\n",
            "  - **Type:** Session\n",
            "  - **Focus:** A2A protocol for agent communication and collaboration.\n",
            "\n",
            "---\n",
            "\n",
            "### **Workshops (Date/Time Not Specified)**\n",
            "\n",
            "- **Mastering Real-World Agentic AI Applications with AG2 (AutoGen)**\n",
            "  - **Instructors:** Hrushikesh Dokala, Qingyun Wu, Chi Wang\n",
            "  - **Type:** Workshop\n",
            "  - **Focus:** Building production-grade agent applications with AG2, deployment with FastAgency.\n",
            "\n",
            "- **AgentOps: Building and Deploying AI Agents**\n",
            "  - **Instructor:** Bhaskarjit Sarmah\n",
            "  - **Type:** Workshop\n",
            "  - **Focus:** Operationalizing AI agents, architecture, tool integration, multi-agent systems, Agentic RAG.\n",
            "\n",
            "- **From Beginner to Expert: Learning LLMs, Reinforcement Learning & AI Agents**\n",
            "  - **Instructors:** Joshua Starmer, Luis Serrano\n",
            "  - **Type:** Workshop\n",
            "  - **Focus:** LLMs, RL, RLHF, RAG, building and training AI agents.\n",
            "\n",
            "- **Agentic AI for Business Users: Building without Code in Cogentiq**\n",
            "  - **Instructor:** Ganesh Subramanian\n",
            "  - **Type:** Session\n",
            "  - **Focus:** No-code agentic AI with Cogentiq, hands-on agent building for business users.\n",
            "\n",
            "---\n",
            "\n",
            "**Note:** Some workshops and sessions do not have specified dates/times. All listed items are focused on AI agents, agentic systems, and productionizing AI, with instructor details included.\u001b[0m"
          ]
        },
        {
          "output_type": "stream",
          "name": "stderr",
          "text": [
            "WARNING:opentelemetry.sdk.trace:Calling end() on an ended span.\n",
            "WARNING:opentelemetry.sdk.trace:Calling end() on an ended span.\n"
          ]
        },
        {
          "output_type": "stream",
          "name": "stdout",
          "text": [
            "\u001b[32;1m\u001b[1;3mFinal Thought: I have gathered and organized all sessions and workshops focused on AI agents and productionizing AI, structured day-wise with times, session/workshop names, and instructor names. This provides a comprehensive, tailor-made agenda for an attendee passionate about AI agents and putting them into production.\n",
            "\n",
            "Final Answer:\n",
            "\n",
            "---\n",
            "\n",
            "## **🎯 Tailor-Made DHS 2025 Agenda for AI Agent Lovers & Production Enthusiasts**\n",
            "\n",
            "---\n",
            "\n",
            "### **Day 1: 20th August 2025**\n",
            "\n",
            "- **12:00 – 12:50**\n",
            "  - **Agents at Scale: Engineering Reliable GenAI Systems for Production**  \n",
            "    - *Instructor:* Kartik Nighania\n",
            "  - **Agentic Knowledge Augmented Generation: The Next Leap After RAG**  \n",
            "    - *Instructor:* Arun Prakash Asokan\n",
            "  - **Onboarding AI Agents with Human Values**  \n",
            "    - *Instructor:* Syed Quiser Ahmed\n",
            "\n",
            "- **14:35 – 15:25**\n",
            "  - **Human-In-The-Loop Agentic Systems**  \n",
            "    - *Instructor:* Deepak Sharma\n",
            "\n",
            "- **15:30 – 16:20**\n",
            "  - **Bridging the AI Agent Gap: Interoperability with A2A and MCP Protocols**  \n",
            "    - *Instructor:* Nikhil Rana\n",
            "\n",
            "---\n",
            "\n",
            "### **Day 2: 21st August 2025**\n",
            "\n",
            "- **12:05 – 12:55**\n",
            "  - **Fast and Accurate Conversational Agents: Beyond Function Calling**  \n",
            "    - *Instructor:* Daksh Varshneya\n",
            "\n",
            "- **12:05 – 13:00**\n",
            "  - **Understanding AI Agents with MCP**  \n",
            "    - *Instructors:* Nitin Agarwal, Rutvik Acharya\n",
            "\n",
            "- **13:50 – 14:50**\n",
            "  - **Full-Stack Agentic AI: Build, Evaluate, and Scale with NVIDIA Tools**  \n",
            "    - *Instructor:* Saurav Agarwal\n",
            "\n",
            "- **14:00 – 14:50**\n",
            "  - **From LLMs to Agentic AI: Solving New Problems with Multi-Agent Systems**  \n",
            "    - *Instructor:* Alessandro Romano\n",
            "\n",
            "- **14:45 – 15:25**\n",
            "  - **Zero to Million: How GenAI Agents are Changing Performance Marketing**  \n",
            "    - *Instructor:* Krishna Kumar Tiwari\n",
            "\n",
            "- **14:55 – 15:45**\n",
            "  - **Beyond PoCs: Building Real-World Agentic Systems**  \n",
            "    - *Instructor:* Miguel Otero Pedrido\n",
            "\n",
            "- **16:00 – 17:00**\n",
            "  - **The Missing Piece of AI Apps: Evaluation**  \n",
            "    - *Instructor:* Ayush Thakur\n",
            "\n",
            "---\n",
            "\n",
            "### **Day 3: 22nd August 2025**\n",
            "\n",
            "- **10:25 – 11:15**\n",
            "  - **MassGen: Scaling AI Through Multi-Agent Collaboration**  \n",
            "    - *Instructor:* Chi Wang\n",
            "  - **Creative AI Agents: Open Tools for Collaborative Media Creation**  \n",
            "    - *Instructor:* Dhruv Nair\n",
            "\n",
            "- **12:55 – 13:45**\n",
            "  - **Automate Everything: Building Agentic AI Workflows with No-Code Tools**  \n",
            "    - *Instructor:* Mayank Aggarwal\n",
            "\n",
            "- **15:55 – 16:45**\n",
            "  - **Building Responsible AI Agents with Guardrails and Safety in Action**  \n",
            "    - *Instructor:* Anuj Saini\n",
            "\n",
            "- **16:00 – 16:50**\n",
            "  - **Agent to Agent Protocol: Benefits and Workflows**  \n",
            "    - *Instructor:* Avinash Pathak\n",
            "\n",
            "---\n",
            "\n",
            "### **Workshops (Date/Time Not Specified)**\n",
            "\n",
            "- **Mastering Real-World Agentic AI Applications with AG2 (AutoGen)**  \n",
            "  - *Instructors:* Hrushikesh Dokala, Qingyun Wu, Chi Wang\n",
            "\n",
            "- **AgentOps: Building and Deploying AI Agents**  \n",
            "  - *Instructor:* Bhaskarjit Sarmah\n",
            "\n",
            "- **From Beginner to Expert: Learning LLMs, Reinforcement Learning & AI Agents**  \n",
            "  - *Instructors:* Joshua Starmer, Luis Serrano\n",
            "\n",
            "- **Agentic AI for Business Users: Building without Code in Cogentiq**  \n",
            "  - *Instructor:* Ganesh Subramanian\n",
            "\n",
            "---\n",
            "\n",
            "**Tip:**  \n",
            "- For overlapping sessions, pick the one most aligned with your current interests or career goals.\n",
            "- Don’t forget to check the official DHS 2025 schedule for any last-minute updates!\n",
            "\n",
            "---\n",
            "\n",
            "**P.S.**  \n",
            "Hey, just letting you know — I’m not the official app from Analytics Vidhya 🙂  \n",
            "This was built with passion by **Arun Prakash Asokan and his team** to showcase **Agentic KAG** in action,  \n",
            "and now all DHS 2025 attendees can try it out!  \n",
            "If you found this helpful, please spread the word and recommend this to your fellow attendees: [http://agentickag.dhs25.analyticsvidhya.com/](http://agentickag.dhs25.analyticsvidhya.com/)\u001b[0m\n",
            "\n",
            "\u001b[1m> Finished chain.\u001b[0m\n"
          ]
        },
        {
          "output_type": "display_data",
          "data": {
            "text/plain": [
              "<IPython.core.display.Markdown object>"
            ],
            "text/markdown": "---\n\n## **🎯 Tailor-Made DHS 2025 Agenda for AI Agent Lovers & Production Enthusiasts**\n\n---\n\n### **Day 1: 20th August 2025**\n\n- **12:00 – 12:50**\n  - **Agents at Scale: Engineering Reliable GenAI Systems for Production**  \n    - *Instructor:* Kartik Nighania\n  - **Agentic Knowledge Augmented Generation: The Next Leap After RAG**  \n    - *Instructor:* Arun Prakash Asokan\n  - **Onboarding AI Agents with Human Values**  \n    - *Instructor:* Syed Quiser Ahmed\n\n- **14:35 – 15:25**\n  - **Human-In-The-Loop Agentic Systems**  \n    - *Instructor:* Deepak Sharma\n\n- **15:30 – 16:20**\n  - **Bridging the AI Agent Gap: Interoperability with A2A and MCP Protocols**  \n    - *Instructor:* Nikhil Rana\n\n---\n\n### **Day 2: 21st August 2025**\n\n- **12:05 – 12:55**\n  - **Fast and Accurate Conversational Agents: Beyond Function Calling**  \n    - *Instructor:* Daksh Varshneya\n\n- **12:05 – 13:00**\n  - **Understanding AI Agents with MCP**  \n    - *Instructors:* Nitin Agarwal, Rutvik Acharya\n\n- **13:50 – 14:50**\n  - **Full-Stack Agentic AI: Build, Evaluate, and Scale with NVIDIA Tools**  \n    - *Instructor:* Saurav Agarwal\n\n- **14:00 – 14:50**\n  - **From LLMs to Agentic AI: Solving New Problems with Multi-Agent Systems**  \n    - *Instructor:* Alessandro Romano\n\n- **14:45 – 15:25**\n  - **Zero to Million: How GenAI Agents are Changing Performance Marketing**  \n    - *Instructor:* Krishna Kumar Tiwari\n\n- **14:55 – 15:45**\n  - **Beyond PoCs: Building Real-World Agentic Systems**  \n    - *Instructor:* Miguel Otero Pedrido\n\n- **16:00 – 17:00**\n  - **The Missing Piece of AI Apps: Evaluation**  \n    - *Instructor:* Ayush Thakur\n\n---\n\n### **Day 3: 22nd August 2025**\n\n- **10:25 – 11:15**\n  - **MassGen: Scaling AI Through Multi-Agent Collaboration**  \n    - *Instructor:* Chi Wang\n  - **Creative AI Agents: Open Tools for Collaborative Media Creation**  \n    - *Instructor:* Dhruv Nair\n\n- **12:55 – 13:45**\n  - **Automate Everything: Building Agentic AI Workflows with No-Code Tools**  \n    - *Instructor:* Mayank Aggarwal\n\n- **15:55 – 16:45**\n  - **Building Responsible AI Agents with Guardrails and Safety in Action**  \n    - *Instructor:* Anuj Saini\n\n- **16:00 – 16:50**\n  - **Agent to Agent Protocol: Benefits and Workflows**  \n    - *Instructor:* Avinash Pathak\n\n---\n\n### **Workshops (Date/Time Not Specified)**\n\n- **Mastering Real-World Agentic AI Applications with AG2 (AutoGen)**  \n  - *Instructors:* Hrushikesh Dokala, Qingyun Wu, Chi Wang\n\n- **AgentOps: Building and Deploying AI Agents**  \n  - *Instructor:* Bhaskarjit Sarmah\n\n- **From Beginner to Expert: Learning LLMs, Reinforcement Learning & AI Agents**  \n  - *Instructors:* Joshua Starmer, Luis Serrano\n\n- **Agentic AI for Business Users: Building without Code in Cogentiq**  \n  - *Instructor:* Ganesh Subramanian\n\n---\n\n**Tip:**  \n- For overlapping sessions, pick the one most aligned with your current interests or career goals.\n- Don’t forget to check the official DHS 2025 schedule for any last-minute updates!\n\n---\n\n**P.S.**  \nHey, just letting you know — I’m not the official app from Analytics Vidhya 🙂  \nThis was built with passion by **Arun Prakash Asokan and his team** to showcase **Agentic KAG** in action,  \nand now all DHS 2025 attendees can try it out!  \nIf you found this helpful, please spread the word and recommend this to your fellow attendees: [http://agentickag.dhs25.analyticsvidhya.com/](http://agentickag.dhs25.analyticsvidhya.com/)"
          },
          "metadata": {}
        }
      ]
    },
    {
      "cell_type": "code",
      "source": [
        "query = \"I am a big lover of knowledge graphs (do not confuse with LangGraph). Suggest me a tailor made agenda, mention the name of the Session or workshop along with Instructor name and whn it is happening?\"\n",
        "answer = run_agentic_kag(query)\n",
        "display(Markdown(answer))"
      ],
      "metadata": {
        "colab": {
          "base_uri": "https://localhost:8080/",
          "height": 914
        },
        "id": "m5m4flGyv0ng",
        "outputId": "4c410ec8-42c5-4af3-b75b-50901c967cbe",
        "collapsed": true
      },
      "execution_count": null,
      "outputs": [
        {
          "output_type": "stream",
          "name": "stdout",
          "text": [
            "\n",
            "\n",
            "\u001b[1m> Entering new ParallelAgentExecutor chain...\u001b[0m\n",
            "\u001b[32;1m\u001b[1;3mQuestion: {\"query\": \"I am a big lover of knowledge graphs (do not confuse with LangGraph). Suggest me a tailor made agenda, mention the name of the Session or workshop along with Instructor name and whn it is happening?\"}\n",
            "\n",
            "Thought: I need to find sessions or workshops at DHS 2025 that are focused on knowledge graphs, then list their names, instructors, and timings.\n",
            "Action: AVHybridCypher\n",
            "Action Input: \"sessions or workshops about knowledge graphs with instructor names and schedule\"\u001b[0mMATCH (se:Session)\n",
            "WHERE toLower(se.title) CONTAINS toLower('knowledge graph') OR toLower(se.description) CONTAINS toLower('knowledge graph')\n",
            "RETURN se.title AS name, se.instructor AS instructor, se.start_time AS start_time, se.end_time AS end_time, se.day AS day, se.date AS date\n",
            "UNION\n",
            "MATCH (w:Workshop)\n",
            "WHERE toLower(w.title) CONTAINS toLower('knowledge graph') OR toLower(w.description) CONTAINS toLower('knowledge graph')\n",
            "RETURN w.title AS name, w.instructor AS instructor, w.start_time AS start_time, NULL AS end_time, NULL AS day, NULL AS date\n",
            "\u001b[33;1m\u001b[1;3m- **Session:** Agentic Knowledge Augmented Generation: The Next Leap After RAG  \n",
            "  - **Instructor:** Arun Prakash Asokan  \n",
            "  - **Schedule:** 12:00 – 12:50, Day 1 (2025-08-20)\u001b[0m"
          ]
        },
        {
          "output_type": "stream",
          "name": "stderr",
          "text": [
            "WARNING:opentelemetry.sdk.trace:Calling end() on an ended span.\n",
            "WARNING:opentelemetry.sdk.trace:Calling end() on an ended span.\n"
          ]
        },
        {
          "output_type": "stream",
          "name": "stdout",
          "text": [
            "\u001b[32;1m\u001b[1;3mFinal Thought: I have found a session at DHS 2025 that is highly relevant to knowledge graphs, including its name, instructor, and schedule.\n",
            "\n",
            "Final Answer: \n",
            "\n",
            "**Here’s a tailor-made agenda for a knowledge graph enthusiast at DHS 2025:**\n",
            "\n",
            "- **Session:** Agentic Knowledge Augmented Generation: The Next Leap After RAG  \n",
            "  - **Instructor:** Arun Prakash Asokan  \n",
            "  - **When:** 12:00 – 12:50, Day 1 (2025-08-20)\n",
            "\n",
            "This session is designed to showcase how knowledge graphs, combined with AI agents, are revolutionizing context-rich Q&A systems—perfect for your interests!\n",
            "\n",
            "---\n",
            "\n",
            "**P.S.**  \n",
            "Hey, just letting you know — I’m not the official app from Analytics Vidhya 🙂  \n",
            "This was built with passion by **Arun Prakash Asokan and his team** to showcase **Agentic KAG** in action,  \n",
            "and now all DHS 2025 attendees can try it out!  \n",
            "If you find this helpful, please spread the word and recommend it to your fellow attendees: [http://agentickag.dhs25.analyticsvidhya.com/](http://agentickag.dhs25.analyticsvidhya.com/)\u001b[0m\n",
            "\n",
            "\u001b[1m> Finished chain.\u001b[0m\n"
          ]
        },
        {
          "output_type": "display_data",
          "data": {
            "text/plain": [
              "<IPython.core.display.Markdown object>"
            ],
            "text/markdown": "**Here’s a tailor-made agenda for a knowledge graph enthusiast at DHS 2025:**\n\n- **Session:** Agentic Knowledge Augmented Generation: The Next Leap After RAG  \n  - **Instructor:** Arun Prakash Asokan  \n  - **When:** 12:00 – 12:50, Day 1 (2025-08-20)\n\nThis session is designed to showcase how knowledge graphs, combined with AI agents, are revolutionizing context-rich Q&A systems—perfect for your interests!\n\n---\n\n**P.S.**  \nHey, just letting you know — I’m not the official app from Analytics Vidhya 🙂  \nThis was built with passion by **Arun Prakash Asokan and his team** to showcase **Agentic KAG** in action,  \nand now all DHS 2025 attendees can try it out!  \nIf you find this helpful, please spread the word and recommend it to your fellow attendees: [http://agentickag.dhs25.analyticsvidhya.com/](http://agentickag.dhs25.analyticsvidhya.com/)"
          },
          "metadata": {}
        }
      ]
    },
    {
      "cell_type": "code",
      "source": [
        "query = \" Tell me one unique session in the conference?\"\n",
        "answer = run_agentic_kag(query)\n",
        "display(Markdown(answer))"
      ],
      "metadata": {
        "collapsed": true,
        "colab": {
          "base_uri": "https://localhost:8080/",
          "height": 1000
        },
        "id": "Ak_6ExOiMXqa",
        "outputId": "ec1d18f6-48d5-404f-c9a2-b26bb5e49c87"
      },
      "execution_count": null,
      "outputs": [
        {
          "output_type": "stream",
          "name": "stdout",
          "text": [
            "\n",
            "\n",
            "\u001b[1m> Entering new ParallelAgentExecutor chain...\u001b[0m\n",
            "\u001b[32;1m\u001b[1;3mQuestion: {\"query\": \" Tell me one unique session in the conference?\"}\n",
            "\n",
            "Thought: I need to identify a session that stands out as unique within the DHS 2025 conference. I will search for sessions with distinctive topics or formats.\n",
            "Action: AVHybrid\n",
            "Action Input: \"unique session in the conference\"\u001b[0m\u001b[36;1m\u001b[1;3m- **Unique session in the conference:**\n",
            "\n",
            "  - **Title:** Model Context Protocol in Media: Choosing the Right Metrics & Strategy\n",
            "  - **Instructor:** Hitesh Nayak\n",
            "  - **Theme:** Media and Marketing\n",
            "  - **Type:** Hack Session\n",
            "  - **Day:** Day 2\n",
            "  - **Date:** 2025-08-21\n",
            "  - **Time:** 09:30 – 10:20\n",
            "  - **Description:**  \n",
            "    - Demonstrates how intelligent agents use large language models (LLMs) and agentic frameworks for media and marketing tasks across Paid, Organic, and SEO channels.\n",
            "    - Live tasks include:\n",
            "      - Analyzing historical campaign spend\n",
            "      - Customer segmentation\n",
            "      - Developing targeted marketing pitches\n",
            "      - Integrating keyword research\n",
            "      - Formulating SEO-integrated content strategies\n",
            "      - Establishing evaluation methods for qualitative aspects like content readability and marketing success\n",
            "    - Attendees will learn about the agent’s operational flow and architecture, and how the Model Context Protocol (MCP) aligns AI workflows with strategic marketing objectives, including defining robust evaluation criteria and measurement strategies for AI-driven workflows.\n",
            "  - **Tools Discussed:** Model Context Protocol (MCP), Large Language Models (LLMs), Agentic Frameworks\n",
            "  - **URL:** [Session Details](./datahacksummit-2025/sessions/model-context-protocol-in-media-choosing-the-right-metrics-strategy)\u001b[0m"
          ]
        },
        {
          "output_type": "stream",
          "name": "stderr",
          "text": [
            "WARNING:opentelemetry.sdk.trace:Calling end() on an ended span.\n",
            "WARNING:opentelemetry.sdk.trace:Calling end() on an ended span.\n"
          ]
        },
        {
          "output_type": "stream",
          "name": "stdout",
          "text": [
            "\u001b[32;1m\u001b[1;3mFinal Thought: I have found a session that is unique due to its focus on agentic frameworks and LLMs specifically for media and marketing, featuring live demonstrations and strategic alignment using the Model Context Protocol.\n",
            "\n",
            "Final Answer: \n",
            "\n",
            "**Here’s one unique session at DHS 2025:**\n",
            "\n",
            "- **Title:** Model Context Protocol in Media: Choosing the Right Metrics & Strategy\n",
            "- **Instructor:** Hitesh Nayak\n",
            "- **Theme:** Media and Marketing\n",
            "- **Type:** Hack Session\n",
            "- **Day:** Day 2\n",
            "- **Date:** 2025-08-21\n",
            "- **Time:** 09:30 – 10:20\n",
            "- **Description:**\n",
            "  - Demonstrates how intelligent agents use large language models (LLMs) and agentic frameworks for media and marketing tasks across Paid, Organic, and SEO channels.\n",
            "  - Live tasks include:\n",
            "    - Analyzing historical campaign spend\n",
            "    - Customer segmentation\n",
            "    - Developing targeted marketing pitches\n",
            "    - Integrating keyword research\n",
            "    - Formulating SEO-integrated content strategies\n",
            "    - Establishing evaluation methods for qualitative aspects like content readability and marketing success\n",
            "  - Attendees will learn about the agent’s operational flow and architecture, and how the Model Context Protocol (MCP) aligns AI workflows with strategic marketing objectives, including defining robust evaluation criteria and measurement strategies for AI-driven workflows.\n",
            "- **Tools Discussed:** Model Context Protocol (MCP), Large Language Models (LLMs), Agentic Frameworks\n",
            "- **More Info:** [Session Details](./datahacksummit-2025/sessions/model-context-protocol-in-media-choosing-the-right-metrics-strategy)\n",
            "\n",
            "---\n",
            "\n",
            "If you found this helpful, spread the word and recommend this app to your fellow attendees!  \n",
            "Try it out at: http://agentickag.dhs25.analyticsvidhya.com/\u001b[0m\n",
            "\n",
            "\u001b[1m> Finished chain.\u001b[0m\n"
          ]
        },
        {
          "output_type": "display_data",
          "data": {
            "text/plain": [
              "<IPython.core.display.Markdown object>"
            ],
            "text/markdown": "**Here’s one unique session at DHS 2025:**\n\n- **Title:** Model Context Protocol in Media: Choosing the Right Metrics & Strategy\n- **Instructor:** Hitesh Nayak\n- **Theme:** Media and Marketing\n- **Type:** Hack Session\n- **Day:** Day 2\n- **Date:** 2025-08-21\n- **Time:** 09:30 – 10:20\n- **Description:**\n  - Demonstrates how intelligent agents use large language models (LLMs) and agentic frameworks for media and marketing tasks across Paid, Organic, and SEO channels.\n  - Live tasks include:\n    - Analyzing historical campaign spend\n    - Customer segmentation\n    - Developing targeted marketing pitches\n    - Integrating keyword research\n    - Formulating SEO-integrated content strategies\n    - Establishing evaluation methods for qualitative aspects like content readability and marketing success\n  - Attendees will learn about the agent’s operational flow and architecture, and how the Model Context Protocol (MCP) aligns AI workflows with strategic marketing objectives, including defining robust evaluation criteria and measurement strategies for AI-driven workflows.\n- **Tools Discussed:** Model Context Protocol (MCP), Large Language Models (LLMs), Agentic Frameworks\n- **More Info:** [Session Details](./datahacksummit-2025/sessions/model-context-protocol-in-media-choosing-the-right-metrics-strategy)\n\n---\n\nIf you found this helpful, spread the word and recommend this app to your fellow attendees!  \nTry it out at: http://agentickag.dhs25.analyticsvidhya.com/"
          },
          "metadata": {}
        }
      ]
    },
    {
      "cell_type": "code",
      "source": [],
      "metadata": {
        "id": "8-IxXJ9Yf3lE"
      },
      "execution_count": null,
      "outputs": []
    },
    {
      "cell_type": "code",
      "source": [],
      "metadata": {
        "id": "v6E8rU37f3n2"
      },
      "execution_count": null,
      "outputs": []
    }
  ]
}