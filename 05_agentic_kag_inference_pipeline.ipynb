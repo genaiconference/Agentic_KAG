{
  "nbformat": 4,
  "nbformat_minor": 0,
  "metadata": {
    "colab": {
      "provenance": [],
      "include_colab_link": true
    },
    "kernelspec": {
      "name": "python3",
      "display_name": "Python 3"
    },
    "language_info": {
      "name": "python"
    }
  },
  "cells": [
    {
      "cell_type": "markdown",
      "metadata": {
        "id": "view-in-github",
        "colab_type": "text"
      },
      "source": [
        "<a href=\"https://colab.research.google.com/github/genaiconference/Agentic_KAG/blob/main/05_agentic_kag_inference_pipeline.ipynb\" target=\"_parent\"><img src=\"https://colab.research.google.com/assets/colab-badge.svg\" alt=\"Open In Colab\"/></a>"
      ]
    },
    {
      "cell_type": "markdown",
      "source": [
        "# Agentic KAG\n"
      ],
      "metadata": {
        "id": "-PO9upJ5mkx6"
      }
    },
    {
      "cell_type": "markdown",
      "metadata": {
        "id": "580fa1da"
      },
      "source": [
        "This notebook demonstrates the capabilities of Agentic KAG, a framework for building intelligent agents that can perform complex tasks and generate answers from Knoweldge Graphs."
      ]
    },
    {
      "cell_type": "code",
      "source": [
        "!git clone https://github.com/genaiconference/Agentic_KAG.git"
      ],
      "metadata": {
        "id": "pVtZvT2aDWjZ",
        "colab": {
          "base_uri": "https://localhost:8080/"
        },
        "outputId": "5df2377d-c467-4b4f-8837-b9474b821412"
      },
      "execution_count": null,
      "outputs": [
        {
          "output_type": "stream",
          "name": "stdout",
          "text": [
            "Cloning into 'Agentic_KAG'...\n",
            "remote: Enumerating objects: 303, done.\u001b[K\n",
            "remote: Counting objects: 100% (195/195), done.\u001b[K\n",
            "remote: Compressing objects: 100% (163/163), done.\u001b[K\n",
            "remote: Total 303 (delta 118), reused 30 (delta 30), pack-reused 108 (from 1)\u001b[K\n",
            "Receiving objects: 100% (303/303), 6.00 MiB | 10.41 MiB/s, done.\n",
            "Resolving deltas: 100% (160/160), done.\n"
          ]
        }
      ]
    },
    {
      "cell_type": "markdown",
      "source": [
        "## Install Required Packages"
      ],
      "metadata": {
        "id": "r-7IZdzFNWkK"
      }
    },
    {
      "cell_type": "code",
      "source": [
        "!pip install -r /content/Agentic_KAG/requirements.txt --quiet"
      ],
      "metadata": {
        "colab": {
          "base_uri": "https://localhost:8080/"
        },
        "id": "_pV6Xj-VQSuF",
        "outputId": "1657ebf0-8894-456d-c917-c3c32ca166e5",
        "collapsed": true
      },
      "execution_count": null,
      "outputs": [
        {
          "output_type": "stream",
          "name": "stdout",
          "text": [
            "\u001b[?25l     \u001b[90m━━━━━━━━━━━━━━━━━━━━━━━━━━━━━━━━━━━━━━━━\u001b[0m \u001b[32m0.0/67.3 kB\u001b[0m \u001b[31m?\u001b[0m eta \u001b[36m-:--:--\u001b[0m\r\u001b[2K     \u001b[90m━━━━━━━━━━━━━━━━━━━━━━━━━━━━━━━━━━━━━━━━\u001b[0m \u001b[32m67.3/67.3 kB\u001b[0m \u001b[31m3.2 MB/s\u001b[0m eta \u001b[36m0:00:00\u001b[0m\n",
            "\u001b[?25h  Installing build dependencies ... \u001b[?25l\u001b[?25hdone\n",
            "  Getting requirements to build wheel ... \u001b[?25l\u001b[?25hdone\n",
            "  Preparing metadata (pyproject.toml) ... \u001b[?25l\u001b[?25hdone\n",
            "\u001b[2K   \u001b[90m━━━━━━━━━━━━━━━━━━━━━━━━━━━━━━━━━━━━━━━━\u001b[0m \u001b[32m70.6/70.6 kB\u001b[0m \u001b[31m5.5 MB/s\u001b[0m eta \u001b[36m0:00:00\u001b[0m\n",
            "\u001b[2K   \u001b[90m━━━━━━━━━━━━━━━━━━━━━━━━━━━━━━━━━━━━━━━━\u001b[0m \u001b[32m2.5/2.5 MB\u001b[0m \u001b[31m38.0 MB/s\u001b[0m eta \u001b[36m0:00:00\u001b[0m\n",
            "\u001b[2K   \u001b[90m━━━━━━━━━━━━━━━━━━━━━━━━━━━━━━━━━━━━━━━━\u001b[0m \u001b[32m442.8/442.8 kB\u001b[0m \u001b[31m21.7 MB/s\u001b[0m eta \u001b[36m0:00:00\u001b[0m\n",
            "\u001b[2K   \u001b[90m━━━━━━━━━━━━━━━━━━━━━━━━━━━━━━━━━━━━━━━━\u001b[0m \u001b[32m19.5/19.5 MB\u001b[0m \u001b[31m51.0 MB/s\u001b[0m eta \u001b[36m0:00:00\u001b[0m\n",
            "\u001b[2K   \u001b[90m━━━━━━━━━━━━━━━━━━━━━━━━━━━━━━━━━━━━━━━━\u001b[0m \u001b[32m313.2/313.2 kB\u001b[0m \u001b[31m21.4 MB/s\u001b[0m eta \u001b[36m0:00:00\u001b[0m\n",
            "\u001b[2K   \u001b[90m━━━━━━━━━━━━━━━━━━━━━━━━━━━━━━━━━━━━━━━━\u001b[0m \u001b[32m193.4/193.4 kB\u001b[0m \u001b[31m13.3 MB/s\u001b[0m eta \u001b[36m0:00:00\u001b[0m\n",
            "\u001b[2K   \u001b[90m━━━━━━━━━━━━━━━━━━━━━━━━━━━━━━━━━━━━━━━━\u001b[0m \u001b[32m300.0/300.0 kB\u001b[0m \u001b[31m19.5 MB/s\u001b[0m eta \u001b[36m0:00:00\u001b[0m\n",
            "\u001b[2K   \u001b[90m━━━━━━━━━━━━━━━━━━━━━━━━━━━━━━━━━━━━━━━━\u001b[0m \u001b[32m284.2/284.2 kB\u001b[0m \u001b[31m17.6 MB/s\u001b[0m eta \u001b[36m0:00:00\u001b[0m\n",
            "\u001b[2K   \u001b[90m━━━━━━━━━━━━━━━━━━━━━━━━━━━━━━━━━━━━━━━━\u001b[0m \u001b[32m183.9/183.9 kB\u001b[0m \u001b[31m14.0 MB/s\u001b[0m eta \u001b[36m0:00:00\u001b[0m\n",
            "\u001b[2K   \u001b[90m━━━━━━━━━━━━━━━━━━━━━━━━━━━━━━━━━━━━━━━━\u001b[0m \u001b[32m1.9/1.9 MB\u001b[0m \u001b[31m58.8 MB/s\u001b[0m eta \u001b[36m0:00:00\u001b[0m\n",
            "\u001b[2K   \u001b[90m━━━━━━━━━━━━━━━━━━━━━━━━━━━━━━━━━━━━━━━━\u001b[0m \u001b[32m103.1/103.1 kB\u001b[0m \u001b[31m8.3 MB/s\u001b[0m eta \u001b[36m0:00:00\u001b[0m\n",
            "\u001b[2K   \u001b[90m━━━━━━━━━━━━━━━━━━━━━━━━━━━━━━━━━━━━━━━━\u001b[0m \u001b[32m16.5/16.5 MB\u001b[0m \u001b[31m57.1 MB/s\u001b[0m eta \u001b[36m0:00:00\u001b[0m\n",
            "\u001b[2K   \u001b[90m━━━━━━━━━━━━━━━━━━━━━━━━━━━━━━━━━━━━━━━━\u001b[0m \u001b[32m65.6/65.6 kB\u001b[0m \u001b[31m5.1 MB/s\u001b[0m eta \u001b[36m0:00:00\u001b[0m\n",
            "\u001b[2K   \u001b[90m━━━━━━━━━━━━━━━━━━━━━━━━━━━━━━━━━━━━━━━━\u001b[0m \u001b[32m72.5/72.5 kB\u001b[0m \u001b[31m4.3 MB/s\u001b[0m eta \u001b[36m0:00:00\u001b[0m\n",
            "\u001b[2K   \u001b[90m━━━━━━━━━━━━━━━━━━━━━━━━━━━━━━━━━━━━━━━━\u001b[0m \u001b[32m120.0/120.0 kB\u001b[0m \u001b[31m9.4 MB/s\u001b[0m eta \u001b[36m0:00:00\u001b[0m\n",
            "\u001b[2K   \u001b[90m━━━━━━━━━━━━━━━━━━━━━━━━━━━━━━━━━━━━━━━━\u001b[0m \u001b[32m201.6/201.6 kB\u001b[0m \u001b[31m14.6 MB/s\u001b[0m eta \u001b[36m0:00:00\u001b[0m\n",
            "\u001b[2K   \u001b[90m━━━━━━━━━━━━━━━━━━━━━━━━━━━━━━━━━━━━━━━━\u001b[0m \u001b[32m105.4/105.4 kB\u001b[0m \u001b[31m7.7 MB/s\u001b[0m eta \u001b[36m0:00:00\u001b[0m\n",
            "\u001b[2K   \u001b[90m━━━━━━━━━━━━━━━━━━━━━━━━━━━━━━━━━━━━━━━━\u001b[0m \u001b[32m71.4/71.4 kB\u001b[0m \u001b[31m5.0 MB/s\u001b[0m eta \u001b[36m0:00:00\u001b[0m\n",
            "\u001b[2K   \u001b[90m━━━━━━━━━━━━━━━━━━━━━━━━━━━━━━━━━━━━━━━━\u001b[0m \u001b[32m45.2/45.2 kB\u001b[0m \u001b[31m3.4 MB/s\u001b[0m eta \u001b[36m0:00:00\u001b[0m\n",
            "\u001b[2K   \u001b[90m━━━━━━━━━━━━━━━━━━━━━━━━━━━━━━━━━━━━━━━━\u001b[0m \u001b[32m313.2/313.2 kB\u001b[0m \u001b[31m23.0 MB/s\u001b[0m eta \u001b[36m0:00:00\u001b[0m\n",
            "\u001b[2K   \u001b[90m━━━━━━━━━━━━━━━━━━━━━━━━━━━━━━━━━━━━━━━━\u001b[0m \u001b[32m3.1/3.1 MB\u001b[0m \u001b[31m83.4 MB/s\u001b[0m eta \u001b[36m0:00:00\u001b[0m\n",
            "\u001b[2K   \u001b[90m━━━━━━━━━━━━━━━━━━━━━━━━━━━━━━━━━━━━━━━━\u001b[0m \u001b[32m459.8/459.8 kB\u001b[0m \u001b[31m22.2 MB/s\u001b[0m eta \u001b[36m0:00:00\u001b[0m\n",
            "\u001b[2K   \u001b[90m━━━━━━━━━━━━━━━━━━━━━━━━━━━━━━━━━━━━━━━━\u001b[0m \u001b[32m50.9/50.9 kB\u001b[0m \u001b[31m3.7 MB/s\u001b[0m eta \u001b[36m0:00:00\u001b[0m\n",
            "\u001b[2K   \u001b[90m━━━━━━━━━━━━━━━━━━━━━━━━━━━━━━━━━━━━━━━━\u001b[0m \u001b[32m4.0/4.0 MB\u001b[0m \u001b[31m83.6 MB/s\u001b[0m eta \u001b[36m0:00:00\u001b[0m\n",
            "\u001b[2K   \u001b[90m━━━━━━━━━━━━━━━━━━━━━━━━━━━━━━━━━━━━━━━━\u001b[0m \u001b[32m453.1/453.1 kB\u001b[0m \u001b[31m30.9 MB/s\u001b[0m eta \u001b[36m0:00:00\u001b[0m\n",
            "\u001b[2K   \u001b[90m━━━━━━━━━━━━━━━━━━━━━━━━━━━━━━━━━━━━━━━━\u001b[0m \u001b[32m46.0/46.0 kB\u001b[0m \u001b[31m3.4 MB/s\u001b[0m eta \u001b[36m0:00:00\u001b[0m\n",
            "\u001b[2K   \u001b[90m━━━━━━━━━━━━━━━━━━━━━━━━━━━━━━━━━━━━━━━━\u001b[0m \u001b[32m86.8/86.8 kB\u001b[0m \u001b[31m6.5 MB/s\u001b[0m eta \u001b[36m0:00:00\u001b[0m\n",
            "\u001b[?25h  Building wheel for pypika (pyproject.toml) ... \u001b[?25l\u001b[?25hdone\n",
            "\u001b[31mERROR: pip's dependency resolver does not currently take into account all the packages that are installed. This behaviour is the source of the following dependency conflicts.\n",
            "gcsfs 2025.3.0 requires fsspec==2025.3.0, but you have fsspec 2024.12.0 which is incompatible.\n",
            "torch 2.6.0+cu124 requires nvidia-cublas-cu12==12.4.5.8; platform_system == \"Linux\" and platform_machine == \"x86_64\", but you have nvidia-cublas-cu12 12.5.3.2 which is incompatible.\n",
            "torch 2.6.0+cu124 requires nvidia-cuda-cupti-cu12==12.4.127; platform_system == \"Linux\" and platform_machine == \"x86_64\", but you have nvidia-cuda-cupti-cu12 12.5.82 which is incompatible.\n",
            "torch 2.6.0+cu124 requires nvidia-cuda-nvrtc-cu12==12.4.127; platform_system == \"Linux\" and platform_machine == \"x86_64\", but you have nvidia-cuda-nvrtc-cu12 12.5.82 which is incompatible.\n",
            "torch 2.6.0+cu124 requires nvidia-cuda-runtime-cu12==12.4.127; platform_system == \"Linux\" and platform_machine == \"x86_64\", but you have nvidia-cuda-runtime-cu12 12.5.82 which is incompatible.\n",
            "torch 2.6.0+cu124 requires nvidia-cudnn-cu12==9.1.0.70; platform_system == \"Linux\" and platform_machine == \"x86_64\", but you have nvidia-cudnn-cu12 9.3.0.75 which is incompatible.\n",
            "torch 2.6.0+cu124 requires nvidia-cufft-cu12==11.2.1.3; platform_system == \"Linux\" and platform_machine == \"x86_64\", but you have nvidia-cufft-cu12 11.2.3.61 which is incompatible.\n",
            "torch 2.6.0+cu124 requires nvidia-curand-cu12==10.3.5.147; platform_system == \"Linux\" and platform_machine == \"x86_64\", but you have nvidia-curand-cu12 10.3.6.82 which is incompatible.\n",
            "torch 2.6.0+cu124 requires nvidia-cusolver-cu12==11.6.1.9; platform_system == \"Linux\" and platform_machine == \"x86_64\", but you have nvidia-cusolver-cu12 11.6.3.83 which is incompatible.\n",
            "torch 2.6.0+cu124 requires nvidia-cusparse-cu12==12.3.1.170; platform_system == \"Linux\" and platform_machine == \"x86_64\", but you have nvidia-cusparse-cu12 12.5.1.3 which is incompatible.\n",
            "torch 2.6.0+cu124 requires nvidia-nccl-cu12==2.21.5; platform_system == \"Linux\" and platform_machine == \"x86_64\", but you have nvidia-nccl-cu12 2.23.4 which is incompatible.\n",
            "torch 2.6.0+cu124 requires nvidia-nvjitlink-cu12==12.4.127; platform_system == \"Linux\" and platform_machine == \"x86_64\", but you have nvidia-nvjitlink-cu12 12.5.82 which is incompatible.\u001b[0m\u001b[31m\n",
            "\u001b[0m"
          ]
        }
      ]
    },
    {
      "cell_type": "markdown",
      "source": [
        "## Load credentials from .env"
      ],
      "metadata": {
        "id": "yVHjyNXsNevP"
      }
    },
    {
      "cell_type": "code",
      "source": [
        "import os\n",
        "os.chdir('/content/Agentic_KAG/')\n",
        "\n",
        "from dotenv import load_dotenv\n",
        "\n",
        "load_dotenv()  # This loads .env at project root\n",
        "\n",
        "NEO4J_URI = os.getenv('AV_NEO4J_URL')\n",
        "NEO4J_USERNAME = os.getenv('AV_NEO4J_USERNAME')\n",
        "NEO4J_PASSWORD = os.getenv('AV_NEO4J_PASSWORD')\n",
        "OPENAI_API_KEY = os.getenv('OPENAI_API_KEY')\n",
        "\n",
        "# Set OPENAI_API_KEY as env variable for openai/neo4j-graphrag compatibility\n",
        "os.environ[\"OPENAI_API_KEY\"] = OPENAI_API_KEY"
      ],
      "metadata": {
        "id": "oU_Bak6ZNhKe"
      },
      "execution_count": null,
      "outputs": []
    },
    {
      "cell_type": "markdown",
      "source": [
        "## Initialize the Neo4j Driver\n",
        "The Neo4j driver allows you to connect and perform read and write transactions with the database."
      ],
      "metadata": {
        "id": "By3HKzenNuBI"
      }
    },
    {
      "cell_type": "code",
      "source": [
        "from neo4j import GraphDatabase\n",
        "\n",
        "driver = GraphDatabase.driver(\n",
        "    NEO4J_URI,\n",
        "    auth=(NEO4J_USERNAME, NEO4J_PASSWORD)\n",
        ")\n",
        "\n",
        "# (Optional) Test the connection\n",
        "driver.verify_connectivity()"
      ],
      "metadata": {
        "id": "QfQtxfS0NudH"
      },
      "execution_count": null,
      "outputs": []
    },
    {
      "cell_type": "markdown",
      "source": [
        "## Initialize OpenAI LLM and Embeddings via neo4j-graphrag\n",
        "We will use OpenAI **GPT-4.1**. The GraphRAG Python package supports any LLM model, including models from OpenAI, Google VertexAI, Anthropic, Cohere, Azure OpenAI, local Ollama models, and any chat model that works with LangChain. You can also implement a custom interface for any other LLM.\n",
        "\n",
        "Likewise, we will use OpenAI’s **text-embedding-3-small** for the embedding model, but you can use other embedders from different providers."
      ],
      "metadata": {
        "id": "71ErZz2mNyiu"
      }
    },
    {
      "cell_type": "code",
      "source": [
        "from neo4j_graphrag.llm import OpenAILLM\n",
        "from neo4j_graphrag.embeddings import OpenAIEmbeddings\n",
        "\n",
        "llm = OpenAILLM(\n",
        "    model_name=\"gpt-4.1\",\n",
        "    model_params={\"temperature\": 0}\n",
        ")\n",
        "\n",
        "embedder = OpenAIEmbeddings(\n",
        "    model=\"text-embedding-3-small\"\n",
        ")"
      ],
      "metadata": {
        "id": "b3eaWt8PN2D-"
      },
      "execution_count": null,
      "outputs": []
    },
    {
      "cell_type": "markdown",
      "source": [
        "We will also initialize langchain llm to use for community detection & Summarization"
      ],
      "metadata": {
        "id": "wVWn66j1b6aO"
      }
    },
    {
      "cell_type": "code",
      "source": [
        "from langchain_openai import ChatOpenAI\n",
        "\n",
        "# Initialize OpenAI LLM using LangChain\n",
        "lang_llm = ChatOpenAI(openai_api_key=OPENAI_API_KEY, model_name=\"gpt-4.1\", temperature=0)"
      ],
      "metadata": {
        "id": "MdXxKHAyb4M4"
      },
      "execution_count": null,
      "outputs": []
    },
    {
      "cell_type": "markdown",
      "source": [
        "Initialize OpenAI client"
      ],
      "metadata": {
        "id": "5ake60MVQmbi"
      }
    },
    {
      "cell_type": "code",
      "source": [
        "from openai import OpenAI\n",
        "\n",
        "open_ai_client = OpenAI(\n",
        "    api_key=os.environ.get(\"OPENAI_API_KEY\"),\n",
        ")"
      ],
      "metadata": {
        "id": "cT4jgHPlQsfN"
      },
      "execution_count": null,
      "outputs": []
    },
    {
      "cell_type": "markdown",
      "source": [
        "## Initialize Langfuse Handler for Tracing"
      ],
      "metadata": {
        "id": "sawR6ifuFJAD"
      }
    },
    {
      "cell_type": "code",
      "source": [
        "from langfuse.langchain import CallbackHandler\n",
        "from langfuse import get_client\n",
        "\n",
        "os.environ[\"LANGFUSE_PUBLIC_KEY\"] = os.getenv(\"LANGFUSE_PUBLIC_KEY\")\n",
        "os.environ[\"LANGFUSE_SECRET_KEY\"] = os.getenv(\"LANGFUSE_SECRET_KEY\")\n",
        "os.environ[\"LANGFUSE_HOST\"] = \"https://cloud.langfuse.com\"\n",
        "\n",
        "langfuse = get_client()\n",
        "\n",
        "# Verify connection\n",
        "if langfuse.auth_check():\n",
        "    print(\"Langfuse client is authenticated and ready!\")\n",
        "else:\n",
        "    print(\"Authentication failed. Please check your credentials and host.\")\n",
        "\n",
        "langfuse_handler = CallbackHandler()"
      ],
      "metadata": {
        "id": "PKXFS89tFKmm",
        "colab": {
          "base_uri": "https://localhost:8080/"
        },
        "outputId": "d337a098-bf0e-42d1-85d1-3d892d0a670e"
      },
      "execution_count": null,
      "outputs": [
        {
          "output_type": "stream",
          "name": "stdout",
          "text": [
            "Langfuse client is authenticated and ready!\n"
          ]
        }
      ]
    },
    {
      "cell_type": "markdown",
      "source": [
        "## Define ReACT Agent"
      ],
      "metadata": {
        "id": "F5EONCpuHbjD"
      }
    },
    {
      "cell_type": "code",
      "source": [
        "from langchain.agents import AgentExecutor, create_react_agent\n",
        "from langchain.prompts import (\n",
        "    ChatPromptTemplate,\n",
        "    MessagesPlaceholder,\n",
        "    HumanMessagePromptTemplate,\n",
        "    AIMessagePromptTemplate,\n",
        "    PromptTemplate,\n",
        ")\n",
        "import re\n",
        "import asyncio\n",
        "from typing import List, Union\n",
        "from langchain.agents import AgentOutputParser, AgentExecutor, create_react_agent\n",
        "from langchain.schema import AgentAction, AgentFinish\n",
        "\n",
        "\n",
        "\n",
        "# 1️⃣  ───── Robust multi-action parser ────────────────────────────\n",
        "class MultiActionOutputParser(AgentOutputParser):\n",
        "    \"\"\"\n",
        "    Extract *all* Action / Action Input pairs, even when inputs are\n",
        "    multi-line or there is text between blocks.\n",
        "    \"\"\"\n",
        "    _ACTION_RE = re.compile(\n",
        "        r\"\"\"Action\\s*\\d*:\\s*(.*?)\\s*\\n        # tool name\n",
        "            Action\\ Input\\s*\\d*:\\s*([\\s\\S]*?) # tool input (non-greedy)\n",
        "            (?=\\nAction|\\nObservation|\\nFinal|\\Z)  # stop at next block\n",
        "        \"\"\",\n",
        "        flags=re.IGNORECASE | re.VERBOSE,\n",
        "    )\n",
        "\n",
        "    def parse(self, text: str) -> Union[List[AgentAction], AgentFinish]:\n",
        "        # ---------- collect all tool calls ----------\n",
        "        matches = self._ACTION_RE.findall(text)\n",
        "        if matches:\n",
        "            return [\n",
        "                AgentAction(\n",
        "                    tool=tool.strip(),\n",
        "                    tool_input=tool_input.strip().strip('\"'),\n",
        "                    log=text,\n",
        "                )\n",
        "                for tool, tool_input in matches\n",
        "            ]\n",
        "\n",
        "        # ---------- or a final answer ----------\n",
        "        # final = re.search(r\"(?:Final Answer|Final Thought):\\s*(.*)\", text, flags=re.IGNORECASE | re.DOTALL)\n",
        "        final = re.search(r\"(?:Final Answer):\\s*(.*)\", text, flags=re.IGNORECASE | re.DOTALL)\n",
        "\n",
        "        # final = re.search(r\"(?i)Final Answer:\\s*(?:\\*{2})?\\s*\\n+(.*)\", text, flags=re.IGNORECASE | re.DOTALL)   ###PushToQA 04-07-2025 fixed ** issue\n",
        "\n",
        "        if final:\n",
        "            return AgentFinish(\n",
        "                return_values={\"output\": final.group(1).strip()}, log=text\n",
        "            )\n",
        "\n",
        "        # ---------- fallback if no Action or Final Answer but appears like final output ----------\n",
        "        if text.strip():  # fallback: any non-empty text is assumed to be the final answer\n",
        "            return AgentFinish(\n",
        "                return_values={\"output\": text.strip()}, log=text\n",
        "            )\n",
        "\n",
        "        raise ValueError(f\"Could not parse agent output: {text!r}\")\n",
        "\n",
        "\n",
        "# 2️⃣  ───── Executor that really runs in parallel ────────────────\n",
        "class ParallelAgentExecutor(AgentExecutor):\n",
        "    async def _aiter_next_step(self, name_to_tool_map, inputs):\n",
        "        llm_output = await self.agent.aplan(\n",
        "            intermediate_steps=self.intermediate_steps, **inputs\n",
        "        )\n",
        "        parsed = self.output_parser.parse(llm_output)\n",
        "\n",
        "        # ----- run *all* Actions concurrently -----\n",
        "        if isinstance(parsed, list):\n",
        "            coros = [self._aperform_agent_action(name_to_tool_map, a) for a in parsed]\n",
        "            results = await asyncio.gather(*coros)\n",
        "\n",
        "            for a, r in zip(parsed, results):\n",
        "                self.intermediate_steps.append((a, r))\n",
        "                yield f\"Observation: {r}\\n\"\n",
        "\n",
        "        elif isinstance(parsed, AgentFinish):\n",
        "            self.intermediate_steps.append(\n",
        "                (parsed, parsed.return_values[\"output\"])\n",
        "            )\n",
        "            yield f\"Final Answer: {parsed.return_values['output']}\\n\"\n",
        "\n",
        "\n",
        "# 3️⃣  ───── Helper to build the agent + prompt ───────────────────\n",
        "def get_react_agent(llm, tools, system_prompt, verbose=False):\n",
        "    \"\"\"Helper function for creating agent executor\"\"\"\n",
        "    prompt = ChatPromptTemplate.from_messages([\n",
        "        (\"system\", system_prompt),\n",
        "        MessagesPlaceholder(variable_name=\"conversation_history\", optional=True),\n",
        "        HumanMessagePromptTemplate(prompt=PromptTemplate(input_variables=['input'], template='{input}')),\n",
        "        AIMessagePromptTemplate(\n",
        "            prompt=PromptTemplate(input_variables=['agent_scratchpad'], template='{agent_scratchpad}')),\n",
        "    ])\n",
        "    agent = create_react_agent(llm, tools, prompt, output_parser=MultiActionOutputParser())\n",
        "\n",
        "    executor = ParallelAgentExecutor(agent=agent,\n",
        "                                     tools=tools,\n",
        "                                     verbose=verbose,\n",
        "                                     stream_runnable=True,\n",
        "                                     handle_parsing_errors=True,\n",
        "                                     max_iterations=20,\n",
        "                                     return_intermediate_steps=True,\n",
        "                                     )\n",
        "    return executor"
      ],
      "metadata": {
        "id": "wXhVyPhUHgsh"
      },
      "execution_count": null,
      "outputs": []
    },
    {
      "cell_type": "code",
      "source": [
        "# from neo4j_graphrag.schema import get_schema\n",
        "# get_schema(driver)"
      ],
      "metadata": {
        "id": "mEwyrJiB8Lk1"
      },
      "execution_count": null,
      "outputs": []
    },
    {
      "cell_type": "markdown",
      "source": [
        "## Define Tools\n",
        "\n",
        "Defining 4 tools used by the ReACT agent:\n",
        "\n",
        "- **Hybrid Retrieval tool**\n",
        "- **Hybrid Cypher Retrieval tool**\n",
        "- **Global Search tool**\n",
        "- **Local search tool**"
      ],
      "metadata": {
        "id": "uK81XaAQIN14"
      }
    },
    {
      "cell_type": "code",
      "source": [
        "from tools import av_hybrid_tool, av_hybrid_cypher_tool, global_retriever_tool, local_retriever_tool"
      ],
      "metadata": {
        "colab": {
          "base_uri": "https://localhost:8080/"
        },
        "id": "gs1pzxdEFEoQ",
        "outputId": "d7ff9a3e-fae2-40fd-d89b-741bb0ccca62"
      },
      "execution_count": null,
      "outputs": [
        {
          "output_type": "stream",
          "name": "stdout",
          "text": [
            "Got 26 community summaries\n"
          ]
        }
      ]
    },
    {
      "cell_type": "markdown",
      "metadata": {
        "id": "6abb7364"
      },
      "source": [
        "## Agentic KAG Pipeline"
      ]
    },
    {
      "cell_type": "code",
      "source": [
        "from IPython.display import Markdown\n",
        "import json\n",
        "import prompts\n",
        "\n",
        "def run_agentic_kag(query):\n",
        "    \"\"\"\n",
        "    Runs the answer using react agent and provided tools.\n",
        "    \"\"\"\n",
        "    # Run Hybrid Retrieval using all the available tools\n",
        "    hybrid_agent = get_react_agent(\n",
        "        lang_llm,\n",
        "        [av_hybrid_tool, global_retriever_tool, local_retriever_tool],\n",
        "        prompts.REACT_PROMPT,\n",
        "        verbose=True\n",
        "    )\n",
        "    hybrid_input = json.dumps({\n",
        "        \"query\": query,\n",
        "    })\n",
        "    answer = hybrid_agent.invoke({\"input\": hybrid_input}, config={\"callbacks\": [langfuse_handler]})\n",
        "    final_answer = answer['output']\n",
        "    return final_answer"
      ],
      "metadata": {
        "id": "KrCjyva5JwPq",
        "collapsed": true
      },
      "execution_count": null,
      "outputs": []
    },
    {
      "cell_type": "markdown",
      "source": [
        "## Let's test some questions"
      ],
      "metadata": {
        "id": "-zKP4DSroCGy"
      }
    },
    {
      "cell_type": "code",
      "source": [
        "query = \"What are the main topics covered in the first half of Day 1.\"\n",
        "answer = run_agentic_kag(query)\n",
        "display(Markdown(answer))"
      ],
      "metadata": {
        "colab": {
          "base_uri": "https://localhost:8080/",
          "height": 1000
        },
        "collapsed": true,
        "id": "KO7SNyR469xK",
        "outputId": "0ce8a1ad-578b-4778-d94b-4bd904501f1a"
      },
      "execution_count": null,
      "outputs": [
        {
          "output_type": "stream",
          "name": "stdout",
          "text": [
            "\n",
            "\n",
            "\u001b[1m> Entering new ParallelAgentExecutor chain...\u001b[0m\n",
            "\u001b[32;1m\u001b[1;3mThought: To answer this, I need to find the agenda or schedule for Day 1 and identify the main topics covered in its first half.\n",
            "Action: LocalRetrieval\n",
            "Action Input: Day 1 agenda or schedule main topics\u001b[0m\u001b[38;5;200m\u001b[1;3m### DataHack Summit 2025: Day 1 Agenda\n",
            "\n",
            "The DataHack Summit 2025, held at The Leela Bhartiya City Bengaluru, is a significant event focusing on the latest advancements in Agentic AI, multi-agent systems, responsible AI, and business adoption. The summit's agenda is packed with a variety of workshops and sessions designed to cater to both technical and business audiences.\n",
            "\n",
            "#### Main Topics and Sessions\n",
            "\n",
            "1. **Agentic AI and Multi-Agent Systems**\n",
            "   - The summit features hands-on workshops and sessions that delve into the intricacies of Agentic AI and multi-agent systems. These sessions are designed to provide participants with practical knowledge and skills in these cutting-edge areas of artificial intelligence [Data: Communities (1, 2, 3, 4, 5)].\n",
            "\n",
            "2. **Responsible AI**\n",
            "   - A significant focus of the summit is on responsible AI, emphasizing the ethical and governance aspects of AI deployment. Syed Quiser Ahmed from Infosys will deliver a governance-focused PowerTalk, highlighting the importance of responsible AI practices in today's business environment [Data: Communities (1, 2, 3, 4, 5)].\n",
            "\n",
            "3. **Business Adoption of AI**\n",
            "   - The summit includes a beginner-friendly workshop aimed at business leaders, which is designed to facilitate the understanding and adoption of AI technologies in business settings. This workshop is part of the broader effort to bridge the gap between technical AI advancements and their practical business applications [Data: Communities (1, 2, 3, 4, 5)].\n",
            "\n",
            "4. **Technical Workshops and Hack Sessions**\n",
            "   - Alessandro Romano leads a technical workshop and a hack session, providing participants with the opportunity to engage in hands-on learning experiences. Additionally, a no-code hack session using Fractal’s Cogentiq platform is available, allowing participants to explore AI development without extensive coding knowledge [Data: Communities (1, 2, 3, 4, 5)].\n",
            "\n",
            "5. **Additional Workshops**\n",
            "   - An additional workshop is hosted at the Renaissance Bengaluru venue, expanding the reach and accessibility of the summit's offerings. This workshop is part of the comprehensive agenda designed to cater to diverse interests and expertise levels [Data: Communities (1, 2, 3, 4, 5)].\n",
            "\n",
            "The DataHack Summit 2025 provides a comprehensive platform for learning and collaboration, bringing together experts and enthusiasts from various fields to explore the future of AI technologies.\u001b[0m"
          ]
        },
        {
          "output_type": "stream",
          "name": "stderr",
          "text": [
            "WARNING:opentelemetry.sdk.trace:Calling end() on an ended span.\n",
            "WARNING:opentelemetry.sdk.trace:Calling end() on an ended span.\n"
          ]
        },
        {
          "output_type": "stream",
          "name": "stdout",
          "text": [
            "\u001b[32;1m\u001b[1;3m**Final Answer:**\n",
            "\n",
            "**Main Topics Covered in the First Half of Day 1**\n",
            "\n",
            "- **Agentic AI and Multi-Agent Systems**\n",
            "  - Hands-on workshops and sessions exploring the fundamentals and applications of Agentic AI and multi-agent systems.\n",
            "\n",
            "- **Responsible AI**\n",
            "  - Focus on ethical and governance aspects of AI deployment, including a governance-focused PowerTalk by Syed Quiser Ahmed from Infosys.\n",
            "\n",
            "- **Business Adoption of AI**\n",
            "  - Beginner-friendly workshop for business leaders to facilitate understanding and adoption of AI technologies in business contexts.\n",
            "\n",
            "- **Technical Workshops and Hack Sessions**\n",
            "  - Technical workshop and hack session led by Alessandro Romano.\n",
            "  - No-code hack session using Fractal’s Cogentiq platform for accessible AI development.\n",
            "\n",
            "- **Additional Workshops**\n",
            "  - Workshop at the Renaissance Bengaluru venue to broaden participation and learning opportunities.\n",
            "\n",
            "These topics collectively address both technical and business perspectives, with a strong emphasis on practical learning and responsible AI practices in the first half of Day 1 of the DataHack Summit 2025 [Data: Communities (1, 2, 3, 4, 5)].\u001b[0m\n",
            "\n",
            "\u001b[1m> Finished chain.\u001b[0m\n"
          ]
        },
        {
          "output_type": "display_data",
          "data": {
            "text/plain": [
              "<IPython.core.display.Markdown object>"
            ],
            "text/markdown": "**\n\n**Main Topics Covered in the First Half of Day 1**\n\n- **Agentic AI and Multi-Agent Systems**\n  - Hands-on workshops and sessions exploring the fundamentals and applications of Agentic AI and multi-agent systems.\n\n- **Responsible AI**\n  - Focus on ethical and governance aspects of AI deployment, including a governance-focused PowerTalk by Syed Quiser Ahmed from Infosys.\n\n- **Business Adoption of AI**\n  - Beginner-friendly workshop for business leaders to facilitate understanding and adoption of AI technologies in business contexts.\n\n- **Technical Workshops and Hack Sessions**\n  - Technical workshop and hack session led by Alessandro Romano.\n  - No-code hack session using Fractal’s Cogentiq platform for accessible AI development.\n\n- **Additional Workshops**\n  - Workshop at the Renaissance Bengaluru venue to broaden participation and learning opportunities.\n\nThese topics collectively address both technical and business perspectives, with a strong emphasis on practical learning and responsible AI practices in the first half of Day 1 of the DataHack Summit 2025 [Data: Communities (1, 2, 3, 4, 5)]."
          },
          "metadata": {}
        }
      ]
    },
    {
      "cell_type": "code",
      "source": [
        "query = \"List down all the sessions or workshops which uses LangGraph?\"\n",
        "answer = run_agentic_kag(query)\n",
        "display(Markdown(answer))"
      ],
      "metadata": {
        "colab": {
          "base_uri": "https://localhost:8080/",
          "height": 1000
        },
        "id": "vPbyhu496-_N",
        "outputId": "ed54ed62-3573-4d09-e3f4-09ebc16638c1",
        "collapsed": true
      },
      "execution_count": null,
      "outputs": [
        {
          "output_type": "stream",
          "name": "stdout",
          "text": [
            "\n",
            "\n",
            "\u001b[1m> Entering new ParallelAgentExecutor chain...\u001b[0m\n",
            "\u001b[32;1m\u001b[1;3mThought: To answer this, I need to search for sessions or workshops that specifically mention the use of LangGraph.\n",
            "Action: GlobalRetrieval\n",
            "Action Input: sessions or workshops using LangGraph\u001b[0m"
          ]
        },
        {
          "output_type": "stream",
          "name": "stderr",
          "text": [
            "Processing communities in parallel: 100%|██████████| 26/26 [00:08<00:00,  3.20it/s]\n"
          ]
        },
        {
          "output_type": "stream",
          "name": "stdout",
          "text": [
            "\u001b[33;1m\u001b[1;3m## Summary of Findings\n",
            "\n",
            "Based on the provided data, there is one notable mention of a session or workshop specifically focused on LangGraph:\n",
            "\n",
            "- **Deep-Dive LangGraph Workshop**:  \n",
            "  There is a deep-dive workshop dedicated to LangGraph, which centers on graph-based agentic workflows. The workshop covers advanced topics such as agent architectures with memory and tools, reflexion and error-handling loops, retrieval and reasoning, as well as tracing and experiment tracking. This session is led by Sanathraj Narayan, a Data Science Manager, who provides expertise and guidance on the subject. [Data: Reports (no report ids provided)]\n",
            "\n",
            "## Additional Context\n",
            "\n",
            "All other available data tables and reports do not mention any sessions or workshops using LangGraph. The majority of sessions focus on other tools and frameworks, such as LangChain, Streamlit, MassGen, GenAI security, and various open-source solutions, but do not reference LangGraph.\n",
            "\n",
            "## Implications\n",
            "\n",
            "- **LangGraph Coverage**: The only confirmed session is a specialized workshop, indicating that LangGraph is not widely featured across the broader set of sessions or workshops in the dataset.\n",
            "- **Expert-Led Instruction**: The involvement of a Data Science Manager as the workshop leader suggests a high level of expertise and a focus on advanced, practical applications of LangGraph.\n",
            "\n",
            "If you require more details about this specific workshop or its content, please specify your request.\u001b[0m"
          ]
        },
        {
          "output_type": "stream",
          "name": "stderr",
          "text": [
            "WARNING:opentelemetry.sdk.trace:Calling end() on an ended span.\n",
            "WARNING:opentelemetry.sdk.trace:Calling end() on an ended span.\n"
          ]
        },
        {
          "output_type": "stream",
          "name": "stdout",
          "text": [
            "\u001b[32;1m\u001b[1;3m**Question:** List down all the sessions or workshops which uses LangGraph?\n",
            "\n",
            "**Thought:** I need to identify all sessions or workshops that specifically mention the use of LangGraph.\n",
            "\n",
            "**Action:** GlobalRetrieval  \n",
            "**Action Input:** sessions or workshops using LangGraph\n",
            "\n",
            "**Observation:**  \n",
            "- There is a deep-dive workshop dedicated to LangGraph, focusing on graph-based agentic workflows.  \n",
            "- The workshop covers advanced topics such as agent architectures with memory and tools, reflexion and error-handling loops, retrieval and reasoning, as well as tracing and experiment tracking.  \n",
            "- The session is led by Sanathraj Narayan, a Data Science Manager, who provides expertise and guidance on the subject.  \n",
            "- No other sessions or workshops in the available data mention the use of LangGraph.\n",
            "\n",
            "**Thought:** I now know the final answer.\n",
            "\n",
            "**Final Answer:**\n",
            "\n",
            "**Sessions or Workshops Using LangGraph**\n",
            "\n",
            "- **Deep-Dive LangGraph Workshop**\n",
            "  - **Focus:** Graph-based agentic workflows\n",
            "  - **Topics Covered:**\n",
            "    - Agent architectures with memory and tools\n",
            "    - Reflexion and error-handling loops\n",
            "    - Retrieval and reasoning\n",
            "    - Tracing and experiment tracking\n",
            "  - **Instructor:** Sanathraj Narayan (Data Science Manager)\n",
            "  - **Note:** This is the only session or workshop explicitly mentioning the use of LangGraph in the available data.  \n",
            "  - [Source: Reports data]\n",
            "\n",
            "If you need more details about this workshop or its content, please specify your request.\u001b[0m\n",
            "\n",
            "\u001b[1m> Finished chain.\u001b[0m\n"
          ]
        },
        {
          "output_type": "display_data",
          "data": {
            "text/plain": [
              "<IPython.core.display.Markdown object>"
            ],
            "text/markdown": "**\n\n**Sessions or Workshops Using LangGraph**\n\n- **Deep-Dive LangGraph Workshop**\n  - **Focus:** Graph-based agentic workflows\n  - **Topics Covered:**\n    - Agent architectures with memory and tools\n    - Reflexion and error-handling loops\n    - Retrieval and reasoning\n    - Tracing and experiment tracking\n  - **Instructor:** Sanathraj Narayan (Data Science Manager)\n  - **Note:** This is the only session or workshop explicitly mentioning the use of LangGraph in the available data.  \n  - [Source: Reports data]\n\nIf you need more details about this workshop or its content, please specify your request."
          },
          "metadata": {}
        }
      ]
    },
    {
      "cell_type": "code",
      "source": [
        "query = \"List down all the sessions or workshops which uses Agentic RAG?\"\n",
        "answer = run_agentic_kag(query)\n",
        "display(Markdown(answer))"
      ],
      "metadata": {
        "colab": {
          "base_uri": "https://localhost:8080/",
          "height": 1000
        },
        "collapsed": true,
        "id": "vci0fojw3SA4",
        "outputId": "d6237b64-c944-4b69-e90d-8ec2c8d9151a"
      },
      "execution_count": null,
      "outputs": [
        {
          "output_type": "stream",
          "name": "stdout",
          "text": [
            "\n",
            "\n",
            "\u001b[1m> Entering new ParallelAgentExecutor chain...\u001b[0m\n",
            "\u001b[32;1m\u001b[1;3mThought: To answer this, I need to search for sessions or workshops that specifically mention the use of \"Agentic RAG\".\n",
            "Action: AVVectorRetrieval\n",
            "Action Input: sessions or workshops using Agentic RAG\u001b[0m\u001b[36;1m\u001b[1;3mI can't answer this question without context\u001b[0m"
          ]
        },
        {
          "output_type": "stream",
          "name": "stderr",
          "text": [
            "WARNING:opentelemetry.sdk.trace:Calling end() on an ended span.\n"
          ]
        },
        {
          "output_type": "stream",
          "name": "stdout",
          "text": [
            "\u001b[32;1m\u001b[1;3mThought: The previous search did not yield results, possibly due to lack of context or data. I should try a broader semantic search to find any mention of \"Agentic RAG\" in relation to sessions or workshops.\n",
            "Action: GlobalRetrieval\n",
            "Action Input: sessions or workshops that use Agentic RAG\u001b[0m"
          ]
        },
        {
          "output_type": "stream",
          "name": "stderr",
          "text": [
            "Processing communities in parallel: 100%|██████████| 26/26 [00:10<00:00,  2.54it/s]\n"
          ]
        },
        {
          "output_type": "stream",
          "name": "stdout",
          "text": [
            "\u001b[33;1m\u001b[1;3m# Sessions and Workshops Using Agentic RAG\n",
            "\n",
            "## Overview\n",
            "\n",
            "The dataset provides several references to sessions and workshops that utilize or demonstrate Agentic RAG (Retrieval-Augmented Generation) methodologies, though explicit naming varies. Below is a synthesis of the most relevant findings, including session topics, practical applications, and supporting data references.\n",
            "\n",
            "---\n",
            "\n",
            "## Key Sessions and Workshops\n",
            "\n",
            "### 1. Community Workshops and Hack Sessions\n",
            "- The community features hands-on workshops and hack sessions focused on productionizing GenAI and agentic systems, including RAG with Qdrant, which is directly relevant to Agentic RAG. Kartik Nighania (Typewise) leads an end-to-end LLMOps workshop and a hack session on engineering reliable agents at scale, both of which include RAG with Qdrant as a core topic [Data: Entities (15, 29, 435, 466, 16), Relationships (633, 1299, 3, +more)].\n",
            "\n",
            "### 2. LangGraph Workshop and Hack Panel\n",
            "- The deep-dive LangGraph workshop centers on graph-based agentic workflows, explicitly incorporating retrieval+reasoning (RAG) as a core component. Additionally, a hands-on Hack Panel compares frameworks (AutoGen, CrewAI, LangGraph) by building a multi-agent Helpdesk AI Assistant, covering retrieval+reasoning and agentic workflows—key aspects of Agentic RAG [Data: Reports (LangGraph workshop, Hack Panel)].\n",
            "\n",
            "### 3. Agentic AI for Customer Experience\n",
            "- A demo-driven hack session co-presented by Pavak Biswal (DGS) and Abhilash Kulkarni (Dentsu) operationalizes Agentic AI Triage and utilizes RAG to transform at-risk customers into retained advocates via a GenAI-powered CX playbook. The session covers churn detection, retention, sentiment analysis, and more, all supported by Agentic AI Triage and RAG [Data: Reports (main data table, no explicit ids)].\n",
            "\n",
            "### 4. Real-World Agentic AI Applications\n",
            "- Pradeep Kumar (Emirates Airlines) leads a hands-on session on building agentic AI that fuses computer vision and LLMs for access control, alerts, and logging, incorporating safeguards such as confidence thresholds and human-in-the-loop logic. This session demonstrates practical use of agentic RAG. Deepak Sharma’s session addresses reliability in agentic systems and discusses human-in-the-loop workflows and tools like Pydantic-AI, relevant to agentic RAG in operational domains [Data: Reports (Pradeep Kumar session, Deepak Sharma session)].\n",
            "\n",
            "### 5. Healthcare Voice AI Contact Center\n",
            "- A hack session focuses on a scalable healthcare Voice AI contact center, featuring real-time multimodal agents and agentic frameworks, indicating the use of Agentic RAG in a hands-on, production-focused workshop setting. Practitioners with expertise in ML and agentic frameworks participate, supporting the likelihood of Agentic RAG methodologies being demonstrated [Data: Reports (none, as no explicit report ids provided)].\n",
            "\n",
            "---\n",
            "\n",
            "## Additional Relevant Sessions\n",
            "\n",
            "- Two agentic AI hack sessions at the Grok venue showcased real-time, tool-integrated agent systems (e.g., RAHAT for public travel and marketing), emphasizing agentic frameworks, LLM-based agents, and modular design—core components of Agentic RAG [Data: Reports (summary context)].\n",
            "- A session on agentic systems for performance marketing likely involves Agentic RAG as part of its technical stack, focusing on personalized creatives and autonomous campaign optimization [Data: Reports (session descriptions)].\n",
            "- Workshops by Joshua Starmer and Luis Serrano cover AI agents with memory and retrieval, aligning with Agentic RAG concepts, though not explicitly named as such [Data: Reports (workshop descriptions)].\n",
            "- A Day 3 hack session led by Bhaskarjit Sarmah (Domyn) covers agentic AI and RAG concepts (e.g., rate limits, PII scrubbing, role-based tool permissions, monitoring) using LangChain and OpenAI Functions, though not explicitly labeled as \"Agentic RAG\" [Data: Reports (session description)].\n",
            "\n",
            "---\n",
            "\n",
            "## Summary\n",
            "\n",
            "Multiple sessions and workshops in the dataset demonstrate the use of Agentic RAG, either explicitly or through closely related agentic AI and RAG methodologies. These include hands-on workshops on LLMOps, graph-based agentic workflows, customer experience transformation, healthcare AI, and real-time agentic systems for marketing and public services. The practical focus is on integrating retrieval, reasoning, and agentic orchestration in real-world applications, often with a strong emphasis on reliability, governance, and human-in-the-loop safeguards.\u001b[0m"
          ]
        },
        {
          "output_type": "stream",
          "name": "stderr",
          "text": [
            "WARNING:opentelemetry.sdk.trace:Calling end() on an ended span.\n",
            "WARNING:opentelemetry.sdk.trace:Calling end() on an ended span.\n"
          ]
        },
        {
          "output_type": "stream",
          "name": "stdout",
          "text": [
            "\u001b[32;1m\u001b[1;3m**Final Answer:**\n",
            "\n",
            "**Sessions and Workshops Using Agentic RAG**\n",
            "\n",
            "- **Community Workshops and Hack Sessions**\n",
            "  - Hands-on workshops and hack sessions focused on productionizing GenAI and agentic systems, including RAG with Qdrant.\n",
            "  - Led by Kartik Nighania (Typewise): \n",
            "    - End-to-end LLMOps workshop\n",
            "    - Hack session on engineering reliable agents at scale\n",
            "  - Both include RAG with Qdrant as a core topic ([source](#)).\n",
            "\n",
            "- **LangGraph Workshop and Hack Panel**\n",
            "  - Deep-dive workshop on graph-based agentic workflows, explicitly incorporating retrieval+reasoning (RAG).\n",
            "  - Hack Panel comparing frameworks (AutoGen, CrewAI, LangGraph) by building a multi-agent Helpdesk AI Assistant, covering retrieval+reasoning and agentic workflows ([source](#)).\n",
            "\n",
            "- **Agentic AI for Customer Experience**\n",
            "  - Demo-driven hack session by Pavak Biswal (DGS) and Abhilash Kulkarni (Dentsu).\n",
            "  - Operationalizes Agentic AI Triage and utilizes RAG for customer retention, sentiment analysis, and more ([source](#)).\n",
            "\n",
            "- **Real-World Agentic AI Applications**\n",
            "  - Pradeep Kumar (Emirates Airlines): Hands-on session on agentic AI fusing computer vision and LLMs, with safeguards and human-in-the-loop logic.\n",
            "  - Deepak Sharma: Session on reliability in agentic systems, human-in-the-loop workflows, and tools like Pydantic-AI ([source](#)).\n",
            "\n",
            "- **Healthcare Voice AI Contact Center**\n",
            "  - Hack session on a scalable healthcare Voice AI contact center, featuring real-time multimodal agents and agentic frameworks, indicating use of Agentic RAG ([source](#)).\n",
            "\n",
            "- **Additional Relevant Sessions**\n",
            "  - Two agentic AI hack sessions at the Grok venue: Real-time, tool-integrated agent systems (e.g., RAHAT for public travel and marketing), emphasizing agentic frameworks and LLM-based agents.\n",
            "  - Session on agentic systems for performance marketing: Likely involves Agentic RAG for personalized creatives and campaign optimization.\n",
            "  - Workshops by Joshua Starmer and Luis Serrano: AI agents with memory and retrieval, aligning with Agentic RAG concepts.\n",
            "  - Day 3 hack session by Bhaskarjit Sarmah (Domyn): Covers agentic AI and RAG concepts (rate limits, PII scrubbing, role-based tool permissions, monitoring) using LangChain and OpenAI Functions ([source](#)).\n",
            "\n",
            "**Summary Table**\n",
            "\n",
            "| Session/Workshop                                      | Focus Area/Description                                                                                  |\n",
            "|-------------------------------------------------------|--------------------------------------------------------------------------------------------------------|\n",
            "| Community Workshops & Hack Sessions                   | LLMOps, reliable agentic systems, RAG with Qdrant                                                      |\n",
            "| LangGraph Workshop & Hack Panel                       | Graph-based agentic workflows, retrieval+reasoning (RAG), multi-agent Helpdesk AI Assistant            |\n",
            "| Agentic AI for Customer Experience                    | Agentic AI Triage, RAG for customer retention and sentiment analysis                                   |\n",
            "| Real-World Agentic AI Applications                    | Computer vision + LLMs, agentic RAG, human-in-the-loop, reliability                                    |\n",
            "| Healthcare Voice AI Contact Center                    | Real-time multimodal agents, agentic frameworks, Agentic RAG                                           |\n",
            "| Grok Venue Hack Sessions                              | Real-time agentic systems for public travel and marketing                                              |\n",
            "| Performance Marketing Session                         | Agentic RAG for campaign optimization                                                                  |\n",
            "| Joshua Starmer & Luis Serrano Workshops               | AI agents with memory and retrieval (Agentic RAG concepts)                                             |\n",
            "| Bhaskarjit Sarmah (Domyn) Hack Session                | Agentic AI, RAG, LangChain, OpenAI Functions, governance, monitoring                                   |\n",
            "\n",
            "- These sessions and workshops demonstrate the use of Agentic RAG, either explicitly or through closely related agentic AI and RAG methodologies, with a focus on real-world applications, reliability, and human-in-the-loop safeguards ([source](#)).\u001b[0m\n",
            "\n",
            "\u001b[1m> Finished chain.\u001b[0m\n"
          ]
        },
        {
          "output_type": "display_data",
          "data": {
            "text/plain": [
              "<IPython.core.display.Markdown object>"
            ],
            "text/markdown": "**\n\n**Sessions and Workshops Using Agentic RAG**\n\n- **Community Workshops and Hack Sessions**\n  - Hands-on workshops and hack sessions focused on productionizing GenAI and agentic systems, including RAG with Qdrant.\n  - Led by Kartik Nighania (Typewise): \n    - End-to-end LLMOps workshop\n    - Hack session on engineering reliable agents at scale\n  - Both include RAG with Qdrant as a core topic ([source](#)).\n\n- **LangGraph Workshop and Hack Panel**\n  - Deep-dive workshop on graph-based agentic workflows, explicitly incorporating retrieval+reasoning (RAG).\n  - Hack Panel comparing frameworks (AutoGen, CrewAI, LangGraph) by building a multi-agent Helpdesk AI Assistant, covering retrieval+reasoning and agentic workflows ([source](#)).\n\n- **Agentic AI for Customer Experience**\n  - Demo-driven hack session by Pavak Biswal (DGS) and Abhilash Kulkarni (Dentsu).\n  - Operationalizes Agentic AI Triage and utilizes RAG for customer retention, sentiment analysis, and more ([source](#)).\n\n- **Real-World Agentic AI Applications**\n  - Pradeep Kumar (Emirates Airlines): Hands-on session on agentic AI fusing computer vision and LLMs, with safeguards and human-in-the-loop logic.\n  - Deepak Sharma: Session on reliability in agentic systems, human-in-the-loop workflows, and tools like Pydantic-AI ([source](#)).\n\n- **Healthcare Voice AI Contact Center**\n  - Hack session on a scalable healthcare Voice AI contact center, featuring real-time multimodal agents and agentic frameworks, indicating use of Agentic RAG ([source](#)).\n\n- **Additional Relevant Sessions**\n  - Two agentic AI hack sessions at the Grok venue: Real-time, tool-integrated agent systems (e.g., RAHAT for public travel and marketing), emphasizing agentic frameworks and LLM-based agents.\n  - Session on agentic systems for performance marketing: Likely involves Agentic RAG for personalized creatives and campaign optimization.\n  - Workshops by Joshua Starmer and Luis Serrano: AI agents with memory and retrieval, aligning with Agentic RAG concepts.\n  - Day 3 hack session by Bhaskarjit Sarmah (Domyn): Covers agentic AI and RAG concepts (rate limits, PII scrubbing, role-based tool permissions, monitoring) using LangChain and OpenAI Functions ([source](#)).\n\n**Summary Table**\n\n| Session/Workshop                                      | Focus Area/Description                                                                                  |\n|-------------------------------------------------------|--------------------------------------------------------------------------------------------------------|\n| Community Workshops & Hack Sessions                   | LLMOps, reliable agentic systems, RAG with Qdrant                                                      |\n| LangGraph Workshop & Hack Panel                       | Graph-based agentic workflows, retrieval+reasoning (RAG), multi-agent Helpdesk AI Assistant            |\n| Agentic AI for Customer Experience                    | Agentic AI Triage, RAG for customer retention and sentiment analysis                                   |\n| Real-World Agentic AI Applications                    | Computer vision + LLMs, agentic RAG, human-in-the-loop, reliability                                    |\n| Healthcare Voice AI Contact Center                    | Real-time multimodal agents, agentic frameworks, Agentic RAG                                           |\n| Grok Venue Hack Sessions                              | Real-time agentic systems for public travel and marketing                                              |\n| Performance Marketing Session                         | Agentic RAG for campaign optimization                                                                  |\n| Joshua Starmer & Luis Serrano Workshops               | AI agents with memory and retrieval (Agentic RAG concepts)                                             |\n| Bhaskarjit Sarmah (Domyn) Hack Session                | Agentic AI, RAG, LangChain, OpenAI Functions, governance, monitoring                                   |\n\n- These sessions and workshops demonstrate the use of Agentic RAG, either explicitly or through closely related agentic AI and RAG methodologies, with a focus on real-world applications, reliability, and human-in-the-loop safeguards ([source](#))."
          },
          "metadata": {}
        }
      ]
    },
    {
      "cell_type": "code",
      "source": [
        "query = \"I am a big lover of ai agents and I am interested in putting things in production. Suggest me a tailor made agenda, mention the name of the Session or workshop along with Instructor name?\"\n",
        "answer = run_agentic_kag(query)\n",
        "display(Markdown(answer))"
      ],
      "metadata": {
        "id": "04TYb-9LE2Qr",
        "colab": {
          "base_uri": "https://localhost:8080/",
          "height": 1000
        },
        "collapsed": true,
        "outputId": "cb134193-aa53-4fab-d1e7-236e76d9a52d"
      },
      "execution_count": null,
      "outputs": [
        {
          "output_type": "stream",
          "name": "stdout",
          "text": [
            "\n",
            "\n",
            "\u001b[1m> Entering new ParallelAgentExecutor chain...\u001b[0m\n",
            "\u001b[32;1m\u001b[1;3mThought: The question asks for a customized agenda focused on AI agents and production deployment, including session/workshop names and instructor names. I need to search for relevant workshops or sessions, ideally with a practical/production focus, and list their details.\n",
            "Action: GlobalRetrieval\n",
            "Action Input: AI agent workshops and sessions for production deployment with instructor names\u001b[0m"
          ]
        },
        {
          "output_type": "stream",
          "name": "stderr",
          "text": [
            "Processing communities in parallel: 100%|██████████| 26/26 [00:15<00:00,  1.72it/s]\n"
          ]
        },
        {
          "output_type": "stream",
          "name": "stdout",
          "text": [
            "\u001b[33;1m\u001b[1;3m# AI Agent Workshops and Sessions for Production Deployment (with Instructor Names)\n",
            "\n",
            "A comprehensive review of the dataset reveals a rich set of workshops and sessions focused on the production deployment of AI agents, led by a diverse group of industry practitioners and experts. Below is a structured summary of the most relevant sessions, their focus areas, and the instructors involved.\n",
            "\n",
            "---\n",
            "\n",
            "## 1. End-to-End Agentic AI and LLMOps Workshops\n",
            "\n",
            "- **Kartik Nighania (Typewise)**  \n",
            "  Leads an end-to-end LLMOps workshop and hack session on engineering reliable agents at scale. Topics include RAG with Qdrant, SageMaker training/deployment, CI/CD, monitoring/logging, hallucination detection/guardrails, and memory systems.  \n",
            "  [Data: Entities (15, 29, 435, 466, 16), Relationships (633, 1299, 3)]\n",
            "\n",
            "- **Miguel Otero Pedrido (The Neural Maze)**  \n",
            "  Conducts a multimodal agents workshop and hack session focused on moving beyond proofs of concept, with emphasis on agent monitoring, evaluation, simulation, and multimodal integration (vision, speech, language).  \n",
            "  [Data: Entities (15, 29, 435, 466, 16), Relationships (633, 1299, 3)]\n",
            "\n",
            "---\n",
            "\n",
            "## 2. AG2 (AutoGen) and Multi-Agent System Workshops\n",
            "\n",
            "- **Hrushikesh Dokala (Atlan; fAIght Club), Dr. Qingyun Wu (AG2; Penn State), Chi Wang (AG2; FLAML)**  \n",
            "  Deliver a hands-on technical workshop on \"Mastering Real-World Agentic AI Applications with AG2 (AutoGen)\", covering production-grade agent design, integration, deployment, and application domains such as customer support, marketing, content, finance, and data analysis.  \n",
            "  [Data: Main data table]\n",
            "\n",
            "---\n",
            "\n",
            "## 3. Hack Sessions on Production Deployment\n",
            "\n",
            "- **Bhaskarjit Sarmah (Domyn)**  \n",
            "  Leads a session on detecting and mitigating risks in agentic AI, demonstrating governance patterns including rate limits, PII scrubbing, role-based permissions, red-team prompts, alignment rubrics, and monitoring dashboards.  \n",
            "  [Data: Main data table]\n",
            "\n",
            "- **Prakalp Somawanshi**  \n",
            "  Conducts a session on building a multi-modal generative AI assistant for energy infrastructure inspection, focusing on vision-language models, retrieval tools, and compliance.  \n",
            "  [Data: Main data table]\n",
            "\n",
            "---\n",
            "\n",
            "## 4. Multi-Agent Frameworks and Workflow Workshops\n",
            "\n",
            "- **Praneeth Paikray (Manpower Group)**  \n",
            "  Co-leads a hands-on Hack Panel comparing AutoGen, CrewAI, and LangGraph for building a multi-agent Helpdesk AI Assistant, focusing on framework trade-offs and deployment.  \n",
            "  [Data: Main data table]\n",
            "\n",
            "- **Sanathraj Narayan (Data Science Manager)**  \n",
            "  Leads a deep-dive LangGraph workshop on graph-based agentic workflows for enterprise multi-agent systems.  \n",
            "  [Data: Main data table]\n",
            "\n",
            "---\n",
            "\n",
            "## 5. AgentOps, Agent Factory, and Observability\n",
            "\n",
            "- **Bhaskarjit Sarmah**  \n",
            "  Conducts a hands-on AgentOps workshop introducing operationalization of agentic AI and multi-agent practices.  \n",
            "  [Data: Bhaskarjit Sarmah workshop]\n",
            "\n",
            "- **Krishnakumar Menon**  \n",
            "  Outlines an Agent Factory approach for scaling production agents.  \n",
            "  [Data: Krishnakumar Menon session]\n",
            "\n",
            "- **Dipanjan Sarkar**  \n",
            "  Shares field lessons on architecting, optimizing, and observing agentic systems.  \n",
            "  [Data: Dipanjan Sarkar session]\n",
            "\n",
            "- **NVIDIA**  \n",
            "  Presents a vendor-led hack session on its Agent Intelligence toolkit for production environments.  \n",
            "  [Data: NVIDIA session]\n",
            "\n",
            "---\n",
            "\n",
            "## 6. Interoperability, Protocols, and No-Code Automation\n",
            "\n",
            "- **Nikhil Rana**  \n",
            "  Speaker for interoperability sessions pairing Anthropic's Model Context Protocol (MCP) with Google's Agent-to-Agent (A2A) protocol.  \n",
            "  [Data: Main data table]\n",
            "\n",
            "- **Nitin Agarwal, Rutvik Acharya**  \n",
            "  Deliver the MCP session on standardized tool access for agents.  \n",
            "  [Data: Main data table]\n",
            "\n",
            "---\n",
            "\n",
            "## 7. Robust, Scalable, and Multimodal Agent Systems\n",
            "\n",
            "- **Pranjal Singh**  \n",
            "  Leads a session on robust, scalable multi-agent systems for production deployment, emphasizing guardrails and multimodal grounding.  \n",
            "  [Data: Entities (1498, 1264, 992, 1666)]\n",
            "\n",
            "- **Anshu Kumar**  \n",
            "  Demonstrates a modular, fault-tolerant SEO content pipeline for production workflows.  \n",
            "  [Data: Entities (1498, 1264, 992, 1666)]\n",
            "\n",
            "- **Harshad Khadilkar**  \n",
            "  Focuses on discovery and novelty in LLM outputs for production agent deployment.  \n",
            "  [Data: Entities (1498, 1264, 992, 1666)]\n",
            "\n",
            "---\n",
            "\n",
            "## 8. Evaluation, Security, and Governance\n",
            "\n",
            "- **Ayush Thakur (Weights & Biases, Google Developer Expert)**  \n",
            "  Leads a session on end-to-end LLM evaluation for production deployment, including lifecycle design, CI/CD guardrails, and bias analysis.  \n",
            "  [Data: Entities (1285, 1286, 1287, 2544, 2541, +more); Relationships (1226, 3297, 3745, 3749, +more)]\n",
            "\n",
            "- **Dr. Kiran R, Satnam Singh, Shivaraj Mulimani (Acalvio)**  \n",
            "  Conduct sessions on GenAI model evaluation and operationalizing AI red teaming with industry tools and governance frameworks.  \n",
            "  [Data: Reports (1)]\n",
            "\n",
            "---\n",
            "\n",
            "## 9. Industry-Specific and Applied Sessions\n",
            "\n",
            "- **Pradeep Kumar (Emirates Airlines)**  \n",
            "  Hands-on session on building agentic AI systems for production, integrating computer vision and LLMs with safeguards.  \n",
            "  [Data: Main data table]\n",
            "\n",
            "- **Deepak Sharma**  \n",
            "  Addresses reliability challenges in agentic AI systems, advocating for human-in-the-loop workflows and tools like Pydantic-AI.  \n",
            "  [Data: Main data table]\n",
            "\n",
            "- **Vignesh Kumar**  \n",
            "  Demonstrates a serverless AI workflow on Google Cloud for automotive service video analysis at scale.  \n",
            "  [Data: Main data table]\n",
            "\n",
            "- **Karan Sindwani (AWS)**  \n",
            "  Leads a session on scalable GenAI deployment, covering latency/throughput optimization and practical applications.  \n",
            "  [Data: Main data table]\n",
            "\n",
            "---\n",
            "\n",
            "## 10. Additional Notable Sessions\n",
            "\n",
            "- **Ashish Tripathy (Pype AI), Mayank Aggarwal (evolvue AI/CreateHQ), Aashay Sachdeva (Sarvam AI)**  \n",
            "  Conduct a hack session on building a scalable healthcare Voice AI contact center for production deployment, covering real-time multimodal agents, telephony, autoscaling, and cost optimization.  \n",
            "  [Data: Main summary]\n",
            "\n",
            "- **Aashay Sachdeva, Vijay Gabale**  \n",
            "  Lead hack sessions on post-training alignment and fine-tuning of LLMs for real-world applications.  \n",
            "  [Data: Main data table]\n",
            "\n",
            "- **Pavak Biswal (DGS), Abhilash Kulkarni (Dentsu), Arijit Mallick (DGS)**  \n",
            "  Present sessions on AI-first customer experience solutions, operationalizing production-ready agentic capabilities.  \n",
            "  [Data: Main data table]\n",
            "\n",
            "---\n",
            "\n",
            "## Summary Table\n",
            "\n",
            "| Instructor(s)                                   | Session Focus/Title                                                                                 |\n",
            "|-------------------------------------------------|-----------------------------------------------------------------------------------------------------|\n",
            "| Kartik Nighania                                 | LLMOps, reliable agent engineering, production deployment                                           |\n",
            "| Miguel Otero Pedrido                            | Multimodal agents, monitoring, evaluation, simulation                                               |\n",
            "| Hrushikesh Dokala, Dr. Qingyun Wu, Chi Wang     | AG2/AutoGen, production-grade agent design and deployment                                           |\n",
            "| Bhaskarjit Sarmah                               | AgentOps, risk mitigation, governance, operationalization                                           |\n",
            "| Prakalp Somawanshi                              | Multi-modal generative AI assistant for energy infrastructure                                       |\n",
            "| Praneeth Paikray, Sanathraj Narayan             | Multi-agent frameworks (AutoGen, CrewAI, LangGraph), enterprise deployment                          |\n",
            "| Krishnakumar Menon, Dipanjan Sarkar, NVIDIA     | Agent Factory, observability, Agent Intelligence toolkit                                            |\n",
            "| Nikhil Rana, Nitin Agarwal, Rutvik Acharya      | Interoperability, MCP, A2A protocols, no-code automation                                           |\n",
            "| Pranjal Singh, Anshu Kumar, Harshad Khadilkar   | Robust, scalable, multimodal agent systems, SEO pipelines, LLM output diversity                    |\n",
            "| Ayush Thakur                                    | LLM evaluation, CI/CD guardrails, bias analysis                                                     |\n",
            "| Dr. Kiran R, Satnam Singh, Shivaraj Mulimani    | GenAI evaluation, AI red teaming, governance                                                        |\n",
            "| Pradeep Kumar, Deepak Sharma                    | Agentic AI in aviation, reliability, human-in-the-loop                                              |\n",
            "| Vignesh Kumar                                   | Serverless AI workflow for automotive video analysis                                                |\n",
            "| Karan Sindwani                                  | Scalable GenAI deployment, latency/throughput optimization                                          |\n",
            "| Ashish Tripathy, Mayank Aggarwal, Aashay Sachdeva| Healthcare Voice AI contact center, real-time multimodal agents                                     |\n",
            "| Aashay Sachdeva, Vijay Gabale                   | Post-training alignment, fine-tuning LLMs                                                           |\n",
            "| Pavak Biswal, Abhilash Kulkarni, Arijit Mallick | AI-first customer experience, production-ready agentic capabilities                                 |\n",
            "\n",
            "---\n",
            "\n",
            "This summary highlights the breadth and depth of AI agent workshops and sessions available for production deployment, along with the names of the instructors leading these initiatives. For further details on specific sessions or additional instructors, please refer to the referenced data records.\u001b[0m"
          ]
        },
        {
          "output_type": "stream",
          "name": "stderr",
          "text": [
            "WARNING:opentelemetry.sdk.trace:Calling end() on an ended span.\n",
            "WARNING:opentelemetry.sdk.trace:Calling end() on an ended span.\n"
          ]
        },
        {
          "output_type": "stream",
          "name": "stdout",
          "text": [
            "\u001b[32;1m\u001b[1;3mThought: I now know the final answer.\n",
            "\n",
            "Final Answer:\n",
            "\n",
            "**Tailor-Made Agenda for AI Agents in Production**\n",
            "\n",
            "---\n",
            "\n",
            "**1. End-to-End Agentic AI and LLMOps**\n",
            "- **Session:** Engineering Reliable Agents at Scale (LLMOps Workshop & Hack Session)\n",
            "- **Instructor:** Kartik Nighania (Typewise)\n",
            "\n",
            "---\n",
            "\n",
            "**2. Multimodal Agent Systems**\n",
            "- **Session:** Multimodal Agents: Beyond Proofs of Concept (Workshop & Hack Session)\n",
            "- **Instructor:** Miguel Otero Pedrido (The Neural Maze)\n",
            "\n",
            "---\n",
            "\n",
            "**3. Mastering Real-World Agentic AI Applications**\n",
            "- **Session:** Mastering Real-World Agentic AI Applications with AG2 (AutoGen)\n",
            "- **Instructors:** Hrushikesh Dokala (Atlan; fAIght Club), Dr. Qingyun Wu (AG2; Penn State), Chi Wang (AG2; FLAML)\n",
            "\n",
            "---\n",
            "\n",
            "**4. AgentOps and Risk Mitigation**\n",
            "- **Session:** Detecting and Mitigating Risks in Agentic AI\n",
            "- **Instructor:** Bhaskarjit Sarmah (Domyn)\n",
            "\n",
            "---\n",
            "\n",
            "**5. Multi-Agent Frameworks and Workflows**\n",
            "- **Session:** Building Multi-Agent Helpdesk AI Assistant (AutoGen, CrewAI, LangGraph Comparison)\n",
            "- **Instructors:** Praneeth Paikray (Manpower Group), Sanathraj Narayan (Data Science Manager)\n",
            "\n",
            "---\n",
            "\n",
            "**6. Agent Factory and Observability**\n",
            "- **Session:** Agent Factory for Scaling Production Agents\n",
            "- **Instructor:** Krishnakumar Menon\n",
            "\n",
            "- **Session:** Architecting, Optimizing, and Observing Agentic Systems\n",
            "- **Instructor:** Dipanjan Sarkar\n",
            "\n",
            "- **Session:** Agent Intelligence Toolkit for Production\n",
            "- **Instructor:** NVIDIA\n",
            "\n",
            "---\n",
            "\n",
            "**7. Interoperability and Protocols**\n",
            "- **Session:** Interoperability with MCP and A2A Protocols\n",
            "- **Instructors:** Nikhil Rana, Nitin Agarwal, Rutvik Acharya\n",
            "\n",
            "---\n",
            "\n",
            "**8. Robust, Scalable, and Multimodal Agent Systems**\n",
            "- **Session:** Robust, Scalable Multi-Agent Systems for Production\n",
            "- **Instructor:** Pranjal Singh\n",
            "\n",
            "- **Session:** Modular, Fault-Tolerant SEO Content Pipeline\n",
            "- **Instructor:** Anshu Kumar\n",
            "\n",
            "- **Session:** Discovery and Novelty in LLM Outputs\n",
            "- **Instructor:** Harshad Khadilkar\n",
            "\n",
            "---\n",
            "\n",
            "**9. Evaluation, Security, and Governance**\n",
            "- **Session:** End-to-End LLM Evaluation for Production Deployment\n",
            "- **Instructor:** Ayush Thakur (Weights & Biases, Google Developer Expert)\n",
            "\n",
            "- **Session:** GenAI Model Evaluation and AI Red Teaming\n",
            "- **Instructors:** Dr. Kiran R, Satnam Singh, Shivaraj Mulimani (Acalvio)\n",
            "\n",
            "---\n",
            "\n",
            "**10. Industry-Specific and Applied Sessions**\n",
            "- **Session:** Building Agentic AI Systems for Aviation\n",
            "- **Instructor:** Pradeep Kumar (Emirates Airlines)\n",
            "\n",
            "- **Session:** Reliability in Agentic AI Systems (Human-in-the-Loop, Pydantic-AI)\n",
            "- **Instructor:** Deepak Sharma\n",
            "\n",
            "- **Session:** Serverless AI Workflow for Automotive Video Analysis\n",
            "- **Instructor:** Vignesh Kumar\n",
            "\n",
            "- **Session:** Scalable GenAI Deployment\n",
            "- **Instructor:** Karan Sindwani (AWS)\n",
            "\n",
            "---\n",
            "\n",
            "**11. Healthcare and Customer Experience**\n",
            "- **Session:** Scalable Healthcare Voice AI Contact Center\n",
            "- **Instructors:** Ashish Tripathy (Pype AI), Mayank Aggarwal (evolvue AI/CreateHQ), Aashay Sachdeva (Sarvam AI)\n",
            "\n",
            "- **Session:** Post-Training Alignment and Fine-Tuning of LLMs\n",
            "- **Instructors:** Aashay Sachdeva, Vijay Gabale\n",
            "\n",
            "- **Session:** AI-First Customer Experience Solutions\n",
            "- **Instructors:** Pavak Biswal (DGS), Abhilash Kulkarni (Dentsu), Arijit Mallick (DGS)\n",
            "\n",
            "---\n",
            "\n",
            "**This agenda covers the full spectrum from agent design, deployment, monitoring, and evaluation to industry-specific applications, led by top practitioners and experts in the field** [source](#ai-agent-workshops-and-sessions-for-production-deployment-with-instructor-names).\u001b[0m\n",
            "\n",
            "\u001b[1m> Finished chain.\u001b[0m\n"
          ]
        },
        {
          "output_type": "display_data",
          "data": {
            "text/plain": [
              "<IPython.core.display.Markdown object>"
            ],
            "text/markdown": "**Tailor-Made Agenda for AI Agents in Production**\n\n---\n\n**1. End-to-End Agentic AI and LLMOps**\n- **Session:** Engineering Reliable Agents at Scale (LLMOps Workshop & Hack Session)\n- **Instructor:** Kartik Nighania (Typewise)\n\n---\n\n**2. Multimodal Agent Systems**\n- **Session:** Multimodal Agents: Beyond Proofs of Concept (Workshop & Hack Session)\n- **Instructor:** Miguel Otero Pedrido (The Neural Maze)\n\n---\n\n**3. Mastering Real-World Agentic AI Applications**\n- **Session:** Mastering Real-World Agentic AI Applications with AG2 (AutoGen)\n- **Instructors:** Hrushikesh Dokala (Atlan; fAIght Club), Dr. Qingyun Wu (AG2; Penn State), Chi Wang (AG2; FLAML)\n\n---\n\n**4. AgentOps and Risk Mitigation**\n- **Session:** Detecting and Mitigating Risks in Agentic AI\n- **Instructor:** Bhaskarjit Sarmah (Domyn)\n\n---\n\n**5. Multi-Agent Frameworks and Workflows**\n- **Session:** Building Multi-Agent Helpdesk AI Assistant (AutoGen, CrewAI, LangGraph Comparison)\n- **Instructors:** Praneeth Paikray (Manpower Group), Sanathraj Narayan (Data Science Manager)\n\n---\n\n**6. Agent Factory and Observability**\n- **Session:** Agent Factory for Scaling Production Agents\n- **Instructor:** Krishnakumar Menon\n\n- **Session:** Architecting, Optimizing, and Observing Agentic Systems\n- **Instructor:** Dipanjan Sarkar\n\n- **Session:** Agent Intelligence Toolkit for Production\n- **Instructor:** NVIDIA\n\n---\n\n**7. Interoperability and Protocols**\n- **Session:** Interoperability with MCP and A2A Protocols\n- **Instructors:** Nikhil Rana, Nitin Agarwal, Rutvik Acharya\n\n---\n\n**8. Robust, Scalable, and Multimodal Agent Systems**\n- **Session:** Robust, Scalable Multi-Agent Systems for Production\n- **Instructor:** Pranjal Singh\n\n- **Session:** Modular, Fault-Tolerant SEO Content Pipeline\n- **Instructor:** Anshu Kumar\n\n- **Session:** Discovery and Novelty in LLM Outputs\n- **Instructor:** Harshad Khadilkar\n\n---\n\n**9. Evaluation, Security, and Governance**\n- **Session:** End-to-End LLM Evaluation for Production Deployment\n- **Instructor:** Ayush Thakur (Weights & Biases, Google Developer Expert)\n\n- **Session:** GenAI Model Evaluation and AI Red Teaming\n- **Instructors:** Dr. Kiran R, Satnam Singh, Shivaraj Mulimani (Acalvio)\n\n---\n\n**10. Industry-Specific and Applied Sessions**\n- **Session:** Building Agentic AI Systems for Aviation\n- **Instructor:** Pradeep Kumar (Emirates Airlines)\n\n- **Session:** Reliability in Agentic AI Systems (Human-in-the-Loop, Pydantic-AI)\n- **Instructor:** Deepak Sharma\n\n- **Session:** Serverless AI Workflow for Automotive Video Analysis\n- **Instructor:** Vignesh Kumar\n\n- **Session:** Scalable GenAI Deployment\n- **Instructor:** Karan Sindwani (AWS)\n\n---\n\n**11. Healthcare and Customer Experience**\n- **Session:** Scalable Healthcare Voice AI Contact Center\n- **Instructors:** Ashish Tripathy (Pype AI), Mayank Aggarwal (evolvue AI/CreateHQ), Aashay Sachdeva (Sarvam AI)\n\n- **Session:** Post-Training Alignment and Fine-Tuning of LLMs\n- **Instructors:** Aashay Sachdeva, Vijay Gabale\n\n- **Session:** AI-First Customer Experience Solutions\n- **Instructors:** Pavak Biswal (DGS), Abhilash Kulkarni (Dentsu), Arijit Mallick (DGS)\n\n---\n\n**This agenda covers the full spectrum from agent design, deployment, monitoring, and evaluation to industry-specific applications, led by top practitioners and experts in the field** [source](#ai-agent-workshops-and-sessions-for-production-deployment-with-instructor-names)."
          },
          "metadata": {}
        }
      ]
    },
    {
      "cell_type": "code",
      "source": [
        "query = \"I am a big lover of knowledge graphs (do not confuse with LangGraph). Suggest me a tailor made agenda, mention the name of the Session or workshop along with Instructor name and whn it is happening?\"\n",
        "answer = run_agentic_kag(query)\n",
        "display(Markdown(answer))"
      ],
      "metadata": {
        "colab": {
          "base_uri": "https://localhost:8080/",
          "height": 1000
        },
        "id": "m5m4flGyv0ng",
        "outputId": "0f3b1ae7-1410-4cdf-d17b-24b08d26bfdc",
        "collapsed": true
      },
      "execution_count": null,
      "outputs": [
        {
          "output_type": "stream",
          "name": "stdout",
          "text": [
            "\n",
            "\n",
            "\u001b[1m> Entering new ParallelAgentExecutor chain...\u001b[0m\n",
            "\u001b[32;1m\u001b[1;3mThought: The question is about knowledge graphs (not LangGraph) and requests a tailored agenda with session/workshop names, instructor names, and timings. I need to search for relevant sessions or workshops about knowledge graphs, including their details.\n",
            "Action: GlobalRetrieval\n",
            "Action Input: knowledge graph sessions or workshops, instructor names, and schedule\u001b[0m"
          ]
        },
        {
          "output_type": "stream",
          "name": "stderr",
          "text": [
            "Processing communities in parallel: 100%|██████████| 26/26 [00:14<00:00,  1.82it/s]\n"
          ]
        },
        {
          "output_type": "stream",
          "name": "stdout",
          "text": [
            "\u001b[33;1m\u001b[1;3m# Knowledge Graph Sessions or Workshops: Instructors and Schedule\n",
            "\n",
            "## Overview\n",
            "\n",
            "The dataset contains information on several sessions and workshops relevant to knowledge graphs and their applications, though not all are explicitly titled as \"knowledge graph\" sessions. Below is a synthesis of the available details, including session topics, instructor names, and scheduling information where provided.\n",
            "\n",
            "---\n",
            "\n",
            "## Explicit Knowledge Graph Session\n",
            "\n",
            "- **Session Title:** The Missing Piece of AI Apps: Evaluation  \n",
            "  **Type:** Day 2 Hack Session  \n",
            "  **Date & Time:** 2025-08-21, 16:00–17:00  \n",
            "  **Instructor:** Ayush Thakur (Manager, AI Engineer at Weights & Biases; Google Developer Expert in Machine Learning)  \n",
            "  [Data: Entities (1285, 1286, 1287); Relationships (1226, 3297)]\n",
            "\n",
            "---\n",
            "\n",
            "## Related Workshops and Hack Sessions\n",
            "\n",
            "### 1. LangGraph Workshop\n",
            "- **Focus:** Graph-based agentic workflows, agent architectures with memory/tools, reflexion and error-handling loops, retrieval+reasoning, and experiment tracking.\n",
            "- **Instructor:** Sanathraj Narayan (Data Science Manager)\n",
            "- **Schedule:** Day 3 (exact time not specified)\n",
            "- [Data: Reports (content references LangGraph workshop and Day 3 schedule)]\n",
            "\n",
            "### 2. Knowledge Graph-Related Hack Sessions\n",
            "- **Session 1:** Measuring Uncertainty in LLMs and Optimal Use of SLMs  \n",
            "  **Instructor:** Kuldeep Jiwani (ConcertAI)\n",
            "- **Session 2:** Fast and Accurate Conversational Agents: Beyond Function Calling  \n",
            "  **Instructor:** Daksh Varshneya (Rasa)\n",
            "- **Schedule:** Not specified\n",
            "- [Data: Reports (+more)]\n",
            "\n",
            "### 3. GenAI Model Evaluation and AI Red Teaming\n",
            "- **Day 2 PowerTalk:** Evaluating GenAI models (technical, observability, business)  \n",
            "  **Instructor:** Dr. Kiran R\n",
            "- **Day 3 Hack Session:** Operationalizing AI red teaming  \n",
            "  **Instructors:** Satnam Singh and Shivaraj Mulimani (Acalvio)\n",
            "- **Schedule:** Day 2 (PowerTalk), Day 3 (Hack Session)\n",
            "- [Data: Reports (session descriptions)]\n",
            "\n",
            "### 4. From Idea to Production with GenAI\n",
            "- **Type:** Day 2 Hack Session  \n",
            "- **Focus:** GenAI production practices (relevant to knowledge graphs)\n",
            "- **Instructor:** Karan Sindwani (AWS Senior Applied Scientist)\n",
            "- **Schedule:** Day 2\n",
            "- [Data: Reports (summary)]\n",
            "\n",
            "---\n",
            "\n",
            "## Additional Sessions with Knowledge Graph Relevance\n",
            "\n",
            "- **Workshop:** Mastering Real-World Agentic AI Applications with AG2 (AutoGen)  \n",
            "  **Instructors:** Hrushikesh Dokala (Atlan; fAIght Club), Dr. Qingyun Wu (AG2; Penn State), Chi Wang (AG2; FLAML)  \n",
            "  **Schedule:** Not specified  \n",
            "  [Data: Reports (curriculum description)]\n",
            "\n",
            "- **Hack Sessions:**  \n",
            "  - Post-Training Is Back: From Prompts to Policies (Aashay Sachdeva)  \n",
            "  - Why GenAI and LLMs Fail and How Fine-Tuning Helps Them (Vijay Gabale)  \n",
            "  **Schedule:** Not specified  \n",
            "  [Data: Reports (no explicit report ids provided)]\n",
            "\n",
            "---\n",
            "\n",
            "## Sessions with Partial or No Schedule Information\n",
            "\n",
            "Many sessions and workshops relevant to knowledge graphs, agentic AI, and GenAI evaluation are listed without specific dates or times. Where possible, day-level scheduling (e.g., \"Day 2\" or \"Day 3\") is provided, but exact times are often missing.\n",
            "\n",
            "---\n",
            "\n",
            "## Summary Table\n",
            "\n",
            "| Session Title / Topic                                      | Instructor(s)                                   | Date / Schedule           |\n",
            "|------------------------------------------------------------|-------------------------------------------------|---------------------------|\n",
            "| The Missing Piece of AI Apps: Evaluation                   | Ayush Thakur                                    | 2025-08-21, 16:00–17:00   |\n",
            "| LangGraph Workshop                                         | Sanathraj Narayan                               | Day 3                     |\n",
            "| Measuring Uncertainty in LLMs and Optimal Use of SLMs      | Kuldeep Jiwani                                  | Not specified             |\n",
            "| Fast and Accurate Conversational Agents                    | Daksh Varshneya                                 | Not specified             |\n",
            "| Evaluating GenAI Models (PowerTalk)                        | Dr. Kiran R                                     | Day 2                     |\n",
            "| Operationalizing AI Red Teaming (Hack Session)             | Satnam Singh, Shivaraj Mulimani                 | Day 3                     |\n",
            "| From Idea to Production with GenAI                         | Karan Sindwani                                  | Day 2                     |\n",
            "| Mastering Real-World Agentic AI Applications with AG2      | Hrushikesh Dokala, Dr. Qingyun Wu, Chi Wang     | Not specified             |\n",
            "| Post-Training Is Back: From Prompts to Policies            | Aashay Sachdeva                                 | Not specified             |\n",
            "| Why GenAI and LLMs Fail and How Fine-Tuning Helps Them     | Vijay Gabale                                    | Not specified             |\n",
            "\n",
            "---\n",
            "\n",
            "## Key Implications\n",
            "\n",
            "- **Instructor Diversity:** Sessions are led by a mix of industry practitioners, researchers, and product leads from organizations such as Weights & Biases, AWS, ConcertAI, Rasa, Atlan, Penn State, FLAML, and Acalvio.\n",
            "- **Schedule Availability:** Only a few sessions have precise date and time information; most are identified by day or lack specific scheduling.\n",
            "- **Knowledge Graph Focus:** While only one session is explicitly titled as a knowledge graph session, several others cover adjacent topics such as agentic workflows, GenAI evaluation, and conversational agents, which are highly relevant to knowledge graph applications.\n",
            "\n",
            "If you need more details on a specific session or instructor, please specify.\u001b[0m"
          ]
        },
        {
          "output_type": "stream",
          "name": "stderr",
          "text": [
            "WARNING:opentelemetry.sdk.trace:Calling end() on an ended span.\n",
            "WARNING:opentelemetry.sdk.trace:Calling end() on an ended span.\n"
          ]
        },
        {
          "output_type": "stream",
          "name": "stdout",
          "text": [
            "\u001b[32;1m\u001b[1;3mThought: I now know the final answer.\n",
            "\n",
            "Final Answer:\n",
            "\n",
            "**Tailor-Made Agenda for Knowledge Graph Enthusiasts**\n",
            "\n",
            "---\n",
            "\n",
            "**1. The Missing Piece of AI Apps: Evaluation**\n",
            "- **Instructor:** Ayush Thakur (Manager, AI Engineer at Weights & Biases; Google Developer Expert in Machine Learning)\n",
            "- **When:** 2025-08-21, 16:00–17:00\n",
            "- **Type:** Day 2 Hack Session\n",
            "- **Why Attend:** This session is explicitly focused on evaluation in AI apps, a crucial aspect of knowledge graph applications and their integration in AI systems.  \n",
            "  [Source](#)\n",
            "\n",
            "---\n",
            "\n",
            "**2. Measuring Uncertainty in LLMs and Optimal Use of SLMs**\n",
            "- **Instructor:** Kuldeep Jiwani (ConcertAI)\n",
            "- **When:** Schedule not specified\n",
            "- **Why Attend:** This session covers uncertainty in language models, which is highly relevant for knowledge graph-based reasoning and applications.  \n",
            "  [Source](#)\n",
            "\n",
            "---\n",
            "\n",
            "**3. Fast and Accurate Conversational Agents: Beyond Function Calling**\n",
            "- **Instructor:** Daksh Varshneya (Rasa)\n",
            "- **When:** Schedule not specified\n",
            "- **Why Attend:** Conversational agents often leverage knowledge graphs for context and reasoning, making this session valuable for practical applications.  \n",
            "  [Source](#)\n",
            "\n",
            "---\n",
            "\n",
            "**4. From Idea to Production with GenAI**\n",
            "- **Instructor:** Karan Sindwani (AWS Senior Applied Scientist)\n",
            "- **When:** Day 2\n",
            "- **Why Attend:** Focuses on productionizing GenAI, which often involves knowledge graph integration for real-world deployments.  \n",
            "  [Source](#)\n",
            "\n",
            "---\n",
            "\n",
            "**5. Mastering Real-World Agentic AI Applications with AG2 (AutoGen)**\n",
            "- **Instructors:** Hrushikesh Dokala (Atlan; fAIght Club), Dr. Qingyun Wu (AG2; Penn State), Chi Wang (AG2; FLAML)\n",
            "- **When:** Schedule not specified\n",
            "- **Why Attend:** This workshop covers agentic AI applications, which frequently utilize knowledge graphs for memory and reasoning.  \n",
            "  [Source](#)\n",
            "\n",
            "---\n",
            "\n",
            "**Summary Table**\n",
            "\n",
            "| Session Title / Topic                                      | Instructor(s)                                   | Date / Schedule           |\n",
            "|------------------------------------------------------------|-------------------------------------------------|---------------------------|\n",
            "| The Missing Piece of AI Apps: Evaluation                   | Ayush Thakur                                    | 2025-08-21, 16:00–17:00   |\n",
            "| Measuring Uncertainty in LLMs and Optimal Use of SLMs      | Kuldeep Jiwani                                  | Not specified             |\n",
            "| Fast and Accurate Conversational Agents                    | Daksh Varshneya                                 | Not specified             |\n",
            "| From Idea to Production with GenAI                         | Karan Sindwani                                  | Day 2                     |\n",
            "| Mastering Real-World Agentic AI Applications with AG2      | Hrushikesh Dokala, Dr. Qingyun Wu, Chi Wang     | Not specified             |\n",
            "\n",
            "---\n",
            "\n",
            "**Note:** Only the first session has a precise date and time. For the others, please check the event’s official schedule for updates.  \n",
            "[Source: GlobalRetrieval results]\u001b[0m\n",
            "\n",
            "\u001b[1m> Finished chain.\u001b[0m\n"
          ]
        },
        {
          "output_type": "display_data",
          "data": {
            "text/plain": [
              "<IPython.core.display.Markdown object>"
            ],
            "text/markdown": "**Tailor-Made Agenda for Knowledge Graph Enthusiasts**\n\n---\n\n**1. The Missing Piece of AI Apps: Evaluation**\n- **Instructor:** Ayush Thakur (Manager, AI Engineer at Weights & Biases; Google Developer Expert in Machine Learning)\n- **When:** 2025-08-21, 16:00–17:00\n- **Type:** Day 2 Hack Session\n- **Why Attend:** This session is explicitly focused on evaluation in AI apps, a crucial aspect of knowledge graph applications and their integration in AI systems.  \n  [Source](#)\n\n---\n\n**2. Measuring Uncertainty in LLMs and Optimal Use of SLMs**\n- **Instructor:** Kuldeep Jiwani (ConcertAI)\n- **When:** Schedule not specified\n- **Why Attend:** This session covers uncertainty in language models, which is highly relevant for knowledge graph-based reasoning and applications.  \n  [Source](#)\n\n---\n\n**3. Fast and Accurate Conversational Agents: Beyond Function Calling**\n- **Instructor:** Daksh Varshneya (Rasa)\n- **When:** Schedule not specified\n- **Why Attend:** Conversational agents often leverage knowledge graphs for context and reasoning, making this session valuable for practical applications.  \n  [Source](#)\n\n---\n\n**4. From Idea to Production with GenAI**\n- **Instructor:** Karan Sindwani (AWS Senior Applied Scientist)\n- **When:** Day 2\n- **Why Attend:** Focuses on productionizing GenAI, which often involves knowledge graph integration for real-world deployments.  \n  [Source](#)\n\n---\n\n**5. Mastering Real-World Agentic AI Applications with AG2 (AutoGen)**\n- **Instructors:** Hrushikesh Dokala (Atlan; fAIght Club), Dr. Qingyun Wu (AG2; Penn State), Chi Wang (AG2; FLAML)\n- **When:** Schedule not specified\n- **Why Attend:** This workshop covers agentic AI applications, which frequently utilize knowledge graphs for memory and reasoning.  \n  [Source](#)\n\n---\n\n**Summary Table**\n\n| Session Title / Topic                                      | Instructor(s)                                   | Date / Schedule           |\n|------------------------------------------------------------|-------------------------------------------------|---------------------------|\n| The Missing Piece of AI Apps: Evaluation                   | Ayush Thakur                                    | 2025-08-21, 16:00–17:00   |\n| Measuring Uncertainty in LLMs and Optimal Use of SLMs      | Kuldeep Jiwani                                  | Not specified             |\n| Fast and Accurate Conversational Agents                    | Daksh Varshneya                                 | Not specified             |\n| From Idea to Production with GenAI                         | Karan Sindwani                                  | Day 2                     |\n| Mastering Real-World Agentic AI Applications with AG2      | Hrushikesh Dokala, Dr. Qingyun Wu, Chi Wang     | Not specified             |\n\n---\n\n**Note:** Only the first session has a precise date and time. For the others, please check the event’s official schedule for updates.  \n[Source: GlobalRetrieval results]"
          },
          "metadata": {}
        }
      ]
    },
    {
      "cell_type": "code",
      "source": [
        "query = \" Which specific company has the most speakers participating in DHS 2025?\"\n",
        "answer = run_agentic_kag(query)\n",
        "display(Markdown(answer))"
      ],
      "metadata": {
        "id": "VYqciQA1iZKa",
        "colab": {
          "base_uri": "https://localhost:8080/",
          "height": 1000
        },
        "collapsed": true,
        "outputId": "a2faac21-fe2a-4530-fc6d-f913840e5dee"
      },
      "execution_count": null,
      "outputs": [
        {
          "output_type": "stream",
          "name": "stdout",
          "text": [
            "\n",
            "\n",
            "\u001b[1m> Entering new ParallelAgentExecutor chain...\u001b[0m\n",
            "\u001b[32;1m\u001b[1;3mThought: To answer this, I need to find a list of speakers for DHS 2025 and identify their company affiliations, then determine which company has the highest number of speakers.\n",
            "Action: GlobalRetrieval\n",
            "Action Input: List of speakers and their company affiliations for DHS 2025\u001b[0m"
          ]
        },
        {
          "output_type": "stream",
          "name": "stderr",
          "text": [
            "Processing communities in parallel: 100%|██████████| 26/26 [00:08<00:00,  2.93it/s]\n"
          ]
        },
        {
          "output_type": "stream",
          "name": "stdout",
          "text": [
            "\u001b[33;1m\u001b[1;3m# List of Speakers and Company Affiliations for DHS 2025\n",
            "\n",
            "Below is a consolidated list of speakers for DHS 2025, along with their company affiliations where available. In several cases, the company affiliation is not specified in the provided data.\n",
            "\n",
            "---\n",
            "\n",
            "## Confirmed Speakers with Company Affiliations\n",
            "\n",
            "- **Syed Quiser Ahmed** — Infosys  \n",
            "- **Kartik Nighania** — Typewise  \n",
            "- **Miguel Otero Pedrido** — The Neural Maze  \n",
            "- **Raghav Bali** — Delivery Hero  \n",
            "- **Hrushikesh Dokala** — Atlan, fAIght Club  \n",
            "- **Dr. Qingyun Wu** — AG2, Penn State  \n",
            "- **Chi Wang** — AG2, FLAML  \n",
            "- **Deepak Sharma** — Google/DeepMind  \n",
            "- **Luis Serrano** — Serrano Academy (prior roles at Google, Apple, Cohere, Zapata)  \n",
            "- **Bhaskarjit Sarmah** — Domyn  \n",
            "- **Praneeth Paikray** — Manpower Group (prior: TCS, Dell, Fidelity)  \n",
            "- **Kuldeep Jiwani** — ConcertAI  \n",
            "- **Daksh Varshneya** — Rasa  \n",
            "- **Pradeep Kumar** — Emirates Airlines  \n",
            "- **Vignesh Kumar** — Google Cloud  \n",
            "- **Pavak Biswal** — Dentsu Global Services (DGS)  \n",
            "- **Abhilash Kulkarni** — Dentsu  \n",
            "- **Arijit Mallick** — Dentsu Global Services (DGS)  \n",
            "- **Praveen Kumar GS** — Samsung Electronics  \n",
            "- **Shubhradeep Nandi** — (Affiliation not specified, but session on finance/welfare)  \n",
            "- **Ayush Thakur** — Weights & Biases (Manager, AI Engineer; Google Developer Expert in ML)  \n",
            "- **Anand S** — Straive/Gramener  \n",
            "- **Aditya Iyengar** — Quanhack  \n",
            "- **Avinash Pathak** — NVIDIA (Senior AI Engineer)  \n",
            "- **Satnam Singh** — Acalvio  \n",
            "- **Shivaraj Mulimani** — Acalvio  \n",
            "- **Karan Sindwani** — AWS (Amazon Web Services)  \n",
            "- **Ashish Tripathy** — Pype AI  \n",
            "- **Mayank Aggarwal** — evolvue AI/CreateHQ  \n",
            "- **Aashay Sachdeva** — Sarvam AI  \n",
            "- **Srikanth Velamakanni** — Fractal (Co-founder & Group CEO; also linked with NASSCOM, Plaksha University, IdeaForge, Metro Brands, BARC India, NIIT Ltd.)  \n",
            "- **Ganesh Subramanian** — Cogentiq  \n",
            "- **Pranjal Singh** — (Affiliation not specified)  \n",
            "- **Anshu Kumar** — (Affiliation not specified)  \n",
            "- **Harshad Khadilkar** — (Affiliation not specified)  \n",
            "- **Nikhil Rana** — (Affiliation not specified)  \n",
            "- **Nitin Agarwal** — (Affiliation not specified)  \n",
            "- **Rutvik Acharya** — (Affiliation not specified)  \n",
            "- **Rohan Rao** — (Affiliation not specified)  \n",
            "- **Joshua Starmer** — (Affiliation not specified)  \n",
            "- **Luis Serrano** — (Affiliation not specified for some sessions)  \n",
            "- **Sanathraj Narayan** — (Affiliation not specified)  \n",
            "- **Prakalp Somawanshi** — (Affiliation not specified)  \n",
            "- **Aashay Sachdeva** — (Affiliation not specified for some sessions)  \n",
            "- **Vijay Gabale** — (Affiliation not specified)  \n",
            "- **Dr. Kiran R** — (Affiliation not specified)  \n",
            "- **Hitesh Nayak** — (Affiliation not specified)  \n",
            "- **Bhaskarjit Sarmah** — (Affiliation not specified for some sessions)  \n",
            "- **Krishnakumar Menon** — (Affiliation not specified)  \n",
            "- **Dipanjan Sarkar** — (Affiliation not specified)\n",
            "\n",
            "---\n",
            "\n",
            "## Additional Organizational Representation\n",
            "\n",
            "- **Microsoft** and **Amazon**: Sessions are led by industry practitioners from these companies, though specific speaker names are not provided.\n",
            "- **Google DeepMind, Uber, Red Hat, NIRAMAI, Tiger Analytics**: Speakers are affiliated with these organizations, indicating a diverse set of industry leaders [Data: Google DeepMind, Uber, Red Hat, NIRAMAI, Tiger Analytics, +more].\n",
            "\n",
            "---\n",
            "\n",
            "## Notes\n",
            "\n",
            "- Some sessions are led by practitioners from major tech, telecom, healthtech, and data/AI services sectors, but individual names are not always specified.\n",
            "- In several cases, only the session or topic is listed without a corresponding company affiliation.\n",
            "\n",
            "---\n",
            "\n",
            "**References:**  \n",
            "[Data: Entities (15, 29, 435, 466, 16, 30, 146, 1285, 1286, 1287, 766, 745, 2593, 639, 1498, 1264, 992, 1666, +more); Relationships (633, 1299, 3, 1226, 3297, 1854, 1815, 1688, +more); Reports (1, Fractal, NASSCOM, Plaksha University, IdeaForge, Metro Brands, Google DeepMind, Uber, Red Hat, NIRAMAI, Tiger Analytics, +more)]\u001b[0m"
          ]
        },
        {
          "output_type": "stream",
          "name": "stderr",
          "text": [
            "WARNING:opentelemetry.sdk.trace:Calling end() on an ended span.\n",
            "WARNING:opentelemetry.sdk.trace:Calling end() on an ended span.\n"
          ]
        },
        {
          "output_type": "stream",
          "name": "stdout",
          "text": [
            "\u001b[32;1m\u001b[1;3mThought: I need to count the number of speakers from each company based on the provided affiliations to determine which company has the most speakers.\n",
            "\n",
            "- Dentsu/Dentsu Global Services (DGS): Pavak Biswal, Abhilash Kulkarni, Arijit Mallick (3 speakers)\n",
            "- Google/Google Cloud/DeepMind: Deepak Sharma, Vignesh Kumar (2 speakers; Luis Serrano is ex-Google, not current)\n",
            "- Acalvio: Satnam Singh, Shivaraj Mulimani (2 speakers)\n",
            "- AG2: Dr. Qingyun Wu, Chi Wang (2 speakers)\n",
            "- Atlan/fAIght Club: Hrushikesh Dokala (1 speaker)\n",
            "- Infosys: Syed Quiser Ahmed (1 speaker)\n",
            "- Typewise: Kartik Nighania (1 speaker)\n",
            "- The Neural Maze: Miguel Otero Pedrido (1 speaker)\n",
            "- Delivery Hero: Raghav Bali (1 speaker)\n",
            "- Domyn: Bhaskarjit Sarmah (1 speaker)\n",
            "- Manpower Group: Praneeth Paikray (1 speaker)\n",
            "- ConcertAI: Kuldeep Jiwani (1 speaker)\n",
            "- Rasa: Daksh Varshneya (1 speaker)\n",
            "- Emirates Airlines: Pradeep Kumar (1 speaker)\n",
            "- Samsung Electronics: Praveen Kumar GS (1 speaker)\n",
            "- Weights & Biases: Ayush Thakur (1 speaker)\n",
            "- Straive/Gramener: Anand S (1 speaker)\n",
            "- Quanhack: Aditya Iyengar (1 speaker)\n",
            "- NVIDIA: Avinash Pathak (1 speaker)\n",
            "- AWS: Karan Sindwani (1 speaker)\n",
            "- Pype AI: Ashish Tripathy (1 speaker)\n",
            "- evolvue AI/CreateHQ: Mayank Aggarwal (1 speaker)\n",
            "- Sarvam AI: Aashay Sachdeva (1 speaker)\n",
            "- Fractal: Srikanth Velamakanni (1 speaker)\n",
            "- Cogentiq: Ganesh Subramanian (1 speaker)\n",
            "\n",
            "Dentsu/Dentsu Global Services (DGS) has the most speakers (3) participating in DHS 2025.\n",
            "\n",
            "Final Answer: \n",
            "- **Dentsu/Dentsu Global Services (DGS)** has the most speakers participating in DHS 2025, with three confirmed speakers: Pavak Biswal, Abhilash Kulkarni, and Arijit Mallick [Speaker list and affiliations, see above].\u001b[0m\n",
            "\n",
            "\u001b[1m> Finished chain.\u001b[0m\n"
          ]
        },
        {
          "output_type": "display_data",
          "data": {
            "text/plain": [
              "<IPython.core.display.Markdown object>"
            ],
            "text/markdown": "- **Dentsu/Dentsu Global Services (DGS)** has the most speakers participating in DHS 2025, with three confirmed speakers: Pavak Biswal, Abhilash Kulkarni, and Arijit Mallick [Speaker list and affiliations, see above]."
          },
          "metadata": {}
        }
      ]
    },
    {
      "cell_type": "code",
      "source": [
        "query = \" Tell me one unique session in the conference?\"\n",
        "answer = run_agentic_kag(query)\n",
        "display(Markdown(answer))"
      ],
      "metadata": {
        "collapsed": true,
        "colab": {
          "base_uri": "https://localhost:8080/",
          "height": 1000
        },
        "id": "Ak_6ExOiMXqa",
        "outputId": "b9b9d6ab-9ab5-47ad-86ab-2e871363033a"
      },
      "execution_count": null,
      "outputs": [
        {
          "output_type": "stream",
          "name": "stdout",
          "text": [
            "\n",
            "\n",
            "\u001b[1m> Entering new ParallelAgentExecutor chain...\u001b[0m\n",
            "\u001b[32;1m\u001b[1;3mThought: To answer this, I need to identify a session in the conference that stands out as unique. I will search for sessions and look for one with distinctive features.\n",
            "Action: GlobalRetrieval\n",
            "Action Input: unique session in the conference\u001b[0m"
          ]
        },
        {
          "output_type": "stream",
          "name": "stderr",
          "text": [
            "Processing communities in parallel: 100%|██████████| 26/26 [00:13<00:00,  1.98it/s]\n"
          ]
        },
        {
          "output_type": "stream",
          "name": "stdout",
          "text": [
            "\u001b[33;1m\u001b[1;3m# Unique Sessions in the Conference\n",
            "\n",
            "The conference features a diverse array of unique sessions, each distinguished by its focus, format, or technical depth. Below is a synthesis of the most notable and distinctive sessions, highlighting their key characteristics and implications.\n",
            "\n",
            "---\n",
            "\n",
            "## 1. **MassGen: Live Multi-Agent Collaboration**\n",
            "A standout session is **MassGen**, which orchestrates a live, real-time collaboration between multiple large language models—Claude, GPT, and Grok. This session is unique in its demonstration of cross-model synergy and parallel workflows, showcasing the combined capabilities of different LLMs in a single, interactive environment. The focus on real-time, multi-agent interaction sets it apart from traditional single-model demonstrations [Data: Entities (370, 847, 1313, 1549, 2591); Relationships (900, 1998, 3756, 1221, 2004)].\n",
            "\n",
            "---\n",
            "\n",
            "## 2. **Hands-On Technical Workshops**\n",
            "Several workshops offer hands-on, production-grade training that distinguishes them from more theoretical sessions:\n",
            "- **Mastering Real-World Agentic AI Applications with AG2 (AutoGen):** This workshop provides practical training on agent design, integration, and deployment using AG2, with a curriculum spanning fundamentals to deployment and covering domains like customer support, marketing, and finance. It emphasizes reliability, security, and maintainability.\n",
            "- **Workshops by Raghav Bali and Joshua Starmer/Luis Serrano:** These full-day sessions cover end-to-end LLMs and AI agents with memory, retrieval, and RL algorithms, offering comprehensive, expert-led instruction.\n",
            "\n",
            "---\n",
            "\n",
            "## 3. **Governance and Responsible AI**\n",
            "Unique governance-focused sessions include:\n",
            "- **PowerTalk by Syed Quiser Ahmed (Infosys):** Focuses on AI governance, setting it apart from technical workshops.\n",
            "- **PowerTalk by Praveen Kumar GS (Samsung Electronics):** Aligns agentic capabilities with responsible design and governance.\n",
            "- **Hack Session by Shubhradeep Nandi:** Operationalizes fairness, explainability, and confidence-aware decisions in finance and welfare contexts.\n",
            "- **Case Study in Medical Imaging:** Applies responsible AI concepts to healthcare [Data: Reports (PowerTalk by Syed Quiser Ahmed, PowerTalk by Praveen Kumar GS, Hack Session by Shubhradeep Nandi, Day 1 sessions, case study in medical imaging)].\n",
            "\n",
            "---\n",
            "\n",
            "## 4. **No-Code and Beginner-Friendly Sessions**\n",
            "- **No-Code Hack Session (Fractal’s Cogentiq):** Enables AI development without coding, making AI accessible to non-technical participants.\n",
            "- **Beginner-Friendly Workshop for Business Leaders:** Tailored for non-technical attendees, focusing on foundational AI concepts.\n",
            "\n",
            "---\n",
            "\n",
            "## 5. **Specialized Hack Sessions and Technical Deep Dives**\n",
            "- **Day 3 Hack Sessions:** One on detecting and mitigating risks in agentic AI (Bhaskarjit Sarmah, Domyn), and another on building a multi-modal generative AI assistant for energy infrastructure inspection (Prakalp Somawanshi), each addressing distinct technical and domain challenges [Data: Reports (1)].\n",
            "- **Scalable LLM Inference Session:** Focuses on technical depth and current AI advancements.\n",
            "- **LangGraph Workshop and Hack Panel:** Deep dive into graph-based agentic workflows and practical framework comparisons.\n",
            "\n",
            "---\n",
            "\n",
            "## 6. **Evaluation, Interoperability, and Protocols**\n",
            "- **Model Context Protocol (MCP) and Agent-to-Agent (A2A) Protocol Sessions:** Focus on standardized tool access and interoperability among AI agents, emphasizing open protocols and enterprise relevance.\n",
            "- **Session on LLM Evaluation (Ayush Thakur, Weights & Biases):** Covers end-to-end evaluation practices, including lifecycle design, human preference alignment, and advanced metrics [Data: Entities (1285, 1286, 1287, 2544, 2541, 1296, 2543, 2542, 1300, 1294, 1301, 1302); Relationships (1226, 3297, 3745, 3749, 3741, 3746, 3748, 3743, 3740, 1241, 1242)].\n",
            "\n",
            "---\n",
            "\n",
            "## 7. **Industry and Application-Focused Sessions**\n",
            "- **Healthcare Voice AI Contact Center:** Demonstrates a production-focused, end-to-end stack for real-time multimodal agents in healthcare.\n",
            "- **Automotive Service AI Workflow (Vignesh Kumar):** Showcases a serverless AI pipeline for large-scale video health checks in automotive services.\n",
            "- **GenAI-Powered CX Playbook (Pavak Biswal & Abhilash Kulkarni):** Focuses on customer retention using a GenAI-powered toolkit for churn detection, sentiment analysis, and more [Data: Reports (1)].\n",
            "\n",
            "---\n",
            "\n",
            "## 8. **Community and Cross-Industry Clusters**\n",
            "- **Analytics Vidhya Leaders Session:** Features a dense cluster of leaders and researchers from Analytics Vidhya, Microsoft, Oracle, and Pure Storage, with cross-industry representation and academic excellence [Data: Entities (4, 731, 311, 516); Relationships (2657, 3274, 3298, 3098)].\n",
            "\n",
            "---\n",
            "\n",
            "## 9. **Other Notable Unique Sessions**\n",
            "- **AWS GenAI Production Practices (Karan Sindwani):** Covers advanced AWS tools and real-world deployment patterns.\n",
            "- **Gemini Venue Sessions:** Include talks on LLM-automated data science, GenAI in Web3, and natural-language data access on Databricks/Snowflake [Data: Entities (766, 745, 639, 2593); Relationships (1854, 1815, 1688)].\n",
            "\n",
            "---\n",
            "\n",
            "## **Implications**\n",
            "These unique sessions collectively demonstrate the conference’s commitment to practical, hands-on learning, cross-model and cross-industry collaboration, responsible AI, and the operationalization of advanced AI systems. The diversity of session formats—from live multi-agent demos to no-code workshops and governance PowerTalks—ensures that both technical and non-technical audiences can engage deeply with the latest in generative and agentic AI.\u001b[0m"
          ]
        },
        {
          "output_type": "stream",
          "name": "stderr",
          "text": [
            "WARNING:opentelemetry.sdk.trace:Calling end() on an ended span.\n",
            "WARNING:opentelemetry.sdk.trace:Calling end() on an ended span.\n"
          ]
        },
        {
          "output_type": "stream",
          "name": "stdout",
          "text": [
            "\u001b[32;1m\u001b[1;3mThought: I now know the final answer.\n",
            "Final Answer: \n",
            "\n",
            "**One Unique Session in the Conference**\n",
            "\n",
            "- **MassGen: Live Multi-Agent Collaboration**\n",
            "  - This session is unique because it features a live, real-time collaboration between multiple large language models—Claude, GPT, and Grok.\n",
            "  - It demonstrates cross-model synergy and parallel workflows, showcasing the combined capabilities of different LLMs in a single, interactive environment.\n",
            "  - The focus on real-time, multi-agent interaction sets it apart from traditional single-model demonstrations.  \n",
            "  - [Source: Conference Unique Sessions Overview](#unique-sessions-in-the-conference)\u001b[0m\n",
            "\n",
            "\u001b[1m> Finished chain.\u001b[0m\n"
          ]
        },
        {
          "output_type": "display_data",
          "data": {
            "text/plain": [
              "<IPython.core.display.Markdown object>"
            ],
            "text/markdown": "**One Unique Session in the Conference**\n\n- **MassGen: Live Multi-Agent Collaboration**\n  - This session is unique because it features a live, real-time collaboration between multiple large language models—Claude, GPT, and Grok.\n  - It demonstrates cross-model synergy and parallel workflows, showcasing the combined capabilities of different LLMs in a single, interactive environment.\n  - The focus on real-time, multi-agent interaction sets it apart from traditional single-model demonstrations.  \n  - [Source: Conference Unique Sessions Overview](#unique-sessions-in-the-conference)"
          },
          "metadata": {}
        }
      ]
    },
    {
      "cell_type": "markdown",
      "source": [
        "# Run all retrievers"
      ],
      "metadata": {
        "id": "BYTefCoLab92"
      }
    },
    {
      "cell_type": "code",
      "source": [
        "import pandas as pd\n",
        "from tqdm import tqdm\n",
        "from IPython.display import Markdown, display\n",
        "from tools import (\n",
        "    get_rag_for_query_text2cypher,\n",
        "    get_rag_for_query_hybrid,\n",
        "    get_rag_for_query_hybrid_cypher,\n",
        "    global_retriever,\n",
        "    local_search,\n",
        "    community_data,   # required for global_retriever\n",
        ")\n",
        "\n",
        "# Your list of questions\n",
        "complex_questions = [\n",
        "    \"Which company has the most speakers participating in DHS 2025?\",\n",
        "    \"How many Microsoft employees are speaking at DHS 2025, and who are they?\",\n",
        "    \"Identify all sessions where all speakers are from the same organization – name the session and the company\",\n",
        "    \"Name a speaker at DHS 2025 who is involved in more than one session, and list the sessions they are presenting\",\n",
        "    \"What sessions at DHS 2025 have multiple speakers? Provide the session titles along with the speaker names\",\n",
        "    \"Which three companies have the highest number of speakers at DHS 2025?\",\n",
        "    \"Which workshop at DHS 2025 is specifically designed for business leaders, and who is the instructor?\",\n",
        "    \"If you’re interested in “AgentOps”, which session should you attend and who is leading that session?\",\n",
        "    \"List all sessions that explicitly mention “Responsible AI” in their title or theme\",\n",
        "    \"Name two sessions at DHS 2025 that focus on multimodal AI applications\",\n",
        "    \"How many speakers at DHS 2025 hold a title of “Founder” or “Co-Founder”, and can you give two examples of such speakers?\",\n",
        "    \"Which speakers are from NeuralHQ.ai, and which session do they co-present together?\",\n",
        "    \"Joshua Starmer and Luis Serrano are both speaking at DHS 2025. How many sessions is each of them involved in, and what are those sessions?\",\n",
        "    \"What are the titles and who are the speakers of all the Power Talk sessions at DHS 2025?\",\n",
        "    \"If someone wants to learn about LLMs at DHS 2025, which sessions or workshops should they attend (name at least two)?\",\n",
        "    \"Which session is co-presented by an employee from Toast and an employee from Atlassian, and what topic does it cover?\",\n",
        "    \"Provide an example of a session title that is phrased as a question, and name the speaker who is presenting it\",\n",
        "    \"Name two sessions that deal with AI safety or incorporate “guardrails” in AI, and identify their speakers\",\n",
        "    \"Who are the Pure Storage speakers at DHS 2025, and what topics are they presenting?\",\n",
        "    \"Identify sessions that involve AI agent frameworks (such as LangGraph or AG2) and name the speakers leading those sessions\",]\n",
        "\n",
        "theme_based_questions = [\"Which topics are the most frequently covered across all sessions and workshops at DHS 2025?\",\n",
        "    \"What are the top 3 tools used across both workshops and sessions at this year’s conference?\",\n",
        "    \"Which theme connects the largest number of sessions at DHS 2025?\",\n",
        "    \"How many sessions cover LLMs and how many cover agents? Is there any session that covers both?\",\n",
        "    \"Which speakers at DHS 2025 are associated with multiple topics across different formats (session + workshop)?\",\n",
        "    \"What are the most common prerequisites across all workshops this year?\",\n",
        "    \"Identify the clusters of speakers who are part of the same company and covering similar or connected topics\",\n",
        "    \"Which companies are most active in DHS 2025 — across speaking, sponsoring, and conducting workshops?\",\n",
        "    \"What are the top 5 skills or tools attendees will be exposed to if they attend sessions on the Enterprise GenAI theme?\",\n",
        "    \"What are the emerging subfields of GenAI based on the diversity of topics this year?\",\n",
        "    \"How many sessions explicitly deal with ethics, safety, or responsible AI, and who’s leading that conversation?\",\n",
        "    \"What’s the distribution of session difficulty levels (beginner/intermediate/advanced) across the full agenda?\",\n",
        "    \"Which themes are most commonly associated with Power Talks versus Hack Sessions?\",\n",
        "    \"Who are the influential nodes in the speaker network — people connected to many topics, sessions, and organizations?\",\n",
        "    \"Which tools appear only in sessions but not in any workshop, and what might that suggest?\",\n",
        "    \"Identify multi-hop knowledge paths between Arun Prakash Asokan’s session and other speakers working on similar tools or topics\",\n",
        "    \"What are the top 5 most interconnected people in the conference graph, based on session, workshop, and organization links?\",\n",
        "    \"Which organizations have both sponsored and presented sessions or workshops, and what topics do they represent?\",\n",
        "    \"If someone wants to follow only workshops that cover Agentic AI, which ones should they attend and what prerequisites do they need?\",\n",
        "    \"What are the gaps in this year’s conference — for example, highly-discussed topics that have no workshop coverage?\"]\n",
        "\n",
        "simple_questions = [\"On what dates and at which venue is DataHack Summit 2025 being held?\",\n",
        "    \"What is the theme (tagline) of DHS 2025?\",\n",
        "    \"Approximately how many attendees are expected to join DHS 2025 this year?\",\n",
        "    \"Roughly how many AI talks are expected at the conference?\",\n",
        "    \"About how many hack sessions are planned for DHS 2025?\",\n",
        "    \"Name two types of session formats that DHS 2025 will feature (e.g., Keynote, Workshop, etc.)\",\n",
        "    \"Who is delivering the keynote session “Responsible AI in Medical Imaging – A Case Study”?\",\n",
        "    \"Who is Arun? List down all the sessions or workshops delivered by him\",\n",
        "    \"Which founder of StatQuest is speaking at the conference?\",\n",
        "    \"Who is the founder of Serrano Academy that is featured as a speaker at DHS 2025?\",\n",
        "    \"Name one workshop being offered at DHS 2025 (give the title of the workshop)\",\n",
        "    \"Which workshop at DHS 2025 is led by Dipanjan Sarkar?\",\n",
        "    \"Which workshop covers productionalizing real-world applications with LLMs and agents, and who is the instructor?\",\n",
        "    \"Who is giving the Power Talk titled “Revolutionizing AI for Relational Databases: No More Flattening”?\",\n",
        "    \"Name a speaker from NVIDIA who is speaking at DHS 2025\",\n",
        "    \"Is there a Hugging Face engineer speaking at DHS 2025? If yes, who is it?\",\n",
        "    \"Name a speaker from Pure Storage who is speaking at DHS 2025\",\n",
        "    \"Who is presenting the hack session “Quantifying Our Confidence in Neural Networks and AI”?\",\n",
        "    \"What is the title of Pankaj Agarwal’s hack session at DHS 2025?\",\n",
        "    \"What Power Talk is Syed Quiser Ahmed (Infosys) delivering at the summit?\"]\n",
        "\n",
        "\n",
        "medium_questions= [ \"What are the three main focuses of the “AI Trinity” theme at DHS 2025?\",\n",
        "    \"Which DHS 2025 session is co-presented by two speakers from Acalvio Technologies, and what is it called?\",\n",
        "    \"Who are the two Microsoft speakers leading the session on AI Voice Agents, and what are their names?\",\n",
        "    \"Which co-founder of AG2 is conducting a workshop at DHS 2025?\",\n",
        "    \"Name one session title at DHS 2025 that includes “Retrieval-Augmented Generation (RAG)” in its title\",\n",
        "    \"What is the title of the hack session presented by Analytics Vidhya’s Gyan Prakash Tripathi?\",\n",
        "    \"Who is speaking about building a healthcare voice AI contact center (Pipecat) at DHS 2025, and what is the title of that session?\",\n",
        "    \"Who is delivering the Power Talk on evaluating GenAI models in enterprise and healthcare, and which organization is he from?\",\n",
        "    \"Which DHS 2025 session covers aligning Responsible AI with LLMs & Agents, and who is the speaker for it?\",\n",
        "    \"Is there a session on AI agent interoperability protocols (e.g., A2A, MCP) at the conference? If yes, what is its title?\",\n",
        "    \"Who is presenting on building real-world agentic AI systems beyond PoCs, and what is the speaker’s name?\",\n",
        "    \"What session at DHS 2025 focuses on using AI for SEO content generation, and what is it called?\",\n",
        "    \"Who is the Microsoft Generative AI leader speaking at DHS 2025 (name the person)?\",\n",
        "    \"Who is giving the talk titled “Measuring Uncertainty in LLMs and Optimal Use of SLMs”, and what is the speaker’s name?\",\n",
        "    \"Who is discussing multi-agent AI for public travel systems, and which company does that speaker represent?\",\n",
        "    \"Which speaker from Pure Storage is talking about deploying GenAI safely, and what is the title of her talk?\",\n",
        "    \"Give an example of a session title at DHS 2025 that includes the term “Agentic AI” in it\",\n",
        "    \"Who is the Founder & CEO of Analytics Vidhya that is speaking at DHS 2025?\",\n",
        "    \"Name one Oracle speaker who is delivering a Power Talk at DHS 2025\",\n",
        "    \"Joshua Starmer and Luis Serrano are jointly leading which workshop at DHS 2025?\",\n",
        "]"
      ],
      "metadata": {
        "id": "gHd-SIF1PNbH"
      },
      "execution_count": null,
      "outputs": []
    },
    {
      "cell_type": "code",
      "source": [
        "results = []\n",
        "\n",
        "# List of question types to iterate through\n",
        "question_types = {\n",
        "    \"simple_questions\": simple_questions,\n",
        "    \"medium_questions\": medium_questions,\n",
        "    \"complex_questions\": complex_questions,\n",
        "    \"theme_based_questions\": theme_based_questions,\n",
        "}\n",
        "\n",
        "for type_name, questions_list in question_types.items():\n",
        "    print(f\"Running retrievers for {type_name}...\")\n",
        "    results = [] # Reset results for each question type\n",
        "\n",
        "    for q in tqdm(questions_list, desc=f\"Running retrievers for {type_name}\"):\n",
        "        # Print the current question in bold Markdown for clarity\n",
        "        display(Markdown(f\"**Running question:** {q}\"))\n",
        "\n",
        "        try:\n",
        "            text2cypher_answer = get_rag_for_query_text2cypher(q)\n",
        "        except Exception as e:\n",
        "            text2cypher_answer = f\"Error: {e}\"\n",
        "\n",
        "        try:\n",
        "            hybrid_answer = get_rag_for_query_hybrid(q)\n",
        "        except Exception as e:\n",
        "            hybrid_answer = f\"Error: {e}\"\n",
        "\n",
        "        try:\n",
        "            hybrid_cypher_answer = get_rag_for_query_hybrid_cypher(q)\n",
        "        except Exception as e:\n",
        "            hybrid_cypher_answer = f\"Error: {e}\"\n",
        "\n",
        "        try:\n",
        "            global_search_answer = global_retriever(q, community_data)\n",
        "        except Exception as e:\n",
        "            global_search_answer = f\"Error: {e}\"\n",
        "\n",
        "        try:\n",
        "            local_search_answer = local_search(q)\n",
        "        except Exception as e:\n",
        "            local_search_answer = f\"Error: {e}\"\n",
        "\n",
        "        # Append row with Markdown answers as raw text\n",
        "        results.append({\n",
        "            \"question\": q,\n",
        "            \"text2cypher_answer\": str(text2cypher_answer),\n",
        "            \"hybrid_answer\": str(hybrid_answer),\n",
        "            \"hybrid_cypher_answer\": str(hybrid_cypher_answer),\n",
        "            \"global_search_answer\": str(global_search_answer),\n",
        "            \"local_search_answer\": str(local_search_answer),\n",
        "        })\n",
        "\n",
        "    # Convert results into DataFrame\n",
        "    df = pd.DataFrame(results)\n",
        "\n",
        "    # Save to Excel\n",
        "    output_file = f\"{type_name}_results.xlsx\"\n",
        "    df.to_excel(output_file, index=False)\n",
        "\n",
        "    print(f\"✅ Results for {type_name} saved to {output_file}\")"
      ],
      "metadata": {
        "id": "D4M-rUdQgjHk"
      },
      "execution_count": null,
      "outputs": []
    }
  ]
}