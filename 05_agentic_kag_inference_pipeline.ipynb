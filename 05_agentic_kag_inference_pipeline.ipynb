{
  "nbformat": 4,
  "nbformat_minor": 0,
  "metadata": {
    "colab": {
      "provenance": [],
      "include_colab_link": true
    },
    "kernelspec": {
      "name": "python3",
      "display_name": "Python 3"
    },
    "language_info": {
      "name": "python"
    }
  },
  "cells": [
    {
      "cell_type": "markdown",
      "metadata": {
        "id": "view-in-github",
        "colab_type": "text"
      },
      "source": [
        "<a href=\"https://colab.research.google.com/github/genaiconference/Agentic_KAG/blob/main/05_agentic_kag_inference_pipeline.ipynb\" target=\"_parent\"><img src=\"https://colab.research.google.com/assets/colab-badge.svg\" alt=\"Open In Colab\"/></a>"
      ]
    },
    {
      "cell_type": "markdown",
      "source": [
        "# Agentic KAG\n"
      ],
      "metadata": {
        "id": "-PO9upJ5mkx6"
      }
    },
    {
      "cell_type": "markdown",
      "metadata": {
        "id": "580fa1da"
      },
      "source": [
        "This notebook demonstrates the capabilities of Agentic KAG, a framework for building intelligent agents that can perform complex tasks and generate answers from Knoweldge Graphs."
      ]
    },
    {
      "cell_type": "code",
      "source": [
        "!git clone https://github.com/genaiconference/Agentic_KAG.git"
      ],
      "metadata": {
        "id": "pVtZvT2aDWjZ",
        "colab": {
          "base_uri": "https://localhost:8080/"
        },
        "outputId": "29933bee-33c2-425b-d8e2-9179a7aaff56"
      },
      "execution_count": null,
      "outputs": [
        {
          "output_type": "stream",
          "name": "stdout",
          "text": [
            "Cloning into 'Agentic_KAG'...\n",
            "remote: Enumerating objects: 366, done.\u001b[K\n",
            "remote: Counting objects: 100% (98/98), done.\u001b[K\n",
            "remote: Compressing objects: 100% (68/68), done.\u001b[K\n",
            "remote: Total 366 (delta 66), reused 30 (delta 30), pack-reused 268 (from 2)\u001b[K\n",
            "Receiving objects: 100% (366/366), 7.27 MiB | 16.58 MiB/s, done.\n",
            "Resolving deltas: 100% (189/189), done.\n"
          ]
        }
      ]
    },
    {
      "cell_type": "markdown",
      "source": [
        "## Install Required Packages"
      ],
      "metadata": {
        "id": "r-7IZdzFNWkK"
      }
    },
    {
      "cell_type": "code",
      "source": [
        "!pip install -r /content/Agentic_KAG/requirements.txt --quiet"
      ],
      "metadata": {
        "id": "_pV6Xj-VQSuF",
        "collapsed": true,
        "colab": {
          "base_uri": "https://localhost:8080/"
        },
        "outputId": "a71446c5-18a8-483d-bca6-ec25448c2223"
      },
      "execution_count": null,
      "outputs": [
        {
          "output_type": "stream",
          "name": "stdout",
          "text": [
            "\u001b[?25l     \u001b[90m━━━━━━━━━━━━━━━━━━━━━━━━━━━━━━━━━━━━━━━━\u001b[0m \u001b[32m0.0/67.3 kB\u001b[0m \u001b[31m?\u001b[0m eta \u001b[36m-:--:--\u001b[0m\r\u001b[2K     \u001b[90m━━━━━━━━━━━━━━━━━━━━━━━━━━━━━━━━━━━━━━━━\u001b[0m \u001b[32m67.3/67.3 kB\u001b[0m \u001b[31m4.0 MB/s\u001b[0m eta \u001b[36m0:00:00\u001b[0m\n",
            "\u001b[?25h  Installing build dependencies ... \u001b[?25l\u001b[?25hdone\n",
            "  Getting requirements to build wheel ... \u001b[?25l\u001b[?25hdone\n",
            "  Preparing metadata (pyproject.toml) ... \u001b[?25l\u001b[?25hdone\n",
            "\u001b[2K   \u001b[90m━━━━━━━━━━━━━━━━━━━━━━━━━━━━━━━━━━━━━━━━\u001b[0m \u001b[32m70.6/70.6 kB\u001b[0m \u001b[31m6.1 MB/s\u001b[0m eta \u001b[36m0:00:00\u001b[0m\n",
            "\u001b[2K   \u001b[90m━━━━━━━━━━━━━━━━━━━━━━━━━━━━━━━━━━━━━━━━\u001b[0m \u001b[32m2.5/2.5 MB\u001b[0m \u001b[31m40.3 MB/s\u001b[0m eta \u001b[36m0:00:00\u001b[0m\n",
            "\u001b[2K   \u001b[90m━━━━━━━━━━━━━━━━━━━━━━━━━━━━━━━━━━━━━━━━\u001b[0m \u001b[32m442.8/442.8 kB\u001b[0m \u001b[31m27.8 MB/s\u001b[0m eta \u001b[36m0:00:00\u001b[0m\n",
            "\u001b[2K   \u001b[90m━━━━━━━━━━━━━━━━━━━━━━━━━━━━━━━━━━━━━━━━\u001b[0m \u001b[32m19.5/19.5 MB\u001b[0m \u001b[31m66.7 MB/s\u001b[0m eta \u001b[36m0:00:00\u001b[0m\n",
            "\u001b[2K   \u001b[90m━━━━━━━━━━━━━━━━━━━━━━━━━━━━━━━━━━━━━━━━\u001b[0m \u001b[32m313.2/313.2 kB\u001b[0m \u001b[31m20.8 MB/s\u001b[0m eta \u001b[36m0:00:00\u001b[0m\n",
            "\u001b[2K   \u001b[90m━━━━━━━━━━━━━━━━━━━━━━━━━━━━━━━━━━━━━━━━\u001b[0m \u001b[32m193.4/193.4 kB\u001b[0m \u001b[31m14.3 MB/s\u001b[0m eta \u001b[36m0:00:00\u001b[0m\n",
            "\u001b[2K   \u001b[90m━━━━━━━━━━━━━━━━━━━━━━━━━━━━━━━━━━━━━━━━\u001b[0m \u001b[32m300.0/300.0 kB\u001b[0m \u001b[31m20.3 MB/s\u001b[0m eta \u001b[36m0:00:00\u001b[0m\n",
            "\u001b[2K   \u001b[90m━━━━━━━━━━━━━━━━━━━━━━━━━━━━━━━━━━━━━━━━\u001b[0m \u001b[32m284.2/284.2 kB\u001b[0m \u001b[31m21.1 MB/s\u001b[0m eta \u001b[36m0:00:00\u001b[0m\n",
            "\u001b[2K   \u001b[90m━━━━━━━━━━━━━━━━━━━━━━━━━━━━━━━━━━━━━━━━\u001b[0m \u001b[32m183.9/183.9 kB\u001b[0m \u001b[31m14.5 MB/s\u001b[0m eta \u001b[36m0:00:00\u001b[0m\n",
            "\u001b[2K   \u001b[90m━━━━━━━━━━━━━━━━━━━━━━━━━━━━━━━━━━━━━━━━\u001b[0m \u001b[32m1.9/1.9 MB\u001b[0m \u001b[31m51.5 MB/s\u001b[0m eta \u001b[36m0:00:00\u001b[0m\n",
            "\u001b[2K   \u001b[90m━━━━━━━━━━━━━━━━━━━━━━━━━━━━━━━━━━━━━━━━\u001b[0m \u001b[32m103.3/103.3 kB\u001b[0m \u001b[31m8.7 MB/s\u001b[0m eta \u001b[36m0:00:00\u001b[0m\n",
            "\u001b[2K   \u001b[90m━━━━━━━━━━━━━━━━━━━━━━━━━━━━━━━━━━━━━━━━\u001b[0m \u001b[32m16.5/16.5 MB\u001b[0m \u001b[31m93.9 MB/s\u001b[0m eta \u001b[36m0:00:00\u001b[0m\n",
            "\u001b[2K   \u001b[90m━━━━━━━━━━━━━━━━━━━━━━━━━━━━━━━━━━━━━━━━\u001b[0m \u001b[32m65.6/65.6 kB\u001b[0m \u001b[31m5.2 MB/s\u001b[0m eta \u001b[36m0:00:00\u001b[0m\n",
            "\u001b[2K   \u001b[90m━━━━━━━━━━━━━━━━━━━━━━━━━━━━━━━━━━━━━━━━\u001b[0m \u001b[32m72.5/72.5 kB\u001b[0m \u001b[31m5.9 MB/s\u001b[0m eta \u001b[36m0:00:00\u001b[0m\n",
            "\u001b[2K   \u001b[90m━━━━━━━━━━━━━━━━━━━━━━━━━━━━━━━━━━━━━━━━\u001b[0m \u001b[32m120.0/120.0 kB\u001b[0m \u001b[31m9.9 MB/s\u001b[0m eta \u001b[36m0:00:00\u001b[0m\n",
            "\u001b[2K   \u001b[90m━━━━━━━━━━━━━━━━━━━━━━━━━━━━━━━━━━━━━━━━\u001b[0m \u001b[32m201.6/201.6 kB\u001b[0m \u001b[31m12.2 MB/s\u001b[0m eta \u001b[36m0:00:00\u001b[0m\n",
            "\u001b[2K   \u001b[90m━━━━━━━━━━━━━━━━━━━━━━━━━━━━━━━━━━━━━━━━\u001b[0m \u001b[32m105.4/105.4 kB\u001b[0m \u001b[31m8.3 MB/s\u001b[0m eta \u001b[36m0:00:00\u001b[0m\n",
            "\u001b[2K   \u001b[90m━━━━━━━━━━━━━━━━━━━━━━━━━━━━━━━━━━━━━━━━\u001b[0m \u001b[32m71.6/71.6 kB\u001b[0m \u001b[31m5.6 MB/s\u001b[0m eta \u001b[36m0:00:00\u001b[0m\n",
            "\u001b[2K   \u001b[90m━━━━━━━━━━━━━━━━━━━━━━━━━━━━━━━━━━━━━━━━\u001b[0m \u001b[32m45.2/45.2 kB\u001b[0m \u001b[31m2.8 MB/s\u001b[0m eta \u001b[36m0:00:00\u001b[0m\n",
            "\u001b[2K   \u001b[90m━━━━━━━━━━━━━━━━━━━━━━━━━━━━━━━━━━━━━━━━\u001b[0m \u001b[32m313.2/313.2 kB\u001b[0m \u001b[31m22.7 MB/s\u001b[0m eta \u001b[36m0:00:00\u001b[0m\n",
            "\u001b[2K   \u001b[90m━━━━━━━━━━━━━━━━━━━━━━━━━━━━━━━━━━━━━━━━\u001b[0m \u001b[32m3.1/3.1 MB\u001b[0m \u001b[31m94.1 MB/s\u001b[0m eta \u001b[36m0:00:00\u001b[0m\n",
            "\u001b[2K   \u001b[90m━━━━━━━━━━━━━━━━━━━━━━━━━━━━━━━━━━━━━━━━\u001b[0m \u001b[32m510.8/510.8 kB\u001b[0m \u001b[31m29.1 MB/s\u001b[0m eta \u001b[36m0:00:00\u001b[0m\n",
            "\u001b[2K   \u001b[90m━━━━━━━━━━━━━━━━━━━━━━━━━━━━━━━━━━━━━━━━\u001b[0m \u001b[32m50.9/50.9 kB\u001b[0m \u001b[31m3.7 MB/s\u001b[0m eta \u001b[36m0:00:00\u001b[0m\n",
            "\u001b[2K   \u001b[90m━━━━━━━━━━━━━━━━━━━━━━━━━━━━━━━━━━━━━━━━\u001b[0m \u001b[32m4.7/4.7 MB\u001b[0m \u001b[31m99.1 MB/s\u001b[0m eta \u001b[36m0:00:00\u001b[0m\n",
            "\u001b[2K   \u001b[90m━━━━━━━━━━━━━━━━━━━━━━━━━━━━━━━━━━━━━━━━\u001b[0m \u001b[32m452.2/452.2 kB\u001b[0m \u001b[31m32.3 MB/s\u001b[0m eta \u001b[36m0:00:00\u001b[0m\n",
            "\u001b[2K   \u001b[90m━━━━━━━━━━━━━━━━━━━━━━━━━━━━━━━━━━━━━━━━\u001b[0m \u001b[32m46.0/46.0 kB\u001b[0m \u001b[31m3.6 MB/s\u001b[0m eta \u001b[36m0:00:00\u001b[0m\n",
            "\u001b[2K   \u001b[90m━━━━━━━━━━━━━━━━━━━━━━━━━━━━━━━━━━━━━━━━\u001b[0m \u001b[32m86.8/86.8 kB\u001b[0m \u001b[31m7.1 MB/s\u001b[0m eta \u001b[36m0:00:00\u001b[0m\n",
            "\u001b[?25h  Building wheel for pypika (pyproject.toml) ... \u001b[?25l\u001b[?25hdone\n",
            "\u001b[31mERROR: pip's dependency resolver does not currently take into account all the packages that are installed. This behaviour is the source of the following dependency conflicts.\n",
            "gcsfs 2025.3.0 requires fsspec==2025.3.0, but you have fsspec 2024.12.0 which is incompatible.\u001b[0m\u001b[31m\n",
            "\u001b[0m"
          ]
        }
      ]
    },
    {
      "cell_type": "markdown",
      "source": [
        "## Load credentials from .env"
      ],
      "metadata": {
        "id": "yVHjyNXsNevP"
      }
    },
    {
      "cell_type": "code",
      "source": [
        "import os\n",
        "os.chdir('/content/Agentic_KAG/')\n",
        "\n",
        "from dotenv import load_dotenv\n",
        "\n",
        "load_dotenv()  # This loads .env at project root\n",
        "\n",
        "NEO4J_URI = os.getenv('AV_NEO4J_URL')\n",
        "NEO4J_USERNAME = os.getenv('AV_NEO4J_USERNAME')\n",
        "NEO4J_PASSWORD = os.getenv('AV_NEO4J_PASSWORD')\n",
        "OPENAI_API_KEY = os.getenv('OPENAI_API_KEY')\n",
        "\n",
        "# Set OPENAI_API_KEY as env variable for openai/neo4j-graphrag compatibility\n",
        "os.environ[\"OPENAI_API_KEY\"] = OPENAI_API_KEY"
      ],
      "metadata": {
        "id": "oU_Bak6ZNhKe"
      },
      "execution_count": null,
      "outputs": []
    },
    {
      "cell_type": "markdown",
      "source": [
        "## Initialize the Neo4j Driver\n",
        "The Neo4j driver allows you to connect and perform read and write transactions with the database."
      ],
      "metadata": {
        "id": "By3HKzenNuBI"
      }
    },
    {
      "cell_type": "code",
      "source": [
        "from neo4j import GraphDatabase\n",
        "\n",
        "driver = GraphDatabase.driver(\n",
        "    NEO4J_URI,\n",
        "    auth=(NEO4J_USERNAME, NEO4J_PASSWORD)\n",
        ")\n",
        "\n",
        "# (Optional) Test the connection\n",
        "driver.verify_connectivity()"
      ],
      "metadata": {
        "id": "QfQtxfS0NudH"
      },
      "execution_count": null,
      "outputs": []
    },
    {
      "cell_type": "markdown",
      "source": [
        "## Initialize OpenAI LLM and Embeddings via neo4j-graphrag\n",
        "We will use OpenAI **GPT-4.1**. The GraphRAG Python package supports any LLM model, including models from OpenAI, Google VertexAI, Anthropic, Cohere, Azure OpenAI, local Ollama models, and any chat model that works with LangChain. You can also implement a custom interface for any other LLM.\n",
        "\n",
        "Likewise, we will use OpenAI’s **text-embedding-3-small** for the embedding model, but you can use other embedders from different providers."
      ],
      "metadata": {
        "id": "71ErZz2mNyiu"
      }
    },
    {
      "cell_type": "code",
      "source": [
        "from neo4j_graphrag.llm import OpenAILLM\n",
        "from neo4j_graphrag.embeddings import OpenAIEmbeddings\n",
        "\n",
        "llm = OpenAILLM(\n",
        "    model_name=\"gpt-4.1\",\n",
        "    model_params={\"temperature\": 0}\n",
        ")\n",
        "\n",
        "embedder = OpenAIEmbeddings(\n",
        "    model=\"text-embedding-3-small\"\n",
        ")"
      ],
      "metadata": {
        "id": "b3eaWt8PN2D-"
      },
      "execution_count": null,
      "outputs": []
    },
    {
      "cell_type": "markdown",
      "source": [
        "We will also initialize langchain llm to use for community detection & Summarization"
      ],
      "metadata": {
        "id": "wVWn66j1b6aO"
      }
    },
    {
      "cell_type": "code",
      "source": [
        "from langchain_openai import ChatOpenAI\n",
        "\n",
        "# Initialize OpenAI LLM using LangChain\n",
        "lang_llm = ChatOpenAI(openai_api_key=OPENAI_API_KEY, model_name=\"gpt-4.1\", temperature=0)"
      ],
      "metadata": {
        "id": "MdXxKHAyb4M4"
      },
      "execution_count": null,
      "outputs": []
    },
    {
      "cell_type": "markdown",
      "source": [
        "Initialize OpenAI client"
      ],
      "metadata": {
        "id": "5ake60MVQmbi"
      }
    },
    {
      "cell_type": "code",
      "source": [
        "from openai import OpenAI\n",
        "\n",
        "open_ai_client = OpenAI(\n",
        "    api_key=os.environ.get(\"OPENAI_API_KEY\"),\n",
        ")"
      ],
      "metadata": {
        "id": "cT4jgHPlQsfN"
      },
      "execution_count": null,
      "outputs": []
    },
    {
      "cell_type": "markdown",
      "source": [
        "## Initialize Langfuse Handler for Tracing"
      ],
      "metadata": {
        "id": "sawR6ifuFJAD"
      }
    },
    {
      "cell_type": "markdown",
      "source": [
        "![image.png](data:image/png;base64,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)"
      ],
      "metadata": {
        "id": "ZYdErv_Z2gS_"
      }
    },
    {
      "cell_type": "code",
      "source": [
        "from langfuse.langchain import CallbackHandler\n",
        "from langfuse import get_client\n",
        "\n",
        "os.environ[\"LANGFUSE_PUBLIC_KEY\"] = os.getenv(\"LANGFUSE_PUBLIC_KEY\")\n",
        "os.environ[\"LANGFUSE_SECRET_KEY\"] = os.getenv(\"LANGFUSE_SECRET_KEY\")\n",
        "os.environ[\"LANGFUSE_HOST\"] = \"https://cloud.langfuse.com\"\n",
        "\n",
        "langfuse = get_client()\n",
        "\n",
        "# Verify connection\n",
        "if langfuse.auth_check():\n",
        "    print(\"Langfuse client is authenticated and ready!\")\n",
        "else:\n",
        "    print(\"Authentication failed. Please check your credentials and host.\")\n",
        "\n",
        "langfuse_handler = CallbackHandler()"
      ],
      "metadata": {
        "id": "PKXFS89tFKmm",
        "colab": {
          "base_uri": "https://localhost:8080/"
        },
        "outputId": "4ba6de31-3cfe-4260-8ecd-99f51c2891f9"
      },
      "execution_count": null,
      "outputs": [
        {
          "output_type": "stream",
          "name": "stdout",
          "text": [
            "Langfuse client is authenticated and ready!\n"
          ]
        }
      ]
    },
    {
      "cell_type": "markdown",
      "source": [
        "## Define ReACT Agent"
      ],
      "metadata": {
        "id": "F5EONCpuHbjD"
      }
    },
    {
      "cell_type": "code",
      "source": [
        "from langchain.agents import AgentExecutor, create_react_agent\n",
        "from langchain.prompts import (\n",
        "    ChatPromptTemplate,\n",
        "    MessagesPlaceholder,\n",
        "    HumanMessagePromptTemplate,\n",
        "    AIMessagePromptTemplate,\n",
        "    PromptTemplate,\n",
        ")\n",
        "import re\n",
        "import asyncio\n",
        "from typing import List, Union\n",
        "from langchain.agents import AgentOutputParser, AgentExecutor, create_react_agent\n",
        "from langchain.schema import AgentAction, AgentFinish\n",
        "\n",
        "\n",
        "\n",
        "# 1️⃣  ───── Robust multi-action parser ────────────────────────────\n",
        "class MultiActionOutputParser(AgentOutputParser):\n",
        "    \"\"\"\n",
        "    Extract *all* Action / Action Input pairs, even when inputs are\n",
        "    multi-line or there is text between blocks.\n",
        "    \"\"\"\n",
        "    _ACTION_RE = re.compile(\n",
        "        r\"\"\"Action\\s*\\d*:\\s*(.*?)\\s*\\n        # tool name\n",
        "            Action\\ Input\\s*\\d*:\\s*([\\s\\S]*?) # tool input (non-greedy)\n",
        "            (?=\\nAction|\\nObservation|\\nFinal|\\Z)  # stop at next block\n",
        "        \"\"\",\n",
        "        flags=re.IGNORECASE | re.VERBOSE,\n",
        "    )\n",
        "\n",
        "    def parse(self, text: str) -> Union[List[AgentAction], AgentFinish]:\n",
        "        # ---------- collect all tool calls ----------\n",
        "        matches = self._ACTION_RE.findall(text)\n",
        "        if matches:\n",
        "            return [\n",
        "                AgentAction(\n",
        "                    tool=tool.strip(),\n",
        "                    tool_input=tool_input.strip().strip('\"'),\n",
        "                    log=text,\n",
        "                )\n",
        "                for tool, tool_input in matches\n",
        "            ]\n",
        "\n",
        "        # ---------- or a final answer ----------\n",
        "        # final = re.search(r\"(?:Final Answer|Final Thought):\\s*(.*)\", text, flags=re.IGNORECASE | re.DOTALL)\n",
        "        final = re.search(r\"(?:Final Answer):\\s*(.*)\", text, flags=re.IGNORECASE | re.DOTALL)\n",
        "\n",
        "        # final = re.search(r\"(?i)Final Answer:\\s*(?:\\*{2})?\\s*\\n+(.*)\", text, flags=re.IGNORECASE | re.DOTALL)   ###PushToQA 04-07-2025 fixed ** issue\n",
        "\n",
        "        if final:\n",
        "            return AgentFinish(\n",
        "                return_values={\"output\": final.group(1).strip()}, log=text\n",
        "            )\n",
        "\n",
        "        # ---------- fallback if no Action or Final Answer but appears like final output ----------\n",
        "        if text.strip():  # fallback: any non-empty text is assumed to be the final answer\n",
        "            return AgentFinish(\n",
        "                return_values={\"output\": text.strip()}, log=text\n",
        "            )\n",
        "\n",
        "        raise ValueError(f\"Could not parse agent output: {text!r}\")\n",
        "\n",
        "\n",
        "# 2️⃣  ───── Executor that really runs in parallel ────────────────\n",
        "class ParallelAgentExecutor(AgentExecutor):\n",
        "    async def _aiter_next_step(self, name_to_tool_map, inputs):\n",
        "        llm_output = await self.agent.aplan(\n",
        "            intermediate_steps=self.intermediate_steps, **inputs\n",
        "        )\n",
        "        parsed = self.output_parser.parse(llm_output)\n",
        "\n",
        "        # ----- run *all* Actions concurrently -----\n",
        "        if isinstance(parsed, list):\n",
        "            coros = [self._aperform_agent_action(name_to_tool_map, a) for a in parsed]\n",
        "            results = await asyncio.gather(*coros)\n",
        "\n",
        "            for a, r in zip(parsed, results):\n",
        "                self.intermediate_steps.append((a, r))\n",
        "                yield f\"Observation: {r}\\n\"\n",
        "\n",
        "        elif isinstance(parsed, AgentFinish):\n",
        "            self.intermediate_steps.append(\n",
        "                (parsed, parsed.return_values[\"output\"])\n",
        "            )\n",
        "            yield f\"Final Answer: {parsed.return_values['output']}\\n\"\n",
        "\n",
        "\n",
        "# 3️⃣  ───── Helper to build the agent + prompt ───────────────────\n",
        "def get_react_agent(llm, tools, system_prompt, verbose=False):\n",
        "    \"\"\"Helper function for creating agent executor\"\"\"\n",
        "    prompt = ChatPromptTemplate.from_messages([\n",
        "        (\"system\", system_prompt),\n",
        "        MessagesPlaceholder(variable_name=\"conversation_history\", optional=True),\n",
        "        HumanMessagePromptTemplate(prompt=PromptTemplate(input_variables=['input'], template='{input}')),\n",
        "        AIMessagePromptTemplate(\n",
        "            prompt=PromptTemplate(input_variables=['agent_scratchpad'], template='{agent_scratchpad}')),\n",
        "    ])\n",
        "    agent = create_react_agent(llm, tools, prompt, output_parser=MultiActionOutputParser())\n",
        "\n",
        "    executor = ParallelAgentExecutor(agent=agent,\n",
        "                                     tools=tools,\n",
        "                                     verbose=verbose,\n",
        "                                     stream_runnable=True,\n",
        "                                     handle_parsing_errors=True,\n",
        "                                     max_iterations=20,\n",
        "                                     return_intermediate_steps=True,\n",
        "                                     )\n",
        "    return executor"
      ],
      "metadata": {
        "id": "wXhVyPhUHgsh"
      },
      "execution_count": null,
      "outputs": []
    },
    {
      "cell_type": "code",
      "source": [
        "# from neo4j_graphrag.schema import get_schema\n",
        "# get_schema(driver)"
      ],
      "metadata": {
        "id": "mEwyrJiB8Lk1"
      },
      "execution_count": null,
      "outputs": []
    },
    {
      "cell_type": "markdown",
      "source": [
        "## Define Tools\n",
        "\n",
        "Defining 4 tools used by the ReACT agent:\n",
        "\n",
        "- **Hybrid Retrieval tool**\n",
        "- **Hybrid Cypher Retrieval tool**\n",
        "- **Global Search tool**\n",
        "- **Local search tool**"
      ],
      "metadata": {
        "id": "uK81XaAQIN14"
      }
    },
    {
      "cell_type": "code",
      "source": [
        "from tools import av_hybrid_tool, av_hybrid_cypher_tool, global_retriever_tool, local_retriever_tool"
      ],
      "metadata": {
        "colab": {
          "base_uri": "https://localhost:8080/"
        },
        "id": "gs1pzxdEFEoQ",
        "outputId": "2f41f827-c349-4c90-f49f-99c5413feeda"
      },
      "execution_count": null,
      "outputs": [
        {
          "output_type": "stream",
          "name": "stdout",
          "text": [
            "Got 26 community summaries\n"
          ]
        }
      ]
    },
    {
      "cell_type": "markdown",
      "metadata": {
        "id": "6abb7364"
      },
      "source": [
        "## Agentic KAG Pipeline"
      ]
    },
    {
      "cell_type": "code",
      "source": [
        "from IPython.display import Markdown\n",
        "import json\n",
        "import prompts\n",
        "\n",
        "\n",
        "def run_agentic_kag(query):\n",
        "    \"\"\"\n",
        "    Runs the answer using react agent and provided tools.\n",
        "    \"\"\"\n",
        "    # Run Hybrid Retrieval using all the available tools\n",
        "    hybrid_agent = get_react_agent(\n",
        "        lang_llm,\n",
        "        [av_hybrid_tool, av_hybrid_cypher_tool, global_retriever_tool, local_retriever_tool],\n",
        "        prompts.REACT_PROMPT,\n",
        "        verbose=True\n",
        "    )\n",
        "    hybrid_input = json.dumps({\n",
        "        \"query\": query,\n",
        "    })\n",
        "    answer = hybrid_agent.invoke({\"input\": hybrid_input,\n",
        "                                  \"SYSTEM_PROMPT\" : prompts.AV_SYSTEM_PROMPT,\n",
        "                                  }, config={\"callbacks\": [langfuse_handler]})\n",
        "    final_answer = answer['output']\n",
        "    return final_answer"
      ],
      "metadata": {
        "id": "KrCjyva5JwPq",
        "collapsed": true
      },
      "execution_count": null,
      "outputs": []
    },
    {
      "cell_type": "code",
      "source": [
        "from datetime import datetime\n",
        "import pytz\n",
        "\n",
        "def get_ist_datetime():\n",
        "    \"\"\"Return current IST date and time as separate strings.\"\"\"\n",
        "    ist = pytz.timezone(\"Asia/Kolkata\")\n",
        "    now_ist = datetime.now(ist)\n",
        "\n",
        "    current_date = now_ist.strftime(\"%Y-%m-%d\")\n",
        "    current_time = now_ist.strftime(\"%H:%M\")\n",
        "\n",
        "    return current_date, current_time\n",
        "\n",
        "def expand_question(question):\n",
        "    \"\"\"\n",
        "    expand the originla quesiton with current date and time info\n",
        "    \"\"\"\n",
        "    date_str, time_str = get_ist_datetime()\n",
        "    question = f\"{question} Current Date: {date_str} Current Time: {time_str}\"\n",
        "    return question"
      ],
      "metadata": {
        "collapsed": true,
        "id": "kV4SKEEokQLJ"
      },
      "execution_count": null,
      "outputs": []
    },
    {
      "cell_type": "markdown",
      "source": [
        "## Let's test some questions"
      ],
      "metadata": {
        "id": "-zKP4DSroCGy"
      }
    },
    {
      "cell_type": "code",
      "source": [
        "query = \"which are the top themes covered in the conference\"\n",
        "answer = run_agentic_kag(query)\n",
        "display(Markdown(answer))"
      ],
      "metadata": {
        "collapsed": true,
        "colab": {
          "base_uri": "https://localhost:8080/",
          "height": 1000
        },
        "id": "R9je569F-a08",
        "outputId": "de0fd9f8-c9a9-46a1-8d78-326d625e9beb"
      },
      "execution_count": null,
      "outputs": [
        {
          "output_type": "stream",
          "name": "stdout",
          "text": [
            "\n",
            "\n",
            "\u001b[1m> Entering new ParallelAgentExecutor chain...\u001b[0m\n",
            "\u001b[32;1m\u001b[1;3mQuestion: {\"query\": \"which are the top themes covered in the conference\"}\n",
            "\n",
            "Thought: To answer this, I need to retrieve the main or most prominent themes/topics featured at DHS 2025. This is a broad, open-ended query about the overall content of the conference.\n",
            "Action: GlobalRetrieval\n",
            "Action Input: top themes covered in DHS 2025\u001b[0m"
          ]
        },
        {
          "output_type": "stream",
          "name": "stderr",
          "text": [
            "Processing communities in parallel: 100%|██████████| 26/26 [00:26<00:00,  1.04s/it]\n"
          ]
        },
        {
          "output_type": "stream",
          "name": "stdout",
          "text": [
            "\u001b[38;5;200m\u001b[1;3m# Top Themes Covered in DHS 2025\n",
            "\n",
            "DHS 2025 (DataHack Summit 2025) is characterized by a comprehensive focus on the latest advancements and practical applications in AI, with a strong emphasis on agentic systems, large language models, responsible AI, and production-grade deployment. The following sections synthesize the key themes and their implications, as supported by the dataset.\n",
            "\n",
            "---\n",
            "\n",
            "## 1. Agentic AI and Multi-Agent Systems\n",
            "\n",
            "Agentic AI is a central theme, with extensive coverage of agent architectures, multi-agent patterns, and real-world deployment. Workshops and sessions explore the design, integration, and scaling of agentic systems, including memory management, retrieval, and reinforcement learning (RL) algorithms. Multi-agent systems are highlighted through hands-on workshops, practical design choices, and comparative analyses of frameworks such as AutoGen, CrewAI, and LangGraph [Data: Reports (1, Bhaskarjit Sarmah workshop, Krishnakumar Menon session, LangMem, FastMCP, NVIDIA Agent Intelligence, +more)].\n",
            "\n",
            "---\n",
            "\n",
            "## 2. Large Language Models (LLMs) and LLMOps\n",
            "\n",
            "LLMs are foundational to the summit, with sessions on their core mechanisms, deployment strategies, and production-grade tools. LLMOps (Large Language Model Operations) is a key focus, covering end-to-end workflows for deploying, monitoring, and managing LLMs in production environments. Technical topics include Retrieval-Augmented Generation (RAG), SageMaker training/deployment, CI/CD, monitoring/logging, hallucination detection, and memory systems [Data: Entities (15, 29, 435, 466, 16), Relationships (633, 1299, 3, +more)].\n",
            "\n",
            "---\n",
            "\n",
            "## 3. Reliability, Safety, and Responsible AI\n",
            "\n",
            "Reliability in AI systems is addressed through sessions on quantifying confidence in neural networks and LLM outputs, uncertainty estimation, and mitigation of hallucinations. Responsible AI is a major focus, with governance, alignment, fairness, explainability, and auditing discussed in both technical and business contexts. Sessions operationalize responsible AI in domains such as finance, healthcare, and critical infrastructure, emphasizing risk detection, compliance, and human-in-the-loop governance [Data: Reports (PowerTalk by Praveen Kumar GS, Hack Session by Shubhradeep Nandi, case study in medical imaging, 1, +more)].\n",
            "\n",
            "---\n",
            "\n",
            "## 4. Productionizing GenAI and Agentic Systems\n",
            "\n",
            "A strong practical orientation is evident in workshops and hack sessions dedicated to productionizing GenAI and agentic systems. Topics include scalable deployment, latency/throughput optimization, serverless workflows (e.g., on Google Cloud and AWS), and real-time tool integration. The summit emphasizes moving beyond proofs of concept to robust, maintainable, and secure AI systems in real-world settings [Data: Entities (15, 29, 435, 466, 16, 30, 146); Reports (Day 2 Hack Session, 1, +more)].\n",
            "\n",
            "---\n",
            "\n",
            "## 5. Evaluation, Observability, and Security\n",
            "\n",
            "Rigorous evaluation of GenAI models is a recurring theme, with sessions on lifecycle design, online/offline evaluation, programmatic checks, and CI/CD guardrails. Observability and telemetry are highlighted for optimizing and monitoring agentic systems. Security, adversarial simulation, and compliance with frameworks like MITRE ATLAS, NIST AI RMF, and the EU AI Act are also addressed [Data: Entities (2544, 2541, 1296, 2543, 2542, +more); Reports (Day 2 PowerTalk, Day 3 Hack Session, Community Overview)].\n",
            "\n",
            "---\n",
            "\n",
            "## 6. Applied AI Domains and Business Impact\n",
            "\n",
            "DHS 2025 features applied AI in diverse domains, including customer experience (CX), healthcare (e.g., voice AI contact centers), energy infrastructure, marketing, and automotive services. Sessions demonstrate the business value of AI through use cases such as churn detection, sentiment analysis, operational efficiency, and regulatory compliance [Data: Reports (1, Dentsu Global Services, Prakalp Somawanshi session, +more)].\n",
            "\n",
            "---\n",
            "\n",
            "## 7. Interoperability, No-Code AI, and Tooling\n",
            "\n",
            "Interoperability between AI agents is explored through protocols like Anthropic’s Model Context Protocol (MCP) and Google’s Agent-to-Agent (A2A). No-code automation and agentic workflow building are demonstrated using platforms such as n8n, Zapier, and AutoGPT. Vendor-led sessions (e.g., NVIDIA, Fractal’s Cogentiq) showcase practical tools and best practices for building and scaling agentic systems [Data: Reports (1, NVIDIA Agent Intelligence, +more)].\n",
            "\n",
            "---\n",
            "\n",
            "## 8. Community, Collaboration, and Research Excellence\n",
            "\n",
            "The summit fosters cross-industry collaboration, connecting AI leaders from big tech, telecom, healthtech, and academia. The program includes recognition of community contributors and emphasizes research excellence and industry-academia partnerships [Data: Entities (370, 847, 1313, 1549, 2591); Relationships (900, 1998, 3756, 1221, 2004)].\n",
            "\n",
            "---\n",
            "\n",
            "## Conclusion\n",
            "\n",
            "DHS 2025 is defined by its deep dive into agentic AI, LLMs, responsible and reliable AI, productionization, evaluation, and applied business impact. The event bridges foundational research with practical deployment, emphasizing collaboration, interoperability, and the responsible scaling of AI technologies across industries.\u001b[0m"
          ]
        },
        {
          "output_type": "stream",
          "name": "stderr",
          "text": [
            "WARNING:opentelemetry.sdk.trace:Calling end() on an ended span.\n",
            "WARNING:opentelemetry.sdk.trace:Calling end() on an ended span.\n"
          ]
        },
        {
          "output_type": "stream",
          "name": "stdout",
          "text": [
            "\u001b[32;1m\u001b[1;3mFinal Thought: The main themes of DHS 2025 are well-documented in the retrieved data, covering agentic AI, LLMs, responsible AI, productionization, evaluation, applied business impact, interoperability, and community collaboration.\n",
            "Final Answer: \n",
            "\n",
            "**Top Themes Covered in DHS 2025**\n",
            "\n",
            "- **Agentic AI and Multi-Agent Systems**\n",
            "  - Architectures, design, scaling, and real-world deployment of agentic and multi-agent systems.\n",
            "  - Frameworks like AutoGen, CrewAI, LangGraph, and hands-on workshops.\n",
            "\n",
            "- **Large Language Models (LLMs) and LLMOps**\n",
            "  - Core mechanisms, deployment, monitoring, and management of LLMs.\n",
            "  - Focus on RAG, SageMaker, CI/CD, hallucination detection, and memory systems.\n",
            "\n",
            "- **Reliability, Safety, and Responsible AI**\n",
            "  - Confidence quantification, uncertainty estimation, hallucination mitigation.\n",
            "  - Governance, fairness, explainability, and operationalizing responsible AI in critical domains.\n",
            "\n",
            "- **Productionizing GenAI and Agentic Systems**\n",
            "  - Scalable deployment, optimization, serverless workflows, and real-time integration.\n",
            "  - Emphasis on robust, secure, and maintainable AI systems.\n",
            "\n",
            "- **Evaluation, Observability, and Security**\n",
            "  - Lifecycle design, programmatic evaluation, observability, and telemetry.\n",
            "  - Security, adversarial simulation, and compliance with global frameworks.\n",
            "\n",
            "- **Applied AI Domains and Business Impact**\n",
            "  - Use cases in CX, healthcare, energy, marketing, and automotive.\n",
            "  - Demonstrating business value through real-world applications.\n",
            "\n",
            "- **Interoperability, No-Code AI, and Tooling**\n",
            "  - Protocols for agent interoperability, no-code automation, and workflow building.\n",
            "  - Vendor-led sessions on practical tools and best practices.\n",
            "\n",
            "- **Community, Collaboration, and Research Excellence**\n",
            "  - Cross-industry collaboration, recognition of contributors, and research-industry partnerships.\n",
            "\n",
            "---\n",
            "\n",
            "DHS 2025 is a comprehensive event bridging foundational research and practical deployment, with a strong focus on responsible, scalable, and collaborative AI innovation across industries.\n",
            "\n",
            "---\n",
            "\n",
            "If you found this helpful, do spread the word and recommend this app to your fellow attendees: [http://agentickag.dhs25.analyticsvidhya.com/](http://agentickag.dhs25.analyticsvidhya.com/)\u001b[0m\n",
            "\n",
            "\u001b[1m> Finished chain.\u001b[0m\n"
          ]
        },
        {
          "output_type": "display_data",
          "data": {
            "text/plain": [
              "<IPython.core.display.Markdown object>"
            ],
            "text/markdown": "**Top Themes Covered in DHS 2025**\n\n- **Agentic AI and Multi-Agent Systems**\n  - Architectures, design, scaling, and real-world deployment of agentic and multi-agent systems.\n  - Frameworks like AutoGen, CrewAI, LangGraph, and hands-on workshops.\n\n- **Large Language Models (LLMs) and LLMOps**\n  - Core mechanisms, deployment, monitoring, and management of LLMs.\n  - Focus on RAG, SageMaker, CI/CD, hallucination detection, and memory systems.\n\n- **Reliability, Safety, and Responsible AI**\n  - Confidence quantification, uncertainty estimation, hallucination mitigation.\n  - Governance, fairness, explainability, and operationalizing responsible AI in critical domains.\n\n- **Productionizing GenAI and Agentic Systems**\n  - Scalable deployment, optimization, serverless workflows, and real-time integration.\n  - Emphasis on robust, secure, and maintainable AI systems.\n\n- **Evaluation, Observability, and Security**\n  - Lifecycle design, programmatic evaluation, observability, and telemetry.\n  - Security, adversarial simulation, and compliance with global frameworks.\n\n- **Applied AI Domains and Business Impact**\n  - Use cases in CX, healthcare, energy, marketing, and automotive.\n  - Demonstrating business value through real-world applications.\n\n- **Interoperability, No-Code AI, and Tooling**\n  - Protocols for agent interoperability, no-code automation, and workflow building.\n  - Vendor-led sessions on practical tools and best practices.\n\n- **Community, Collaboration, and Research Excellence**\n  - Cross-industry collaboration, recognition of contributors, and research-industry partnerships.\n\n---\n\nDHS 2025 is a comprehensive event bridging foundational research and practical deployment, with a strong focus on responsible, scalable, and collaborative AI innovation across industries.\n\n---\n\nIf you found this helpful, do spread the word and recommend this app to your fellow attendees: [http://agentickag.dhs25.analyticsvidhya.com/](http://agentickag.dhs25.analyticsvidhya.com/)"
          },
          "metadata": {}
        }
      ]
    },
    {
      "cell_type": "code",
      "source": [
        "query = \"List down all the sessions or workshops which uses Neo4j?\"\n",
        "answer = run_agentic_kag(query)\n",
        "display(Markdown(answer))"
      ],
      "metadata": {
        "collapsed": true,
        "colab": {
          "base_uri": "https://localhost:8080/",
          "height": 964
        },
        "id": "yiuD3QBAj0Eu",
        "outputId": "edcd26e9-baad-4366-8c51-bc5ca7e3a7f7"
      },
      "execution_count": null,
      "outputs": [
        {
          "output_type": "stream",
          "name": "stdout",
          "text": [
            "\n",
            "\n",
            "\u001b[1m> Entering new ParallelAgentExecutor chain...\u001b[0m\n",
            "\u001b[32;1m\u001b[1;3mQuestion: {\"query\": \"List down all the sessions or workshops which uses Neo4j?\"}\n",
            "\n",
            "Thought: I need to identify all sessions or workshops that mention or utilize Neo4j. This requires searching for both direct mentions and related topics within the session and workshop data.\n",
            "Action: AVHybridCypher\n",
            "Action Input: \"sessions or workshops that use or mention Neo4j\"\u001b[0mMATCH (s:Session)\n",
            "WHERE ANY(tool IN s.tools_discussed WHERE toLower(tool) CONTAINS toLower('neo4j')) OR toLower(s.description) CONTAINS toLower('neo4j') OR toLower(s.title) CONTAINS toLower('neo4j')\n",
            "RETURN s.title AS name, s.description AS description, s.instructor AS instructor, s.session_type AS type, s.theme AS theme, s.tools_discussed AS tools, s.level AS level, s.start_time AS start_time, s.end_time AS end_time, s.day AS day, s.date AS date\n",
            "UNION\n",
            "MATCH (w:Workshop)\n",
            "WHERE ANY(tool IN w.tools_used WHERE toLower(tool) CONTAINS toLower('neo4j')) OR toLower(w.description) CONTAINS toLower('neo4j') OR toLower(w.title) CONTAINS toLower('neo4j')\n",
            "RETURN w.title AS name, w.description AS description, w.instructor AS instructor, 'Workshop' AS type, NULL AS theme, w.tools_used AS tools, w.level AS level, w.start_time AS start_time, NULL AS end_time, NULL AS day, NULL AS date\n",
            "\u001b[33;1m\u001b[1;3m- **Agentic Knowledge Augmented Generation: The Next Leap After RAG**\n",
            "  - Type: Hack Session\n",
            "  - Mentions and uses: **Neo4j Graph Database**\n",
            "\n",
            "- **Agentic RAG Workshop: From Fundamentals to Real-World Implementations**\n",
            "  - Type: Workshop\n",
            "  - Includes a bonus on: **Graph RAG using Neo4j**\n",
            "  - Listed tool: **Neo4j**\u001b[0m"
          ]
        },
        {
          "output_type": "stream",
          "name": "stderr",
          "text": [
            "WARNING:opentelemetry.sdk.trace:Calling end() on an ended span.\n",
            "WARNING:opentelemetry.sdk.trace:Calling end() on an ended span.\n"
          ]
        },
        {
          "output_type": "stream",
          "name": "stdout",
          "text": [
            "\u001b[32;1m\u001b[1;3mFinal Thought: I have identified all sessions and workshops at DHS 2025 that use or mention Neo4j, including both a hack session and a workshop with explicit references to the Neo4j graph database.\n",
            "\n",
            "Final Answer: \n",
            "\n",
            "**Sessions and Workshops at DHS 2025 that use Neo4j:**\n",
            "\n",
            "- **Agentic Knowledge Augmented Generation: The Next Leap After RAG**\n",
            "  - Type: Hack Session\n",
            "  - Mentions and uses: **Neo4j Graph Database**\n",
            "\n",
            "- **Agentic RAG Workshop: From Fundamentals to Real-World Implementations**\n",
            "  - Type: Workshop\n",
            "  - Includes a bonus on: **Graph RAG using Neo4j**\n",
            "  - Listed tool: **Neo4j**\n",
            "\n",
            "If you found this helpful, do spread the word and recommend this app to your fellow attendees! You can access it at [http://agentickag.dhs25.analyticsvidhya.com/](http://agentickag.dhs25.analyticsvidhya.com/) 🚀\u001b[0m\n",
            "\n",
            "\u001b[1m> Finished chain.\u001b[0m\n"
          ]
        },
        {
          "output_type": "display_data",
          "data": {
            "text/plain": [
              "<IPython.core.display.Markdown object>"
            ],
            "text/markdown": "**Sessions and Workshops at DHS 2025 that use Neo4j:**\n\n- **Agentic Knowledge Augmented Generation: The Next Leap After RAG**\n  - Type: Hack Session\n  - Mentions and uses: **Neo4j Graph Database**\n\n- **Agentic RAG Workshop: From Fundamentals to Real-World Implementations**\n  - Type: Workshop\n  - Includes a bonus on: **Graph RAG using Neo4j**\n  - Listed tool: **Neo4j**\n\nIf you found this helpful, do spread the word and recommend this app to your fellow attendees! You can access it at [http://agentickag.dhs25.analyticsvidhya.com/](http://agentickag.dhs25.analyticsvidhya.com/) 🚀"
          },
          "metadata": {}
        }
      ]
    },
    {
      "cell_type": "code",
      "source": [
        "query = \"Who is covering autogen? do we have any workshops \"\n",
        "answer = run_agentic_kag(query)\n",
        "display(Markdown(answer))"
      ],
      "metadata": {
        "colab": {
          "base_uri": "https://localhost:8080/",
          "height": 1000
        },
        "collapsed": true,
        "id": "x4V68A2aQooT",
        "outputId": "bc148c08-c5b5-4e68-f8fe-224f8b093cb9"
      },
      "execution_count": null,
      "outputs": [
        {
          "output_type": "stream",
          "name": "stdout",
          "text": [
            "\n",
            "\n",
            "\u001b[1m> Entering new ParallelAgentExecutor chain...\u001b[0m\n",
            "\u001b[32;1m\u001b[1;3mQuestion: {\"query\": \"Who is covering autogen? do we have any workshops \"}\n",
            "\n",
            "Thought: I need to identify sessions or workshops related to \"autogen\" and find out who is presenting or leading them.\n",
            "Action: GlobalRetrieval\n",
            "Action Input: \"autogen sessions and workshops\"\u001b[0m"
          ]
        },
        {
          "output_type": "stream",
          "name": "stderr",
          "text": [
            "Processing communities in parallel: 100%|██████████| 26/26 [00:15<00:00,  1.64it/s]\n"
          ]
        },
        {
          "output_type": "stream",
          "name": "stdout",
          "text": [
            "\u001b[38;5;200m\u001b[1;3m# Overview of Autogen Sessions and Workshops\n",
            "\n",
            "The dataset reveals a rich landscape of sessions and workshops focused on autogen (autonomous agent generation), agentic AI, and related multi-agent systems. These events span hands-on technical workshops, hack sessions, and panel discussions, often led by industry and academic experts. Below is a synthesis of the key sessions, their content, and implications.\n",
            "\n",
            "---\n",
            "\n",
            "## Core Workshops and Sessions\n",
            "\n",
            "### 1. Mastering Real-World Agentic AI Applications with AG2 (AutoGen)\n",
            "- **Description:** A hands-on technical workshop dedicated to production-grade agent design, integration, and deployment using AG2 (AutoGen) and related tools.\n",
            "- **Leaders:** Hrushikesh Dokala (Atlan; fAIght Club), Dr. Qingyun Wu (AG2; Penn State), Chi Wang (AG2; FLAML), with speakers from Google/DeepMind and Serrano Academy.\n",
            "- **Curriculum:** Covers fundamentals to deployment (including FastAgency and MCPs), and application domains such as customer support, marketing, content, finance, and data analysis, emphasizing reliability, security, and maintainability.\n",
            "- **[Data: Reports (single workshop described)]**\n",
            "\n",
            "### 2. MassGen and Guardrails Workshop\n",
            "- **MassGen:** A live multi-agent collaboration session demonstrating cross-model synergy and parallel workflows, built on insights from AG2/AutoGen and other frameworks.\n",
            "- **Guardrails Workshop:** Focuses on operationalizing alignment, toxicity/bias controls, and output governance using open-source tools like Mistral, NVIDIA NeMo Guardrails, and Llama Guard.\n",
            "- **[Data: Entities (370, 847, 1313, 1549, 2591); Relationships (900, 1998, 3756, 1221, 2004)]**\n",
            "\n",
            "### 3. DataHack Summit 2025: Agentic AI and Multi-Agent Systems\n",
            "- **Workshops:** Hands-on sessions on Agentic AI, multi-agent systems, and no-code hack sessions using platforms like Fractal’s Cogentiq.\n",
            "- **Leaders:** Alessandro Romano and others.\n",
            "- **Focus:** Practical development and deployment of agentic and multi-agent AI systems, including no-code orchestration.\n",
            "- **[Data: Reports (general summary)]**\n",
            "\n",
            "### 4. End-to-End LLM and Agentic AI Workshops\n",
            "- **Leaders:** Raghav Bali (Delivery Hero), Joshua Starmer, Luis Serrano.\n",
            "- **Content:** From LLM foundations to deployment, building AI agents with memory, retrieval, and RL algorithms, and practical hack sessions on confidence quantification and robotics integration.\n",
            "- **[Data: Reports (no report ids provided)]**\n",
            "\n",
            "### 5. Productionizing GenAI and Agentic Systems\n",
            "- **Workshops:** Led by Kartik Nighania (Typewise) and Miguel Otero Pedrido (The Neural Maze), covering LLMOps, reliable agent engineering, multimodal agents, monitoring, evaluation, and simulation.\n",
            "- **Topics:** RAG with Qdrant, SageMaker, CI/CD, monitoring, hallucination detection, memory systems, and multimodal integration.\n",
            "- **Venue:** La Marvella, Bengaluru.\n",
            "- **[Data: Entities (15, 29, 435, 466, 16, 30, 146); Relationships (633, 1299, 3)]**\n",
            "\n",
            "---\n",
            "\n",
            "## Specialized Hack Sessions and Technical Panels\n",
            "\n",
            "### 6. Day 3 Hack Sessions (August 22, 2025)\n",
            "- **Agentic AI Governance:** Led by Bhaskarjit Sarmah, demonstrating governance patterns with Python, LangChain, and OpenAI Functions.\n",
            "- **Energy Infrastructure Inspection:** Led by Prakalp Somawanshi, using vision-language models for structured maintenance reports.\n",
            "- **Common Tools:** LangChain, Streamlit.\n",
            "- **[Data: Reports (no ids provided, all data in summary)]**\n",
            "\n",
            "### 7. Multi-Agent Architecture and DSPy Session\n",
            "- **Sessions:** Focus on robust, scalable multi-agent systems, SEO content pipelines, novelty in LLM outputs, and adaptive email agents using DSPy.\n",
            "- **Leaders:** Pranjal Singh, Anshu Kumar, Harshad Khadilkar.\n",
            "- **[Data: Entities (1498, 1264, 992, 1666)]**\n",
            "\n",
            "### 8. AgentOps and Production-Ready Agentic AI\n",
            "- **Workshops:** AgentOps by Bhaskarjit Sarmah, Agent Factory by Krishnakumar Menon, and field lessons by Dipanjan Sarkar.\n",
            "- **Vendor Hack Session:** NVIDIA’s Agent Intelligence toolkit.\n",
            "- **Themes:** Agent architectures, multi-agent patterns, memory engineering, observability, and evaluation.\n",
            "- **[Data: Reports (main data table)]**\n",
            "\n",
            "### 9. No-Code Automation and Interoperability\n",
            "- **Workshop:** Building agentic workflows with n8n, Zapier, Make, Bubble, and AutoGPT.\n",
            "- **Focus:** No-code tools, open protocols, and enterprise agent orchestration.\n",
            "- **[Data: Reports (summary)]**\n",
            "\n",
            "### 10. Evaluation and Governance\n",
            "- **Session:** \"The Missing Piece of AI Apps: Evaluation\" by Ayush Thakur, covering LLM evaluation, CI/CD guardrails, and bias analysis.\n",
            "- **Tools:** Open Hands, Imagen, Veo, Weave dashboards.\n",
            "- **[Data: Entities (1285, 1286, 1287, 2544, 2541, +more); Relationships (1226, 3297, 3745, 3749, 3741, +more)]**\n",
            "\n",
            "---\n",
            "\n",
            "## Additional Noteworthy Sessions\n",
            "\n",
            "- **AutoGen in Hack Panel:** Compared with CrewAI and LangGraph for multi-agent Helpdesk AI Assistant design and deployment. [Data: Reports (no report ids provided)]\n",
            "- **Claude Venue Hack Sessions:** Focus on LLM attention mechanisms, agentic AI with computer vision, and reliability in agentic systems. [Data: Reports (summary)]\n",
            "- **Healthcare Voice AI Hack Session:** Building scalable, production-ready Voice AI contact centers. [Data: Reports (no specific report ids provided)]\n",
            "- **Dentsu Global Services Hack Session:** AI-first customer experience solutions, agentic AI triage, and operationalizing key capabilities. [Data: Reports (no report ids provided)]\n",
            "\n",
            "---\n",
            "\n",
            "## Summary Table\n",
            "\n",
            "| Session/Workshop Theme                | Key Focus Areas                                      | Tools/Frameworks                | Notable Leaders/Orgs         |\n",
            "|---------------------------------------|------------------------------------------------------|----------------------------------|------------------------------|\n",
            "| AG2/AutoGen Technical Workshop        | Agent design, deployment, reliability                | AG2, FastAgency, MCPs           | Dokala, Wu, Wang, Sharma     |\n",
            "| MassGen & Guardrails                  | Multi-agent synergy, alignment, governance           | Mistral, NeMo Guardrails, Llama | Multiple                     |\n",
            "| LLMOps & Multimodal Agents            | Productionization, monitoring, evaluation            | Qdrant, SageMaker, LangChain    | Nighania, Pedrido            |\n",
            "| No-Code Automation                    | Agentic workflows, interoperability                  | n8n, Zapier, AutoGPT            | -                            |\n",
            "| Evaluation & Governance               | LLM evaluation, bias, CI/CD guardrails               | Open Hands, Weave               | Ayush Thakur                 |\n",
            "\n",
            "---\n",
            "\n",
            "## Implications\n",
            "\n",
            "- **Practical Focus:** Most sessions are hands-on, emphasizing real-world deployment, reliability, and governance of agentic and autogen systems.\n",
            "- **Diverse Tooling:** Workshops leverage a wide array of open-source and enterprise tools, supporting both code-first and no-code participants.\n",
            "- **Industry-Academia Collaboration:** Sessions are led by practitioners from leading tech companies and academic institutions, ensuring both cutting-edge content and practical relevance.\n",
            "- **Governance and Safety:** Many workshops address alignment, bias, and operational safeguards, reflecting the growing importance of responsible AI in agentic systems.\n",
            "\n",
            "---\n",
            "\n",
            "## Data References\n",
            "\n",
            "- [Data: Entities (370, 847, 1313, 1549, 2591, +more); Relationships (900, 1998, 3756, 1221, 2004, +more)]\n",
            "- [Data: Reports (single workshop described, general summary, main data table, summary, no report ids provided, +more)]\n",
            "- [Data: Entities (15, 29, 435, 466, 16, 30, 146, +more); Relationships (633, 1299, 3, +more)]\n",
            "- [Data: Entities (1498, 1264, 992, 1666, +more)]\n",
            "- [Data: Entities (1285, 1286, 1287, 2544, 2541, +more); Relationships (1226, 3297, 3745, 3749, 3741, +more)]\n",
            "\n",
            "---\n",
            "\n",
            "This synthesis captures the breadth and depth of autogen sessions and workshops, highlighting their technical rigor, practical orientation, and alignment with current industry and research priorities.\u001b[0m"
          ]
        },
        {
          "output_type": "stream",
          "name": "stderr",
          "text": [
            "WARNING:opentelemetry.sdk.trace:Calling end() on an ended span.\n",
            "WARNING:opentelemetry.sdk.trace:Calling end() on an ended span.\n"
          ]
        },
        {
          "output_type": "stream",
          "name": "stdout",
          "text": [
            "\u001b[32;1m\u001b[1;3mFinal Thought: I have gathered comprehensive information on who is covering autogen at DHS 2025 and the workshops available, including key leaders, session themes, and practical details.\n",
            "Final Answer: \n",
            "\n",
            "**Autogen Coverage at DHS 2025: Sessions & Workshops**\n",
            "\n",
            "---\n",
            "\n",
            "**Key Workshops & Who’s Leading Them:**\n",
            "\n",
            "- **Mastering Real-World Agentic AI Applications with AG2 (AutoGen)**\n",
            "  - **Leaders:** Hrushikesh Dokala (Atlan; fAIght Club), Dr. Qingyun Wu (AG2; Penn State), Chi Wang (AG2; FLAML), plus speakers from Google/DeepMind and Serrano Academy.\n",
            "  - **Focus:** Production-grade agent design, integration, deployment, reliability, and security.\n",
            "\n",
            "- **MassGen and Guardrails Workshop**\n",
            "  - **Leaders:** Multiple, including contributors to AG2/AutoGen.\n",
            "  - **Focus:** Multi-agent collaboration, alignment, bias/toxicity controls, and output governance.\n",
            "\n",
            "- **Agentic AI and Multi-Agent Systems Workshops**\n",
            "  - **Leaders:** Alessandro Romano and others.\n",
            "  - **Focus:** Hands-on agentic AI, multi-agent systems, and no-code orchestration.\n",
            "\n",
            "- **End-to-End LLM and Agentic AI Workshops**\n",
            "  - **Leaders:** Raghav Bali (Delivery Hero), Joshua Starmer, Luis Serrano.\n",
            "  - **Focus:** LLMs, agent memory, retrieval, RL, and robotics integration.\n",
            "\n",
            "- **Productionizing GenAI and Agentic Systems**\n",
            "  - **Leaders:** Kartik Nighania (Typewise), Miguel Otero Pedrido (The Neural Maze).\n",
            "  - **Focus:** LLMOps, agent engineering, multimodal agents, monitoring, and evaluation.\n",
            "\n",
            "---\n",
            "\n",
            "**Specialized Hack Sessions & Panels:**\n",
            "\n",
            "- **Agentic AI Governance:** Bhaskarjit Sarmah (Python, LangChain, OpenAI Functions)\n",
            "- **Multi-Agent Architecture & DSPy:** Pranjal Singh, Anshu Kumar, Harshad Khadilkar\n",
            "- **AgentOps & Agent Factory:** Bhaskarjit Sarmah, Krishnakumar Menon, Dipanjan Sarkar\n",
            "- **No-Code Automation:** Building agentic workflows with n8n, Zapier, Make, Bubble, AutoGPT\n",
            "- **Evaluation & Governance:** Ayush Thakur (“The Missing Piece of AI Apps: Evaluation”)\n",
            "\n",
            "---\n",
            "\n",
            "**Summary Table**\n",
            "\n",
            "| Workshop/Session Theme         | Key Leaders/Orgs                        | Focus Areas                        |\n",
            "|-------------------------------|-----------------------------------------|------------------------------------|\n",
            "| AG2/AutoGen Technical         | Dokala, Wu, Wang, Sharma                | Agent design, deployment           |\n",
            "| MassGen & Guardrails          | Multiple                                | Multi-agent synergy, governance    |\n",
            "| LLMOps & Multimodal Agents    | Nighania, Pedrido                       | Productionization, monitoring      |\n",
            "| No-Code Automation            | -                                       | Agentic workflows, interoperability|\n",
            "| Evaluation & Governance       | Ayush Thakur                            | LLM evaluation, CI/CD guardrails   |\n",
            "\n",
            "---\n",
            "\n",
            "**In Short:**  \n",
            "Yes, there are multiple workshops and sessions on autogen and agentic AI at DHS 2025, led by top industry and academic experts. These cover everything from hands-on technical deep-dives to no-code hack sessions and governance best practices.\n",
            "\n",
            "If you’re interested in autogen, you’ll have plenty of opportunities to learn, build, and network with the leaders in this space!\n",
            "\n",
            "---\n",
            "\n",
            "If you found this helpful, spread the word and recommend this app to your fellow attendees: [http://agentickag.dhs25.analyticsvidhya.com/](http://agentickag.dhs25.analyticsvidhya.com/)\u001b[0m\n",
            "\n",
            "\u001b[1m> Finished chain.\u001b[0m\n"
          ]
        },
        {
          "output_type": "display_data",
          "data": {
            "text/plain": [
              "<IPython.core.display.Markdown object>"
            ],
            "text/markdown": "**Autogen Coverage at DHS 2025: Sessions & Workshops**\n\n---\n\n**Key Workshops & Who’s Leading Them:**\n\n- **Mastering Real-World Agentic AI Applications with AG2 (AutoGen)**\n  - **Leaders:** Hrushikesh Dokala (Atlan; fAIght Club), Dr. Qingyun Wu (AG2; Penn State), Chi Wang (AG2; FLAML), plus speakers from Google/DeepMind and Serrano Academy.\n  - **Focus:** Production-grade agent design, integration, deployment, reliability, and security.\n\n- **MassGen and Guardrails Workshop**\n  - **Leaders:** Multiple, including contributors to AG2/AutoGen.\n  - **Focus:** Multi-agent collaboration, alignment, bias/toxicity controls, and output governance.\n\n- **Agentic AI and Multi-Agent Systems Workshops**\n  - **Leaders:** Alessandro Romano and others.\n  - **Focus:** Hands-on agentic AI, multi-agent systems, and no-code orchestration.\n\n- **End-to-End LLM and Agentic AI Workshops**\n  - **Leaders:** Raghav Bali (Delivery Hero), Joshua Starmer, Luis Serrano.\n  - **Focus:** LLMs, agent memory, retrieval, RL, and robotics integration.\n\n- **Productionizing GenAI and Agentic Systems**\n  - **Leaders:** Kartik Nighania (Typewise), Miguel Otero Pedrido (The Neural Maze).\n  - **Focus:** LLMOps, agent engineering, multimodal agents, monitoring, and evaluation.\n\n---\n\n**Specialized Hack Sessions & Panels:**\n\n- **Agentic AI Governance:** Bhaskarjit Sarmah (Python, LangChain, OpenAI Functions)\n- **Multi-Agent Architecture & DSPy:** Pranjal Singh, Anshu Kumar, Harshad Khadilkar\n- **AgentOps & Agent Factory:** Bhaskarjit Sarmah, Krishnakumar Menon, Dipanjan Sarkar\n- **No-Code Automation:** Building agentic workflows with n8n, Zapier, Make, Bubble, AutoGPT\n- **Evaluation & Governance:** Ayush Thakur (“The Missing Piece of AI Apps: Evaluation”)\n\n---\n\n**Summary Table**\n\n| Workshop/Session Theme         | Key Leaders/Orgs                        | Focus Areas                        |\n|-------------------------------|-----------------------------------------|------------------------------------|\n| AG2/AutoGen Technical         | Dokala, Wu, Wang, Sharma                | Agent design, deployment           |\n| MassGen & Guardrails          | Multiple                                | Multi-agent synergy, governance    |\n| LLMOps & Multimodal Agents    | Nighania, Pedrido                       | Productionization, monitoring      |\n| No-Code Automation            | -                                       | Agentic workflows, interoperability|\n| Evaluation & Governance       | Ayush Thakur                            | LLM evaluation, CI/CD guardrails   |\n\n---\n\n**In Short:**  \nYes, there are multiple workshops and sessions on autogen and agentic AI at DHS 2025, led by top industry and academic experts. These cover everything from hands-on technical deep-dives to no-code hack sessions and governance best practices.\n\nIf you’re interested in autogen, you’ll have plenty of opportunities to learn, build, and network with the leaders in this space!\n\n---\n\nIf you found this helpful, spread the word and recommend this app to your fellow attendees: [http://agentickag.dhs25.analyticsvidhya.com/](http://agentickag.dhs25.analyticsvidhya.com/)"
          },
          "metadata": {}
        }
      ]
    },
    {
      "cell_type": "code",
      "source": [
        "query = \"who are all closely associated with langfuse\"\n",
        "answer = run_agentic_kag(query)\n",
        "display(Markdown(answer))"
      ],
      "metadata": {
        "colab": {
          "base_uri": "https://localhost:8080/",
          "height": 1000
        },
        "id": "wJ-jBSfB_CST",
        "outputId": "85d15bed-5ae1-41aa-8f4b-7d9f7b55e1e1",
        "collapsed": true
      },
      "execution_count": null,
      "outputs": [
        {
          "output_type": "stream",
          "name": "stdout",
          "text": [
            "\n",
            "\n",
            "\u001b[1m> Entering new ParallelAgentExecutor chain...\u001b[0m\n",
            "\u001b[32;1m\u001b[1;3mQuestion: {\"query\": \"who are all closely associated with langfuse\"}\n",
            "\n",
            "Thought: I need to find all entities (people, organizations, sessions, etc.) that are closely associated with \"langfuse\". This requires multi-hop reasoning around the \"langfuse\" node.\n",
            "Action: AVHybridCypher\n",
            "Action Input: \"Find all entities closely associated with langfuse\"\u001b[0mMATCH (t:Tool)\n",
            "WHERE toLower(t.name) CONTAINS toLower('langfuse')\n",
            "RETURN 'Tool' AS entity_type, t.name AS name, t.type AS detail\n",
            "UNION\n",
            "MATCH (tp:Topic)\n",
            "WHERE toLower(tp.name) CONTAINS toLower('langfuse')\n",
            "RETURN 'Topic' AS entity_type, tp.name AS name, '' AS detail\n",
            "UNION\n",
            "MATCH (s:Session)-[:USES]->(t:Tool)\n",
            "WHERE toLower(t.name) CONTAINS toLower('langfuse')\n",
            "RETURN 'Session' AS entity_type, s.title AS name, s.instructor AS detail\n",
            "UNION\n",
            "MATCH (w:Workshop)-[:USES]->(t:Tool)\n",
            "WHERE toLower(t.name) CONTAINS toLower('langfuse')\n",
            "RETURN 'Workshop' AS entity_type, w.title AS name, w.instructor AS detail\n",
            "UNION\n",
            "MATCH (s:Session)-[:COVERS]->(tp:Topic)\n",
            "WHERE toLower(tp.name) CONTAINS toLower('langfuse')\n",
            "RETURN 'Session' AS entity_type, s.title AS name, s.instructor AS detail\n",
            "UNION\n",
            "MATCH (w:Workshop)-[:COVERS]->(tp:Topic)\n",
            "WHERE toLower(tp.name) CONTAINS toLower('langfuse')\n",
            "RETURN 'Workshop' AS entity_type, w.title AS name, w.instructor AS detail\n",
            "ORDER BY entity_type, name\n",
            "\u001b[33;1m\u001b[1;3m- **Agentic Knowledge Augmented Generation: The Next Leap After RAG** (Session)  \n",
            "  - Arun Prakash Asokan\n",
            "\n",
            "- **Mastering Intelligent Agents: A Deep Dive into Agentic AI** (Workshop)  \n",
            "  - Dipanjan Sarkar\n",
            "\n",
            "- **Agentic RAG Workshop: From Fundamentals to Real-World Implementations** (Workshop)  \n",
            "  - Arun Prakash Asokan\u001b[0m"
          ]
        },
        {
          "output_type": "stream",
          "name": "stderr",
          "text": [
            "WARNING:opentelemetry.sdk.trace:Calling end() on an ended span.\n",
            "WARNING:opentelemetry.sdk.trace:Calling end() on an ended span.\n"
          ]
        },
        {
          "output_type": "stream",
          "name": "stdout",
          "text": [
            "\u001b[32;1m\u001b[1;3mFinal Thought: I have identified all sessions and individuals closely associated with \"langfuse\" by exploring multi-hop relationships around the \"langfuse\" node.\n",
            "\n",
            "Final Answer: \n",
            "\n",
            "**Entities Closely Associated with Langfuse at DHS 2025:**\n",
            "\n",
            "- **Sessions & Workshops:**\n",
            "  - **Agentic Knowledge Augmented Generation: The Next Leap After RAG** (Session)\n",
            "    - Speaker: Arun Prakash Asokan\n",
            "  - **Mastering Intelligent Agents: A Deep Dive into Agentic AI** (Workshop)\n",
            "    - Speaker: Dipanjan Sarkar\n",
            "  - **Agentic RAG Workshop: From Fundamentals to Real-World Implementations** (Workshop)\n",
            "    - Speaker: Arun Prakash Asokan\n",
            "\n",
            "- **People:**\n",
            "  - Arun Prakash Asokan\n",
            "  - Dipanjan Sarkar\n",
            "\n",
            "If you find this helpful, please spread the word and recommend this app to your fellow attendees: [http://agentickag.dhs25.analyticsvidhya.com/](http://agentickag.dhs25.analyticsvidhya.com/)\u001b[0m\n",
            "\n",
            "\u001b[1m> Finished chain.\u001b[0m\n"
          ]
        },
        {
          "output_type": "display_data",
          "data": {
            "text/plain": [
              "<IPython.core.display.Markdown object>"
            ],
            "text/markdown": "**Entities Closely Associated with Langfuse at DHS 2025:**\n\n- **Sessions & Workshops:**\n  - **Agentic Knowledge Augmented Generation: The Next Leap After RAG** (Session)\n    - Speaker: Arun Prakash Asokan\n  - **Mastering Intelligent Agents: A Deep Dive into Agentic AI** (Workshop)\n    - Speaker: Dipanjan Sarkar\n  - **Agentic RAG Workshop: From Fundamentals to Real-World Implementations** (Workshop)\n    - Speaker: Arun Prakash Asokan\n\n- **People:**\n  - Arun Prakash Asokan\n  - Dipanjan Sarkar\n\nIf you find this helpful, please spread the word and recommend this app to your fellow attendees: [http://agentickag.dhs25.analyticsvidhya.com/](http://agentickag.dhs25.analyticsvidhya.com/)"
          },
          "metadata": {}
        }
      ]
    },
    {
      "cell_type": "code",
      "source": [
        "query = \"How many sessions cover LLMs and how many cover agents? Is there any session that covers both?\"\n",
        "query = expand_question(query)\n",
        "print(query)\n",
        "answer = run_agentic_kag(query)\n",
        "display(Markdown(answer))"
      ],
      "metadata": {
        "collapsed": true,
        "colab": {
          "base_uri": "https://localhost:8080/",
          "height": 1000
        },
        "id": "eM3Wo5_3yShj",
        "outputId": "6bfea6be-fd50-49b1-f1be-36ebe04e3712"
      },
      "execution_count": null,
      "outputs": [
        {
          "output_type": "stream",
          "name": "stdout",
          "text": [
            "How many sessions cover LLMs and how many cover agents? Is there any session that covers both? Current Date: 2025-08-20 Current Time: 00:53\n",
            "\n",
            "\n",
            "\u001b[1m> Entering new ParallelAgentExecutor chain...\u001b[0m\n",
            "\u001b[32;1m\u001b[1;3mQuestion: {\"query\": \"How many sessions cover LLMs and how many cover agents? Is there any session that covers both? Current Date: 2025-08-20 Current Time: 00:53\"}\n",
            "\n",
            "Thought: I need to identify sessions that cover \"LLMs\", sessions that cover \"agents\", and check for any overlap. This requires searching for sessions by topic/keyword and then comparing the results.\n",
            "Action: AVHybridCypher\n",
            "Action Input: List all sessions that cover \"LLMs\" and all sessions that cover \"agents\". Indicate if any session covers both topics.\u001b[0mCALL {\n",
            "  MATCH (sess:Session)-[:COVERS]->(t1:Topic)\n",
            "  WHERE toLower(t1.name) CONTAINS toLower('llms')\n",
            "  OPTIONAL MATCH (sess)-[:COVERS]->(t2:Topic)\n",
            "  WHERE toLower(t2.name) CONTAINS toLower('agents')\n",
            "  WITH sess, COUNT(DISTINCT t2) > 0 AS covers_agents\n",
            "  RETURN DISTINCT\n",
            "    sess.title AS session_title,\n",
            "    sess.description AS description,\n",
            "    sess.instructor AS instructor,\n",
            "    sess.session_type AS session_type,\n",
            "    sess.theme AS theme,\n",
            "    sess.level AS level,\n",
            "    sess.start_time AS start_time,\n",
            "    sess.end_time AS end_time,\n",
            "    sess.day AS day,\n",
            "    sess.date AS date,\n",
            "    TRUE AS covers_llms,\n",
            "    covers_agents AS covers_agents\n",
            "  UNION\n",
            "  MATCH (sess:Session)-[:COVERS]->(t1:Topic)\n",
            "  WHERE toLower(t1.name) CONTAINS toLower('agents')\n",
            "  OPTIONAL MATCH (sess)-[:COVERS]->(t2:Topic)\n",
            "  WHERE toLower(t2.name) CONTAINS toLower('llms')\n",
            "  WITH sess, COUNT(DISTINCT t2) > 0 AS covers_llms\n",
            "  RETURN DISTINCT\n",
            "    sess.title AS session_title,\n",
            "    sess.description AS description,\n",
            "    sess.instructor AS instructor,\n",
            "    sess.session_type AS session_type,\n",
            "    sess.theme AS theme,\n",
            "    sess.level AS level,\n",
            "    sess.start_time AS start_time,\n",
            "    sess.end_time AS end_time,\n",
            "    sess.day AS day,\n",
            "    sess.date AS date,\n",
            "    covers_llms AS covers_llms,\n",
            "    TRUE AS covers_agents\n",
            "}\n",
            "RETURN DISTINCT\n",
            "  session_title,\n",
            "  description,\n",
            "  instructor,\n",
            "  session_type,\n",
            "  theme,\n",
            "  level,\n",
            "  start_time,\n",
            "  end_time,\n",
            "  day,\n",
            "  date,\n",
            "  covers_llms,\n",
            "  covers_agents\n",
            "ORDER BY session_title\n"
          ]
        },
        {
          "output_type": "stream",
          "name": "stderr",
          "text": [
            "WARNING:neo4j.notifications:Received notification from DBMS server: {severity: WARNING} {code: Neo.ClientNotification.Statement.FeatureDeprecationWarning} {category: DEPRECATION} {title: This feature is deprecated and will be removed in future versions.} {description: CALL subquery without a variable scope clause is now deprecated. Use CALL () { ... }} {position: line: 1, column: 670, offset: 669} for query: \"CALL () { CALL db.index.vector.queryNodes($vector_index_name, $top_k * $effective_search_ratio, $query_vector) YIELD node, score WITH node, score LIMIT $top_k WITH collect({node:node, score:score}) AS nodes, max(score) AS vector_index_max_score UNWIND nodes AS n RETURN n.node AS node, (n.score / vector_index_max_score) AS score UNION CALL db.index.fulltext.queryNodes($fulltext_index_name, $query_text, {limit: $top_k}) YIELD node, score WITH collect({node:node, score:score}) AS nodes, max(score) AS ft_index_max_score UNWIND nodes AS n RETURN n.node AS node, (n.score / ft_index_max_score) AS score } WITH node, max(score) AS score ORDER BY score DESC LIMIT $top_k CALL {\\n  MATCH (sess:Session)-[:COVERS]->(t1:Topic)\\n  WHERE toLower(t1.name) CONTAINS toLower('llms')\\n  OPTIONAL MATCH (sess)-[:COVERS]->(t2:Topic)\\n  WHERE toLower(t2.name) CONTAINS toLower('agents')\\n  WITH sess, COUNT(DISTINCT t2) > 0 AS covers_agents\\n  RETURN DISTINCT\\n    sess.title AS session_title,\\n    sess.description AS description,\\n    sess.instructor AS instructor,\\n    sess.session_type AS session_type,\\n    sess.theme AS theme,\\n    sess.level AS level,\\n    sess.start_time AS start_time,\\n    sess.end_time AS end_time,\\n    sess.day AS day,\\n    sess.date AS date,\\n    TRUE AS covers_llms,\\n    covers_agents AS covers_agents\\n  UNION\\n  MATCH (sess:Session)-[:COVERS]->(t1:Topic)\\n  WHERE toLower(t1.name) CONTAINS toLower('agents')\\n  OPTIONAL MATCH (sess)-[:COVERS]->(t2:Topic)\\n  WHERE toLower(t2.name) CONTAINS toLower('llms')\\n  WITH sess, COUNT(DISTINCT t2) > 0 AS covers_llms\\n  RETURN DISTINCT\\n    sess.title AS session_title,\\n    sess.description AS description,\\n    sess.instructor AS instructor,\\n    sess.session_type AS session_type,\\n    sess.theme AS theme,\\n    sess.level AS level,\\n    sess.start_time AS start_time,\\n    sess.end_time AS end_time,\\n    sess.day AS day,\\n    sess.date AS date,\\n    covers_llms AS covers_llms,\\n    TRUE AS covers_agents\\n}\\nRETURN DISTINCT\\n  session_title,\\n  description,\\n  instructor,\\n  session_type,\\n  theme,\\n  level,\\n  start_time,\\n  end_time,\\n  day,\\n  date,\\n  covers_llms,\\n  covers_agents\\nORDER BY session_title\"\n"
          ]
        },
        {
          "output_type": "stream",
          "name": "stdout",
          "text": [
            "\u001b[33;1m\u001b[1;3m**Sessions that cover \"LLMs\":**\n",
            "- Automate Everything: Building Agentic AI Workflows with No-Code Tools\n",
            "- Building Responsible AI Agents with Guardrails and Safety in Action\n",
            "- Deploying GenAI Safely: Strategies for Trustworthy LLMs\n",
            "- Fast and Accurate Conversational Agents: Beyond Function Calling\n",
            "- From Language to Robotics: Practical Lessons Bridging LLMs, RL, and AI\n",
            "- LLMs Are Boring. How Can We Make Them More Interesting?\n",
            "- Measuring Uncertainty in LLMs and Optimal Use of SLMs\n",
            "- Onboarding AI Agents with Human Values\n",
            "- Scaling Test-time Inference Compute & Advent of Reasoning Models\n",
            "- The Promise and Pitfalls of Synthetic Data Generation\n",
            "\n",
            "**Sessions that cover \"agents\":**\n",
            "- AI Voice Agent: The Future of Human-Computer Interaction\n",
            "- Adaptive Email Agents with DSPy: From Static Prompts to Smart Learning\n",
            "- Agent to Agent Protocol: Benefits and Workflows\n",
            "- Agentic AI Meets Responsible AI: Designing Safe Autonomous Systems\n",
            "- Agentic Knowledge Augmented Generation: The Next Leap After RAG\n",
            "- Agents at Scale: Engineering Reliable GenAI Systems for Production\n",
            "- Aligning Responsible AI with Probabilistic World of LLMs & Agents\n",
            "- Automate Everything: Building Agentic AI Workflows with No-Code Tools\n",
            "- Beyond PoCs: Building Real-World Agentic Systems\n",
            "- Bridging the AI Agent Gap: Interoperability with A2A and MCP Protocols\n",
            "- Building Effective Agentic AI Systems: Lessons from the Field\n",
            "- Building Real-Time Multi-Agent AI for Public Travel Systems\n",
            "- Building Responsible AI Agents with Guardrails and Safety in Action\n",
            "- Building a Scalable Healthcare Voice AI Contact Center with Pipecat\n",
            "- Collaborative Multi-Agent Framework for Robust SEO Content Generation\n",
            "- Creative AI Agents: Open Tools for Collaborative Media Creation\n",
            "- Detecting and Mitigating Risks in Agentic AI\n",
            "- From LLMs to Agentic AI: Solving New Problems with Multi-Agent Systems\n",
            "- From Language to Robotics: Practical Lessons Bridging LLMs, RL, and AI\n",
            "- Mastering Agentic Workflows with LangGraph\n",
            "- Model Context Protocol in Media: Choosing the Right Metrics & Strategy\n",
            "- Onboarding AI Agents with Human Values\n",
            "- Productionizing Agents : An Agent Factory Approach\n",
            "- Understanding AI Agents with MCP\n",
            "- Zero to Million: How GenAI Agents are Changing Performance Marketing\n",
            "\n",
            "**Sessions that cover both \"LLMs\" and \"agents\":**\n",
            "- Automate Everything: Building Agentic AI Workflows with No-Code Tools\n",
            "- Building Responsible AI Agents with Guardrails and Safety in Action\n",
            "- From Language to Robotics: Practical Lessons Bridging LLMs, RL, and AI\n",
            "- Onboarding AI Agents with Human Values\n",
            "- Scaling Test-time Inference Compute & Advent of Reasoning Models\u001b[0m"
          ]
        },
        {
          "output_type": "stream",
          "name": "stderr",
          "text": [
            "WARNING:opentelemetry.sdk.trace:Calling end() on an ended span.\n",
            "WARNING:opentelemetry.sdk.trace:Calling end() on an ended span.\n"
          ]
        },
        {
          "output_type": "stream",
          "name": "stdout",
          "text": [
            "\u001b[32;1m\u001b[1;3mFinal Thought: I have identified the sessions covering \"LLMs\", those covering \"agents\", and the overlap between them. I can now summarize the counts and list the sessions that cover both topics.\n",
            "\n",
            "Final Answer:\n",
            "\n",
            "**Sessions Covering LLMs:**\n",
            "- Total: **10 sessions**\n",
            "  - Automate Everything: Building Agentic AI Workflows with No-Code Tools\n",
            "  - Building Responsible AI Agents with Guardrails and Safety in Action\n",
            "  - Deploying GenAI Safely: Strategies for Trustworthy LLMs\n",
            "  - Fast and Accurate Conversational Agents: Beyond Function Calling\n",
            "  - From Language to Robotics: Practical Lessons Bridging LLMs, RL, and AI\n",
            "  - LLMs Are Boring. How Can We Make Them More Interesting?\n",
            "  - Measuring Uncertainty in LLMs and Optimal Use of SLMs\n",
            "  - Onboarding AI Agents with Human Values\n",
            "  - Scaling Test-time Inference Compute & Advent of Reasoning Models\n",
            "  - The Promise and Pitfalls of Synthetic Data Generation\n",
            "\n",
            "**Sessions Covering Agents:**\n",
            "- Total: **26 sessions**\n",
            "  - (See detailed list in the previous observation)\n",
            "\n",
            "**Sessions Covering Both LLMs and Agents:**\n",
            "- Total: **5 sessions**\n",
            "  - Automate Everything: Building Agentic AI Workflows with No-Code Tools\n",
            "  - Building Responsible AI Agents with Guardrails and Safety in Action\n",
            "  - From Language to Robotics: Practical Lessons Bridging LLMs, RL, and AI\n",
            "  - Onboarding AI Agents with Human Values\n",
            "  - Scaling Test-time Inference Compute & Advent of Reasoning Models\n",
            "\n",
            "So, there are **10 sessions covering LLMs**, **26 sessions covering agents**, and **5 sessions that cover both topics**.\n",
            "\n",
            "---\n",
            "\n",
            "Hey, just letting you know — I’m not the official app from Analytics Vidhya 🙂  \n",
            "This was built with passion by **Arun Prakash Asokan and his team** to showcase **Agentic KAG** in action,  \n",
            "and now all DHS 2025 attendees can try it out!  \n",
            "If you found this helpful, please spread the word and recommend this to your fellow attendees: [http://agentickag.dhs25.analyticsvidhya.com/](http://agentickag.dhs25.analyticsvidhya.com/)\u001b[0m\n",
            "\n",
            "\u001b[1m> Finished chain.\u001b[0m\n"
          ]
        },
        {
          "output_type": "display_data",
          "data": {
            "text/plain": [
              "<IPython.core.display.Markdown object>"
            ],
            "text/markdown": "**Sessions Covering LLMs:**\n- Total: **10 sessions**\n  - Automate Everything: Building Agentic AI Workflows with No-Code Tools\n  - Building Responsible AI Agents with Guardrails and Safety in Action\n  - Deploying GenAI Safely: Strategies for Trustworthy LLMs\n  - Fast and Accurate Conversational Agents: Beyond Function Calling\n  - From Language to Robotics: Practical Lessons Bridging LLMs, RL, and AI\n  - LLMs Are Boring. How Can We Make Them More Interesting?\n  - Measuring Uncertainty in LLMs and Optimal Use of SLMs\n  - Onboarding AI Agents with Human Values\n  - Scaling Test-time Inference Compute & Advent of Reasoning Models\n  - The Promise and Pitfalls of Synthetic Data Generation\n\n**Sessions Covering Agents:**\n- Total: **26 sessions**\n  - (See detailed list in the previous observation)\n\n**Sessions Covering Both LLMs and Agents:**\n- Total: **5 sessions**\n  - Automate Everything: Building Agentic AI Workflows with No-Code Tools\n  - Building Responsible AI Agents with Guardrails and Safety in Action\n  - From Language to Robotics: Practical Lessons Bridging LLMs, RL, and AI\n  - Onboarding AI Agents with Human Values\n  - Scaling Test-time Inference Compute & Advent of Reasoning Models\n\nSo, there are **10 sessions covering LLMs**, **26 sessions covering agents**, and **5 sessions that cover both topics**.\n\n---\n\nHey, just letting you know — I’m not the official app from Analytics Vidhya 🙂  \nThis was built with passion by **Arun Prakash Asokan and his team** to showcase **Agentic KAG** in action,  \nand now all DHS 2025 attendees can try it out!  \nIf you found this helpful, please spread the word and recommend this to your fellow attendees: [http://agentickag.dhs25.analyticsvidhya.com/](http://agentickag.dhs25.analyticsvidhya.com/)"
          },
          "metadata": {}
        }
      ]
    },
    {
      "cell_type": "code",
      "source": [
        "query = \"tell me all the sessions that happen between 12 and 2PM.\"\n",
        "query = expand_question(query)\n",
        "print(query)\n",
        "answer = run_agentic_kag(query)\n",
        "display(Markdown(answer))"
      ],
      "metadata": {
        "collapsed": true,
        "colab": {
          "base_uri": "https://localhost:8080/",
          "height": 1000
        },
        "id": "SkIpSLbQxVvL",
        "outputId": "a21179f9-b651-4c7e-dfb8-ae1c077420e3"
      },
      "execution_count": null,
      "outputs": [
        {
          "output_type": "stream",
          "name": "stdout",
          "text": [
            "tell me all the sessions that happen between 12 and 2PM. Current Date: 2025-08-20 Current Time: 00:49\n",
            "\n",
            "\n",
            "\u001b[1m> Entering new ParallelAgentExecutor chain...\u001b[0m\n",
            "\u001b[32;1m\u001b[1;3mQuestion: {\"query\": \"tell me all the sessions that happen between 12 and 2PM. Current Date: 2025-08-20 Current Time: 00:49\"}\n",
            "\n",
            "Thought: I need to find all sessions scheduled between 12:00 PM and 2:00 PM, regardless of the date. This requires filtering sessions based on their start and end times.\n",
            "Action: AVHybridCypher\n",
            "Action Input: List all sessions where start_time >= 12:00 and end_time <= 14:00.\u001b[0mMATCH (s:Session)\n",
            "WHERE s.start_time >= '12:00' AND s.end_time <= '14:00'\n",
            "RETURN s.title, s.description, s.instructor, s.session_type, s.theme, s.tools_discussed, s.level, s.start_time, s.end_time, s.day, s.date\n",
            "\u001b[33;1m\u001b[1;3m**Sessions where start_time >= 12:00 and end_time <= 14:00:**\n",
            "\n",
            "---\n",
            "\n",
            "- **Agents at Scale: Engineering Reliable GenAI Systems for Production**\n",
            "  - Instructor: Kartik Nighania\n",
            "  - Type: Hack Session\n",
            "  - Start: 12:00, End: 12:50, Day 1 (2025-08-20)\n",
            "\n",
            "- **Agentic Knowledge Augmented Generation: The Next Leap After RAG**\n",
            "  - Instructor: Arun Prakash Asokan\n",
            "  - Type: Hack Session\n",
            "  - Start: 12:00, End: 12:50, Day 1 (2025-08-20)\n",
            "\n",
            "- **Onboarding AI Agents with Human Values**\n",
            "  - Instructor: Syed Quiser Ahmed\n",
            "  - Type: PowerTalk\n",
            "  - Start: 12:00, End: 12:40, Day 1 (2025-08-20)\n",
            "\n",
            "- **Building Blocks of Successful AI**\n",
            "  - Instructor: Arijit Mallick\n",
            "  - Type: PowerTalk\n",
            "  - Start: 12:00, End: 12:40, Day 1 (2025-08-20)\n",
            "\n",
            "- **Building a Scalable Healthcare Voice AI Contact Center with Pipecat**\n",
            "  - Instructor: Ashish Tripathy\n",
            "  - Type: Hack Session\n",
            "  - Start: 12:55, End: 13:45, Day 1 (2025-08-20)\n",
            "\n",
            "- **Measuring Uncertainty in LLMs and Optimal Use of SLMs**\n",
            "  - Instructor: Kuldeep Jiwani\n",
            "  - Type: Hack Session\n",
            "  - Start: 12:55, End: 13:45, Day 1 (2025-08-20)\n",
            "\n",
            "- **Building Effective Agentic AI Systems: Lessons from the Field**\n",
            "  - Instructor: Dipanjan Sarkar\n",
            "  - Type: Hack Session\n",
            "  - Start: 12:45, End: 13:35, Day 1 (2025-08-20)\n",
            "\n",
            "- **LLMs Are Boring. How Can We Make Them More Interesting?**\n",
            "  - Instructor: Harshad Khadilkar\n",
            "  - Type: Hack Session\n",
            "  - Start: 12:20, End: 13:10, Day 2 (2025-08-21)\n",
            "\n",
            "- **The Promise and Pitfalls of Synthetic Data Generation**\n",
            "  - Instructor: Abhishek Divekar\n",
            "  - Type: Hack Session\n",
            "  - Start: 12:20, End: 13:10, Day 2 (2025-08-21)\n",
            "\n",
            "- **Understanding AI Agents with MCP**\n",
            "  - Instructors: Nitin Agarwal; Rutvik Acharya\n",
            "  - Type: Hack Session\n",
            "  - Start: 12:05, End: 13:00, Day 2 (2025-08-21)\n",
            "\n",
            "- **Fast and Accurate Conversational Agents: Beyond Function Calling**\n",
            "  - Instructor: Daksh Varshneya\n",
            "  - Type: Hack Session\n",
            "  - Start: 12:05, End: 12:55, Day 2 (2025-08-21)\n",
            "\n",
            "- **Automate Everything: Building Agentic AI Workflows with No-Code Tools**\n",
            "  - Instructor: Mayank Aggarwal\n",
            "  - Type: Hack Session\n",
            "  - Start: 12:55, End: 13:45, Day 3 (2025-08-22)\n",
            "\n",
            "- **Adaptive Email Agents with DSPy: From Static Prompts to Smart Learning**\n",
            "  - Instructor: Praneeth Paikray\n",
            "  - Type: Hack Session\n",
            "  - Start: 12:55, End: 13:45, Day 3 (2025-08-22)\n",
            "\n",
            "- **AI Voice Agent: The Future of Human-Computer Interaction**\n",
            "  - Instructors: Manoranjan Rajguru; Ranjani Mani\n",
            "  - Type: Hack Session\n",
            "  - Start: 13:10, End: 14:00, Day 3 (2025-08-22)\n",
            "\n",
            "- **Architecting AI: Practical Patterns for Multi-Agentic Workflows**\n",
            "  - Instructor: Pranjal Singh\n",
            "  - Type: Hack Session\n",
            "  - Start: 13:10, End: 14:00, Day 3 (2025-08-22)\n",
            "\n",
            "- **AV Luminary Awards - Top 7 AI Community Contributors**\n",
            "  - Type: Awards\n",
            "  - Start: 12:35, End: 12:50, Day 3 (2025-08-22)\u001b[0m"
          ]
        },
        {
          "output_type": "stream",
          "name": "stderr",
          "text": [
            "WARNING:opentelemetry.sdk.trace:Calling end() on an ended span.\n",
            "WARNING:opentelemetry.sdk.trace:Calling end() on an ended span.\n"
          ]
        },
        {
          "output_type": "stream",
          "name": "stdout",
          "text": [
            "\u001b[32;1m\u001b[1;3mFinal Thought: I have gathered all sessions across all days of DHS 2025 that are scheduled between 12:00 PM and 2:00 PM, including their titles, instructors, types, and timings.\n",
            "\n",
            "Final Answer:\n",
            "\n",
            "**Here are all the sessions happening between 12:00 PM and 2:00 PM at DHS 2025:**\n",
            "\n",
            "---\n",
            "\n",
            "- **Day 1 (2025-08-20):**\n",
            "  - **Agents at Scale: Engineering Reliable GenAI Systems for Production**\n",
            "    - Instructor: Kartik Nighania\n",
            "    - Type: Hack Session\n",
            "    - Time: 12:00 – 12:50\n",
            "  - **Agentic Knowledge Augmented Generation: The Next Leap After RAG**\n",
            "    - Instructor: Arun Prakash Asokan\n",
            "    - Type: Hack Session\n",
            "    - Time: 12:00 – 12:50\n",
            "  - **Onboarding AI Agents with Human Values**\n",
            "    - Instructor: Syed Quiser Ahmed\n",
            "    - Type: PowerTalk\n",
            "    - Time: 12:00 – 12:40\n",
            "  - **Building Blocks of Successful AI**\n",
            "    - Instructor: Arijit Mallick\n",
            "    - Type: PowerTalk\n",
            "    - Time: 12:00 – 12:40\n",
            "  - **Building a Scalable Healthcare Voice AI Contact Center with Pipecat**\n",
            "    - Instructor: Ashish Tripathy\n",
            "    - Type: Hack Session\n",
            "    - Time: 12:55 – 13:45\n",
            "  - **Measuring Uncertainty in LLMs and Optimal Use of SLMs**\n",
            "    - Instructor: Kuldeep Jiwani\n",
            "    - Type: Hack Session\n",
            "    - Time: 12:55 – 13:45\n",
            "  - **Building Effective Agentic AI Systems: Lessons from the Field**\n",
            "    - Instructor: Dipanjan Sarkar\n",
            "    - Type: Hack Session\n",
            "    - Time: 12:45 – 13:35\n",
            "\n",
            "---\n",
            "\n",
            "- **Day 2 (2025-08-21):**\n",
            "  - **LLMs Are Boring. How Can We Make Them More Interesting?**\n",
            "    - Instructor: Harshad Khadilkar\n",
            "    - Type: Hack Session\n",
            "    - Time: 12:20 – 13:10\n",
            "  - **The Promise and Pitfalls of Synthetic Data Generation**\n",
            "    - Instructor: Abhishek Divekar\n",
            "    - Type: Hack Session\n",
            "    - Time: 12:20 – 13:10\n",
            "  - **Understanding AI Agents with MCP**\n",
            "    - Instructors: Nitin Agarwal; Rutvik Acharya\n",
            "    - Type: Hack Session\n",
            "    - Time: 12:05 – 13:00\n",
            "  - **Fast and Accurate Conversational Agents: Beyond Function Calling**\n",
            "    - Instructor: Daksh Varshneya\n",
            "    - Type: Hack Session\n",
            "    - Time: 12:05 – 12:55\n",
            "\n",
            "---\n",
            "\n",
            "- **Day 3 (2025-08-22):**\n",
            "  - **Automate Everything: Building Agentic AI Workflows with No-Code Tools**\n",
            "    - Instructor: Mayank Aggarwal\n",
            "    - Type: Hack Session\n",
            "    - Time: 12:55 – 13:45\n",
            "  - **Adaptive Email Agents with DSPy: From Static Prompts to Smart Learning**\n",
            "    - Instructor: Praneeth Paikray\n",
            "    - Type: Hack Session\n",
            "    - Time: 12:55 – 13:45\n",
            "  - **AI Voice Agent: The Future of Human-Computer Interaction**\n",
            "    - Instructors: Manoranjan Rajguru; Ranjani Mani\n",
            "    - Type: Hack Session\n",
            "    - Time: 13:10 – 14:00\n",
            "  - **Architecting AI: Practical Patterns for Multi-Agentic Workflows**\n",
            "    - Instructor: Pranjal Singh\n",
            "    - Type: Hack Session\n",
            "    - Time: 13:10 – 14:00\n",
            "  - **AV Luminary Awards - Top 7 AI Community Contributors**\n",
            "    - Type: Awards\n",
            "    - Time: 12:35 – 12:50\n",
            "\n",
            "---\n",
            "\n",
            "If you need details for a specific day or want help picking the best session for your interests, just let me know!\n",
            "\n",
            "---\n",
            "\n",
            "> Hey, just letting you know — I’m not the official app from Analytics Vidhya 🙂  \n",
            "> This was built with passion by **Arun Prakash Asokan and his team** to showcase **Agentic KAG** in action,  \n",
            "> and now all DHS 2025 attendees can try it out!  \n",
            "> Spread the word and recommend this to your fellow attendees: [http://agentickag.dhs25.analyticsvidhya.com/](http://agentickag.dhs25.analyticsvidhya.com/)\u001b[0m\n",
            "\n",
            "\u001b[1m> Finished chain.\u001b[0m\n"
          ]
        },
        {
          "output_type": "display_data",
          "data": {
            "text/plain": [
              "<IPython.core.display.Markdown object>"
            ],
            "text/markdown": "**Here are all the sessions happening between 12:00 PM and 2:00 PM at DHS 2025:**\n\n---\n\n- **Day 1 (2025-08-20):**\n  - **Agents at Scale: Engineering Reliable GenAI Systems for Production**\n    - Instructor: Kartik Nighania\n    - Type: Hack Session\n    - Time: 12:00 – 12:50\n  - **Agentic Knowledge Augmented Generation: The Next Leap After RAG**\n    - Instructor: Arun Prakash Asokan\n    - Type: Hack Session\n    - Time: 12:00 – 12:50\n  - **Onboarding AI Agents with Human Values**\n    - Instructor: Syed Quiser Ahmed\n    - Type: PowerTalk\n    - Time: 12:00 – 12:40\n  - **Building Blocks of Successful AI**\n    - Instructor: Arijit Mallick\n    - Type: PowerTalk\n    - Time: 12:00 – 12:40\n  - **Building a Scalable Healthcare Voice AI Contact Center with Pipecat**\n    - Instructor: Ashish Tripathy\n    - Type: Hack Session\n    - Time: 12:55 – 13:45\n  - **Measuring Uncertainty in LLMs and Optimal Use of SLMs**\n    - Instructor: Kuldeep Jiwani\n    - Type: Hack Session\n    - Time: 12:55 – 13:45\n  - **Building Effective Agentic AI Systems: Lessons from the Field**\n    - Instructor: Dipanjan Sarkar\n    - Type: Hack Session\n    - Time: 12:45 – 13:35\n\n---\n\n- **Day 2 (2025-08-21):**\n  - **LLMs Are Boring. How Can We Make Them More Interesting?**\n    - Instructor: Harshad Khadilkar\n    - Type: Hack Session\n    - Time: 12:20 – 13:10\n  - **The Promise and Pitfalls of Synthetic Data Generation**\n    - Instructor: Abhishek Divekar\n    - Type: Hack Session\n    - Time: 12:20 – 13:10\n  - **Understanding AI Agents with MCP**\n    - Instructors: Nitin Agarwal; Rutvik Acharya\n    - Type: Hack Session\n    - Time: 12:05 – 13:00\n  - **Fast and Accurate Conversational Agents: Beyond Function Calling**\n    - Instructor: Daksh Varshneya\n    - Type: Hack Session\n    - Time: 12:05 – 12:55\n\n---\n\n- **Day 3 (2025-08-22):**\n  - **Automate Everything: Building Agentic AI Workflows with No-Code Tools**\n    - Instructor: Mayank Aggarwal\n    - Type: Hack Session\n    - Time: 12:55 – 13:45\n  - **Adaptive Email Agents with DSPy: From Static Prompts to Smart Learning**\n    - Instructor: Praneeth Paikray\n    - Type: Hack Session\n    - Time: 12:55 – 13:45\n  - **AI Voice Agent: The Future of Human-Computer Interaction**\n    - Instructors: Manoranjan Rajguru; Ranjani Mani\n    - Type: Hack Session\n    - Time: 13:10 – 14:00\n  - **Architecting AI: Practical Patterns for Multi-Agentic Workflows**\n    - Instructor: Pranjal Singh\n    - Type: Hack Session\n    - Time: 13:10 – 14:00\n  - **AV Luminary Awards - Top 7 AI Community Contributors**\n    - Type: Awards\n    - Time: 12:35 – 12:50\n\n---\n\nIf you need details for a specific day or want help picking the best session for your interests, just let me know!\n\n---\n\n> Hey, just letting you know — I’m not the official app from Analytics Vidhya 🙂  \n> This was built with passion by **Arun Prakash Asokan and his team** to showcase **Agentic KAG** in action,  \n> and now all DHS 2025 attendees can try it out!  \n> Spread the word and recommend this to your fellow attendees: [http://agentickag.dhs25.analyticsvidhya.com/](http://agentickag.dhs25.analyticsvidhya.com/)"
          },
          "metadata": {}
        }
      ]
    },
    {
      "cell_type": "code",
      "source": [
        "query = \"tell me all the sessions that happen between 12:00 and 15:30.\"\n",
        "query = expand_question(query)\n",
        "print(query)\n",
        "answer = run_agentic_kag(query)\n",
        "display(Markdown(answer))"
      ],
      "metadata": {
        "collapsed": true,
        "colab": {
          "base_uri": "https://localhost:8080/",
          "height": 1000
        },
        "id": "Dc884q0owl6h",
        "outputId": "da8f9ab3-c3f2-497b-ff34-72dae4058b82"
      },
      "execution_count": null,
      "outputs": [
        {
          "output_type": "stream",
          "name": "stdout",
          "text": [
            "tell me all the sessions that happen between 12:00 and 15:30. Current Date: 2025-08-20 Current Time: 00:47\n",
            "\n",
            "\n",
            "\u001b[1m> Entering new ParallelAgentExecutor chain...\u001b[0m\n",
            "\u001b[32;1m\u001b[1;3mQuestion: {\"query\": \"tell me all the sessions that happen between 12:00 and 15:30. Current Date: 2025-08-20 Current Time: 00:47\"}\n",
            "\n",
            "Thought: I need to find all sessions whose start and/or end times fall between 12:00 and 15:30. This requires querying the session nodes with time filtering.\n",
            "Action: AVHybridCypher\n",
            "Action Input: List all sessions where start_time >= 12:00 and end_time <= 15:30.\u001b[0mMATCH (s:Session)\n",
            "WHERE s.start_time >= '12:00' AND s.end_time <= '15:30'\n",
            "RETURN s.title, s.description, s.instructor, s.session_type, s.theme, s.tools_discussed, s.level, s.start_time, s.end_time, s.day, s.date\n"
          ]
        },
        {
          "output_type": "stream",
          "name": "stderr",
          "text": [
            "ERROR:neo4j.io:[#B038]  _: <CONNECTION> error: Failed to read from defunct connection IPv4Address(('neo4j-database-nlb-631c5f2f75c6d422.elb.ap-south-1.amazonaws.com', 7687)) (ResolvedIPv4Address(('52.66.31.19', 7687))): ConnectionResetError(104, 'Connection reset by peer')\n",
            "WARNING:neo4j.pool:Transaction failed and will be retried in 1.1897804225663473s (Failed to read from defunct connection IPv4Address(('neo4j-database-nlb-631c5f2f75c6d422.elb.ap-south-1.amazonaws.com', 7687)) (ResolvedIPv4Address(('52.66.31.19', 7687))))\n"
          ]
        },
        {
          "output_type": "stream",
          "name": "stdout",
          "text": [
            "\u001b[33;1m\u001b[1;3m**Sessions where start_time ≥ 12:00 and end_time ≤ 15:30:**\n",
            "\n",
            "- **Agents at Scale: Engineering Reliable GenAI Systems for Production**\n",
            "  - Instructor: Kartik Nighania\n",
            "  - Type: Hack Session\n",
            "  - Start: 12:00, End: 12:50, Day 1\n",
            "\n",
            "- **Agentic Knowledge Augmented Generation: The Next Leap After RAG**\n",
            "  - Instructor: Arun Prakash Asokan\n",
            "  - Type: Hack Session\n",
            "  - Start: 12:00, End: 12:50, Day 1\n",
            "\n",
            "- **Onboarding AI Agents with Human Values**\n",
            "  - Instructor: Syed Quiser Ahmed\n",
            "  - Type: PowerTalk\n",
            "  - Start: 12:00, End: 12:40, Day 1\n",
            "\n",
            "- **Building Blocks of Successful AI**\n",
            "  - Instructor: Arijit Mallick\n",
            "  - Type: PowerTalk\n",
            "  - Start: 12:00, End: 12:40, Day 1\n",
            "\n",
            "- **Fast and Accurate Conversational Agents: Beyond Function Calling**\n",
            "  - Instructor: Daksh Varshneya\n",
            "  - Type: Hack Session\n",
            "  - Start: 12:05, End: 12:55, Day 2\n",
            "\n",
            "- **Understanding AI Agents with MCP**\n",
            "  - Instructor: Nitin Agarwal; Rutvik Acharya\n",
            "  - Type: Hack Session\n",
            "  - Start: 12:05, End: 13:00, Day 2\n",
            "\n",
            "- **Measuring Uncertainty in LLMs and Optimal Use of SLMs**\n",
            "  - Instructor: Kuldeep Jiwani\n",
            "  - Type: Hack Session\n",
            "  - Start: 12:55, End: 13:45, Day 1\n",
            "\n",
            "- **Building a Scalable Healthcare Voice AI Contact Center with Pipecat**\n",
            "  - Instructor: Ashish Tripathy\n",
            "  - Type: Hack Session\n",
            "  - Start: 12:55, End: 13:45, Day 1\n",
            "\n",
            "- **Adaptive Email Agents with DSPy: From Static Prompts to Smart Learning**\n",
            "  - Instructor: Praneeth Paikray\n",
            "  - Type: Hack Session\n",
            "  - Start: 12:55, End: 13:45, Day 3\n",
            "\n",
            "- **Automate Everything: Building Agentic AI Workflows with No-Code Tools**\n",
            "  - Instructor: Mayank Aggarwal\n",
            "  - Type: Hack Session\n",
            "  - Start: 12:55, End: 13:45, Day 3\n",
            "\n",
            "- **LLMs Are Boring. How Can We Make Them More Interesting?**\n",
            "  - Instructor: Harshad Khadilkar\n",
            "  - Type: Hack Session\n",
            "  - Start: 12:20, End: 13:10, Day 2\n",
            "\n",
            "- **The Promise and Pitfalls of Synthetic Data Generation**\n",
            "  - Instructor: Abhishek Divekar\n",
            "  - Type: Hack Session\n",
            "  - Start: 12:20, End: 13:10, Day 2\n",
            "\n",
            "- **Building Effective Agentic AI Systems: Lessons from the Field**\n",
            "  - Instructor: Dipanjan Sarkar\n",
            "  - Type: Hack Session\n",
            "  - Start: 12:45, End: 13:35, Day 1\n",
            "\n",
            "- **Architecting AI: Practical Patterns for Multi-Agentic Workflows**\n",
            "  - Instructor: Pranjal Singh\n",
            "  - Type: Hack Session\n",
            "  - Start: 13:10, End: 14:00, Day 3\n",
            "\n",
            "- **AI Voice Agent: The Future of Human-Computer Interaction**\n",
            "  - Instructor: Manoranjan Rajguru; Ranjani Mani\n",
            "  - Type: Hack Session\n",
            "  - Start: 13:10, End: 14:00, Day 3\n",
            "\n",
            "- **From LLMs to Agentic AI: Solving New Problems with Multi-Agent Systems**\n",
            "  - Instructor: Alessandro Romano\n",
            "  - Type: Hack Session\n",
            "  - Start: 14:00, End: 14:50, Day 2\n",
            "\n",
            "- **RIP, Data Scientists**\n",
            "  - Instructor: Anand S\n",
            "  - Type: Hack Session\n",
            "  - Start: 13:50, End: 14:40, Day 2\n",
            "\n",
            "- **Full-Stack Agentic AI: Build, Evaluate, and Scale with NVIDIA Tools**\n",
            "  - Instructor: Saurav Agarwal\n",
            "  - Type: Hack Session\n",
            "  - Start: 13:50, End: 14:50, Day 2\n",
            "\n",
            "- **From Risk to Retention: The Anatomy of a Customer Saved**\n",
            "  - Instructor: Pavak Biswal; Abhilash Kulkarni\n",
            "  - Type: Hack Session\n",
            "  - Start: 14:20, End: 15:10, Day 2\n",
            "\n",
            "- **Aligning Responsible AI with Probabilistic World of LLMs & Agents**\n",
            "  - Instructor: Shubhradeep Nandi\n",
            "  - Type: Hack Session\n",
            "  - Start: 14:15, End: 15:05, Day 1\n",
            "\n",
            "- **vLLM + llm-d: Scalable, Efficient LLM Inference in Kubernetes**\n",
            "  - Instructor: Atul Ramesh Deshpande\n",
            "  - Type: PowerTalk\n",
            "  - Start: 14:25, End: 15:05, Day 1\n",
            "\n",
            "- **Human-In-The-Loop Agentic Systems**\n",
            "  - Instructor: Deepak Sharma\n",
            "  - Type: Hack Session\n",
            "  - Start: 14:35, End: 15:25, Day 1\n",
            "\n",
            "- **Agentic AI Meets Responsible AI: Designing Safe Autonomous Systems**\n",
            "  - Instructor: Praveen Kumar GS\n",
            "  - Type: PowerTalk\n",
            "  - Start: 14:45, End: 15:25, Day 1\n",
            "\n",
            "- **Zero to Million: How GenAI Agents are Changing Performance Marketing**\n",
            "  - Instructor: Krishna Kumar Tiwari\n",
            "  - Type: PowerTalk\n",
            "  - Start: 14:45, End: 15:25, Day 2\u001b[0m"
          ]
        },
        {
          "output_type": "stream",
          "name": "stderr",
          "text": [
            "WARNING:opentelemetry.sdk.trace:Calling end() on an ended span.\n",
            "WARNING:opentelemetry.sdk.trace:Calling end() on an ended span.\n"
          ]
        },
        {
          "output_type": "stream",
          "name": "stdout",
          "text": [
            "\u001b[32;1m\u001b[1;3mFinal Thought: I have retrieved a comprehensive list of all sessions at DHS 2025 that start and/or end between 12:00 and 15:30, including their titles, instructors, types, and timings.\n",
            "Final Answer: \n",
            "\n",
            "**Here are all the sessions happening between 12:00 and 15:30 at DHS 2025:**\n",
            "\n",
            "---\n",
            "\n",
            "- **Agents at Scale: Engineering Reliable GenAI Systems for Production**\n",
            "  - Instructor: Kartik Nighania\n",
            "  - Type: Hack Session\n",
            "  - Time: 12:00–12:50, Day 1\n",
            "\n",
            "- **Agentic Knowledge Augmented Generation: The Next Leap After RAG**\n",
            "  - Instructor: Arun Prakash Asokan\n",
            "  - Type: Hack Session\n",
            "  - Time: 12:00–12:50, Day 1\n",
            "\n",
            "- **Onboarding AI Agents with Human Values**\n",
            "  - Instructor: Syed Quiser Ahmed\n",
            "  - Type: PowerTalk\n",
            "  - Time: 12:00–12:40, Day 1\n",
            "\n",
            "- **Building Blocks of Successful AI**\n",
            "  - Instructor: Arijit Mallick\n",
            "  - Type: PowerTalk\n",
            "  - Time: 12:00–12:40, Day 1\n",
            "\n",
            "- **Fast and Accurate Conversational Agents: Beyond Function Calling**\n",
            "  - Instructor: Daksh Varshneya\n",
            "  - Type: Hack Session\n",
            "  - Time: 12:05–12:55, Day 2\n",
            "\n",
            "- **Understanding AI Agents with MCP**\n",
            "  - Instructors: Nitin Agarwal, Rutvik Acharya\n",
            "  - Type: Hack Session\n",
            "  - Time: 12:05–13:00, Day 2\n",
            "\n",
            "- **Measuring Uncertainty in LLMs and Optimal Use of SLMs**\n",
            "  - Instructor: Kuldeep Jiwani\n",
            "  - Type: Hack Session\n",
            "  - Time: 12:55–13:45, Day 1\n",
            "\n",
            "- **Building a Scalable Healthcare Voice AI Contact Center with Pipecat**\n",
            "  - Instructor: Ashish Tripathy\n",
            "  - Type: Hack Session\n",
            "  - Time: 12:55–13:45, Day 1\n",
            "\n",
            "- **Adaptive Email Agents with DSPy: From Static Prompts to Smart Learning**\n",
            "  - Instructor: Praneeth Paikray\n",
            "  - Type: Hack Session\n",
            "  - Time: 12:55–13:45, Day 3\n",
            "\n",
            "- **Automate Everything: Building Agentic AI Workflows with No-Code Tools**\n",
            "  - Instructor: Mayank Aggarwal\n",
            "  - Type: Hack Session\n",
            "  - Time: 12:55–13:45, Day 3\n",
            "\n",
            "- **LLMs Are Boring. How Can We Make Them More Interesting?**\n",
            "  - Instructor: Harshad Khadilkar\n",
            "  - Type: Hack Session\n",
            "  - Time: 12:20–13:10, Day 2\n",
            "\n",
            "- **The Promise and Pitfalls of Synthetic Data Generation**\n",
            "  - Instructor: Abhishek Divekar\n",
            "  - Type: Hack Session\n",
            "  - Time: 12:20–13:10, Day 2\n",
            "\n",
            "- **Building Effective Agentic AI Systems: Lessons from the Field**\n",
            "  - Instructor: Dipanjan Sarkar\n",
            "  - Type: Hack Session\n",
            "  - Time: 12:45–13:35, Day 1\n",
            "\n",
            "- **Architecting AI: Practical Patterns for Multi-Agentic Workflows**\n",
            "  - Instructor: Pranjal Singh\n",
            "  - Type: Hack Session\n",
            "  - Time: 13:10–14:00, Day 3\n",
            "\n",
            "- **AI Voice Agent: The Future of Human-Computer Interaction**\n",
            "  - Instructors: Manoranjan Rajguru, Ranjani Mani\n",
            "  - Type: Hack Session\n",
            "  - Time: 13:10–14:00, Day 3\n",
            "\n",
            "- **From LLMs to Agentic AI: Solving New Problems with Multi-Agent Systems**\n",
            "  - Instructor: Alessandro Romano\n",
            "  - Type: Hack Session\n",
            "  - Time: 14:00–14:50, Day 2\n",
            "\n",
            "- **RIP, Data Scientists**\n",
            "  - Instructor: Anand S\n",
            "  - Type: Hack Session\n",
            "  - Time: 13:50–14:40, Day 2\n",
            "\n",
            "- **Full-Stack Agentic AI: Build, Evaluate, and Scale with NVIDIA Tools**\n",
            "  - Instructor: Saurav Agarwal\n",
            "  - Type: Hack Session\n",
            "  - Time: 13:50–14:50, Day 2\n",
            "\n",
            "- **From Risk to Retention: The Anatomy of a Customer Saved**\n",
            "  - Instructors: Pavak Biswal, Abhilash Kulkarni\n",
            "  - Type: Hack Session\n",
            "  - Time: 14:20–15:10, Day 2\n",
            "\n",
            "- **Aligning Responsible AI with Probabilistic World of LLMs & Agents**\n",
            "  - Instructor: Shubhradeep Nandi\n",
            "  - Type: Hack Session\n",
            "  - Time: 14:15–15:05, Day 1\n",
            "\n",
            "- **vLLM + llm-d: Scalable, Efficient LLM Inference in Kubernetes**\n",
            "  - Instructor: Atul Ramesh Deshpande\n",
            "  - Type: PowerTalk\n",
            "  - Time: 14:25–15:05, Day 1\n",
            "\n",
            "- **Human-In-The-Loop Agentic Systems**\n",
            "  - Instructor: Deepak Sharma\n",
            "  - Type: Hack Session\n",
            "  - Time: 14:35–15:25, Day 1\n",
            "\n",
            "- **Agentic AI Meets Responsible AI: Designing Safe Autonomous Systems**\n",
            "  - Instructor: Praveen Kumar GS\n",
            "  - Type: PowerTalk\n",
            "  - Time: 14:45–15:25, Day 1\n",
            "\n",
            "- **Zero to Million: How GenAI Agents are Changing Performance Marketing**\n",
            "  - Instructor: Krishna Kumar Tiwari\n",
            "  - Type: PowerTalk\n",
            "  - Time: 14:45–15:25, Day 2\n",
            "\n",
            "---\n",
            "\n",
            "**Tip:** If you want to filter by a specific day or need more details about any session, just ask!\n",
            "\n",
            "---\n",
            "\n",
            "Hey, just letting you know — I’m not the official app from Analytics Vidhya 🙂  \n",
            "This was built with passion by **Arun Prakash Asokan and his team** to showcase **Agentic KAG** in action,  \n",
            "and now all DHS 2025 attendees can try it out!  \n",
            "Spread the word and recommend this to your fellow attendees: [http://agentickag.dhs25.analyticsvidhya.com/](http://agentickag.dhs25.analyticsvidhya.com/)\u001b[0m\n",
            "\n",
            "\u001b[1m> Finished chain.\u001b[0m\n"
          ]
        },
        {
          "output_type": "display_data",
          "data": {
            "text/plain": [
              "<IPython.core.display.Markdown object>"
            ],
            "text/markdown": "**Here are all the sessions happening between 12:00 and 15:30 at DHS 2025:**\n\n---\n\n- **Agents at Scale: Engineering Reliable GenAI Systems for Production**\n  - Instructor: Kartik Nighania\n  - Type: Hack Session\n  - Time: 12:00–12:50, Day 1\n\n- **Agentic Knowledge Augmented Generation: The Next Leap After RAG**\n  - Instructor: Arun Prakash Asokan\n  - Type: Hack Session\n  - Time: 12:00–12:50, Day 1\n\n- **Onboarding AI Agents with Human Values**\n  - Instructor: Syed Quiser Ahmed\n  - Type: PowerTalk\n  - Time: 12:00–12:40, Day 1\n\n- **Building Blocks of Successful AI**\n  - Instructor: Arijit Mallick\n  - Type: PowerTalk\n  - Time: 12:00–12:40, Day 1\n\n- **Fast and Accurate Conversational Agents: Beyond Function Calling**\n  - Instructor: Daksh Varshneya\n  - Type: Hack Session\n  - Time: 12:05–12:55, Day 2\n\n- **Understanding AI Agents with MCP**\n  - Instructors: Nitin Agarwal, Rutvik Acharya\n  - Type: Hack Session\n  - Time: 12:05–13:00, Day 2\n\n- **Measuring Uncertainty in LLMs and Optimal Use of SLMs**\n  - Instructor: Kuldeep Jiwani\n  - Type: Hack Session\n  - Time: 12:55–13:45, Day 1\n\n- **Building a Scalable Healthcare Voice AI Contact Center with Pipecat**\n  - Instructor: Ashish Tripathy\n  - Type: Hack Session\n  - Time: 12:55–13:45, Day 1\n\n- **Adaptive Email Agents with DSPy: From Static Prompts to Smart Learning**\n  - Instructor: Praneeth Paikray\n  - Type: Hack Session\n  - Time: 12:55–13:45, Day 3\n\n- **Automate Everything: Building Agentic AI Workflows with No-Code Tools**\n  - Instructor: Mayank Aggarwal\n  - Type: Hack Session\n  - Time: 12:55–13:45, Day 3\n\n- **LLMs Are Boring. How Can We Make Them More Interesting?**\n  - Instructor: Harshad Khadilkar\n  - Type: Hack Session\n  - Time: 12:20–13:10, Day 2\n\n- **The Promise and Pitfalls of Synthetic Data Generation**\n  - Instructor: Abhishek Divekar\n  - Type: Hack Session\n  - Time: 12:20–13:10, Day 2\n\n- **Building Effective Agentic AI Systems: Lessons from the Field**\n  - Instructor: Dipanjan Sarkar\n  - Type: Hack Session\n  - Time: 12:45–13:35, Day 1\n\n- **Architecting AI: Practical Patterns for Multi-Agentic Workflows**\n  - Instructor: Pranjal Singh\n  - Type: Hack Session\n  - Time: 13:10–14:00, Day 3\n\n- **AI Voice Agent: The Future of Human-Computer Interaction**\n  - Instructors: Manoranjan Rajguru, Ranjani Mani\n  - Type: Hack Session\n  - Time: 13:10–14:00, Day 3\n\n- **From LLMs to Agentic AI: Solving New Problems with Multi-Agent Systems**\n  - Instructor: Alessandro Romano\n  - Type: Hack Session\n  - Time: 14:00–14:50, Day 2\n\n- **RIP, Data Scientists**\n  - Instructor: Anand S\n  - Type: Hack Session\n  - Time: 13:50–14:40, Day 2\n\n- **Full-Stack Agentic AI: Build, Evaluate, and Scale with NVIDIA Tools**\n  - Instructor: Saurav Agarwal\n  - Type: Hack Session\n  - Time: 13:50–14:50, Day 2\n\n- **From Risk to Retention: The Anatomy of a Customer Saved**\n  - Instructors: Pavak Biswal, Abhilash Kulkarni\n  - Type: Hack Session\n  - Time: 14:20–15:10, Day 2\n\n- **Aligning Responsible AI with Probabilistic World of LLMs & Agents**\n  - Instructor: Shubhradeep Nandi\n  - Type: Hack Session\n  - Time: 14:15–15:05, Day 1\n\n- **vLLM + llm-d: Scalable, Efficient LLM Inference in Kubernetes**\n  - Instructor: Atul Ramesh Deshpande\n  - Type: PowerTalk\n  - Time: 14:25–15:05, Day 1\n\n- **Human-In-The-Loop Agentic Systems**\n  - Instructor: Deepak Sharma\n  - Type: Hack Session\n  - Time: 14:35–15:25, Day 1\n\n- **Agentic AI Meets Responsible AI: Designing Safe Autonomous Systems**\n  - Instructor: Praveen Kumar GS\n  - Type: PowerTalk\n  - Time: 14:45–15:25, Day 1\n\n- **Zero to Million: How GenAI Agents are Changing Performance Marketing**\n  - Instructor: Krishna Kumar Tiwari\n  - Type: PowerTalk\n  - Time: 14:45–15:25, Day 2\n\n---\n\n**Tip:** If you want to filter by a specific day or need more details about any session, just ask!\n\n---\n\nHey, just letting you know — I’m not the official app from Analytics Vidhya 🙂  \nThis was built with passion by **Arun Prakash Asokan and his team** to showcase **Agentic KAG** in action,  \nand now all DHS 2025 attendees can try it out!  \nSpread the word and recommend this to your fellow attendees: [http://agentickag.dhs25.analyticsvidhya.com/](http://agentickag.dhs25.analyticsvidhya.com/)"
          },
          "metadata": {}
        }
      ]
    },
    {
      "cell_type": "code",
      "source": [
        "query = \" Which topics are the most frequently covered across all sessions and workshops at DHS 2025?\"\n",
        "answer = run_agentic_kag(query)\n",
        "display(Markdown(answer))"
      ],
      "metadata": {
        "colab": {
          "base_uri": "https://localhost:8080/",
          "height": 1000
        },
        "collapsed": true,
        "id": "KO7SNyR469xK",
        "outputId": "1160bcd5-e67d-4898-bd27-79b372ee11ba"
      },
      "execution_count": null,
      "outputs": [
        {
          "output_type": "stream",
          "name": "stdout",
          "text": [
            "\n",
            "\n",
            "\u001b[1m> Entering new ParallelAgentExecutor chain...\u001b[0m\n",
            "\u001b[32;1m\u001b[1;3mQuestion: {\"query\": \" Which topics are the most frequently covered across all sessions and workshops at DHS 2025? use local search.\"}\n",
            "\n",
            "Thought: I need to identify the topics that appear most frequently across all sessions and workshops at DHS 2025. I will use local search to find this information.\n",
            "Action: LocalRetrieval\n",
            "Action Input: \"most frequently covered topics across all sessions and workshops at DHS 2025\"\u001b[0m\u001b[36;1m\u001b[1;3m## Overview of DataHack Summit 2025\n",
            "\n",
            "DataHack Summit 2025, held at The Leela Bhartiya City Bengaluru, is a prominent event focusing on the latest advancements in artificial intelligence and its applications. The summit features a variety of workshops and sessions that cater to both technical and business audiences. Key themes include Agentic AI, multi-agent systems, responsible AI, and business adoption strategies [Data: Communities (1, 2, 3, 4, 5, 6, 7, 8, 9, 10)].\n",
            "\n",
            "## Key Topics\n",
            "\n",
            "### Agentic AI and Multi-Agent Systems\n",
            "\n",
            "Agentic AI, which involves systems capable of autonomous decision-making, is a central theme at the summit. This includes discussions on multi-agent systems, where multiple AI entities interact to achieve complex goals. These topics are crucial for developing AI systems that can operate independently and collaboratively in dynamic environments [Data: Communities (1, 2, 3, 4, 5, 6, 7, 8, 9, 10)].\n",
            "\n",
            "### Responsible AI\n",
            "\n",
            "Responsible AI is another significant focus, emphasizing the ethical and governance aspects of AI deployment. The summit includes a governance-focused PowerTalk by Syed Quiser Ahmed of Infosys, highlighting the importance of ethical considerations in AI development and implementation [Data: Communities (1, 2, 3, 4, 5, 6, 7, 8, 9, 10)].\n",
            "\n",
            "### Business Adoption and No-Code Solutions\n",
            "\n",
            "The summit also addresses the business adoption of AI technologies, with sessions designed for business leaders. A notable feature is the no-code hack session using Fractal’s Cogentiq platform, which aims to make AI more accessible to non-technical users. This approach is crucial for integrating AI into business processes without requiring extensive technical expertise [Data: Communities (1, 2, 3, 4, 5, 6, 7, 8, 9, 10)].\n",
            "\n",
            "## Technical Workshops and Hack Sessions\n",
            "\n",
            "The event includes technical workshops and hack sessions led by experts like Alessandro Romano. These sessions provide hands-on experience with AI technologies, allowing participants to explore practical applications and innovations in the field [Data: Communities (1, 2, 3, 4, 5, 6, 7, 8, 9, 10)].\n",
            "\n",
            "## Conclusion\n",
            "\n",
            "DataHack Summit 2025 covers a wide range of topics, with a strong emphasis on Agentic AI, responsible AI, and business adoption strategies. The event's diverse sessions and workshops cater to both technical and business audiences, providing valuable insights into the future of AI technologies [Data: Communities (1, 2, 3, 4, 5, 6, 7, 8, 9, 10)].\u001b[0m"
          ]
        },
        {
          "output_type": "stream",
          "name": "stderr",
          "text": [
            "WARNING:opentelemetry.sdk.trace:Calling end() on an ended span.\n",
            "WARNING:opentelemetry.sdk.trace:Calling end() on an ended span.\n"
          ]
        },
        {
          "output_type": "stream",
          "name": "stdout",
          "text": [
            "\u001b[32;1m\u001b[1;3mFinal Thought: The local search has provided a clear summary of the most frequently covered topics across all sessions and workshops at DHS 2025, highlighting Agentic AI, multi-agent systems, responsible AI, and business adoption strategies as the central themes.\n",
            "\n",
            "Final Answer: \n",
            "\n",
            "**Most Frequently Covered Topics at DHS 2025**\n",
            "\n",
            "- **Agentic AI and Multi-Agent Systems**\n",
            "  - Autonomous decision-making systems\n",
            "  - Multi-agent collaboration and interaction\n",
            "\n",
            "- **Responsible AI**\n",
            "  - Ethics and governance in AI deployment\n",
            "  - PowerTalks on AI governance (e.g., by Syed Quiser Ahmed of Infosys)\n",
            "\n",
            "- **Business Adoption and No-Code Solutions**\n",
            "  - Strategies for integrating AI into business processes\n",
            "  - No-code hack sessions (e.g., using Fractal’s Cogentiq platform)\n",
            "\n",
            "- **Technical Workshops and Hack Sessions**\n",
            "  - Hands-on experience with AI technologies\n",
            "  - Led by experts such as Alessandro Romano\n",
            "\n",
            "These topics are consistently featured across both technical and business-focused sessions and workshops, making them the most prominent themes at DataHack Summit 2025 [Data: Communities (1, 2, 3, 4, 5, 6, 7, 8, 9, 10)].\n",
            "\n",
            "---\n",
            "\n",
            "If you found this helpful, do spread the word and recommend this app to your fellow attendees!  \n",
            "Try it out at: [http://agentickag.dhs25.analyticsvidhya.com/](http://agentickag.dhs25.analyticsvidhya.com/) 🚀\u001b[0m\n",
            "\n",
            "\u001b[1m> Finished chain.\u001b[0m\n"
          ]
        },
        {
          "output_type": "display_data",
          "data": {
            "text/plain": [
              "<IPython.core.display.Markdown object>"
            ],
            "text/markdown": "**Most Frequently Covered Topics at DHS 2025**\n\n- **Agentic AI and Multi-Agent Systems**\n  - Autonomous decision-making systems\n  - Multi-agent collaboration and interaction\n\n- **Responsible AI**\n  - Ethics and governance in AI deployment\n  - PowerTalks on AI governance (e.g., by Syed Quiser Ahmed of Infosys)\n\n- **Business Adoption and No-Code Solutions**\n  - Strategies for integrating AI into business processes\n  - No-code hack sessions (e.g., using Fractal’s Cogentiq platform)\n\n- **Technical Workshops and Hack Sessions**\n  - Hands-on experience with AI technologies\n  - Led by experts such as Alessandro Romano\n\nThese topics are consistently featured across both technical and business-focused sessions and workshops, making them the most prominent themes at DataHack Summit 2025 [Data: Communities (1, 2, 3, 4, 5, 6, 7, 8, 9, 10)].\n\n---\n\nIf you found this helpful, do spread the word and recommend this app to your fellow attendees!  \nTry it out at: [http://agentickag.dhs25.analyticsvidhya.com/](http://agentickag.dhs25.analyticsvidhya.com/) 🚀"
          },
          "metadata": {}
        }
      ]
    },
    {
      "cell_type": "code",
      "source": [
        "query = \"List down all the sessions or workshops which uses LangGraph?\"\n",
        "answer = run_agentic_kag(query)\n",
        "display(Markdown(answer))"
      ],
      "metadata": {
        "colab": {
          "base_uri": "https://localhost:8080/",
          "height": 1000
        },
        "id": "vPbyhu496-_N",
        "outputId": "a43f54a2-bfa0-4376-a3fe-84b26013a31c",
        "collapsed": true
      },
      "execution_count": null,
      "outputs": [
        {
          "output_type": "stream",
          "name": "stdout",
          "text": [
            "\n",
            "\n",
            "\u001b[1m> Entering new ParallelAgentExecutor chain...\u001b[0m\n",
            "\u001b[32;1m\u001b[1;3mQuestion: {\"query\": \"List down all the sessions or workshops which uses LangGraph?\"}\n",
            "\n",
            "Thought: I need to find all sessions or workshops at DHS 2025 that mention or utilize LangGraph. This requires searching for relationships or mentions of LangGraph within session and workshop nodes.\n",
            "Action: AVHybridCypher\n",
            "Action Input: List all sessions and workshops that use or mention LangGraph.\u001b[0mMATCH (s:Session)-[:USES]->(t:Tool)\n",
            "WHERE toLower(t.name) CONTAINS toLower('LangGraph')\n",
            "RETURN s.title AS title, s.description AS description, s.instructor AS instructor, s.session_type AS type, s.theme AS theme, s.tools_discussed AS tools, s.level AS level, s.start_time AS start_time, s.end_time AS end_time, s.day AS day, s.date AS date\n",
            "UNION\n",
            "MATCH (w:Workshop)-[:USES]->(t:Tool)\n",
            "WHERE toLower(t.name) CONTAINS toLower('LangGraph')\n",
            "RETURN w.title AS title, w.description AS description, w.instructor AS instructor, 'Workshop' AS type, null AS theme, w.tools_used AS tools, w.level AS level, w.start_time AS start_time, null AS end_time, null AS day, null AS date\n",
            "\u001b[33;1m\u001b[1;3m**Sessions and Workshops that use or mention LangGraph:**\n",
            "\n",
            "- **Building Effective Agentic AI Systems: Lessons from the Field**\n",
            "  - Type: Hack Session\n",
            "  - Instructor: Dipanjan Sarkar\n",
            "  - Tools: LangGraph, FastMCP, LangMem, LangSmith\n",
            "\n",
            "- **AutoGen vs CrewAI vs LangGraph: Battle of the Agent Frameworks**\n",
            "  - Type: Hack Panel\n",
            "  - Instructors: Dipanjan Sarkar, Praneeth Paikray, Mayank Aggarwal, Sanathraj Narayan\n",
            "  - Tools: AutoGen, CrewAI, LangGraph\n",
            "\n",
            "- **Mastering Agentic Workflows with LangGraph**\n",
            "  - Type: Hack Session\n",
            "  - Instructor: Sanathraj Narayan\n",
            "  - Tools: LangGraph\n",
            "\n",
            "- **Mastering Intelligent Agents: A Deep Dive into Agentic AI**\n",
            "  - Type: Workshop\n",
            "  - Instructor: Dipanjan Sarkar\n",
            "  - Tools: LangChain, LangGraph, CrewAI, FastAPI, LangFuse, Arize AI Phoenix, Tavily, WeatherAPI, Google Colab, Runpod.io, LangMem, Mem0\n",
            "\n",
            "- **LLMOps – Productionalizing Real-World Applications with LLMs and Agents**\n",
            "  - Type: Workshop\n",
            "  - Instructor: Kartik Nighania\n",
            "  - Tools: Hugging Face, Qdrant, Amazon SageMaker, LangGraph, LangSmith, LangChain, AWS\n",
            "\n",
            "- **AgentOps: Building and Deploying AI Agents**\n",
            "  - Type: Workshop\n",
            "  - Instructor: Bhaskarjit Sarmah\n",
            "  - Tools: LangChain, LangGraph\n",
            "\n",
            "- **Building Intelligent Multimodal Agents: Integrating Vision, Speech & Language**\n",
            "  - Type: Workshop\n",
            "  - Instructor: Miguel Otero Pedrido\n",
            "  - Tools: LangGraph, LangGraph Studio, SQLite, Qdrant, Groq LLMs, Whisper, ElevenLabs, Llama 3.2 Vision, Diffusion Models, Telegram Bot API, Telegram\n",
            "\n",
            "- **Agentic RAG Workshop: From Fundamentals to Real-World Implementations**\n",
            "  - Type: Workshop\n",
            "  - Instructor: Arun Prakash Asokan\n",
            "  - Tools: Google Colab notebooks, Azure Document Intelligence, Chroma Vector DB, LangChain, LangGraph, Langfuse, Travily web search, Neo4j\u001b[0m"
          ]
        },
        {
          "output_type": "stream",
          "name": "stderr",
          "text": [
            "WARNING:opentelemetry.sdk.trace:Calling end() on an ended span.\n",
            "WARNING:opentelemetry.sdk.trace:Calling end() on an ended span.\n"
          ]
        },
        {
          "output_type": "stream",
          "name": "stdout",
          "text": [
            "\u001b[32;1m\u001b[1;3mFinal Thought: I have gathered all sessions and workshops at DHS 2025 that use or mention LangGraph, including their types and instructors.\n",
            "\n",
            "Final Answer: \n",
            "\n",
            "**Here are all the sessions and workshops at DHS 2025 that use or mention LangGraph:**\n",
            "\n",
            "- **Building Effective Agentic AI Systems: Lessons from the Field**\n",
            "  - Type: Hack Session\n",
            "  - Instructor: Dipanjan Sarkar\n",
            "  - Tools: LangGraph, FastMCP, LangMem, LangSmith\n",
            "\n",
            "- **AutoGen vs CrewAI vs LangGraph: Battle of the Agent Frameworks**\n",
            "  - Type: Hack Panel\n",
            "  - Instructors: Dipanjan Sarkar, Praneeth Paikray, Mayank Aggarwal, Sanathraj Narayan\n",
            "  - Tools: AutoGen, CrewAI, LangGraph\n",
            "\n",
            "- **Mastering Agentic Workflows with LangGraph**\n",
            "  - Type: Hack Session\n",
            "  - Instructor: Sanathraj Narayan\n",
            "  - Tools: LangGraph\n",
            "\n",
            "- **Mastering Intelligent Agents: A Deep Dive into Agentic AI**\n",
            "  - Type: Workshop\n",
            "  - Instructor: Dipanjan Sarkar\n",
            "  - Tools: LangChain, LangGraph, CrewAI, FastAPI, LangFuse, Arize AI Phoenix, Tavily, WeatherAPI, Google Colab, Runpod.io, LangMem, Mem0\n",
            "\n",
            "- **LLMOps – Productionalizing Real-World Applications with LLMs and Agents**\n",
            "  - Type: Workshop\n",
            "  - Instructor: Kartik Nighania\n",
            "  - Tools: Hugging Face, Qdrant, Amazon SageMaker, LangGraph, LangSmith, LangChain, AWS\n",
            "\n",
            "- **AgentOps: Building and Deploying AI Agents**\n",
            "  - Type: Workshop\n",
            "  - Instructor: Bhaskarjit Sarmah\n",
            "  - Tools: LangChain, LangGraph\n",
            "\n",
            "- **Building Intelligent Multimodal Agents: Integrating Vision, Speech & Language**\n",
            "  - Type: Workshop\n",
            "  - Instructor: Miguel Otero Pedrido\n",
            "  - Tools: LangGraph, LangGraph Studio, SQLite, Qdrant, Groq LLMs, Whisper, ElevenLabs, Llama 3.2 Vision, Diffusion Models, Telegram Bot API, Telegram\n",
            "\n",
            "- **Agentic RAG Workshop: From Fundamentals to Real-World Implementations**\n",
            "  - Type: Workshop\n",
            "  - Instructor: Arun Prakash Asokan\n",
            "  - Tools: Google Colab notebooks, Azure Document Intelligence, Chroma Vector DB, LangChain, LangGraph, Langfuse, Travily web search, Neo4j\n",
            "\n",
            "---\n",
            "\n",
            "If you found this helpful, do spread the word and recommend this app to your fellow attendees!  \n",
            "Try it out at: [http://agentickag.dhs25.analyticsvidhya.com/](http://agentickag.dhs25.analyticsvidhya.com/)\u001b[0m\n",
            "\n",
            "\u001b[1m> Finished chain.\u001b[0m\n"
          ]
        },
        {
          "output_type": "display_data",
          "data": {
            "text/plain": [
              "<IPython.core.display.Markdown object>"
            ],
            "text/markdown": "**Here are all the sessions and workshops at DHS 2025 that use or mention LangGraph:**\n\n- **Building Effective Agentic AI Systems: Lessons from the Field**\n  - Type: Hack Session\n  - Instructor: Dipanjan Sarkar\n  - Tools: LangGraph, FastMCP, LangMem, LangSmith\n\n- **AutoGen vs CrewAI vs LangGraph: Battle of the Agent Frameworks**\n  - Type: Hack Panel\n  - Instructors: Dipanjan Sarkar, Praneeth Paikray, Mayank Aggarwal, Sanathraj Narayan\n  - Tools: AutoGen, CrewAI, LangGraph\n\n- **Mastering Agentic Workflows with LangGraph**\n  - Type: Hack Session\n  - Instructor: Sanathraj Narayan\n  - Tools: LangGraph\n\n- **Mastering Intelligent Agents: A Deep Dive into Agentic AI**\n  - Type: Workshop\n  - Instructor: Dipanjan Sarkar\n  - Tools: LangChain, LangGraph, CrewAI, FastAPI, LangFuse, Arize AI Phoenix, Tavily, WeatherAPI, Google Colab, Runpod.io, LangMem, Mem0\n\n- **LLMOps – Productionalizing Real-World Applications with LLMs and Agents**\n  - Type: Workshop\n  - Instructor: Kartik Nighania\n  - Tools: Hugging Face, Qdrant, Amazon SageMaker, LangGraph, LangSmith, LangChain, AWS\n\n- **AgentOps: Building and Deploying AI Agents**\n  - Type: Workshop\n  - Instructor: Bhaskarjit Sarmah\n  - Tools: LangChain, LangGraph\n\n- **Building Intelligent Multimodal Agents: Integrating Vision, Speech & Language**\n  - Type: Workshop\n  - Instructor: Miguel Otero Pedrido\n  - Tools: LangGraph, LangGraph Studio, SQLite, Qdrant, Groq LLMs, Whisper, ElevenLabs, Llama 3.2 Vision, Diffusion Models, Telegram Bot API, Telegram\n\n- **Agentic RAG Workshop: From Fundamentals to Real-World Implementations**\n  - Type: Workshop\n  - Instructor: Arun Prakash Asokan\n  - Tools: Google Colab notebooks, Azure Document Intelligence, Chroma Vector DB, LangChain, LangGraph, Langfuse, Travily web search, Neo4j\n\n---\n\nIf you found this helpful, do spread the word and recommend this app to your fellow attendees!  \nTry it out at: [http://agentickag.dhs25.analyticsvidhya.com/](http://agentickag.dhs25.analyticsvidhya.com/)"
          },
          "metadata": {}
        }
      ]
    },
    {
      "cell_type": "code",
      "source": [
        "query = \"I am a big lover of ai agents and I am interested in putting things in production. Suggest me a tailor made day wise agenda along with time, mention the name of the Session or workshop along with Instructor name?\"\n",
        "answer = run_agentic_kag(query)\n",
        "display(Markdown(answer))"
      ],
      "metadata": {
        "collapsed": true,
        "colab": {
          "base_uri": "https://localhost:8080/",
          "height": 1000
        },
        "id": "IfDgA1VplJY-",
        "outputId": "62051f34-8190-4a9a-d342-981b0707251a"
      },
      "execution_count": null,
      "outputs": [
        {
          "output_type": "stream",
          "name": "stdout",
          "text": [
            "\n",
            "\n",
            "\u001b[1m> Entering new ParallelAgentExecutor chain...\u001b[0m\n",
            "\u001b[32;1m\u001b[1;3mQuestion: {\"query\": \"I am a big lover of ai agents and I am interested in putting things in production. Suggest me a tailor made day wise agenda along with time, mention the name of the Session or workshop along with Instructor name?\"}\n",
            "\n",
            "Thought: I need to find sessions and workshops focused on AI agents and productionizing AI, then organize them day-wise with times, session/workshop names, and instructor names.\n",
            "Action: AVHybridCypher\n",
            "Action Input: \"Sessions and workshops about AI agents, agentic systems, and productionizing AI, with their schedule and instructor details\"\u001b[0mMATCH (sess:Session)\n",
            "WHERE toLower(sess.title) CONTAINS toLower('ai agent') \n",
            "   OR toLower(sess.title) CONTAINS toLower('agentic system') \n",
            "   OR toLower(sess.title) CONTAINS toLower('productionizing ai') \n",
            "   OR toLower(sess.description) CONTAINS toLower('ai agent') \n",
            "   OR toLower(sess.description) CONTAINS toLower('agentic system') \n",
            "   OR toLower(sess.description) CONTAINS toLower('productionizing ai')\n",
            "RETURN \n",
            "  sess.title AS name, \n",
            "  sess.description AS description, \n",
            "  sess.instructor AS instructor, \n",
            "  sess.start_time AS start_time, \n",
            "  sess.end_time AS end_time, \n",
            "  sess.day AS day, \n",
            "  sess.date AS date, \n",
            "  'Session' AS type\n",
            "UNION\n",
            "MATCH (w:Workshop)\n",
            "WHERE toLower(w.title) CONTAINS toLower('ai agent') \n",
            "   OR toLower(w.title) CONTAINS toLower('agentic system') \n",
            "   OR toLower(w.title) CONTAINS toLower('productionizing ai') \n",
            "   OR toLower(w.description) CONTAINS toLower('ai agent') \n",
            "   OR toLower(w.description) CONTAINS toLower('agentic system') \n",
            "   OR toLower(w.description) CONTAINS toLower('productionizing ai')\n",
            "RETURN \n",
            "  w.title AS name, \n",
            "  w.description AS description, \n",
            "  w.instructor AS instructor, \n",
            "  w.start_time AS start_time, \n",
            "  NULL AS end_time, \n",
            "  NULL AS day, \n",
            "  NULL AS date, \n",
            "  'Workshop' AS type\n",
            "\u001b[33;1m\u001b[1;3m**Sessions and Workshops about AI Agents, Agentic Systems, and Productionizing AI**\n",
            "\n",
            "---\n",
            "\n",
            "### **Day 1 (2025-08-20)**\n",
            "\n",
            "- **Agents at Scale: Engineering Reliable GenAI Systems for Production**\n",
            "  - **Instructor:** Kartik Nighania\n",
            "  - **Time:** 12:00 – 12:50\n",
            "  - **Type:** Session\n",
            "  - **Focus:** Engineering best practices for scaling AI agents to production, including monitoring, logging, testing, CICD, hallucination detection, and guardrails.\n",
            "\n",
            "- **Agentic Knowledge Augmented Generation: The Next Leap After RAG**\n",
            "  - **Instructor:** Arun Prakash Asokan\n",
            "  - **Time:** 12:00 – 12:50\n",
            "  - **Type:** Session\n",
            "  - **Focus:** Live hack on Agentic KAG, integrating knowledge graphs, graph databases, and AI agents; comparison of RAG approaches.\n",
            "\n",
            "- **Onboarding AI Agents with Human Values**\n",
            "  - **Instructor:** Syed Quiser Ahmed\n",
            "  - **Time:** 12:00 – 12:40\n",
            "  - **Type:** Session\n",
            "  - **Focus:** Embedding human values in autonomous AI agents, governance, and risk mitigation.\n",
            "\n",
            "- **Bridging the AI Agent Gap: Interoperability with A2A and MCP Protocols**\n",
            "  - **Instructor:** Nikhil Rana\n",
            "  - **Time:** 15:30 – 16:20\n",
            "  - **Type:** Session\n",
            "  - **Focus:** Open protocols (A2A, MCP) for agent interoperability and multi-agent ecosystems.\n",
            "\n",
            "- **Human-In-The-Loop Agentic Systems**\n",
            "  - **Instructor:** Deepak Sharma\n",
            "  - **Time:** 14:35 – 15:25\n",
            "  - **Type:** Session\n",
            "  - **Focus:** Designing agentic systems with human-in-the-loop for reliability in complex tasks.\n",
            "\n",
            "---\n",
            "\n",
            "### **Day 2 (2025-08-21)**\n",
            "\n",
            "- **From LLMs to Agentic AI: Solving New Problems with Multi-Agent Systems**\n",
            "  - **Instructor:** Alessandro Romano\n",
            "  - **Time:** 14:00 – 14:50\n",
            "  - **Type:** Session\n",
            "  - **Focus:** Evolution from LLMs to agentic AI, use cases, and frameworks like CrewAI.\n",
            "\n",
            "- **Beyond PoCs: Building Real-World Agentic Systems**\n",
            "  - **Instructor:** Miguel Otero Pedrido\n",
            "  - **Time:** 14:55 – 15:45\n",
            "  - **Type:** Session\n",
            "  - **Focus:** Fundamentals and production practices for agentic systems, Agentic RAG, LLMOps, and real-time simulation.\n",
            "\n",
            "- **Zero to Million: How GenAI Agents are Changing Performance Marketing**\n",
            "  - **Instructor:** Krishna Kumar Tiwari\n",
            "  - **Time:** 14:45 – 15:25\n",
            "  - **Type:** Session\n",
            "  - **Focus:** GenAI agents in marketing, personalization at scale, tech stack, and challenges.\n",
            "\n",
            "- **Understanding AI Agents with MCP**\n",
            "  - **Instructors:** Nitin Agarwal, Rutvik Acharya\n",
            "  - **Time:** 12:05 – 13:00\n",
            "  - **Type:** Session\n",
            "  - **Focus:** Anthropic’s Model Context Protocol (MCP) for agent-tool/data integration.\n",
            "\n",
            "- **Fast and Accurate Conversational Agents: Beyond Function Calling**\n",
            "  - **Instructor:** Daksh Varshneya\n",
            "  - **Time:** 12:05 – 12:55\n",
            "  - **Type:** Session\n",
            "  - **Focus:** Building fast, accurate conversational agents, CALM framework, fine-tuning.\n",
            "\n",
            "- **Full-Stack Agentic AI: Build, Evaluate, and Scale with NVIDIA Tools**\n",
            "  - **Instructor:** Saurav Agarwal\n",
            "  - **Time:** 13:50 – 14:50\n",
            "  - **Type:** Session\n",
            "  - **Focus:** Using NVIDIA Agent Intelligence toolkit for full-stack agentic AI systems.\n",
            "\n",
            "- **The Missing Piece of AI Apps: Evaluation**\n",
            "  - **Instructor:** Ayush Thakur\n",
            "  - **Time:** 16:00 – 17:00\n",
            "  - **Type:** Session\n",
            "  - **Focus:** LLM-as-a-judge evaluators, evaluation datasets, prompt/rubric design, scaling evaluation.\n",
            "\n",
            "---\n",
            "\n",
            "### **Day 3 (2025-08-22)**\n",
            "\n",
            "- **MassGen: Scaling AI Through Multi-Agent Collaboration**\n",
            "  - **Instructor:** Chi Wang\n",
            "  - **Time:** 10:25 – 11:15\n",
            "  - **Type:** Session\n",
            "  - **Focus:** Multi-agent collaboration, cross-model synergy, real-time orchestration.\n",
            "\n",
            "- **Creative AI Agents: Open Tools for Collaborative Media Creation**\n",
            "  - **Instructor:** Dhruv Nair\n",
            "  - **Time:** 10:25 – 11:15\n",
            "  - **Type:** Session\n",
            "  - **Focus:** Building creative AI agents, ReAct framework, open-source tools for media.\n",
            "\n",
            "- **Automate Everything: Building Agentic AI Workflows with No-Code Tools**\n",
            "  - **Instructor:** Mayank Aggarwal\n",
            "  - **Time:** 12:55 – 13:45\n",
            "  - **Type:** Session\n",
            "  - **Focus:** No-code automation with n8n, building AI workflows.\n",
            "\n",
            "- **Building Responsible AI Agents with Guardrails and Safety in Action**\n",
            "  - **Instructor:** Anuj Saini\n",
            "  - **Time:** 15:55 – 16:45\n",
            "  - **Type:** Session\n",
            "  - **Focus:** Building safe, responsible agents, guardrails, safety strategies, adversarial testing.\n",
            "\n",
            "- **Agent to Agent Protocol: Benefits and Workflows**\n",
            "  - **Instructor:** Avinash Pathak\n",
            "  - **Time:** 16:00 – 16:50\n",
            "  - **Type:** Session\n",
            "  - **Focus:** A2A protocol for agent communication and collaboration.\n",
            "\n",
            "---\n",
            "\n",
            "### **Workshops (Date/Time Not Specified)**\n",
            "\n",
            "- **Mastering Real-World Agentic AI Applications with AG2 (AutoGen)**\n",
            "  - **Instructors:** Hrushikesh Dokala, Qingyun Wu, Chi Wang\n",
            "  - **Type:** Workshop\n",
            "  - **Focus:** Building production-grade agent applications with AG2, deployment with FastAgency.\n",
            "\n",
            "- **AgentOps: Building and Deploying AI Agents**\n",
            "  - **Instructor:** Bhaskarjit Sarmah\n",
            "  - **Type:** Workshop\n",
            "  - **Focus:** Operationalizing AI agents, architecture, tool integration, multi-agent systems, Agentic RAG.\n",
            "\n",
            "- **From Beginner to Expert: Learning LLMs, Reinforcement Learning & AI Agents**\n",
            "  - **Instructors:** Joshua Starmer, Luis Serrano\n",
            "  - **Type:** Workshop\n",
            "  - **Focus:** LLMs, RL, RLHF, RAG, building and training AI agents.\n",
            "\n",
            "- **Agentic AI for Business Users: Building without Code in Cogentiq**\n",
            "  - **Instructor:** Ganesh Subramanian\n",
            "  - **Type:** Session\n",
            "  - **Focus:** No-code agentic AI with Cogentiq, hands-on agent building for business users.\n",
            "\n",
            "---\n",
            "\n",
            "**Note:** Some workshops and sessions do not have specified dates/times. All listed items are focused on AI agents, agentic systems, and productionizing AI, with instructor details included.\u001b[0m"
          ]
        },
        {
          "output_type": "stream",
          "name": "stderr",
          "text": [
            "WARNING:opentelemetry.sdk.trace:Calling end() on an ended span.\n",
            "WARNING:opentelemetry.sdk.trace:Calling end() on an ended span.\n"
          ]
        },
        {
          "output_type": "stream",
          "name": "stdout",
          "text": [
            "\u001b[32;1m\u001b[1;3mFinal Thought: I have gathered and organized all sessions and workshops focused on AI agents and productionizing AI, structured day-wise with times, session/workshop names, and instructor names. This provides a comprehensive, tailor-made agenda for an attendee passionate about AI agents and putting them into production.\n",
            "\n",
            "Final Answer:\n",
            "\n",
            "---\n",
            "\n",
            "## **🎯 Tailor-Made DHS 2025 Agenda for AI Agent Lovers & Production Enthusiasts**\n",
            "\n",
            "---\n",
            "\n",
            "### **Day 1: 20th August 2025**\n",
            "\n",
            "- **12:00 – 12:50**\n",
            "  - **Agents at Scale: Engineering Reliable GenAI Systems for Production**  \n",
            "    - *Instructor:* Kartik Nighania\n",
            "  - **Agentic Knowledge Augmented Generation: The Next Leap After RAG**  \n",
            "    - *Instructor:* Arun Prakash Asokan\n",
            "  - **Onboarding AI Agents with Human Values**  \n",
            "    - *Instructor:* Syed Quiser Ahmed\n",
            "\n",
            "- **14:35 – 15:25**\n",
            "  - **Human-In-The-Loop Agentic Systems**  \n",
            "    - *Instructor:* Deepak Sharma\n",
            "\n",
            "- **15:30 – 16:20**\n",
            "  - **Bridging the AI Agent Gap: Interoperability with A2A and MCP Protocols**  \n",
            "    - *Instructor:* Nikhil Rana\n",
            "\n",
            "---\n",
            "\n",
            "### **Day 2: 21st August 2025**\n",
            "\n",
            "- **12:05 – 12:55**\n",
            "  - **Fast and Accurate Conversational Agents: Beyond Function Calling**  \n",
            "    - *Instructor:* Daksh Varshneya\n",
            "\n",
            "- **12:05 – 13:00**\n",
            "  - **Understanding AI Agents with MCP**  \n",
            "    - *Instructors:* Nitin Agarwal, Rutvik Acharya\n",
            "\n",
            "- **13:50 – 14:50**\n",
            "  - **Full-Stack Agentic AI: Build, Evaluate, and Scale with NVIDIA Tools**  \n",
            "    - *Instructor:* Saurav Agarwal\n",
            "\n",
            "- **14:00 – 14:50**\n",
            "  - **From LLMs to Agentic AI: Solving New Problems with Multi-Agent Systems**  \n",
            "    - *Instructor:* Alessandro Romano\n",
            "\n",
            "- **14:45 – 15:25**\n",
            "  - **Zero to Million: How GenAI Agents are Changing Performance Marketing**  \n",
            "    - *Instructor:* Krishna Kumar Tiwari\n",
            "\n",
            "- **14:55 – 15:45**\n",
            "  - **Beyond PoCs: Building Real-World Agentic Systems**  \n",
            "    - *Instructor:* Miguel Otero Pedrido\n",
            "\n",
            "- **16:00 – 17:00**\n",
            "  - **The Missing Piece of AI Apps: Evaluation**  \n",
            "    - *Instructor:* Ayush Thakur\n",
            "\n",
            "---\n",
            "\n",
            "### **Day 3: 22nd August 2025**\n",
            "\n",
            "- **10:25 – 11:15**\n",
            "  - **MassGen: Scaling AI Through Multi-Agent Collaboration**  \n",
            "    - *Instructor:* Chi Wang\n",
            "  - **Creative AI Agents: Open Tools for Collaborative Media Creation**  \n",
            "    - *Instructor:* Dhruv Nair\n",
            "\n",
            "- **12:55 – 13:45**\n",
            "  - **Automate Everything: Building Agentic AI Workflows with No-Code Tools**  \n",
            "    - *Instructor:* Mayank Aggarwal\n",
            "\n",
            "- **15:55 – 16:45**\n",
            "  - **Building Responsible AI Agents with Guardrails and Safety in Action**  \n",
            "    - *Instructor:* Anuj Saini\n",
            "\n",
            "- **16:00 – 16:50**\n",
            "  - **Agent to Agent Protocol: Benefits and Workflows**  \n",
            "    - *Instructor:* Avinash Pathak\n",
            "\n",
            "---\n",
            "\n",
            "### **Workshops (Date/Time Not Specified)**\n",
            "\n",
            "- **Mastering Real-World Agentic AI Applications with AG2 (AutoGen)**  \n",
            "  - *Instructors:* Hrushikesh Dokala, Qingyun Wu, Chi Wang\n",
            "\n",
            "- **AgentOps: Building and Deploying AI Agents**  \n",
            "  - *Instructor:* Bhaskarjit Sarmah\n",
            "\n",
            "- **From Beginner to Expert: Learning LLMs, Reinforcement Learning & AI Agents**  \n",
            "  - *Instructors:* Joshua Starmer, Luis Serrano\n",
            "\n",
            "- **Agentic AI for Business Users: Building without Code in Cogentiq**  \n",
            "  - *Instructor:* Ganesh Subramanian\n",
            "\n",
            "---\n",
            "\n",
            "**Tip:**  \n",
            "- For overlapping sessions, pick the one most aligned with your current interests or career goals.\n",
            "- Don’t forget to check the official DHS 2025 schedule for any last-minute updates!\n",
            "\n",
            "---\n",
            "\n",
            "**P.S.**  \n",
            "Hey, just letting you know — I’m not the official app from Analytics Vidhya 🙂  \n",
            "This was built with passion by **Arun Prakash Asokan and his team** to showcase **Agentic KAG** in action,  \n",
            "and now all DHS 2025 attendees can try it out!  \n",
            "If you found this helpful, please spread the word and recommend this to your fellow attendees: [http://agentickag.dhs25.analyticsvidhya.com/](http://agentickag.dhs25.analyticsvidhya.com/)\u001b[0m\n",
            "\n",
            "\u001b[1m> Finished chain.\u001b[0m\n"
          ]
        },
        {
          "output_type": "display_data",
          "data": {
            "text/plain": [
              "<IPython.core.display.Markdown object>"
            ],
            "text/markdown": "---\n\n## **🎯 Tailor-Made DHS 2025 Agenda for AI Agent Lovers & Production Enthusiasts**\n\n---\n\n### **Day 1: 20th August 2025**\n\n- **12:00 – 12:50**\n  - **Agents at Scale: Engineering Reliable GenAI Systems for Production**  \n    - *Instructor:* Kartik Nighania\n  - **Agentic Knowledge Augmented Generation: The Next Leap After RAG**  \n    - *Instructor:* Arun Prakash Asokan\n  - **Onboarding AI Agents with Human Values**  \n    - *Instructor:* Syed Quiser Ahmed\n\n- **14:35 – 15:25**\n  - **Human-In-The-Loop Agentic Systems**  \n    - *Instructor:* Deepak Sharma\n\n- **15:30 – 16:20**\n  - **Bridging the AI Agent Gap: Interoperability with A2A and MCP Protocols**  \n    - *Instructor:* Nikhil Rana\n\n---\n\n### **Day 2: 21st August 2025**\n\n- **12:05 – 12:55**\n  - **Fast and Accurate Conversational Agents: Beyond Function Calling**  \n    - *Instructor:* Daksh Varshneya\n\n- **12:05 – 13:00**\n  - **Understanding AI Agents with MCP**  \n    - *Instructors:* Nitin Agarwal, Rutvik Acharya\n\n- **13:50 – 14:50**\n  - **Full-Stack Agentic AI: Build, Evaluate, and Scale with NVIDIA Tools**  \n    - *Instructor:* Saurav Agarwal\n\n- **14:00 – 14:50**\n  - **From LLMs to Agentic AI: Solving New Problems with Multi-Agent Systems**  \n    - *Instructor:* Alessandro Romano\n\n- **14:45 – 15:25**\n  - **Zero to Million: How GenAI Agents are Changing Performance Marketing**  \n    - *Instructor:* Krishna Kumar Tiwari\n\n- **14:55 – 15:45**\n  - **Beyond PoCs: Building Real-World Agentic Systems**  \n    - *Instructor:* Miguel Otero Pedrido\n\n- **16:00 – 17:00**\n  - **The Missing Piece of AI Apps: Evaluation**  \n    - *Instructor:* Ayush Thakur\n\n---\n\n### **Day 3: 22nd August 2025**\n\n- **10:25 – 11:15**\n  - **MassGen: Scaling AI Through Multi-Agent Collaboration**  \n    - *Instructor:* Chi Wang\n  - **Creative AI Agents: Open Tools for Collaborative Media Creation**  \n    - *Instructor:* Dhruv Nair\n\n- **12:55 – 13:45**\n  - **Automate Everything: Building Agentic AI Workflows with No-Code Tools**  \n    - *Instructor:* Mayank Aggarwal\n\n- **15:55 – 16:45**\n  - **Building Responsible AI Agents with Guardrails and Safety in Action**  \n    - *Instructor:* Anuj Saini\n\n- **16:00 – 16:50**\n  - **Agent to Agent Protocol: Benefits and Workflows**  \n    - *Instructor:* Avinash Pathak\n\n---\n\n### **Workshops (Date/Time Not Specified)**\n\n- **Mastering Real-World Agentic AI Applications with AG2 (AutoGen)**  \n  - *Instructors:* Hrushikesh Dokala, Qingyun Wu, Chi Wang\n\n- **AgentOps: Building and Deploying AI Agents**  \n  - *Instructor:* Bhaskarjit Sarmah\n\n- **From Beginner to Expert: Learning LLMs, Reinforcement Learning & AI Agents**  \n  - *Instructors:* Joshua Starmer, Luis Serrano\n\n- **Agentic AI for Business Users: Building without Code in Cogentiq**  \n  - *Instructor:* Ganesh Subramanian\n\n---\n\n**Tip:**  \n- For overlapping sessions, pick the one most aligned with your current interests or career goals.\n- Don’t forget to check the official DHS 2025 schedule for any last-minute updates!\n\n---\n\n**P.S.**  \nHey, just letting you know — I’m not the official app from Analytics Vidhya 🙂  \nThis was built with passion by **Arun Prakash Asokan and his team** to showcase **Agentic KAG** in action,  \nand now all DHS 2025 attendees can try it out!  \nIf you found this helpful, please spread the word and recommend this to your fellow attendees: [http://agentickag.dhs25.analyticsvidhya.com/](http://agentickag.dhs25.analyticsvidhya.com/)"
          },
          "metadata": {}
        }
      ]
    },
    {
      "cell_type": "code",
      "source": [
        "query = \"I am a big lover of knowledge graphs (do not confuse with LangGraph). Suggest me a tailor made agenda, mention the name of the Session or workshop along with Instructor name and whn it is happening?\"\n",
        "answer = run_agentic_kag(query)\n",
        "display(Markdown(answer))"
      ],
      "metadata": {
        "colab": {
          "base_uri": "https://localhost:8080/",
          "height": 914
        },
        "id": "m5m4flGyv0ng",
        "outputId": "4c410ec8-42c5-4af3-b75b-50901c967cbe",
        "collapsed": true
      },
      "execution_count": null,
      "outputs": [
        {
          "output_type": "stream",
          "name": "stdout",
          "text": [
            "\n",
            "\n",
            "\u001b[1m> Entering new ParallelAgentExecutor chain...\u001b[0m\n",
            "\u001b[32;1m\u001b[1;3mQuestion: {\"query\": \"I am a big lover of knowledge graphs (do not confuse with LangGraph). Suggest me a tailor made agenda, mention the name of the Session or workshop along with Instructor name and whn it is happening?\"}\n",
            "\n",
            "Thought: I need to find sessions or workshops at DHS 2025 that are focused on knowledge graphs, then list their names, instructors, and timings.\n",
            "Action: AVHybridCypher\n",
            "Action Input: \"sessions or workshops about knowledge graphs with instructor names and schedule\"\u001b[0mMATCH (se:Session)\n",
            "WHERE toLower(se.title) CONTAINS toLower('knowledge graph') OR toLower(se.description) CONTAINS toLower('knowledge graph')\n",
            "RETURN se.title AS name, se.instructor AS instructor, se.start_time AS start_time, se.end_time AS end_time, se.day AS day, se.date AS date\n",
            "UNION\n",
            "MATCH (w:Workshop)\n",
            "WHERE toLower(w.title) CONTAINS toLower('knowledge graph') OR toLower(w.description) CONTAINS toLower('knowledge graph')\n",
            "RETURN w.title AS name, w.instructor AS instructor, w.start_time AS start_time, NULL AS end_time, NULL AS day, NULL AS date\n",
            "\u001b[33;1m\u001b[1;3m- **Session:** Agentic Knowledge Augmented Generation: The Next Leap After RAG  \n",
            "  - **Instructor:** Arun Prakash Asokan  \n",
            "  - **Schedule:** 12:00 – 12:50, Day 1 (2025-08-20)\u001b[0m"
          ]
        },
        {
          "output_type": "stream",
          "name": "stderr",
          "text": [
            "WARNING:opentelemetry.sdk.trace:Calling end() on an ended span.\n",
            "WARNING:opentelemetry.sdk.trace:Calling end() on an ended span.\n"
          ]
        },
        {
          "output_type": "stream",
          "name": "stdout",
          "text": [
            "\u001b[32;1m\u001b[1;3mFinal Thought: I have found a session at DHS 2025 that is highly relevant to knowledge graphs, including its name, instructor, and schedule.\n",
            "\n",
            "Final Answer: \n",
            "\n",
            "**Here’s a tailor-made agenda for a knowledge graph enthusiast at DHS 2025:**\n",
            "\n",
            "- **Session:** Agentic Knowledge Augmented Generation: The Next Leap After RAG  \n",
            "  - **Instructor:** Arun Prakash Asokan  \n",
            "  - **When:** 12:00 – 12:50, Day 1 (2025-08-20)\n",
            "\n",
            "This session is designed to showcase how knowledge graphs, combined with AI agents, are revolutionizing context-rich Q&A systems—perfect for your interests!\n",
            "\n",
            "---\n",
            "\n",
            "**P.S.**  \n",
            "Hey, just letting you know — I’m not the official app from Analytics Vidhya 🙂  \n",
            "This was built with passion by **Arun Prakash Asokan and his team** to showcase **Agentic KAG** in action,  \n",
            "and now all DHS 2025 attendees can try it out!  \n",
            "If you find this helpful, please spread the word and recommend it to your fellow attendees: [http://agentickag.dhs25.analyticsvidhya.com/](http://agentickag.dhs25.analyticsvidhya.com/)\u001b[0m\n",
            "\n",
            "\u001b[1m> Finished chain.\u001b[0m\n"
          ]
        },
        {
          "output_type": "display_data",
          "data": {
            "text/plain": [
              "<IPython.core.display.Markdown object>"
            ],
            "text/markdown": "**Here’s a tailor-made agenda for a knowledge graph enthusiast at DHS 2025:**\n\n- **Session:** Agentic Knowledge Augmented Generation: The Next Leap After RAG  \n  - **Instructor:** Arun Prakash Asokan  \n  - **When:** 12:00 – 12:50, Day 1 (2025-08-20)\n\nThis session is designed to showcase how knowledge graphs, combined with AI agents, are revolutionizing context-rich Q&A systems—perfect for your interests!\n\n---\n\n**P.S.**  \nHey, just letting you know — I’m not the official app from Analytics Vidhya 🙂  \nThis was built with passion by **Arun Prakash Asokan and his team** to showcase **Agentic KAG** in action,  \nand now all DHS 2025 attendees can try it out!  \nIf you find this helpful, please spread the word and recommend it to your fellow attendees: [http://agentickag.dhs25.analyticsvidhya.com/](http://agentickag.dhs25.analyticsvidhya.com/)"
          },
          "metadata": {}
        }
      ]
    },
    {
      "cell_type": "code",
      "source": [],
      "metadata": {
        "id": "8-IxXJ9Yf3lE"
      },
      "execution_count": null,
      "outputs": []
    },
    {
      "cell_type": "code",
      "source": [],
      "metadata": {
        "id": "v6E8rU37f3n2"
      },
      "execution_count": null,
      "outputs": []
    }
  ]
}